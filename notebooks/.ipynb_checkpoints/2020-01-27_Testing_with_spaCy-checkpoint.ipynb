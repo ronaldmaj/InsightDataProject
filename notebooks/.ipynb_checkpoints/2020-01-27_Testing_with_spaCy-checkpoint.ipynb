{
 "cells": [
  {
   "cell_type": "markdown",
   "metadata": {},
   "source": [
    "# 2020-01-27\n",
    "\n",
    "Trying to use the spaCy package as a means to do the embedding and classification of comments based on topics"
   ]
  },
  {
   "cell_type": "code",
   "execution_count": 1,
   "metadata": {},
   "outputs": [
    {
     "name": "stderr",
     "output_type": "stream",
     "text": [
      "C:\\ProgramData\\Anaconda3\\envs\\insight\\lib\\site-packages\\thinc\\neural\\train.py:3: DeprecationWarning: Using or importing the ABCs from 'collections' instead of from 'collections.abc' is deprecated since Python 3.3,and in 3.9 it will stop working\n",
      "  from .optimizers import Adam, SGD, linear_decay\n",
      "C:\\ProgramData\\Anaconda3\\envs\\insight\\lib\\site-packages\\thinc\\check.py:1: DeprecationWarning: Using or importing the ABCs from 'collections' instead of from 'collections.abc' is deprecated since Python 3.3,and in 3.9 it will stop working\n",
      "  from collections import defaultdict, Sequence, Sized, Iterable, Callable\n",
      "C:\\ProgramData\\Anaconda3\\envs\\insight\\lib\\site-packages\\thinc\\check.py:1: DeprecationWarning: Using or importing the ABCs from 'collections' instead of from 'collections.abc' is deprecated since Python 3.3,and in 3.9 it will stop working\n",
      "  from collections import defaultdict, Sequence, Sized, Iterable, Callable\n"
     ]
    }
   ],
   "source": [
    "import pickle\n",
    "import pandas as pd\n",
    "import random\n",
    "import numpy as np\n",
    "import pandas as pd\n",
    "import re\n",
    "\n",
    "import gensim\n",
    "import gensim.corpora as corpora\n",
    "from gensim.utils import simple_preprocess\n",
    "from gensim.models import CoherenceModel\n",
    "\n",
    "# Plotting tools\n",
    "import pyLDAvis\n",
    "import pyLDAvis.gensim  # don't skip this\n",
    "import matplotlib.pyplot as plt\n",
    "%matplotlib inline\n",
    "\n",
    "import spacy\n",
    "from spacy.lemmatizer import Lemmatizer\n",
    "from spacy.lang.en.stop_words import STOP_WORDS\n",
    "import en_core_web_lg\n",
    "\n",
    "from tqdm.notebook import tqdm\n",
    "from pprint import pprint"
   ]
  },
  {
   "cell_type": "code",
   "execution_count": 2,
   "metadata": {},
   "outputs": [
    {
     "name": "stderr",
     "output_type": "stream",
     "text": [
      "C:\\ProgramData\\Anaconda3\\envs\\insight\\lib\\site-packages\\IPython\\core\\interactiveshell.py:3051: DtypeWarning: Columns (9) have mixed types. Specify dtype option on import or set low_memory=False.\n",
      "  interactivity=interactivity, compiler=compiler, result=result)\n"
     ]
    }
   ],
   "source": [
    "insight_dir = 'C:\\\\Users\\\\Ronald Maj\\\\Documents\\\\GitHub\\\\InsightDataProject\\\\'\n",
    "\n",
    "# Load vids data\n",
    "vids_df = pd.read_csv(insight_dir+'data\\\\processed\\\\all_vids_en_df.csv', index_col=0)\n",
    "\n",
    "# Load comments data\n",
    "comms_df = pd.read_csv(insight_dir+'data\\\\processed\\\\all_comments_en_df.csv', index_col=0)"
   ]
  },
  {
   "cell_type": "code",
   "execution_count": 3,
   "metadata": {
    "scrolled": true
   },
   "outputs": [],
   "source": [
    "nlp= spacy.load(\"en_core_web_lg\")\n",
    "\n",
    "#spacy_stopwords = spacy.lang.en.stop_words.STOP_WORDS\n",
    "stop_list = [\"say\",\"get\"]\n",
    "\n",
    "# Updates spaCy's default stop words list with my additional words. \n",
    "nlp.Defaults.stop_words.update(stop_list)\n",
    "\n",
    "# Iterates over the words in the stop words list and resets the \"is_stop\" flag.\n",
    "for word in STOP_WORDS:\n",
    "    lexeme = nlp.vocab[word]\n",
    "    lexeme.is_stop = True"
   ]
  },
  {
   "cell_type": "code",
   "execution_count": 4,
   "metadata": {},
   "outputs": [
    {
     "data": {
      "text/plain": [
       "'Kylie you forgot to disable the comment section'"
      ]
     },
     "execution_count": 4,
     "metadata": {},
     "output_type": "execute_result"
    }
   ],
   "source": [
    "comms_df['textDisplay'][10450]"
   ]
  },
  {
   "cell_type": "code",
   "execution_count": 5,
   "metadata": {},
   "outputs": [],
   "source": [
    "eg = comms_df['textDisplay'][10450]"
   ]
  },
  {
   "cell_type": "code",
   "execution_count": 6,
   "metadata": {},
   "outputs": [],
   "source": [
    "eg_doc = nlp(eg)"
   ]
  },
  {
   "cell_type": "code",
   "execution_count": 7,
   "metadata": {},
   "outputs": [
    {
     "data": {
      "text/plain": [
       "Kylie you forgot to disable the comment section"
      ]
     },
     "execution_count": 7,
     "metadata": {},
     "output_type": "execute_result"
    }
   ],
   "source": [
    "eg_doc"
   ]
  },
  {
   "cell_type": "code",
   "execution_count": 8,
   "metadata": {},
   "outputs": [],
   "source": [
    "def lemmatizer(doc):\n",
    "    # This takes in a doc of tokens from the NER and lemmatizes them. \n",
    "    # Pronouns (like \"I\" and \"you\" get lemmatized to '-PRON-', so I'm removing those.\n",
    "    doc = [token.lemma_ for token in doc if token.lemma_ != '-PRON-']\n",
    "    doc = u' '.join(doc)\n",
    "    return nlp.make_doc(doc)\n",
    "    \n",
    "def remove_stopwords(doc):\n",
    "    # This will remove stopwords and punctuation.\n",
    "    # Use token.text to return strings, which we'll need for Gensim.\n",
    "    doc = [token.text for token in doc if token.is_stop != True and token.is_punct != True and len(token) >= 3]\n",
    "    return doc\n",
    "\n",
    "# The add_pipe function appends our functions to the default pipeline.\n",
    "nlp.add_pipe(lemmatizer,name='lemmatizer',after='ner')\n",
    "nlp.add_pipe(remove_stopwords, name=\"stopwords\", last=True)"
   ]
  },
  {
   "cell_type": "code",
   "execution_count": 9,
   "metadata": {},
   "outputs": [],
   "source": [
    "comms_df = comms_df.dropna(subset=['textDisplay'])"
   ]
  },
  {
   "cell_type": "code",
   "execution_count": 10,
   "metadata": {},
   "outputs": [],
   "source": [
    "comm_docs = comms_df['textDisplay']"
   ]
  },
  {
   "cell_type": "code",
   "execution_count": 11,
   "metadata": {},
   "outputs": [],
   "source": [
    "# Cleaning\n",
    "def deEmojify(inputString):\n",
    "    return inputString.encode('ascii', 'ignore').decode('ascii')\n",
    "\n",
    "comm_docs = [deEmojify(doc) for doc in comm_docs]"
   ]
  },
  {
   "cell_type": "code",
   "execution_count": 12,
   "metadata": {},
   "outputs": [
    {
     "name": "stderr",
     "output_type": "stream",
     "text": [
      "<>:7: DeprecationWarning: invalid escape sequence \\]\n",
      "<>:16: DeprecationWarning: invalid escape sequence \\s\n",
      "<>:19: DeprecationWarning: invalid escape sequence \\S\n",
      "<>:7: DeprecationWarning: invalid escape sequence \\]\n",
      "<>:16: DeprecationWarning: invalid escape sequence \\s\n",
      "<>:19: DeprecationWarning: invalid escape sequence \\S\n",
      "<>:7: DeprecationWarning: invalid escape sequence \\]\n",
      "<>:16: DeprecationWarning: invalid escape sequence \\s\n",
      "<>:19: DeprecationWarning: invalid escape sequence \\S\n",
      "<ipython-input-12-12015504f488>:7: DeprecationWarning: invalid escape sequence \\]\n",
      "  punc_list = '!\"#$%&()*+,-./:;<=>?@[\\]{}|^_~' + '0123456789'\n",
      "<ipython-input-12-12015504f488>:16: DeprecationWarning: invalid escape sequence \\s\n",
      "  comm_docs = [re.sub('\\s+', ' ', sent) for sent in comm_docs]\n",
      "<ipython-input-12-12015504f488>:19: DeprecationWarning: invalid escape sequence \\S\n",
      "  comm_docs = [re.sub('\\S*@\\S*\\s?', '', doc) for doc in comm_docs]\n"
     ]
    }
   ],
   "source": [
    "def clean_text(text):\n",
    "    # lower case:\n",
    "    text = text.lower()\n",
    "    # replace new line and return with space\n",
    "    text = text.replace(\"\\n\", \" \").replace(\"\\r\",\" \")\n",
    "    # replace punctuation marks with space\n",
    "    punc_list = '!\"#$%&()*+,-./:;<=>?@[\\]{}|^_~' + '0123456789'\n",
    "    t=str.maketrans(dict.fromkeys(punc_list, \" \"))\n",
    "    text = text.translate(t)\n",
    "    # replace single quote with empty character\n",
    "    t = str.maketrans(dict.fromkeys(\"'`\",\"\"))\n",
    "    text = text.translate(t)\n",
    "    return text\n",
    "\n",
    "# Remove new line characters\n",
    "comm_docs = [re.sub('\\s+', ' ', sent) for sent in comm_docs]\n",
    "\n",
    "# Remove Emails/handles\n",
    "comm_docs = [re.sub('\\S*@\\S*\\s?', '', doc) for doc in comm_docs]\n",
    "# Clean\n",
    "comm_docs = [clean_text(comm) for comm in comm_docs]"
   ]
  },
  {
   "cell_type": "code",
   "execution_count": 13,
   "metadata": {},
   "outputs": [
    {
     "data": {
      "text/plain": [
       "['please collab with bernadette banner  i wanna see victorian era safiya  ',\n",
       " 'why does this guy look like he had multiple failed plastic surgeries ',\n",
       " 'good vibes always on this channel    anyways im about to bad santa it up at a local pub in santa gear for karaoke coz lifes too short to worry when everyone else around you is too lazy to go on  get out there',\n",
       " 'hey girl hey  ',\n",
       " 'nobody  literally  alex as gaga  i won a award yes i won a grammy',\n",
       " 'actually aristotle dropped maria callas for jackie when she became available  he was never serious about lee radziwell  jackies sister  jackie was a prize many powerful men went after  sadly  callas became a recluse for the rest of her life ',\n",
       " ' family is closer than you think    are    are you my sister  ',\n",
       " 'i refuse to believe hes any older than      ',\n",
       " '    s  darling i love you        and i oop sksksks omg i like lowkey like you highkey lowkey thats the tea',\n",
       " 'imma need that brown dress and cardigan they are so dang cute ']"
      ]
     },
     "execution_count": 13,
     "metadata": {},
     "output_type": "execute_result"
    }
   ],
   "source": [
    "random.sample(comm_docs,10)"
   ]
  },
  {
   "cell_type": "code",
   "execution_count": 14,
   "metadata": {},
   "outputs": [
    {
     "data": {
      "text/plain": [
       "[('tagger', <spacy.pipeline.Tagger at 0x29ca0897188>),\n",
       " ('parser', <spacy.pipeline.DependencyParser at 0x29ca3102468>),\n",
       " ('ner', <spacy.pipeline.EntityRecognizer at 0x29ca3102a08>),\n",
       " ('lemmatizer', <function __main__.lemmatizer(doc)>),\n",
       " ('stopwords', <function __main__.remove_stopwords(doc)>)]"
      ]
     },
     "execution_count": 14,
     "metadata": {},
     "output_type": "execute_result"
    }
   ],
   "source": [
    "nlp.pipeline"
   ]
  },
  {
   "cell_type": "code",
   "execution_count": 15,
   "metadata": {},
   "outputs": [],
   "source": [
    "comm_docs_samp = random.sample(comm_docs,10000)"
   ]
  },
  {
   "cell_type": "code",
   "execution_count": 16,
   "metadata": {},
   "outputs": [
    {
     "data": {
      "text/plain": [
       "[' it looks more like a brain then i thought it would   what the hell ',\n",
       " 'hello  and welcome back to joel destroys jonas within the first    seconds of the video  on todays episode  we will be calling him boring ',\n",
       " ' where you at  billy blanks    i loved taebo too   ',\n",
       " '      okay grab a dog  ',\n",
       " 'julien has the least toxic masculinity ive ever seen']"
      ]
     },
     "execution_count": 16,
     "metadata": {},
     "output_type": "execute_result"
    }
   ],
   "source": [
    "comm_docs_samp[0:5]"
   ]
  },
  {
   "cell_type": "code",
   "execution_count": 17,
   "metadata": {
    "scrolled": true
   },
   "outputs": [
    {
     "data": {
      "application/vnd.jupyter.widget-view+json": {
       "model_id": "6915599f37e64f52a5f7fff7663193d7",
       "version_major": 2,
       "version_minor": 0
      },
      "text/plain": [
       "HBox(children=(FloatProgress(value=0.0, max=10000.0), HTML(value='')))"
      ]
     },
     "metadata": {},
     "output_type": "display_data"
    },
    {
     "name": "stdout",
     "output_type": "stream",
     "text": [
      "\n"
     ]
    }
   ],
   "source": [
    "doc_list = []\n",
    "# Iterates through each article in the corpus.\n",
    "for doc in tqdm(comm_docs_samp):\n",
    "    # Passes that article through the pipeline and adds to a new list.\n",
    "    pr = nlp(doc)\n",
    "    doc_list.append(pr)"
   ]
  },
  {
   "cell_type": "code",
   "execution_count": 18,
   "metadata": {},
   "outputs": [],
   "source": [
    "# Build the bigram and trigram models\n",
    "bigram = gensim.models.Phrases(doc_list, min_count=5, threshold=100) # higher threshold fewer phrases.\n",
    "trigram = gensim.models.Phrases(bigram[doc_list], threshold=100)  \n",
    "\n",
    "# Faster way to get a sentence clubbed as a trigram/bigram\n",
    "bigram_mod = gensim.models.phrases.Phraser(bigram)\n",
    "trigram_mod = gensim.models.phrases.Phraser(trigram)\n",
    "\n",
    "def make_bigrams(texts):\n",
    "    return [bigram_mod[doc] for doc in texts]\n",
    "\n",
    "def make_trigrams(texts):\n",
    "    return [trigram_mod[bigram_mod[doc]] for doc in texts]\n",
    "\n",
    "doc_list = make_bigrams(doc_list)\n",
    "doc_list = make_trigrams(doc_list)"
   ]
  },
  {
   "cell_type": "code",
   "execution_count": 19,
   "metadata": {},
   "outputs": [
    {
     "data": {
      "text/plain": [
       "[['wolf', 'like', 'green', 'know', 'favourite'],\n",
       " ['love', 'bby', '   ', 'happy', 'new', 'year', 'bbyy'],\n",
       " ['excited', 'follow', 'journey', 'inspire', 'write'],\n",
       " ['       ', 'good', 'old']]"
      ]
     },
     "execution_count": 19,
     "metadata": {},
     "output_type": "execute_result"
    }
   ],
   "source": [
    "random.sample(doc_list,4)"
   ]
  },
  {
   "cell_type": "code",
   "execution_count": 20,
   "metadata": {},
   "outputs": [],
   "source": [
    "wh_sp = ' '\n",
    "\n",
    "list_of_space = [wh_sp*i for i in range(1,21)]"
   ]
  },
  {
   "cell_type": "code",
   "execution_count": 22,
   "metadata": {},
   "outputs": [],
   "source": [
    "def wh_sp_rm(x):\n",
    "    return x in list_of_space"
   ]
  },
  {
   "cell_type": "code",
   "execution_count": 23,
   "metadata": {},
   "outputs": [],
   "source": [
    "for idx,doc in enumerate(doc_list):\n",
    "    doc_list[idx] = [x for x in doc if not wh_sp_rm(x)]"
   ]
  },
  {
   "cell_type": "code",
   "execution_count": 27,
   "metadata": {},
   "outputs": [],
   "source": [
    "# Creates, which is a mapping of word IDs to words.\n",
    "words = corpora.Dictionary(doc_list)\n",
    "\n",
    "# Turns each document into a bag of words.\n",
    "corpus = [words.doc2bow(doc) for doc in doc_list]"
   ]
  },
  {
   "cell_type": "code",
   "execution_count": 28,
   "metadata": {},
   "outputs": [],
   "source": [
    "lda_model = gensim.models.ldamodel.LdaModel(corpus=corpus,\n",
    "                                           id2word=words,\n",
    "                                           num_topics=10, \n",
    "                                           random_state=2,\n",
    "                                           update_every=1,\n",
    "                                           passes=10,\n",
    "                                           alpha='auto',\n",
    "                                           per_word_topics=True)"
   ]
  },
  {
   "cell_type": "code",
   "execution_count": 29,
   "metadata": {},
   "outputs": [
    {
     "name": "stderr",
     "output_type": "stream",
     "text": [
      "C:\\ProgramData\\Anaconda3\\envs\\insight\\lib\\site-packages\\pyLDAvis\\_prepare.py:257: FutureWarning: Sorting because non-concatenation axis is not aligned. A future version\n",
      "of pandas will change to not sort by default.\n",
      "\n",
      "To accept the future behavior, pass 'sort=False'.\n",
      "\n",
      "To retain the current behavior and silence the warning, pass 'sort=True'.\n",
      "\n",
      "  return pd.concat([default_term_info] + list(topic_dfs))\n"
     ]
    },
    {
     "data": {
      "text/html": [
       "\n",
       "<link rel=\"stylesheet\" type=\"text/css\" href=\"https://cdn.rawgit.com/bmabey/pyLDAvis/files/ldavis.v1.0.0.css\">\n",
       "\n",
       "\n",
       "<div id=\"ldavis_el725628745276219601758605323\"></div>\n",
       "<script type=\"text/javascript\">\n",
       "\n",
       "var ldavis_el725628745276219601758605323_data = {\"mdsDat\": {\"x\": [-0.12021006342225193, 0.04054165579270654, 0.061166554586603215, -0.1069474490883823, -0.12879570207074698, -0.0819362328533555, -0.06460697369249878, 0.16726264000377833, 0.024343384915819145, 0.20918218582832826], \"y\": [-0.05564757743024929, -0.18674751060518915, -0.0995479853016781, 0.0606286783481671, -0.06166591154826893, 0.21738556290920055, -0.015501121904840503, 0.09053423012910276, 0.018377496135384603, 0.032184139268371124], \"topics\": [1, 2, 3, 4, 5, 6, 7, 8, 9, 10], \"cluster\": [1, 1, 1, 1, 1, 1, 1, 1, 1, 1], \"Freq\": [15.413771629333496, 12.100415229797363, 11.363020896911621, 10.44031047821045, 10.281645774841309, 9.295513153076172, 8.610855102539062, 8.323017120361328, 7.785272598266602, 6.386176586151123]}, \"tinfo\": {\"Category\": [\"Default\", \"Default\", \"Default\", \"Default\", \"Default\", \"Default\", \"Default\", \"Default\", \"Default\", \"Default\", \"Default\", \"Default\", \"Default\", \"Default\", \"Default\", \"Default\", \"Default\", \"Default\", \"Default\", \"Default\", \"Default\", \"Default\", \"Default\", \"Default\", \"Default\", \"Default\", \"Default\", \"Default\", \"Default\", \"Default\", \"Topic1\", \"Topic1\", \"Topic1\", \"Topic1\", \"Topic1\", \"Topic1\", \"Topic1\", \"Topic1\", \"Topic1\", \"Topic1\", \"Topic1\", \"Topic1\", \"Topic1\", \"Topic1\", \"Topic1\", \"Topic1\", \"Topic1\", \"Topic1\", \"Topic1\", \"Topic1\", \"Topic1\", \"Topic1\", \"Topic1\", \"Topic1\", \"Topic1\", \"Topic1\", \"Topic1\", \"Topic1\", \"Topic1\", \"Topic1\", \"Topic1\", \"Topic1\", \"Topic1\", \"Topic1\", \"Topic1\", \"Topic1\", \"Topic1\", \"Topic1\", \"Topic1\", \"Topic1\", \"Topic1\", \"Topic1\", \"Topic1\", \"Topic1\", \"Topic1\", \"Topic1\", \"Topic1\", \"Topic1\", \"Topic1\", \"Topic1\", \"Topic1\", \"Topic1\", \"Topic1\", \"Topic1\", \"Topic1\", \"Topic1\", \"Topic1\", \"Topic1\", \"Topic1\", \"Topic1\", \"Topic1\", \"Topic1\", \"Topic1\", \"Topic1\", \"Topic1\", \"Topic2\", \"Topic2\", \"Topic2\", \"Topic2\", \"Topic2\", \"Topic2\", \"Topic2\", \"Topic2\", \"Topic2\", \"Topic2\", \"Topic2\", \"Topic2\", \"Topic2\", \"Topic2\", \"Topic2\", \"Topic2\", \"Topic2\", \"Topic2\", \"Topic2\", \"Topic2\", \"Topic2\", \"Topic2\", \"Topic2\", \"Topic2\", \"Topic2\", \"Topic2\", \"Topic2\", \"Topic2\", \"Topic2\", \"Topic2\", \"Topic2\", \"Topic2\", \"Topic2\", \"Topic2\", \"Topic2\", \"Topic2\", \"Topic2\", \"Topic2\", \"Topic2\", \"Topic2\", \"Topic2\", \"Topic2\", \"Topic2\", \"Topic2\", \"Topic2\", \"Topic2\", \"Topic2\", \"Topic2\", \"Topic2\", \"Topic2\", \"Topic2\", \"Topic2\", \"Topic2\", \"Topic2\", \"Topic2\", \"Topic2\", \"Topic2\", \"Topic2\", \"Topic2\", \"Topic2\", \"Topic2\", \"Topic2\", \"Topic3\", \"Topic3\", \"Topic3\", \"Topic3\", \"Topic3\", \"Topic3\", \"Topic3\", \"Topic3\", \"Topic3\", \"Topic3\", \"Topic3\", \"Topic3\", \"Topic3\", \"Topic3\", \"Topic3\", \"Topic3\", \"Topic3\", \"Topic3\", \"Topic3\", \"Topic3\", \"Topic3\", \"Topic3\", \"Topic3\", \"Topic3\", \"Topic3\", \"Topic3\", \"Topic3\", \"Topic3\", \"Topic3\", \"Topic3\", \"Topic3\", \"Topic3\", \"Topic3\", \"Topic3\", \"Topic3\", \"Topic3\", \"Topic3\", \"Topic3\", \"Topic3\", \"Topic3\", \"Topic3\", \"Topic3\", \"Topic3\", \"Topic3\", \"Topic3\", \"Topic3\", \"Topic3\", \"Topic3\", \"Topic3\", \"Topic3\", \"Topic3\", \"Topic3\", \"Topic3\", \"Topic3\", \"Topic3\", \"Topic3\", \"Topic3\", \"Topic3\", \"Topic3\", \"Topic3\", \"Topic3\", \"Topic3\", \"Topic4\", \"Topic4\", \"Topic4\", \"Topic4\", \"Topic4\", \"Topic4\", \"Topic4\", \"Topic4\", \"Topic4\", \"Topic4\", \"Topic4\", \"Topic4\", \"Topic4\", \"Topic4\", \"Topic4\", \"Topic4\", \"Topic4\", \"Topic4\", \"Topic4\", \"Topic4\", \"Topic4\", \"Topic4\", \"Topic4\", \"Topic4\", \"Topic4\", \"Topic4\", \"Topic4\", \"Topic4\", \"Topic4\", \"Topic4\", \"Topic4\", \"Topic4\", \"Topic4\", \"Topic4\", \"Topic4\", \"Topic4\", \"Topic4\", \"Topic4\", \"Topic4\", \"Topic4\", \"Topic4\", \"Topic4\", \"Topic4\", \"Topic4\", \"Topic4\", \"Topic4\", \"Topic4\", \"Topic4\", \"Topic4\", \"Topic4\", \"Topic4\", \"Topic4\", \"Topic4\", \"Topic4\", \"Topic4\", \"Topic4\", \"Topic4\", \"Topic4\", \"Topic4\", \"Topic4\", \"Topic4\", \"Topic4\", \"Topic4\", \"Topic5\", \"Topic5\", \"Topic5\", \"Topic5\", \"Topic5\", \"Topic5\", \"Topic5\", \"Topic5\", \"Topic5\", \"Topic5\", \"Topic5\", \"Topic5\", \"Topic5\", \"Topic5\", \"Topic5\", \"Topic5\", \"Topic5\", \"Topic5\", \"Topic5\", \"Topic5\", \"Topic5\", \"Topic5\", \"Topic5\", \"Topic5\", \"Topic5\", \"Topic5\", \"Topic5\", \"Topic5\", \"Topic5\", \"Topic5\", \"Topic5\", \"Topic5\", \"Topic5\", \"Topic5\", \"Topic5\", \"Topic5\", \"Topic5\", \"Topic5\", \"Topic5\", \"Topic5\", \"Topic5\", \"Topic5\", \"Topic5\", \"Topic5\", \"Topic5\", \"Topic5\", \"Topic5\", \"Topic5\", \"Topic5\", \"Topic5\", \"Topic5\", \"Topic5\", \"Topic5\", \"Topic5\", \"Topic5\", \"Topic5\", \"Topic5\", \"Topic5\", \"Topic5\", \"Topic5\", \"Topic5\", \"Topic5\", \"Topic6\", \"Topic6\", \"Topic6\", \"Topic6\", \"Topic6\", \"Topic6\", \"Topic6\", \"Topic6\", \"Topic6\", \"Topic6\", \"Topic6\", \"Topic6\", \"Topic6\", \"Topic6\", \"Topic6\", \"Topic6\", \"Topic6\", \"Topic6\", \"Topic6\", \"Topic6\", \"Topic6\", \"Topic6\", \"Topic6\", \"Topic6\", \"Topic6\", \"Topic6\", \"Topic6\", \"Topic6\", \"Topic6\", \"Topic6\", \"Topic6\", \"Topic6\", \"Topic6\", \"Topic6\", \"Topic6\", \"Topic6\", \"Topic6\", \"Topic6\", \"Topic6\", \"Topic6\", \"Topic6\", \"Topic6\", \"Topic6\", \"Topic6\", \"Topic6\", \"Topic6\", \"Topic6\", \"Topic6\", \"Topic6\", \"Topic6\", \"Topic6\", \"Topic6\", \"Topic6\", \"Topic6\", \"Topic6\", \"Topic6\", \"Topic7\", \"Topic7\", \"Topic7\", \"Topic7\", \"Topic7\", \"Topic7\", \"Topic7\", \"Topic7\", \"Topic7\", \"Topic7\", \"Topic7\", \"Topic7\", \"Topic7\", \"Topic7\", \"Topic7\", \"Topic7\", \"Topic7\", \"Topic7\", \"Topic7\", \"Topic7\", \"Topic7\", \"Topic7\", \"Topic7\", \"Topic7\", \"Topic7\", \"Topic7\", \"Topic7\", \"Topic7\", \"Topic7\", \"Topic7\", \"Topic7\", \"Topic7\", \"Topic7\", \"Topic7\", \"Topic7\", \"Topic7\", \"Topic7\", \"Topic7\", \"Topic7\", \"Topic7\", \"Topic7\", \"Topic7\", \"Topic7\", \"Topic7\", \"Topic7\", \"Topic7\", \"Topic7\", \"Topic7\", \"Topic7\", \"Topic7\", \"Topic7\", \"Topic7\", \"Topic7\", \"Topic7\", \"Topic7\", \"Topic7\", \"Topic7\", \"Topic8\", \"Topic8\", \"Topic8\", \"Topic8\", \"Topic8\", \"Topic8\", \"Topic8\", \"Topic8\", \"Topic8\", \"Topic8\", \"Topic8\", \"Topic8\", \"Topic8\", \"Topic8\", \"Topic8\", \"Topic8\", \"Topic8\", \"Topic8\", \"Topic8\", \"Topic8\", \"Topic8\", \"Topic8\", \"Topic8\", \"Topic8\", \"Topic8\", \"Topic8\", \"Topic8\", \"Topic8\", \"Topic8\", \"Topic8\", \"Topic8\", \"Topic8\", \"Topic8\", \"Topic8\", \"Topic8\", \"Topic8\", \"Topic8\", \"Topic8\", \"Topic8\", \"Topic8\", \"Topic8\", \"Topic8\", \"Topic8\", \"Topic8\", \"Topic8\", \"Topic8\", \"Topic8\", \"Topic8\", \"Topic8\", \"Topic8\", \"Topic8\", \"Topic8\", \"Topic8\", \"Topic8\", \"Topic8\", \"Topic8\", \"Topic8\", \"Topic8\", \"Topic9\", \"Topic9\", \"Topic9\", \"Topic9\", \"Topic9\", \"Topic9\", \"Topic9\", \"Topic9\", \"Topic9\", \"Topic9\", \"Topic9\", \"Topic9\", \"Topic9\", \"Topic9\", \"Topic9\", \"Topic9\", \"Topic9\", \"Topic9\", \"Topic9\", \"Topic9\", \"Topic9\", \"Topic9\", \"Topic9\", \"Topic9\", \"Topic9\", \"Topic9\", \"Topic9\", \"Topic9\", \"Topic9\", \"Topic9\", \"Topic9\", \"Topic9\", \"Topic9\", \"Topic9\", \"Topic9\", \"Topic9\", \"Topic9\", \"Topic9\", \"Topic9\", \"Topic9\", \"Topic9\", \"Topic9\", \"Topic9\", \"Topic9\", \"Topic9\", \"Topic9\", \"Topic9\", \"Topic9\", \"Topic9\", \"Topic9\", \"Topic9\", \"Topic9\", \"Topic9\", \"Topic9\", \"Topic9\", \"Topic9\", \"Topic9\", \"Topic9\", \"Topic10\", \"Topic10\", \"Topic10\", \"Topic10\", \"Topic10\", \"Topic10\", \"Topic10\", \"Topic10\", \"Topic10\", \"Topic10\", \"Topic10\", \"Topic10\", \"Topic10\", \"Topic10\", \"Topic10\", \"Topic10\", \"Topic10\", \"Topic10\", \"Topic10\", \"Topic10\", \"Topic10\", \"Topic10\", \"Topic10\", \"Topic10\", \"Topic10\", \"Topic10\", \"Topic10\", \"Topic10\", \"Topic10\", \"Topic10\", \"Topic10\", \"Topic10\", \"Topic10\", \"Topic10\", \"Topic10\", \"Topic10\", \"Topic10\", \"Topic10\", \"Topic10\", \"Topic10\", \"Topic10\", \"Topic10\", \"Topic10\", \"Topic10\", \"Topic10\", \"Topic10\", \"Topic10\", \"Topic10\", \"Topic10\", \"Topic10\"], \"Freq\": [1247.0, 235.0, 1083.0, 319.0, 300.0, 185.0, 198.0, 461.0, 408.0, 145.0, 190.0, 251.0, 110.0, 97.0, 118.0, 256.0, 124.0, 181.0, 575.0, 118.0, 199.0, 168.0, 89.0, 142.0, 69.0, 239.0, 284.0, 160.0, 84.0, 69.0, 86.53025817871094, 69.5390853881836, 53.428348541259766, 51.31831359863281, 51.08185958862305, 39.52360153198242, 41.88587188720703, 36.2407112121582, 26.33973503112793, 25.21135902404785, 24.63691520690918, 21.987247467041016, 21.61119270324707, 20.957992553710938, 20.812101364135742, 20.575057983398438, 22.828149795532227, 19.237934112548828, 18.221328735351562, 16.912446975708008, 16.631067276000977, 16.21346664428711, 16.09342384338379, 16.04143524169922, 16.004762649536133, 15.88694953918457, 15.744367599487305, 15.24228572845459, 14.864502906799316, 14.601751327514648, 73.4035873413086, 61.02033996582031, 45.80240249633789, 32.92905807495117, 252.7646942138672, 44.257568359375, 68.3069839477539, 45.47920608520508, 64.9366455078125, 25.514556884765625, 148.4274444580078, 39.886451721191406, 45.226417541503906, 59.59541702270508, 137.61032104492188, 115.73728942871094, 90.27813720703125, 94.09488677978516, 95.88423919677734, 83.16344451904297, 57.728302001953125, 144.1543426513672, 67.91288757324219, 86.68980407714844, 133.08169555664062, 95.6161880493164, 62.37361526489258, 67.12458038330078, 65.82901000976562, 85.89217376708984, 73.41404724121094, 104.70526123046875, 61.256107330322266, 55.85982131958008, 53.498477935791016, 51.28083038330078, 37.030609130859375, 44.832420349121094, 31.973909378051758, 31.212705612182617, 28.591175079345703, 26.77517318725586, 25.575969696044922, 25.522151947021484, 25.2393798828125, 24.185388565063477, 23.310962677001953, 22.721969604492188, 21.998682022094727, 21.343523025512695, 21.30843162536621, 19.814714431762695, 18.220094680786133, 17.314651489257812, 17.125978469848633, 16.86081314086914, 16.493202209472656, 16.471593856811523, 16.23610496520996, 16.334976196289062, 14.415380477905273, 14.354703903198242, 13.364151000976562, 13.088274955749512, 12.80452823638916, 62.58296585083008, 164.57232666015625, 46.14410400390625, 162.61582946777344, 68.1053466796875, 44.67246627807617, 57.111446380615234, 100.26791381835938, 162.93487548828125, 23.786113739013672, 105.27751159667969, 52.1305046081543, 209.68309020996094, 390.950927734375, 39.04795837402344, 30.083444595336914, 48.854957580566406, 96.24286651611328, 29.380754470825195, 135.60665893554688, 166.11236572265625, 69.85264587402344, 58.88191604614258, 35.22157287597656, 75.85082244873047, 70.23588562011719, 50.13162612915039, 52.209815979003906, 52.750160217285156, 38.462562561035156, 40.8809928894043, 37.5867805480957, 63.92526626586914, 41.52188491821289, 41.44038009643555, 30.933794021606445, 27.029674530029297, 26.60943603515625, 23.52022361755371, 22.243257522583008, 20.584951400756836, 19.79629135131836, 30.183610916137695, 18.0349178314209, 17.512975692749023, 15.647791862487793, 15.390087127685547, 14.652766227722168, 14.03642749786377, 13.457541465759277, 13.296394348144531, 12.664679527282715, 12.661603927612305, 12.536415100097656, 12.463342666625977, 12.126869201660156, 12.000556945800781, 11.602751731872559, 11.584699630737305, 11.505504608154297, 11.475150108337402, 11.3526611328125, 17.620065689086914, 26.766910552978516, 66.65926361083984, 51.813114166259766, 16.726720809936523, 141.8022003173828, 40.77715301513672, 32.81404495239258, 37.368499755859375, 122.56230163574219, 37.66315841674805, 38.840091705322266, 26.413925170898438, 205.57879638671875, 39.68825912475586, 107.11644744873047, 88.56272888183594, 32.5590934753418, 52.53766632080078, 35.70743942260742, 72.1383056640625, 85.61803436279297, 192.0891876220703, 158.36956787109375, 90.58778381347656, 68.95230102539062, 37.01449966430664, 53.6921501159668, 31.809141159057617, 38.42332458496094, 33.67841720581055, 32.62495422363281, 88.39874267578125, 36.56626510620117, 22.893423080444336, 26.812711715698242, 21.281543731689453, 19.87678337097168, 19.718509674072266, 17.782978057861328, 17.363906860351562, 16.878576278686523, 16.66083335876465, 16.1413516998291, 15.769096374511719, 15.438243865966797, 14.560348510742188, 14.005831718444824, 13.92431640625, 13.89510440826416, 13.826214790344238, 13.498162269592285, 13.480260848999023, 13.284871101379395, 12.936378479003906, 12.623608589172363, 12.119226455688477, 11.86571216583252, 11.764872550964355, 11.798577308654785, 11.673540115356445, 11.655464172363281, 30.78864288330078, 26.011972427368164, 224.79283142089844, 17.067411422729492, 27.015901565551758, 48.408485412597656, 42.44270324707031, 20.726964950561523, 36.72077941894531, 22.642837524414062, 25.102645874023438, 32.18024826049805, 54.64435577392578, 30.97210121154785, 32.58481216430664, 54.20243453979492, 27.30926513671875, 129.1469268798828, 75.39410400390625, 21.454669952392578, 60.28744888305664, 22.378225326538086, 41.248783111572266, 28.75010108947754, 37.56257629394531, 35.138671875, 44.9511833190918, 30.518138885498047, 28.171236038208008, 33.54784393310547, 30.892099380493164, 28.881229400634766, 26.381803512573242, 109.35848236083984, 75.05632019042969, 52.14089584350586, 27.58809471130371, 27.256120681762695, 25.48304557800293, 36.94144821166992, 20.002151489257812, 18.98523712158203, 18.654422760009766, 17.256977081298828, 16.56231689453125, 16.495519638061523, 16.467988967895508, 15.908079147338867, 15.675575256347656, 15.348410606384277, 15.207005500793457, 15.144664764404297, 14.218755722045898, 14.072181701660156, 13.898514747619629, 13.440850257873535, 13.154589653015137, 13.094474792480469, 12.927651405334473, 12.917641639709473, 12.655007362365723, 12.514813423156738, 12.297826766967773, 24.885669708251953, 51.316246032714844, 41.41050720214844, 23.70918083190918, 22.561246871948242, 33.164794921875, 42.43416213989258, 41.03573989868164, 353.2677307128906, 71.7348403930664, 29.214006423950195, 42.98633575439453, 120.38963317871094, 25.61400604248047, 24.270017623901367, 25.285076141357422, 54.10026550292969, 25.643857955932617, 38.896697998046875, 31.85511016845703, 67.74200439453125, 31.14592170715332, 61.40751266479492, 43.174983978271484, 48.06055450439453, 40.24702072143555, 35.09147644042969, 38.749507904052734, 31.98056411743164, 35.03413772583008, 28.423526763916016, 27.326229095458984, 44.657203674316406, 49.894622802734375, 36.23258972167969, 31.814720153808594, 28.49070930480957, 27.346824645996094, 25.64714813232422, 23.776647567749023, 23.506269454956055, 23.046398162841797, 22.806612014770508, 22.495601654052734, 22.335546493530273, 21.415464401245117, 21.122297286987305, 20.136762619018555, 19.23817253112793, 18.847492218017578, 17.965076446533203, 17.87451171875, 17.671337127685547, 17.573774337768555, 16.253267288208008, 15.914294242858887, 15.354622840881348, 17.82121467590332, 15.09873104095459, 15.034727096557617, 14.593836784362793, 13.979107856750488, 24.434560775756836, 21.114700317382812, 47.42350769042969, 52.5435676574707, 99.47080993652344, 32.556602478027344, 17.227754592895508, 80.26653289794922, 75.62295532226562, 52.81683349609375, 28.539684295654297, 22.567459106445312, 57.70313262939453, 30.48944664001465, 42.643184661865234, 24.68063735961914, 36.7031135559082, 40.81659698486328, 29.932043075561523, 31.685321807861328, 35.44239807128906, 29.3078670501709, 30.767446517944336, 26.201454162597656, 24.648563385009766, 24.244047164916992, 97.15139770507812, 50.415157318115234, 37.50627517700195, 36.94089889526367, 29.3714542388916, 28.500904083251953, 27.876344680786133, 21.757328033447266, 21.18267250061035, 19.93906593322754, 19.682823181152344, 19.354629516601562, 19.068037033081055, 18.918258666992188, 18.241596221923828, 14.997876167297363, 14.565853118896484, 14.105464935302734, 12.227561950683594, 11.89029598236084, 11.871070861816406, 11.741833686828613, 11.679195404052734, 11.401178359985352, 11.400073051452637, 11.393295288085938, 10.993021965026855, 10.689982414245605, 10.270278930664062, 10.009357452392578, 23.75783348083496, 122.16180419921875, 96.58015441894531, 34.69783401489258, 19.410505294799805, 22.05340576171875, 27.96746253967285, 29.292734146118164, 51.75239944458008, 34.955780029296875, 28.206546783447266, 164.29330444335938, 31.44426918029785, 31.576705932617188, 40.24839782714844, 61.664039611816406, 124.86253356933594, 29.268945693969727, 51.3461799621582, 52.903045654296875, 31.578601837158203, 46.01805877685547, 49.211509704589844, 27.519804000854492, 29.488069534301758, 31.042362213134766, 28.448396682739258, 63.42891311645508, 69.02933502197266, 36.660037994384766, 27.825077056884766, 34.5371208190918, 25.47466278076172, 24.88746452331543, 24.524898529052734, 22.331876754760742, 19.601200103759766, 17.996797561645508, 16.607322692871094, 16.59716033935547, 16.2407283782959, 15.780182838439941, 14.933009147644043, 14.773110389709473, 14.072270393371582, 13.93567943572998, 13.651774406433105, 13.086224555969238, 13.057007789611816, 12.796040534973145, 12.531067848205566, 12.05313777923584, 12.043478012084961, 11.965750694274902, 11.673632621765137, 11.607467651367188, 11.528878211975098, 210.40121459960938, 21.447893142700195, 28.61548614501953, 70.09407043457031, 41.6934814453125, 32.88314437866211, 16.931045532226562, 24.408721923828125, 16.93061065673828, 49.615299224853516, 59.031124114990234, 19.86933135986328, 153.99546813964844, 42.05942153930664, 26.325197219848633, 53.00197219848633, 31.349641799926758, 31.08935546875, 20.251237869262695, 22.498546600341797, 43.671443939208984, 29.581560134887695, 32.827369689941406, 27.416833877563477, 30.121580123901367, 25.61295509338379, 24.20287322998047, 23.210844039916992, 44.83217239379883, 39.20360565185547, 32.664772033691406, 26.446001052856445, 25.011112213134766, 24.064504623413086, 21.717424392700195, 18.87061882019043, 17.69405174255371, 16.75286865234375, 16.648679733276367, 16.48096466064453, 15.87530517578125, 15.035590171813965, 14.789606094360352, 14.417318344116211, 14.234591484069824, 14.211822509765625, 13.875595092773438, 12.102193832397461, 11.538124084472656, 11.337464332580566, 11.317745208740234, 11.038379669189453, 10.827279090881348, 10.819190979003906, 10.668222427368164, 10.555397033691406, 10.472210884094238, 10.187738418579102, 59.73069381713867, 89.72269439697266, 83.21559143066406, 20.80962562561035, 33.27875518798828, 57.71101379394531, 24.909996032714844, 64.61555480957031, 32.019779205322266, 35.243255615234375, 39.33294677734375, 33.97831726074219, 52.0151481628418, 121.53101348876953, 31.26679229736328, 27.242395401000977, 36.598106384277344, 21.922853469848633, 27.448978424072266, 64.1957778930664, 31.069751739501953, 24.32880973815918, 32.34231948852539, 41.834346771240234, 26.98120880126953, 30.157867431640625, 29.697364807128906, 26.839181900024414, 68.54814147949219, 36.864566802978516, 30.911027908325195, 28.40342903137207, 27.637733459472656, 24.863964080810547, 21.442087173461914, 21.25920295715332, 20.470630645751953, 19.746971130371094, 16.75795555114746, 16.61873435974121, 16.21580696105957, 15.393817901611328, 15.177169799804688, 14.921263694763184, 14.238434791564941, 14.191733360290527, 13.352238655090332, 13.280984878540039, 12.506399154663086, 12.241861343383789, 11.528729438781738, 11.514803886413574, 11.455216407775879, 11.295244216918945, 10.627252578735352, 10.317082405090332, 9.87091064453125, 9.368741035461426, 39.85373306274414, 34.06922912597656, 27.314922332763672, 27.887544631958008, 21.64471435546875, 300.1270751953125, 23.815322875976562, 24.6490421295166, 50.32464599609375, 43.74937438964844, 24.051252365112305, 29.669599533081055, 23.658170700073242, 18.932270050048828, 35.86919403076172, 37.352970123291016, 49.98855209350586, 45.83502197265625, 19.973648071289062, 18.630712509155273], \"Term\": [\"love\", \"omg\", \"like\", \"thank\", \"lol\", \"great\", \"happy\", \"look\", \"know\", \"yes\", \"girl\", \"vlog\", \"brent\", \"old\", \"man\", \"year\", \"channel\", \"comment\", \"good\", \"laugh\", \"guy\", \"actually\", \"lmao\", \"hair\", \"lexi\", \"day\", \"people\", \"cute\", \"dog\", \"play\", \"cry\", \"content\", \"word\", \"place\", \"fall\", \"listen\", \"young\", \"hilarious\", \"instagram\", \"party\", \"drive\", \"thumbnail\", \"jack\", \"college\", \"power\", \"important\", \"million\", \"student\", \"rock\", \"term\", \"happiness\", \"study\", \"piece\", \"taste\", \"bruh\", \"bread\", \"lipstick\", \"congrat\", \"beauty\", \"health\", \"happen\", \"true\", \"imagine\", \"far\", \"lol\", \"doctor\", \"end\", \"guess\", \"home\", \"later\", \"year\", \"heart\", \"school\", \"long\", \"time\", \"feel\", \"new\", \"come\", \"day\", \"way\", \"hope\", \"good\", \"start\", \"thing\", \"video\", \"watch\", \"find\", \"work\", \"use\", \"think\", \"people\", \"like\", \"life\", \"love\", \"want\", \"black\", \"shirt\", \"adorable\", \"dan\", \"boyfriend\", \"zoe\", \"vlogma\", \"lip\", \"saf\", \"merry_christmas\", \"vegan\", \"review\", \"box\", \"save\", \"dollar\", \"yay\", \"cake\", \"justine\", \"tess\", \"screen\", \"figure\", \"test\", \"alisha\", \"closet\", \"jacket\", \"accept\", \"suit\", \"marie\", \"ice_cream\", \"cuz\", \"brother\", \"great\", \"birthday\", \"happy\", \"baby\", \"dress\", \"vid\", \"hair\", \"vlog\", \"alfie\", \"cute\", \"phil\", \"look\", \"love\", \"lose\", \"outfit\", \"hey\", \"day\", \"better\", \"video\", \"like\", \"feel\", \"try\", \"world\", \"think\", \"watch\", \"amazing\", \"new\", \"need\", \"wish\", \"beautiful\", \"know\", \"colleen\", \"sweet\", \"ill\", \"sing\", \"foot\", \"inspiration\", \"wtf\", \"reply\", \"kenzie\", \"marble\", \"win\", \"xxx\", \"leg\", \"spell\", \"roll\", \"halloween\", \"dimpu\", \"lucky\", \"cookie\", \"humble\", \"shake\", \"andy\", \"plz\", \"surprised\", \"bobby\", \"terrible\", \"twice\", \"complain\", \"sugar\", \"accent\", \"chair\", \"energy\", \"song\", \"fan\", \"pizza\", \"girl\", \"flynn\", \"draw\", \"turn\", \"comment\", \"excited\", \"btw\", \"shit\", \"know\", \"joey\", \"guy\", \"use\", \"night\", \"miss\", \"haha\", \"friend\", \"want\", \"love\", \"like\", \"video\", \"good\", \"hear\", \"think\", \"christmas\", \"need\", \"vlog\", \"time\", \"lmao\", \"title\", \"australia\", \"mention\", \"obsess\", \"dark\", \"safe\", \"sensitive\", \"social\", \"ready\", \"incredible\", \"positive\", \"crack\", \"snow\", \"cousin\", \"handle\", \"relatable\", \"forever\", \"com\", \"holy\", \"pumpkin\", \"reference\", \"sign\", \"mlm\", \"difficult\", \"lose_weight\", \"ride\", \"creation\", \"information\", \"online\", \"danny\", \"vibe\", \"thank\", \"recently\", \"podcast\", \"god\", \"dad\", \"challenge\", \"sad\", \"speak\", \"line\", \"learn\", \"tell\", \"parent\", \"share\", \"live\", \"wanna\", \"like\", \"know\", \"middle\", \"think\", \"reason\", \"need\", \"help\", \"people\", \"come\", \"video\", \"actually\", \"wait\", \"good\", \"time\", \"look\", \"comment\", \"brent\", \"early\", \"kinda\", \"shoe\", \"problem\", \"act\", \"etc\", \"healthy\", \"eva\", \"nah\", \"editing\", \"mad\", \"burn\", \"girlfriend\", \"mother\", \"possible\", \"giveaway\", \"rid\", \"tooth\", \"ppl\", \"system\", \"employee\", \"chef\", \"death\", \"easily\", \"bright\", \"cold\", \"slime\", \"winter\", \"manage\", \"future\", \"money\", \"movie\", \"mum\", \"hat\", \"hate\", \"cool\", \"edit\", \"like\", \"mean\", \"kurtis\", \"eye\", \"look\", \"crazy\", \"water\", \"style\", \"wait\", \"fact\", \"different\", \"woman\", \"people\", \"fun\", \"think\", \"way\", \"want\", \"thing\", \"work\", \"watch\", \"hair\", \"good\", \"hard\", \"lot\", \"cody\", \"tyler\", \"close\", \"hahaha\", \"add\", \"kiss\", \"milk\", \"level\", \"trip\", \"visit\", \"coffee\", \"poor\", \"julien\", \"sense\", \"thought\", \"subscriber\", \"deserve\", \"teach\", \"respect\", \"wake\", \"noel\", \"special\", \"yea\", \"decide\", \"tip\", \"near\", \"basic\", \"tear\", \"joan\", \"consider\", \"spend\", \"city\", \"jenna\", \"die\", \"actually\", \"perfect\", \"tea\", \"people\", \"watch\", \"work\", \"absolutely\", \"normal\", \"thank\", \"leave\", \"thing\", \"bring\", \"need\", \"think\", \"right\", \"come\", \"love\", \"want\", \"video\", \"friend\", \"maybe\", \"kid\", \"old\", \"awesome\", \"understand\", \"bit\", \"opinion\", \"horse\", \"teal\", \"sell\", \"luck\", \"maria\", \"min\", \"jenn\", \"ikr\", \"storm\", \"alex\", \"safiya\", \"number\", \"wolfie\", \"success\", \"app\", \"shade\", \"continue\", \"medium\", \"trend\", \"bet\", \"count\", \"crush\", \"cove\", \"rise\", \"mall\", \"wedding\", \"yes\", \"man\", \"totally\", \"matter\", \"lady\", \"gay\", \"story\", \"boy\", \"agree\", \"exactly\", \"good\", \"post\", \"grow\", \"real\", \"life\", \"like\", \"ago\", \"year\", \"look\", \"little\", \"video\", \"love\", \"family\", \"right\", \"watch\", \"try\", \"wow\", \"play\", \"intro\", \"walk\", \"cat\", \"bear\", \"tour\", \"legit\", \"click\", \"team\", \"shoot\", \"react\", \"door\", \"bhai\", \"yellow\", \"tiny\", \"finger\", \"choose\", \"lauren\", \"curious\", \"oof\", \"boat\", \"sponsor\", \"design\", \"successful\", \"legend\", \"kylie\", \"shadow\", \"bryce\", \"india\", \"omg\", \"puppy\", \"mark\", \"dog\", \"bro\", \"game\", \"ball\", \"moment\", \"notification\", \"kid\", \"amazing\", \"tree\", \"love\", \"little\", \"head\", \"thing\", \"read\", \"let\", \"free\", \"book\", \"video\", \"cute\", \"good\", \"guy\", \"know\", \"lol\", \"wait\", \"think\", \"green\", \"makeup\", \"blue\", \"jeff\", \"scream\", \"gabi\", \"clothe\", \"grade\", \"loud\", \"karina\", \"niki\", \"dead\", \"anxiety\", \"goal\", \"paint\", \"ice\", \"hyram\", \"ghost\", \"cheer\", \"expensive\", \"drama\", \"iconic\", \"nyc\", \"period\", \"recommend\", \"artist\", \"weight\", \"honest\", \"oil\", \"yass\", \"favorite\", \"channel\", \"laugh\", \"late\", \"tho\", \"nice\", \"sleep\", \"yeah\", \"dude\", \"second\", \"wear\", \"probably\", \"right\", \"video\", \"red\", \"music\", \"youtube\", \"white\", \"house\", \"love\", \"live\", \"remember\", \"need\", \"like\", \"start\", \"watch\", \"good\", \"year\", \"lexi\", \"damn\", \"product\", \"queen\", \"andrew\", \"gift\", \"roomie\", \"outside\", \"lilly\", \"cloe\", \"soo\", \"suck\", \"size\", \"ship\", \"soooo\", \"exact\", \"daisy\", \"alive\", \"rachel\", \"obviously\", \"chicken\", \"helpful\", \"yesterday\", \"prank\", \"romee\", \"rewind\", \"raise\", \"shot\", \"general\", \"tbh\", \"camera\", \"ben\", \"hand\", \"sister\", \"pregnant\", \"love\", \"mia\", \"youtuber\", \"literally\", \"mom\", \"remind\", \"room\", \"idea\", \"phone\", \"beautiful\", \"guy\", \"video\", \"good\", \"voice\", \"notice\"], \"Total\": [1247.0, 235.0, 1083.0, 319.0, 300.0, 185.0, 198.0, 461.0, 408.0, 145.0, 190.0, 251.0, 110.0, 97.0, 118.0, 256.0, 124.0, 181.0, 575.0, 118.0, 199.0, 168.0, 89.0, 142.0, 69.0, 239.0, 284.0, 160.0, 84.0, 69.0, 87.30851745605469, 70.32561492919922, 54.20726013183594, 52.09634780883789, 51.86003112792969, 40.30162048339844, 42.782012939453125, 37.01875686645508, 27.117782592773438, 25.989416122436523, 25.414987564086914, 22.765274047851562, 22.389232635498047, 21.73598289489746, 21.590126037597656, 21.353134155273438, 23.730289459228516, 20.01593017578125, 18.999385833740234, 17.69118309020996, 17.42896270751953, 16.99151611328125, 16.871566772460938, 16.819467544555664, 16.782772064208984, 16.664987564086914, 16.5223331451416, 16.02031135559082, 15.642524719238281, 15.379806518554688, 78.22486877441406, 65.52230072021484, 49.918521881103516, 35.6089973449707, 300.47271728515625, 49.54305648803711, 81.45223236083984, 56.65800476074219, 87.49173736572266, 29.013580322265625, 256.1883544921875, 50.80614471435547, 61.89216232299805, 95.16944122314453, 332.745361328125, 266.55596923828125, 188.11769104003906, 221.8541717529297, 239.71250915527344, 191.21820068359375, 110.58024597167969, 575.044921875, 155.9574737548828, 269.87738037109375, 711.2142333984375, 377.1534423828125, 150.6214141845703, 185.7631378173828, 178.4040069580078, 433.3684997558594, 284.6667175292969, 1083.0560302734375, 190.9535369873047, 1247.115478515625, 280.0322265625, 52.06310272216797, 37.81276321411133, 45.87502670288086, 32.75601577758789, 32.005760192871094, 29.373266220092773, 27.557281494140625, 26.358125686645508, 26.304302215576172, 26.02151870727539, 24.967567443847656, 24.093088150024414, 23.504281997680664, 22.780851364135742, 22.125680923461914, 22.0905704498291, 20.596832275390625, 19.011449813842773, 18.09676742553711, 17.90821075439453, 17.643203735351562, 17.275388717651367, 17.258991241455078, 17.018230438232422, 17.175945281982422, 15.197627067565918, 15.136813163757324, 14.152063369750977, 13.870410919189453, 13.586655616760254, 68.44760131835938, 185.8149871826172, 51.09896469116211, 198.73960876464844, 79.85700225830078, 52.4278678894043, 73.20166015625, 142.17503356933594, 251.7809600830078, 26.48774528503418, 160.17958068847656, 70.19206237792969, 461.0813293457031, 1247.115478515625, 52.943359375, 37.24843978881836, 78.1216812133789, 239.71250915527344, 37.72623062133789, 711.2142333984375, 1083.0560302734375, 266.55596923828125, 183.78109741210938, 58.208595275878906, 433.3684997558594, 377.1534423828125, 154.70846557617188, 188.11769104003906, 238.81846618652344, 81.58894348144531, 117.85343933105469, 408.01513671875, 64.70863342285156, 42.305274963378906, 42.22550582885742, 31.7171688079834, 27.813081741333008, 27.392818450927734, 24.303569793701172, 23.026626586914062, 21.368288040161133, 20.579694747924805, 31.417251586914062, 18.818300247192383, 18.296382904052734, 16.431222915649414, 16.173477172851562, 15.436144828796387, 14.81997013092041, 14.240988731384277, 14.079778671264648, 13.4481782913208, 13.445006370544434, 13.319778442382812, 13.24669361114502, 12.910400390625, 12.78403377532959, 12.386171340942383, 12.368130683898926, 12.289090156555176, 12.258554458618164, 12.136021614074707, 18.84807014465332, 28.909862518310547, 73.8227767944336, 61.30077362060547, 18.320310592651367, 190.13211059570312, 49.657196044921875, 39.63467788696289, 46.22761154174805, 181.37185668945312, 46.768245697021484, 50.20121765136719, 32.22297286987305, 408.01513671875, 54.641483306884766, 199.33880615234375, 178.4040069580078, 46.4004020690918, 94.73513793945312, 53.87839126586914, 161.19302368164062, 280.0322265625, 1247.115478515625, 1083.0560302734375, 711.2142333984375, 575.044921875, 88.7557144165039, 433.3684997558594, 60.403865814208984, 238.81846618652344, 251.7809600830078, 332.745361328125, 89.17997741699219, 37.352054595947266, 23.674699783325195, 27.78660011291504, 22.062883377075195, 20.658103942871094, 20.501266479492188, 18.564273834228516, 18.145160675048828, 17.66055679321289, 17.44219398498535, 16.92262840270996, 16.550350189208984, 16.219480514526367, 15.341583251953125, 14.787160873413086, 14.705649375915527, 14.67643928527832, 14.607442855834961, 14.279436111450195, 14.261537551879883, 14.066160202026367, 13.717635154724121, 13.40490436553955, 12.900557518005371, 12.646995544433594, 12.546146392822266, 12.584196090698242, 12.454928398132324, 12.436734199523926, 34.40093994140625, 29.853160858154297, 319.9097900390625, 18.89075469970703, 31.975175857543945, 63.84882354736328, 55.658416748046875, 24.15837287902832, 51.37855911254883, 28.2204647064209, 34.85697937011719, 51.12389373779297, 115.78475952148438, 49.082332611083984, 53.17429733276367, 132.23123168945312, 49.46493911743164, 1083.0560302734375, 408.01513671875, 32.48330307006836, 433.3684997558594, 39.01680374145508, 238.81846618652344, 86.4161376953125, 284.6667175292969, 221.8541717529297, 711.2142333984375, 168.1023406982422, 139.9925537109375, 575.044921875, 332.745361328125, 461.0813293457031, 181.37185668945312, 110.13902282714844, 75.83685302734375, 52.92496109008789, 28.368619918823242, 28.03675079345703, 26.263591766357422, 38.22652816772461, 20.78284454345703, 19.765764236450195, 19.434978485107422, 18.037582397460938, 17.34286880493164, 17.276121139526367, 17.248577117919922, 16.688663482666016, 16.456209182739258, 16.128957748413086, 15.987606048583984, 15.925206184387207, 14.999282836914062, 14.852836608886719, 14.679011344909668, 14.221763610839844, 13.935149192810059, 13.875104904174805, 13.708208084106445, 13.69823932647705, 13.43557357788086, 13.295402526855469, 13.078423500061035, 27.466646194458008, 65.23690795898438, 52.38725280761719, 27.864072799682617, 26.34984016418457, 43.708251953125, 61.48291015625, 60.754878997802734, 1083.0560302734375, 132.67137145996094, 39.83152389526367, 68.64144134521484, 461.0813293457031, 37.3207893371582, 34.25069046020508, 36.88101577758789, 139.9925537109375, 38.0705680847168, 82.69091033935547, 60.15657043457031, 284.6667175292969, 70.1468505859375, 433.3684997558594, 191.21820068359375, 280.0322265625, 269.87738037109375, 185.7631378173828, 377.1534423828125, 142.17503356933594, 575.044921875, 86.21052551269531, 115.45362854003906, 45.4423942565918, 50.801544189453125, 37.01768112182617, 32.59976577758789, 29.276050567626953, 28.13190269470215, 26.43218231201172, 24.5617733001709, 24.298097610473633, 23.83151626586914, 23.591663360595703, 23.280683517456055, 23.12061309814453, 22.20062828063965, 21.907482147216797, 20.921850204467773, 20.023225784301758, 19.63264274597168, 18.750171661376953, 18.65961265563965, 18.456377029418945, 18.35886573791504, 17.038354873657227, 16.699350357055664, 16.140005111694336, 18.73613739013672, 15.88387680053711, 15.819886207580566, 15.378864288330078, 14.764206886291504, 26.679988861083984, 23.513328552246094, 61.40322494506836, 72.7681884765625, 168.1023406982422, 44.6529655456543, 18.826988220214844, 284.6667175292969, 377.1534423828125, 185.7631378173828, 51.50479507446289, 31.249156951904297, 319.9097900390625, 78.74735260009766, 269.87738037109375, 47.106353759765625, 238.81846618652344, 433.3684997558594, 144.63914489746094, 221.8541717529297, 1247.115478515625, 280.0322265625, 711.2142333984375, 161.19302368164062, 68.90049743652344, 112.73651885986328, 97.93851470947266, 51.20050811767578, 38.291847229003906, 37.72649002075195, 30.156808853149414, 29.286212921142578, 28.661725997924805, 22.546754837036133, 21.96802520751953, 20.724374771118164, 20.468154907226562, 20.139928817749023, 19.853294372558594, 19.703554153442383, 19.026887893676758, 15.783170700073242, 15.351237297058105, 14.891939163208008, 13.012947082519531, 12.675609588623047, 12.656450271606445, 12.527161598205566, 12.464710235595703, 12.186519622802734, 12.185428619384766, 12.178888320922852, 11.778360366821289, 11.475245475769043, 11.055696487426758, 10.794787406921387, 25.623380661010742, 145.97401428222656, 118.72960662841797, 41.83161544799805, 22.310035705566406, 26.007131576538086, 34.19256591796875, 37.3395881652832, 86.0956802368164, 55.39395523071289, 42.47044372558594, 575.044921875, 53.55634307861328, 54.61229705810547, 83.21043395996094, 190.9535369873047, 1083.0560302734375, 53.69472122192383, 256.1883544921875, 461.0813293457031, 132.3308868408203, 711.2142333984375, 1247.115478515625, 95.12257385253906, 144.63914489746094, 377.1534423828125, 183.78109741210938, 64.2795639038086, 69.96710205078125, 37.44559097290039, 28.61070442199707, 35.55418395996094, 26.26259422302246, 25.673126220703125, 25.310474395751953, 23.117416381835938, 20.386938095092773, 18.782434463500977, 17.392959594726562, 17.382909774780273, 17.026262283325195, 16.56585121154785, 15.718657493591309, 15.55875015258789, 14.857945442199707, 14.721335411071777, 14.437454223632812, 13.871828079223633, 13.843017578125, 13.581653594970703, 13.316606521606445, 12.838937759399414, 12.829022407531738, 12.751287460327148, 12.459155082702637, 12.393004417419434, 12.31442928314209, 235.04733276367188, 23.166263580322266, 31.80538558959961, 84.49066925048828, 52.35728454589844, 42.6148567199707, 19.43390464782715, 33.9150276184082, 20.295991897583008, 112.73651885986328, 154.70846557617188, 28.086864471435547, 1247.115478515625, 132.3308868408203, 52.50101089477539, 269.87738037109375, 86.80341339111328, 95.13013458251953, 30.837778091430664, 51.19265365600586, 711.2142333984375, 160.17958068847656, 575.044921875, 199.33880615234375, 408.01513671875, 300.47271728515625, 139.9925537109375, 433.3684997558594, 45.618690490722656, 39.990135192871094, 33.451324462890625, 27.232542037963867, 25.797649383544922, 24.85102081298828, 22.53615379333496, 19.65715980529785, 18.48055076599121, 17.53938102722168, 17.4351749420166, 17.267553329467773, 16.661869049072266, 15.822458267211914, 15.576115608215332, 15.203886985778809, 15.021154403686523, 14.998334884643555, 14.662206649780273, 12.888856887817383, 12.324662208557129, 12.123987197875977, 12.104325294494629, 11.825130462646484, 11.61383056640625, 11.605721473693848, 11.454806327819824, 11.34195327758789, 11.25888442993164, 10.97424030303955, 68.34680938720703, 124.73214721679688, 118.55339050292969, 25.031478881835938, 44.01065444946289, 91.27042388916016, 32.864112854003906, 109.85784912109375, 48.76739501953125, 57.66001892089844, 72.44867706298828, 58.50772476196289, 144.63914489746094, 711.2142333984375, 61.260292053222656, 50.3089485168457, 108.94925689697266, 41.8527717590332, 83.03092956542969, 1247.115478515625, 132.23123168945312, 61.88804626464844, 238.81846618652344, 1083.0560302734375, 155.9574737548828, 377.1534423828125, 575.044921875, 256.1883544921875, 69.4015121459961, 37.655059814453125, 31.701196670532227, 29.19356346130371, 28.427810668945312, 25.65412139892578, 22.23261070251465, 22.049415588378906, 21.260725021362305, 20.537010192871094, 17.54800033569336, 17.409748077392578, 17.00594139099121, 16.18388557434082, 15.967215538024902, 15.711341857910156, 15.028451919555664, 14.981856346130371, 14.142376899719238, 14.071155548095703, 13.296464920043945, 13.031977653503418, 12.318869590759277, 12.304842948913574, 12.245293617248535, 12.085317611694336, 11.417320251464844, 11.113138198852539, 10.66114616394043, 10.158893585205078, 47.03070831298828, 43.18360137939453, 35.02568054199219, 37.1153564453125, 28.965728759765625, 1247.115478515625, 34.75879669189453, 39.110740661621094, 130.4423828125, 114.00431060791016, 41.109920501708984, 63.82814025878906, 42.19763946533203, 27.79059410095215, 117.85343933105469, 199.33880615234375, 711.2142333984375, 575.044921875, 50.12137222290039, 38.81239318847656], \"loglift\": [30.0, 29.0, 28.0, 27.0, 26.0, 25.0, 24.0, 23.0, 22.0, 21.0, 20.0, 19.0, 18.0, 17.0, 16.0, 15.0, 14.0, 13.0, 12.0, 11.0, 10.0, 9.0, 8.0, 7.0, 6.0, 5.0, 4.0, 3.0, 2.0, 1.0, 1.8609999418258667, 1.8587000370025635, 1.8553999662399292, 1.8549000024795532, 1.8547999858856201, 1.8503999710083008, 1.8487000465393066, 1.8487000465393066, 1.8408000469207764, 1.8394999504089355, 1.8387999534606934, 1.8351000547409058, 1.8344999551773071, 1.8335000276565552, 1.8331999778747559, 1.832800030708313, 1.8312000036239624, 1.830299973487854, 1.8280999660491943, 1.8249000310897827, 1.8229999542236328, 1.8229999542236328, 1.822700023651123, 1.8224999904632568, 1.8223999738693237, 1.822100043296814, 1.8216999769210815, 1.820099949836731, 1.8188999891281128, 1.8179999589920044, 1.8063000440597534, 1.798699975013733, 1.7839000225067139, 1.791700005531311, 1.6970000267028809, 1.757099986076355, 1.6938999891281128, 1.6500999927520752, 1.5717999935150146, 1.7414000034332275, 1.3241000175476074, 1.6279000043869019, 1.5562000274658203, 1.4018000364303589, 0.9869999885559082, 1.035599946975708, 1.135699987411499, 1.0121999979019165, 0.9535999894142151, 1.0372999906539917, 1.2199000120162964, 0.486299991607666, 1.038599967956543, 0.7343000173568726, 0.193900004029274, 0.4975999891757965, 0.9883000254631042, 0.8519999980926514, 0.8729000091552734, 0.2513999938964844, 0.5146999955177307, -0.46650001406669617, 0.7329000234603882, -1.23580002784729, 0.21469999849796295, 2.0968000888824463, 2.0910000801086426, 2.088900089263916, 2.0878000259399414, 2.0868000984191895, 2.08489990234375, 2.0831000804901123, 2.0817999839782715, 2.081700086593628, 2.081399917602539, 2.0801000595092773, 2.078900098800659, 2.0780999660491943, 2.0769999027252197, 2.075900077819824, 2.075900077819824, 2.073199987411499, 2.0694000720977783, 2.0678000450134277, 2.0673000812530518, 2.0666000843048096, 2.0655999183654785, 2.065200090408325, 2.0648999214172363, 2.0617001056671143, 2.0590999126434326, 2.0589001178741455, 2.0546000003814697, 2.0539000034332275, 2.0525999069213867, 2.02239990234375, 1.9904999732971191, 2.0099000930786133, 1.9112999439239502, 1.9527000188827515, 1.951799988746643, 1.863700032234192, 1.7626999616622925, 1.6766999959945679, 2.0044000148773193, 1.692199945449829, 1.8143999576568604, 1.3240000009536743, 0.9519000053405762, 1.8075000047683716, 1.898300051689148, 1.6425000429153442, 1.1993999481201172, 1.861899971961975, 0.4546999931335449, 0.2371000051498413, 0.7727000117301941, 0.9736999869346619, 1.6095999479293823, 0.36910000443458557, 0.4311000108718872, 0.9850000143051147, 0.8300999999046326, 0.6018000245094299, 1.3598999977111816, 1.0532000064849854, -0.2727000117301941, 2.162600040435791, 2.156100034713745, 2.1559998989105225, 2.1498000621795654, 2.146199941635132, 2.1458001136779785, 2.1419999599456787, 2.140199899673462, 2.137500047683716, 2.135999917984009, 2.134700059890747, 2.1322999000549316, 2.13100004196167, 2.125999927520752, 2.125200033187866, 2.1226999759674072, 2.120500087738037, 2.1182000637054443, 2.1175999641418457, 2.114799976348877, 2.114799976348877, 2.1142001152038574, 2.113800048828125, 2.1122000217437744, 2.111599922180176, 2.109499931335449, 2.1094000339508057, 2.1089000701904297, 2.108799934387207, 2.108099937438965, 2.1073999404907227, 2.0978000164031982, 2.072700023651123, 2.006700038909912, 2.0838000774383545, 1.881500005722046, 1.9778000116348267, 1.9859999418258667, 1.9621000289916992, 1.7828999757766724, 1.958299994468689, 1.9182000160217285, 1.9759999513626099, 1.489300012588501, 1.8551000356674194, 1.5536999702453613, 1.4744999408721924, 1.8206000328063965, 1.5852999687194824, 1.7633999586105347, 1.3708000183105469, 0.989799976348877, 0.3041999936103821, 0.25220000743865967, 0.11420000344514847, 0.05380000174045563, 1.3001999855041504, 0.08649999648332596, 1.5334999561309814, 0.34779998660087585, 0.163100004196167, -0.14749999344348907, 2.250699996948242, 2.2381999492645264, 2.2258999347686768, 2.22379994392395, 2.223400115966797, 2.220900058746338, 2.220599889755249, 2.2165000438690186, 2.2155001163482666, 2.214200019836426, 2.21370005607605, 2.2121999263763428, 2.2111001014709473, 2.210099935531616, 2.207200050354004, 2.205199956893921, 2.204900026321411, 2.2047998905181885, 2.2044999599456787, 2.203200101852417, 2.203200101852417, 2.2023000717163086, 2.200900077819824, 2.199399948120117, 2.197000026702881, 2.19569993019104, 2.195199966430664, 2.194999933242798, 2.194700002670288, 2.1946001052856445, 2.1486001014709473, 2.121799945831299, 1.906599998474121, 2.1579999923706055, 2.0910000801086426, 1.982699990272522, 1.9883999824523926, 2.106300115585327, 1.9235999584197998, 2.039299964904785, 1.9312000274658203, 1.7965999841690063, 1.5085999965667725, 1.7991000413894653, 1.7697999477386475, 1.3676999807357788, 1.6655000448226929, 0.13289999961853027, 0.570900022983551, 1.8446999788284302, 0.28700000047683716, 1.7036000490188599, 0.5034000277519226, 1.159000039100647, 0.23420000076293945, 0.41679999232292175, -0.5019000172615051, 0.5532000064849854, 0.6561999917030334, -0.5820000171661377, -0.11739999800920486, -0.5109000205993652, 0.33160001039505005, 2.267699956893921, 2.2644999027252197, 2.2599000930786133, 2.2469000816345215, 2.2465999126434326, 2.2446000576019287, 2.240600109100342, 2.2365000247955322, 2.234499931335449, 2.233799934387207, 2.230600118637085, 2.228800058364868, 2.228600025177002, 2.2284998893737793, 2.226900100708008, 2.2262001037597656, 2.2251999378204346, 2.2248001098632812, 2.224600076675415, 2.221400022506714, 2.2207999229431152, 2.2202000617980957, 2.2183001041412354, 2.2172000408172607, 2.216900110244751, 2.216200113296509, 2.216099977493286, 2.2149999141693115, 2.2142999172210693, 2.2132999897003174, 2.176100015640259, 2.0348000526428223, 2.0397000312805176, 2.113300085067749, 2.1196000576019287, 1.9988000392913818, 1.9040000438690186, 1.8824000358581543, 1.1545000076293945, 1.6598999500274658, 1.9648000001907349, 1.8068000078201294, 0.9319999814033508, 1.8983999490737915, 1.930299997329712, 1.8973000049591064, 1.3241000175476074, 1.879699945449829, 1.5205999612808228, 1.6390999555587769, 0.8392000198364258, 1.4629000425338745, 0.3208000063896179, 0.7867000102996826, 0.5123999714851379, 0.3718999922275543, 0.608299970626831, -0.000699999975040555, 0.7828999757766724, -0.5232999920845032, 1.1651999950408936, 0.8338000178337097, 2.3582000732421875, 2.357599973678589, 2.3541998863220215, 2.351300001144409, 2.348400115966797, 2.3473000526428223, 2.3454999923706055, 2.3431999683380127, 2.3424999713897705, 2.342099905014038, 2.3417999744415283, 2.3413000106811523, 2.341099977493286, 2.339600086212158, 2.339099884033203, 2.337399959564209, 2.335599899291992, 2.3348000049591064, 2.332900047302246, 2.33270001411438, 2.332200050354004, 2.331899881362915, 2.3285000324249268, 2.327500104904175, 2.3257999420166016, 2.3255999088287354, 2.324899911880493, 2.324700117111206, 2.323199987411499, 2.321000099182129, 2.2876999378204346, 2.2679998874664307, 2.117300033569336, 2.049999952316284, 1.8509000539779663, 2.0597000122070312, 2.286900043487549, 1.1096999645233154, 0.7687000036239624, 1.1180000305175781, 1.7853000164031982, 2.0501999855041504, 0.6628999710083008, 1.426800012588501, 0.5304999947547913, 1.729200005531311, 0.5027999877929688, 0.013100000098347664, 0.8003000020980835, 0.429500013589859, -1.184999942779541, 0.11860000342130661, -0.7649000287055969, 0.558899998664856, 1.3476999998092651, 0.8388000130653381, 2.4440999031066895, 2.4367001056671143, 2.4314000606536865, 2.4310998916625977, 2.425800085067749, 2.424999952316284, 2.4244000911712646, 2.4165000915527344, 2.4156999588012695, 2.4135000705718994, 2.4130001068115234, 2.412400007247925, 2.411799907684326, 2.4114999771118164, 2.4100000858306885, 2.401099920272827, 2.399600028991699, 2.397900104522705, 2.389899969100952, 2.388200044631958, 2.3880999088287354, 2.387399911880493, 2.3870999813079834, 2.385499954223633, 2.385499954223633, 2.385499954223633, 2.3831000328063965, 2.3812999725341797, 2.378499984741211, 2.3766000270843506, 2.3766000270843506, 2.2741000652313232, 2.245699882507324, 2.265199899673462, 2.3129000663757324, 2.2871999740600586, 2.251199960708618, 2.209399938583374, 1.9431999921798706, 1.9917999505996704, 2.0429000854492188, 1.1993999481201172, 1.919600009918213, 1.9042999744415283, 1.7258000373840332, 1.3217999935150146, 0.29179999232292175, 1.8453999757766724, 0.8447999954223633, 0.28700000047683716, 1.0192999839782715, -0.2858000099658966, -0.7803000211715698, 1.211899995803833, 0.8618999719619751, -0.04520000144839287, 0.5864999890327454, 2.4728000164031982, 2.4727001190185547, 2.464900016784668, 2.4583001136779785, 2.4570999145507812, 2.455699920654297, 2.4551000595092773, 2.4546000957489014, 2.4516000747680664, 2.4467999935150146, 2.4433999061584473, 2.4398999214172363, 2.4398999214172363, 2.4388999938964844, 2.4375998973846436, 2.4349000453948975, 2.434299945831299, 2.43179988861084, 2.431299924850464, 2.4302000999450684, 2.427799940109253, 2.4277000427246094, 2.4265999794006348, 2.425299882888794, 2.4230000972747803, 2.4230000972747803, 2.422600030899048, 2.4210000038146973, 2.4207000732421875, 2.4202001094818115, 2.3754000663757324, 2.40910005569458, 2.380500078201294, 2.299299955368042, 2.2583999633789062, 2.226900100708008, 2.348299980163574, 2.1572000980377197, 2.304800033569336, 1.6654000282287598, 1.5226999521255493, 2.140000104904175, 0.3944999873638153, 1.339900016784668, 1.795799970626831, 0.8585000038146973, 1.4677000045776367, 1.367799997329712, 2.0655999183654785, 1.6640000343322754, -0.30410000681877136, 0.796999990940094, -0.37700000405311584, 0.5023000240325928, -0.11990000307559967, 0.023900000378489494, 0.7310000061988831, -0.4408000111579895, 2.5355000495910645, 2.533099889755249, 2.529099941253662, 2.5236001014709473, 2.5220000743865967, 2.5208001136779785, 2.515899896621704, 2.5120999813079834, 2.509399890899658, 2.5071001052856445, 2.5067999362945557, 2.5062999725341797, 2.5046000480651855, 2.5018999576568604, 2.5011000633239746, 2.499799966812134, 2.4992001056671143, 2.4990999698638916, 2.49780011177063, 2.490000009536743, 2.486999988555908, 2.4858999252319336, 2.4856998920440674, 2.484100103378296, 2.482800006866455, 2.482800006866455, 2.481800079345703, 2.481100082397461, 2.4804999828338623, 2.478600025177002, 2.4182000160217285, 2.2235000133514404, 2.1989998817443848, 2.3682000637054443, 2.273400068283081, 2.094599962234497, 2.2757999897003174, 2.022200107574463, 2.132200002670288, 2.0606000423431396, 1.9421000480651855, 2.009500026702881, 1.5302000045776367, 0.7860999703407288, 1.8803999423980713, 1.9394999742507935, 1.4621000289916992, 1.9062999486923218, 1.4460999965667725, -0.41370001435279846, 1.104599952697754, 1.6193000078201294, 0.553600013256073, -0.7009000182151794, 0.7985000014305115, 0.02669999934732914, -0.4104999899864197, 0.2969000041484833, 2.7386999130249023, 2.72979998588562, 2.725800037384033, 2.723599910736084, 2.7228000164031982, 2.7197000980377197, 2.7147998809814453, 2.7144999504089355, 2.713200092315674, 2.7118000984191895, 2.7049999237060547, 2.7044999599456787, 2.7035000324249268, 2.7009999752044678, 2.7002999782562256, 2.699399948120117, 2.697000026702881, 2.696899890899658, 2.69350004196167, 2.69320011138916, 2.6898000240325928, 2.688499927520752, 2.6847000122070312, 2.6847000122070312, 2.684299945831299, 2.6833999156951904, 2.67930006980896, 2.6767001152038574, 2.6740000247955322, 2.670099973678589, 2.585400104522705, 2.5139999389648438, 2.5023999214172363, 2.4651999473571777, 2.459700107574463, 1.32669997215271, 2.3729000091552734, 2.289400100708008, 1.7985999584197998, 1.7933000326156616, 2.2149999141693115, 1.9850000143051147, 2.1723999977111816, 2.3671998977661133, 1.5614999532699585, 1.0764000415802002, 0.09589999914169312, 0.2215999960899353, 1.8309999704360962, 2.0171000957489014], \"logprob\": [30.0, 29.0, 28.0, 27.0, 26.0, 25.0, 24.0, 23.0, 22.0, 21.0, 20.0, 19.0, 18.0, 17.0, 16.0, 15.0, 14.0, 13.0, 12.0, 11.0, 10.0, 9.0, 8.0, 7.0, 6.0, 5.0, 4.0, 3.0, 2.0, 1.0, -4.750999927520752, -4.969600200653076, -5.2332000732421875, -5.273399829864502, -5.27810001373291, -5.534599781036377, -5.476500034332275, -5.621300220489502, -5.940400123596191, -5.9842000007629395, -6.007199764251709, -6.120999813079834, -6.138299942016602, -6.169000148773193, -6.176000118255615, -6.187399864196777, -6.083499908447266, -6.2546000480651855, -6.308899879455566, -6.383399963378906, -6.400199890136719, -6.4257001876831055, -6.43310022354126, -6.436299800872803, -6.438600063323975, -6.446000099182129, -6.454999923706055, -6.487400054931641, -6.512499809265137, -6.530399799346924, -4.915500164031982, -5.100299835205078, -5.387199878692627, -5.717100143432617, -3.678999900817871, -5.421500205993652, -4.987500190734863, -5.394199848175049, -5.038099765777588, -5.9721999168396, -4.211400032043457, -5.5254998207092285, -5.399799823760986, -5.123899936676025, -4.287099838256836, -4.46019983291626, -4.708600044250488, -4.667200088500977, -4.648399829864502, -4.7906999588012695, -5.155700206756592, -4.240600109100342, -4.993299961090088, -4.749199867248535, -4.320499897003174, -4.651199817657471, -5.078400135040283, -5.004899978637695, -5.024400234222412, -4.758399963378906, -4.91540002822876, -4.560299873352051, -5.096399784088135, -5.188600063323975, -5.231800079345703, -5.032199859619141, -5.357699871063232, -5.166500091552734, -5.5046000480651855, -5.528600215911865, -5.616399765014648, -5.682000160217285, -5.727799892425537, -5.729899883270264, -5.741099834442139, -5.783699989318848, -5.8206000328063965, -5.846099853515625, -5.878499984741211, -5.908699989318848, -5.910399913787842, -5.982999801635742, -6.06689977645874, -6.1178998947143555, -6.128900051116943, -6.144499778747559, -6.166500091552734, -6.167799949645996, -6.182199954986572, -6.176199913024902, -6.301199913024902, -6.3053998947143555, -6.3769001960754395, -6.397799968719482, -6.4197001457214355, -4.833000183105469, -3.8661000728607178, -5.137700080871582, -3.8780999183654785, -4.7484002113342285, -5.170100212097168, -4.924499988555908, -4.361599922180176, -3.8761000633239746, -5.8003997802734375, -4.312900066375732, -5.015699863433838, -3.6238999366760254, -3.0009000301361084, -5.304699897766113, -5.565499782562256, -5.080599784851074, -4.402599811553955, -5.589099884033203, -4.059700012207031, -3.856800079345703, -4.723100185394287, -4.893899917602539, -5.407800197601318, -4.640699863433838, -4.717599868774414, -5.054800033569336, -5.014200210571289, -5.003900051116943, -5.319799900054932, -5.258800029754639, -5.342800140380859, -4.748899936676025, -5.1803998947143555, -5.182300090789795, -5.474699974060059, -5.6097002029418945, -5.62529993057251, -5.748700141906738, -5.804599761962891, -5.881999969482422, -5.92110013961792, -5.499300003051758, -6.0142998695373535, -6.043700218200684, -6.156300067901611, -6.172900199890137, -6.2220001220703125, -6.264900207519531, -6.30709981918335, -6.3190999031066895, -6.367800235748291, -6.368000030517578, -6.377999782562256, -6.383800029754639, -6.411200046539307, -6.421599864959717, -6.455399990081787, -6.456900119781494, -6.463799953460693, -6.466400146484375, -6.477099895477295, -6.037600040435791, -5.6194000244140625, -4.706999778747559, -4.959000110626221, -6.089600086212158, -3.952199935913086, -5.198500156402588, -5.4156999588012695, -5.285799980163574, -4.0980000495910645, -5.277900218963623, -5.247099876403809, -5.632699966430664, -3.5808000564575195, -5.225500106811523, -4.232699871063232, -4.422900199890137, -5.423500061035156, -4.945099830627441, -5.331200122833252, -4.627999782562256, -4.456699848175049, -3.6486001014709473, -3.8417000770568848, -4.400300025939941, -4.6732001304626465, -5.295300006866455, -4.923299789428711, -5.446800231933594, -5.257900238037109, -5.389699935913086, -5.421500205993652, -4.340099811553955, -5.222799777984619, -5.691100120544434, -5.5329999923706055, -5.764100074768066, -5.832399845123291, -5.840400218963623, -5.943699836730957, -5.96750020980835, -5.9959001541137695, -6.008800029754639, -6.040500164031982, -6.063899993896484, -6.085100173950195, -6.143599987030029, -6.182400226593018, -6.188300132751465, -6.190400123596191, -6.195300102233887, -6.219399929046631, -6.220699787139893, -6.235300064086914, -6.261899948120117, -6.286300182342529, -6.327099800109863, -6.348299980163574, -6.356800079345703, -6.353899955749512, -6.36460018157959, -6.366099834442139, -5.394800186157227, -5.563399791717529, -3.4066998958587646, -5.9847002029418945, -5.5254998207092285, -4.942200183868408, -5.073800086975098, -5.790500164031982, -5.218599796295166, -5.702099800109863, -5.598899841308594, -5.350599765777588, -4.821100234985352, -5.388800144195557, -5.338099956512451, -4.82919979095459, -5.514699935913086, -3.9609999656677246, -4.499199867248535, -5.75600004196167, -4.722799777984619, -5.713799953460693, -5.10230016708374, -5.4633002281188965, -5.195899963378906, -5.262599945068359, -5.016300201416016, -5.403600215911865, -5.48360013961792, -5.308899879455566, -5.39139986038208, -5.458700180053711, -5.549200057983398, -4.111999988555908, -4.488399982452393, -4.85260009765625, -5.489200115203857, -5.501299858093262, -5.568600177764893, -5.197299957275391, -5.810800075531006, -5.8628997802734375, -5.880499839782715, -5.958399772644043, -5.999499797821045, -6.003499984741211, -6.005199909210205, -6.03980016708374, -6.054500102996826, -6.0756001472473145, -6.084799766540527, -6.088900089263916, -6.1519999504089355, -6.162399768829346, -6.174799919128418, -6.2083001136779785, -6.229800224304199, -6.234399795532227, -6.247200012207031, -6.248000144958496, -6.268499851226807, -6.279699802398682, -6.2972002029418945, -5.592299938201904, -4.868599891662598, -5.083099842071533, -5.640699863433838, -5.690400123596191, -5.305099964141846, -5.058599948883057, -5.092199802398682, -2.9393999576568604, -4.533599853515625, -5.4319000244140625, -5.0457000732421875, -4.015900135040283, -5.563499927520752, -5.617400169372559, -5.576399803161621, -4.815800189971924, -5.562300205230713, -5.145699977874756, -5.345399856567383, -4.59089994430542, -5.3678998947143555, -4.6890997886657715, -5.041299819946289, -4.934100151062012, -5.111599922180176, -5.248600006103516, -5.149499893188477, -5.3414998054504395, -5.25029993057251, -5.459400177001953, -5.498700141906738, -4.906799793243408, -4.795899868011475, -5.115799903869629, -5.245800018310547, -5.356200218200684, -5.397200107574463, -5.461299896240234, -5.537099838256836, -5.548500061035156, -5.568299770355225, -5.578700065612793, -5.592400074005127, -5.599599838256836, -5.64169979095459, -5.655399799346924, -5.703199863433838, -5.748899936676025, -5.769400119781494, -5.817299842834473, -5.822400093078613, -5.833799839019775, -5.839399814605713, -5.917500019073486, -5.938499927520752, -5.974299907684326, -5.825399875640869, -5.991199970245361, -5.9953999519348145, -6.025199890136719, -6.06820011138916, -5.509799957275391, -5.655799865722656, -4.84660005569458, -4.744100093841553, -4.105899810791016, -5.222799777984619, -5.8592000007629395, -4.320400238037109, -4.380000114440918, -4.738900184631348, -5.354499816894531, -5.589300155639648, -4.6504998207092285, -5.288400173187256, -4.952899932861328, -5.49970006942749, -5.10290002822876, -4.996699810028076, -5.30679988861084, -5.249899864196777, -5.137899875640869, -5.327899932861328, -5.279300212860107, -5.440000057220459, -5.500999927520752, -5.517600059509277, -4.052999973297119, -4.709000110626221, -5.004700183868408, -5.019899845123291, -5.249199867248535, -5.279300212860107, -5.301499843597412, -5.549300193786621, -5.576099872589111, -5.636600017547607, -5.649499893188477, -5.666299819946289, -5.68120002746582, -5.6890997886657715, -5.725599765777588, -5.921299934387207, -5.9506001472473145, -5.982699871063232, -6.1255998611450195, -6.153500080108643, -6.155200004577637, -6.166100025177002, -6.17140007019043, -6.195499897003174, -6.1956000328063965, -6.196199893951416, -6.23199987411499, -6.260000228881836, -6.300000190734863, -6.325699806213379, -5.461299896240234, -3.823899984359741, -4.058899879455566, -5.082600116729736, -5.663400173187256, -5.535799980163574, -5.2982001304626465, -5.2519001960754395, -4.682799816131592, -5.075200080871582, -5.289700031280518, -3.527600049972534, -5.181000232696533, -5.176799774169922, -4.934199810028076, -4.507599830627441, -3.802000045776367, -5.252699851989746, -4.690700054168701, -4.660799980163574, -5.176799774169922, -4.80019998550415, -4.733099937438965, -5.3144001960754395, -5.245299816131592, -5.193900108337402, -5.281199932098389, -4.445300102233887, -4.3607001304626465, -4.993599891662598, -5.2692999839782715, -5.053199768066406, -5.357600212097168, -5.380899906158447, -5.395599842071533, -5.489200115203857, -5.619699954986572, -5.705100059509277, -5.785399913787842, -5.785999774932861, -5.807700157165527, -5.83650016784668, -5.89169979095459, -5.902400016784668, -5.951099872589111, -5.9608001708984375, -5.981400012969971, -6.02370023727417, -6.025899887084961, -6.04610013961792, -6.066999912261963, -6.105899810791016, -6.1066999435424805, -6.1132001876831055, -6.137899875640869, -6.143599987030029, -6.150400161743164, -3.2462000846862793, -5.529600143432617, -5.241300106048584, -4.345399856567383, -4.8649001121521, -5.10230016708374, -5.76609992980957, -5.400300025939941, -5.76609992980957, -4.690999984741211, -4.517199993133545, -5.606100082397461, -3.558300018310547, -4.856200218200684, -5.324699878692627, -4.624899864196777, -5.150100231170654, -5.158400058746338, -5.586999893188477, -5.481800079345703, -4.818600177764893, -5.208099842071533, -5.104000091552734, -5.28410005569458, -5.190000057220459, -5.352200031280518, -5.40880012512207, -5.4506001472473145, -4.725500106811523, -4.8597002029418945, -5.042200088500977, -5.253399848937988, -5.309100151062012, -5.347700119018555, -5.450399875640869, -5.59089994430542, -5.655200004577637, -5.70989990234375, -5.716100215911865, -5.72629976272583, -5.763700008392334, -5.817999839782715, -5.834499835968018, -5.860000133514404, -5.872799873352051, -5.8744001388549805, -5.8983001708984375, -6.035099983215332, -6.082799911499023, -6.100399971008301, -6.102099895477295, -6.127099990844727, -6.146399974822998, -6.14709997177124, -6.161200046539307, -6.171800136566162, -6.179699897766113, -6.207300186157227, -4.438600063323975, -4.031700134277344, -4.10699987411499, -5.493100166320801, -5.023499965667725, -4.4730000495910645, -5.313199996948242, -4.360000133514404, -5.062099933624268, -4.96619987487793, -4.856400012969971, -5.002699851989746, -4.576900005340576, -3.728300094604492, -5.085899829864502, -5.223700046539307, -4.928500175476074, -5.440899848937988, -5.216100215911865, -4.366499900817871, -5.092199802398682, -5.3368000984191895, -5.05210018157959, -4.7947998046875, -5.23330020904541, -5.122000217437744, -5.137400150299072, -5.23859977722168, -4.102799892425537, -4.723100185394287, -4.8993000984191895, -4.98390007019043, -5.011199951171875, -5.117000102996826, -5.264999866485596, -5.273600101470947, -5.311399936676025, -5.347400188446045, -5.511499881744385, -5.519800186157227, -5.544400215148926, -5.596399784088135, -5.610599994659424, -5.627600193023682, -5.6743998527526855, -5.677700042724609, -5.738699913024902, -5.74399995803833, -5.804100036621094, -5.825500011444092, -5.885499954223633, -5.88670015335083, -5.891900062561035, -5.906000137329102, -5.966899871826172, -5.996600151062012, -6.040800094604492, -6.0929999351501465, -4.645199775695801, -4.802000045776367, -5.022900104522705, -5.002200126647949, -5.2555999755859375, -2.626199960708618, -5.159999847412109, -5.1255998611450195, -4.411900043487549, -4.5518999099731445, -5.150199890136719, -4.940199851989746, -5.1666998863220215, -5.389500141143799, -4.750500202178955, -4.710000038146973, -4.418600082397461, -4.505300045013428, -5.335999965667725, -5.405600070953369]}, \"token.table\": {\"Topic\": [1, 4, 6, 8, 3, 2, 5, 4, 6, 7, 8, 9, 6, 2, 1, 5, 7, 9, 1, 5, 7, 7, 2, 4, 2, 10, 2, 4, 5, 6, 7, 8, 9, 10, 3, 9, 7, 9, 4, 7, 2, 7, 6, 8, 6, 8, 2, 5, 6, 8, 10, 1, 5, 10, 7, 2, 3, 8, 2, 6, 7, 2, 9, 8, 3, 1, 2, 3, 8, 9, 2, 3, 6, 7, 8, 2, 1, 5, 5, 1, 6, 7, 8, 9, 2, 9, 1, 8, 3, 9, 5, 2, 7, 10, 8, 2, 3, 1, 4, 3, 4, 9, 10, 9, 5, 10, 8, 1, 2, 3, 8, 10, 4, 6, 8, 10, 6, 2, 9, 6, 6, 5, 3, 1, 4, 1, 4, 5, 6, 7, 8, 9, 2, 3, 4, 5, 3, 1, 6, 1, 7, 3, 1, 5, 7, 4, 7, 4, 2, 5, 8, 4, 7, 1, 8, 2, 3, 6, 8, 9, 2, 4, 7, 10, 10, 2, 4, 9, 4, 1, 2, 3, 4, 7, 9, 9, 5, 6, 6, 8, 6, 9, 1, 3, 5, 4, 3, 1, 9, 3, 8, 2, 8, 9, 3, 4, 2, 4, 5, 7, 1, 3, 9, 5, 5, 3, 4, 5, 5, 5, 1, 2, 7, 3, 10, 4, 5, 5, 10, 3, 5, 7, 9, 3, 7, 9, 2, 3, 5, 3, 5, 6, 7, 1, 1, 3, 6, 7, 10, 2, 3, 1, 4, 9, 10, 1, 2, 3, 4, 5, 7, 9, 2, 1, 2, 3, 4, 6, 7, 8, 3, 10, 3, 4, 7, 8, 1, 3, 4, 5, 6, 9, 1, 5, 6, 8, 4, 5, 9, 2, 4, 8, 10, 1, 4, 7, 10, 9, 10, 1, 2, 3, 5, 7, 5, 5, 9, 1, 4, 7, 1, 2, 3, 4, 5, 6, 7, 8, 9, 10, 9, 1, 2, 10, 9, 3, 5, 7, 1, 3, 3, 5, 7, 8, 10, 3, 4, 8, 6, 2, 5, 7, 3, 3, 10, 4, 1, 2, 6, 1, 1, 2, 7, 1, 5, 8, 9, 4, 5, 3, 5, 6, 5, 8, 1, 5, 3, 4, 6, 8, 9, 1, 8, 1, 2, 3, 4, 6, 10, 10, 2, 3, 5, 10, 1, 4, 1, 5, 9, 1, 2, 3, 4, 6, 7, 1, 3, 4, 5, 6, 9, 3, 9, 9, 2, 9, 4, 9, 10, 7, 3, 1, 7, 1, 4, 8, 4, 3, 1, 8, 1, 2, 9, 7, 5, 6, 6, 3, 8, 6, 2, 9, 3, 1, 6, 8, 5, 6, 1, 2, 3, 4, 6, 7, 8, 10, 5, 7, 8, 7, 9, 6, 9, 1, 9, 1, 8, 9, 8, 1, 4, 7, 1, 2, 6, 7, 8, 10, 3, 8, 8, 1, 2, 3, 4, 5, 8, 9, 6, 10, 1, 2, 3, 6, 7, 8, 9, 1, 2, 3, 4, 5, 7, 8, 9, 10, 1, 4, 7, 2, 1, 1, 1, 3, 4, 5, 6, 10, 1, 3, 5, 6, 7, 8, 1, 2, 4, 5, 9, 4, 1, 8, 9, 10, 1, 3, 5, 8, 1, 2, 4, 5, 6, 7, 9, 10, 2, 4, 4, 1, 2, 3, 4, 5, 6, 7, 9, 10, 9, 1, 2, 3, 5, 6, 7, 8, 9, 10, 7, 3, 5, 9, 7, 5, 7, 5, 3, 7, 2, 4, 8, 6, 7, 1, 3, 4, 6, 9, 1, 3, 4, 5, 7, 7, 4, 2, 3, 10, 3, 4, 8, 6, 1, 7, 1, 2, 3, 9, 4, 3, 5, 6, 7, 8, 10, 2, 5, 8, 4, 5, 6, 5, 2, 3, 5, 5, 7, 3, 8, 9, 5, 6, 1, 2, 3, 4, 5, 6, 7, 8, 9, 1, 2, 4, 7, 8, 9, 4, 5, 9, 10, 1, 3, 6, 9, 6, 6, 7, 9, 3, 5, 10, 3, 8, 7, 9, 4, 10, 9, 7, 3, 8, 9, 4, 8, 7, 2, 5, 10, 9, 2, 4, 10, 1, 1, 4, 5, 6, 7, 10, 5, 6, 10, 9, 2, 6, 9, 6, 8, 10, 1, 2, 3, 1, 8, 3, 4, 9, 6, 4, 5, 4, 7, 9, 1, 5, 10, 4, 10, 6, 9, 5, 10, 4, 4, 8, 10, 10, 10, 8, 1, 2, 5, 7, 8, 9, 4, 3, 4, 5, 7, 9, 10, 1, 4, 6, 4, 8, 9, 2, 7, 9, 4, 4, 4, 7, 9, 8, 10, 3, 6, 2, 10, 5, 4, 1, 4, 6, 7, 8, 9, 7, 1, 3, 10, 2, 10, 10, 4, 7, 8, 2, 4, 7, 2, 1, 3, 5, 9, 2, 1, 8, 9, 7, 6, 4, 7, 8, 3, 1, 4, 7, 10, 2, 3, 4, 5, 8, 10, 4, 3, 4, 10, 10, 4, 9, 5, 4, 4, 3, 4, 10, 10, 2, 4, 6, 3, 4, 6, 8, 1, 2, 4, 5, 9, 10, 7, 4, 7, 10, 1, 1, 5, 8, 6, 7, 8, 10, 3, 2, 3, 3, 5, 1, 10, 5, 6, 6, 7, 8, 6, 1, 3, 4, 8, 1, 3, 2, 2, 4, 5, 6, 7, 9, 1, 2, 4, 5, 6, 7, 8, 1, 2, 3, 4, 5, 6, 7, 8, 9, 3, 9, 6, 1, 1, 2, 3, 4, 5, 6, 7, 8, 9, 10, 8, 6, 4, 5, 7, 9, 8, 4, 8, 7, 6, 1, 4, 1, 2, 4, 5, 6, 7, 8, 9, 3, 8, 3, 6, 7, 1, 3, 6, 7, 8, 10, 2, 4, 9, 2, 3, 8, 1, 2, 3, 4, 5, 6, 7, 8, 9, 10, 6, 1, 2, 3, 8, 10, 2, 3, 4, 8, 10, 3, 4, 5, 7, 8, 6, 8, 2, 4, 6, 10, 1, 2, 3, 4, 5, 6, 7, 9, 10, 1, 2, 3, 5, 6, 7, 9, 10, 4, 5, 10, 1, 4, 5, 6, 7, 8, 2, 5, 9, 2, 7, 9, 2, 4, 9, 3, 4, 5, 1, 2, 3, 4, 5, 7, 10, 7, 2, 4, 5, 9, 1, 1, 5, 6, 7, 9, 2, 4, 8, 8, 3, 3, 9, 2, 6, 1, 2, 3, 9, 1, 2, 7, 8, 9, 8, 4, 7, 10, 1, 1, 5, 6, 7, 9, 9, 10, 2], \"Freq\": [0.03883133456110954, 0.23298801481723785, 0.5630543828010559, 0.15532533824443817, 0.9063925743103027, 0.921196460723877, 0.9518880844116211, 0.18441146612167358, 0.5889269709587097, 0.04759005829691887, 0.03569254279136658, 0.1427701711654663, 0.9564131498336792, 0.9809258580207825, 0.27935707569122314, 0.05587141215801239, 0.5400903224945068, 0.11174282431602478, 0.18052510917186737, 0.18052510917186737, 0.6318379044532776, 0.9460296630859375, 0.9060794115066528, 0.07550661265850067, 0.9270530343055725, 0.934463620185852, 0.32318851351737976, 0.012927540577948093, 0.10342032462358475, 0.06463770568370819, 0.07756524533033371, 0.3813624680042267, 0.032318852841854095, 0.9849509596824646, 0.9759922027587891, 0.9602764248847961, 0.9467000365257263, 0.9478083848953247, 0.9715012311935425, 0.9765527844429016, 0.8515220880508423, 0.13774621486663818, 0.10291292518377304, 0.8747598528862, 0.9443538188934326, 0.9519242644309998, 0.3478897213935852, 0.21212787926197052, 0.09333626925945282, 0.03394046053290367, 0.30546414852142334, 0.9589244723320007, 0.1852555125951767, 0.7873359322547913, 0.9027175307273865, 0.7686959505081177, 0.212054044008255, 0.9397247433662415, 0.9002139568328857, 0.07827947288751602, 0.9807432293891907, 0.9795805215835571, 0.9865080118179321, 0.9391015768051147, 0.9386708736419678, 0.17580647766590118, 0.039068106561899185, 0.05860215798020363, 0.42974916100502014, 0.2734767496585846, 0.9785451292991638, 0.1626097857952118, 0.12776483595371246, 0.6039791703224182, 0.09291987866163254, 0.968575656414032, 0.9600967168807983, 0.9896582961082458, 0.9483369588851929, 0.3184283673763275, 0.5307139754295349, 0.14859990775585175, 0.8021806478500366, 0.19099539518356323, 0.9204120635986328, 0.07304857671260834, 0.9533585906028748, 0.9682881832122803, 0.7768735885620117, 0.21911819279193878, 0.9261338114738464, 0.9710230827331543, 0.12757621705532074, 0.8505081534385681, 0.9844129681587219, 0.05305583029985428, 0.9550049304962158, 0.12418054789304733, 0.8692638278007507, 0.19241230189800262, 0.04008589684963226, 0.7215461730957031, 0.04008589684963226, 0.954835832118988, 0.9140920042991638, 0.9777034521102905, 0.9422568082809448, 0.01655523106455803, 0.1655523180961609, 0.5297673940658569, 0.1158866211771965, 0.1655523180961609, 0.08505813777446747, 0.893110454082489, 0.9516634345054626, 0.9738515615463257, 0.9725082516670227, 0.9401682615280151, 0.9762091636657715, 0.9902647137641907, 0.9749206304550171, 0.9490270614624023, 0.9890488386154175, 0.9661399126052856, 0.9584155082702637, 0.4237017333507538, 0.15776129066944122, 0.09465677291154861, 0.1442388892173767, 0.054089583456516266, 0.07211944460868835, 0.054089583456516266, 0.06616241484880447, 0.6781647801399231, 0.14335189759731293, 0.11027069389820099, 0.9764758944511414, 0.9363113641738892, 0.9482392072677612, 0.9953699111938477, 0.9579185247421265, 0.9233099818229675, 0.292764276266098, 0.6831166744232178, 0.9032022953033447, 0.9777348041534424, 0.9585851430892944, 0.9667469263076782, 0.18756301701068878, 0.6966626644134521, 0.10717886686325073, 0.9535769820213318, 0.9339160919189453, 0.996466338634491, 0.969700038433075, 0.6555142402648926, 0.08740190416574478, 0.006242992822080851, 0.1872897893190384, 0.06242993101477623, 0.9568212032318115, 0.75460284948349, 0.23356755077838898, 0.9315663576126099, 0.9826036691665649, 0.9769197702407837, 0.901138186454773, 0.08720692247152328, 0.9681430459022522, 0.4004797339439392, 0.4004797339439392, 0.1251499205827713, 0.004171663895249367, 0.004171663895249367, 0.06257496029138565, 0.9265933632850647, 0.9328927993774414, 0.958121120929718, 0.9488980770111084, 0.9762246608734131, 0.7283402681350708, 0.261103093624115, 0.4595426619052887, 0.060466136783361435, 0.4716358780860901, 0.9301923513412476, 0.9446712732315063, 0.8881163597106934, 0.10092231631278992, 0.15386314690113068, 0.8284938335418701, 0.9491233229637146, 0.9779720306396484, 0.973657488822937, 0.8326042294502258, 0.15138258039951324, 0.8583221435546875, 0.03814765065908432, 0.01907382532954216, 0.07629530131816864, 0.9836715459823608, 0.32808804512023926, 0.6561760902404785, 0.9889650940895081, 0.9369298815727234, 0.23043416440486908, 0.0822979137301445, 0.674842894077301, 0.9424766302108765, 0.9537426829338074, 0.8348451256752014, 0.012277134694159031, 0.13504847884178162, 0.9339373111724854, 0.03459027037024498, 0.026159843429923058, 0.9679142236709595, 0.961258053779602, 0.9547243118286133, 0.16482050716876984, 0.09418314695358276, 0.6592820286750793, 0.07063736021518707, 0.8125171065330505, 0.17105624079704285, 0.9310367703437805, 0.17482151091098785, 0.18938995897769928, 0.6264437437057495, 0.07880102843046188, 0.682942271232605, 0.07880102843046188, 0.15760205686092377, 0.9834163188934326, 0.1471785306930542, 0.2838442921638489, 0.08410201221704483, 0.2943570613861084, 0.18922953307628632, 0.14681707322597504, 0.8482764363288879, 0.926732063293457, 0.056165579706430435, 0.8778756260871887, 0.11705008894205093, 0.4351806640625, 0.26260900497436523, 0.018757786601781845, 0.07878270745277405, 0.09003737568855286, 0.09378893673419952, 0.022509343922138214, 0.9635438323020935, 0.4116280674934387, 0.1792573779821396, 0.04647413641214371, 0.152700737118721, 0.13278324902057648, 0.07303078472614288, 0.964087724685669, 0.8256608247756958, 0.16110454499721527, 0.9707661867141724, 0.9539098739624023, 0.3242775797843933, 0.6485551595687866, 0.21092724800109863, 0.44666945934295654, 0.0682411640882492, 0.0682411640882492, 0.16129730641841888, 0.03722245618700981, 0.1995813101530075, 0.44193002581596375, 0.1710696965456009, 0.1710696965456009, 0.07281558960676193, 0.9101948738098145, 0.9657551050186157, 0.04693198949098587, 0.11732997000217438, 0.7743778228759766, 0.04693198949098587, 0.14623062312602997, 0.029246123507618904, 0.8188914656639099, 0.9379854798316956, 0.933436930179596, 0.9745022654533386, 0.05259500816464424, 0.010519001632928848, 0.7468491196632385, 0.057854510843753815, 0.12622801959514618, 0.9276127219200134, 0.9300042986869812, 0.9480195641517639, 0.17228195071220398, 0.7517758011817932, 0.0626479834318161, 0.25041520595550537, 0.013911956921219826, 0.11999062448740005, 0.05912581458687782, 0.06086480990052223, 0.022606929764151573, 0.28519511222839355, 0.057386819273233414, 0.052169837057590485, 0.07999374717473984, 0.9665689468383789, 0.10225224494934082, 0.887980043888092, 0.0053816973231732845, 0.9864377975463867, 0.27466341853141785, 0.14648716151714325, 0.585948646068573, 0.7942390441894531, 0.17649756371974945, 0.5367745757102966, 0.04514926299452782, 0.09029852598905563, 0.13544778525829315, 0.18561363220214844, 0.6681714057922363, 0.1484825313091278, 0.16704285144805908, 0.981602132320404, 0.7033583521842957, 0.2250746786594391, 0.06330225616693497, 0.9717452526092529, 0.19985336065292358, 0.7708629369735718, 0.946767270565033, 0.9332070350646973, 0.03835097700357437, 0.012783658690750599, 0.9753879308700562, 0.1660464107990265, 0.820168673992157, 0.010063419118523598, 0.32478633522987366, 0.32478633522987366, 0.13919414579868317, 0.20879121124744415, 0.11385267972946167, 0.8728705644607544, 0.09151589870452881, 0.7550061941146851, 0.1372738480567932, 0.476181298494339, 0.4952285587787628, 0.9753048419952393, 0.9623321890830994, 0.41687455773353577, 0.19153696298599243, 0.12393568456172943, 0.2028038501739502, 0.067601278424263, 0.7873063683509827, 0.19682659208774567, 0.34715738892555237, 0.12729103863239288, 0.06943147629499435, 0.33558547496795654, 0.092575304210186, 0.0231438260525465, 0.9208118915557861, 0.6272266507148743, 0.3200135827064514, 0.012800543569028378, 0.025601087138056755, 0.9724799990653992, 0.9104000926017761, 0.7429273128509521, 0.25145232677459717, 0.9698505997657776, 0.5245059728622437, 0.28938260674476624, 0.06330244243144989, 0.10851848125457764, 0.01808641292154789, 0.9902270436286926, 0.26496151089668274, 0.2167866826057434, 0.12043704837560654, 0.0361311137676239, 0.024087408557534218, 0.3251800239086151, 0.9666736721992493, 0.9320189356803894, 0.9208171367645264, 0.9372469186782837, 0.9072923064231873, 0.331772118806839, 0.09479203075170517, 0.5687521696090698, 0.9570199847221375, 0.9709771275520325, 0.921501636505127, 0.06009793281555176, 0.9834622144699097, 0.9746480584144592, 0.9744666218757629, 0.9634740352630615, 0.9856597781181335, 0.9587804675102234, 0.9881002902984619, 0.9826151728630066, 0.9315353631973267, 0.9547401070594788, 0.9433995485305786, 0.21171526610851288, 0.7654321193695068, 0.975364625453949, 0.7320445775985718, 0.2562156021595001, 0.9515318870544434, 0.9467978477478027, 0.9692474603652954, 0.982764720916748, 0.3370691239833832, 0.2128857672214508, 0.4435120224952698, 0.9825231432914734, 0.9597644209861755, 0.10048646479845047, 0.09313379973173141, 0.5048832297325134, 0.18381671607494354, 0.039214231073856354, 0.002450889442116022, 0.07352668046951294, 0.002450889442116022, 0.7280665636062622, 0.2510574162006378, 0.9410814642906189, 0.8459218144416809, 0.11535297334194183, 0.1597987860441208, 0.8389436602592468, 0.8961320519447327, 0.103399857878685, 0.20244044065475464, 0.09278520196676254, 0.7001065015792847, 0.9510006904602051, 0.3129652142524719, 0.6259304285049438, 0.03912065178155899, 0.22857911884784698, 0.10159071534872055, 0.3809652030467987, 0.1777837574481964, 0.03809651732444763, 0.06349419802427292, 0.983801007270813, 0.935379147529602, 0.9877333641052246, 0.12614299356937408, 0.09460724890232086, 0.2417740672826767, 0.13665491342544556, 0.05255958065390587, 0.3258694112300873, 0.021023832261562347, 0.9771281480789185, 0.994214653968811, 0.31944942474365234, 0.10473752021789551, 0.09426376968622208, 0.0680793896317482, 0.32468631863594055, 0.06284251064062119, 0.026184380054473877, 0.09694789350032806, 0.15327000617980957, 0.1458835005760193, 0.11910741031169891, 0.32592958211898804, 0.11541415750980377, 0.004616566468030214, 0.038779158145189285, 0.9407016634941101, 0.08606597781181335, 0.7172164916992188, 0.1721319556236267, 0.9864130616188049, 0.9683862328529358, 0.9925159215927124, 0.25298526883125305, 0.022998660802841187, 0.14565818011760712, 0.05366354063153267, 0.13032573461532593, 0.383311003446579, 0.03778407350182533, 0.2040340006351471, 0.15113629400730133, 0.052897702902555466, 0.24181807041168213, 0.3173862099647522, 0.22687529027462006, 0.06806258857250214, 0.4083755314350128, 0.052937570959329605, 0.23443780839443207, 0.9867686033248901, 0.8420065641403198, 0.08653032034635544, 0.04326516017317772, 0.026624713093042374, 0.6304544806480408, 0.16812118887901306, 0.0630454495549202, 0.13659846782684326, 0.05422037094831467, 0.455451101064682, 0.06289562582969666, 0.2602577805519104, 0.01951933279633522, 0.11494718492031097, 0.02602577768266201, 0.0065064444206655025, 0.7366362810134888, 0.24554543197155, 0.94884192943573, 0.2251986414194107, 0.0952763482928276, 0.008661486208438873, 0.0952763482928276, 0.23386012017726898, 0.164568230509758, 0.043307431042194366, 0.03464594483375549, 0.0952763482928276, 0.9739969372749329, 0.04490362107753754, 0.3135235011577606, 0.15395526587963104, 0.004009251948446035, 0.02806476317346096, 0.039290666580200195, 0.12348495423793793, 0.051318421959877014, 0.24055510759353638, 0.9559348225593567, 0.9128579497337341, 0.9802299737930298, 0.9752405285835266, 0.9263730645179749, 0.17687247693538666, 0.8169823884963989, 0.9175418019294739, 0.971831738948822, 0.9650471806526184, 0.9185939431190491, 0.0628824308514595, 0.9117952585220337, 0.08964575827121735, 0.851634681224823, 0.1161094680428505, 0.24673262238502502, 0.10159578174352646, 0.3628420829772949, 0.159650519490242, 0.21104779839515686, 0.15074841678142548, 0.06783679127693176, 0.5426943302154541, 0.030149685218930244, 0.9627179503440857, 0.971691370010376, 0.9607433080673218, 0.2876969575881958, 0.6904727220535278, 0.21549533307552338, 0.6464859843254089, 0.0923551395535469, 0.9836493730545044, 0.9692254066467285, 0.9771276712417603, 0.25333788990974426, 0.05277872830629349, 0.5594545006752014, 0.12666894495487213, 0.9697943329811096, 0.20174676179885864, 0.13157397508621216, 0.18420356512069702, 0.061401188373565674, 0.02631479501724243, 0.38595032691955566, 0.1474272757768631, 0.08845636248588562, 0.707650899887085, 0.04598623886704445, 0.7817660570144653, 0.15328745543956757, 0.9587346315383911, 0.03817722573876381, 0.171797513961792, 0.7826331257820129, 0.8613241910934448, 0.1076655238866806, 0.19877178966999054, 0.25840333104133606, 0.5366838574409485, 0.9776187539100647, 0.9607102870941162, 0.04606008902192116, 0.22192588448524475, 0.15911667048931122, 0.17167851328849792, 0.008374561555683613, 0.15492939949035645, 0.050247371196746826, 0.054434653371572495, 0.1339929848909378, 0.4784238934516907, 0.2764227092266083, 0.05847403407096863, 0.042526569217443466, 0.015947462990880013, 0.12226388603448868, 0.04382580891251564, 0.20817258954048157, 0.6354742050170898, 0.10956452041864395, 0.19396384060382843, 0.7112007141113281, 0.10775768756866455, 0.9750403761863708, 0.9752726554870605, 0.7360198497772217, 0.2240060418844223, 0.032000862061977386, 0.3091796040534973, 0.1803547590970993, 0.4895343482494354, 0.14781244099140167, 0.8376038074493408, 0.9771199226379395, 0.9087660312652588, 0.9518248438835144, 0.9238758087158203, 0.8881874680519104, 0.9904173016548157, 0.04254462197422981, 0.8934370875358582, 0.05956247076392174, 0.9648835062980652, 0.9371511936187744, 0.9616402387619019, 0.8054028749465942, 0.16108056902885437, 0.9524061679840088, 0.9630128741264343, 0.2852350175380707, 0.631591796875, 0.06112178787589073, 0.9619300365447998, 0.2564402222633362, 0.1334894448518753, 0.2388758361339569, 0.2810303866863251, 0.07025759667158127, 0.017564399167895317, 0.11197464913129807, 0.7390326857566833, 0.13436958193778992, 0.9302222728729248, 0.7408245205879211, 0.1567128747701645, 0.09972637891769409, 0.07196679711341858, 0.21590039134025574, 0.6836845278739929, 0.9483410716056824, 0.05458422750234604, 0.9279318451881409, 0.9789553880691528, 0.9861777424812317, 0.9058864116668701, 0.8444050550460815, 0.12509705126285553, 0.9449894428253174, 0.9454796314239502, 0.9722774028778076, 0.3174227178096771, 0.5788296461105347, 0.07468769699335098, 0.97266685962677, 0.9333779811859131, 0.9752257466316223, 0.24166490137577057, 0.7595182657241821, 0.4102022349834442, 0.5811198353767395, 0.9630216956138611, 0.9778810739517212, 0.9115426540374756, 0.04316622018814087, 0.9064905643463135, 0.9591155052185059, 0.9192231297492981, 0.9634484648704529, 0.9774069786071777, 0.14976368844509125, 0.06912170350551605, 0.10368255525827408, 0.18432454764842987, 0.3571287989616394, 0.12672312557697296, 0.9625970721244812, 0.08412406593561172, 0.09614179283380508, 0.07210633903741837, 0.4807089567184448, 0.07210633903741837, 0.1802658587694168, 0.12814991176128387, 0.5638596415519714, 0.2819298207759857, 0.899911105632782, 0.052935946732759476, 0.9471465945243835, 0.16323786973953247, 0.31015196442604065, 0.5060374140739441, 0.9242038726806641, 0.9520151019096375, 0.37163880467414856, 0.2262149304151535, 0.3877970278263092, 0.38920044898986816, 0.5838006734848022, 0.955415666103363, 0.9599912166595459, 0.9546306133270264, 0.9101953506469727, 0.9382267594337463, 0.9564689993858337, 0.06222381815314293, 0.138275146484375, 0.2074127346277237, 0.20049896836280823, 0.02765503153204918, 0.35951539874076843, 0.9045110940933228, 0.9473990201950073, 0.927444338798523, 0.898304283618927, 0.5170133113861084, 0.4700121283531189, 0.9445584416389465, 0.7201447486877441, 0.2335604578256607, 0.03892674297094345, 0.988431453704834, 0.9755494594573975, 0.9503793716430664, 0.9657233357429504, 0.7270710468292236, 0.19388560950756073, 0.06462854146957397, 0.9690805673599243, 0.9492852091789246, 0.277488648891449, 0.10405823588371277, 0.6070063710212708, 0.9757501482963562, 0.9459191560745239, 0.9696043133735657, 0.9481331706047058, 0.9631471633911133, 0.9669017195701599, 0.20686686038970947, 0.6206005811691284, 0.16925470530986786, 0.9268478751182556, 0.9785056114196777, 0.8068777322769165, 0.1551688015460968, 0.9870060682296753, 0.9583421945571899, 0.8998358249664307, 0.9476852416992188, 0.9773886203765869, 0.24248723685741425, 0.7544047236442566, 0.940847635269165, 0.21299830079078674, 0.760708212852478, 0.9675805568695068, 0.9248138070106506, 0.9368889331817627, 0.9075789451599121, 0.08127573132514954, 0.9687713384628296, 0.9394249320030212, 0.17717638611793518, 0.8150113821029663, 0.9804527163505554, 0.9737558960914612, 0.0749625489115715, 0.8995506167411804, 0.9571735858917236, 0.4360162913799286, 0.13465209305286407, 0.09618006646633148, 0.10900407284498215, 0.17312411963939667, 0.05129603296518326, 0.9642930626869202, 0.13390614092350006, 0.7766556143760681, 0.08034367859363556, 0.9492439031600952, 0.9416463971138, 0.6778554916381836, 0.29825642704963684, 0.9559383988380432, 0.9221585392951965, 0.9346567392349243, 0.9764644503593445, 0.8973325490951538, 0.9248974323272705, 0.92948317527771, 0.9927840232849121, 0.9425808787345886, 0.9512786269187927, 0.8859232664108276, 0.05311524122953415, 0.9029591083526611, 0.9677760004997253, 0.9769125580787659, 0.9810202717781067, 0.9481737017631531, 0.23319131135940552, 0.2591014504432678, 0.47501933574676514, 0.0259101465344429, 0.9609306454658508, 0.9688223600387573, 0.9393942952156067, 0.9261730909347534, 0.703323245048523, 0.03125881031155586, 0.18130111694335938, 0.04063645750284195, 0.043762337416410446, 0.3223686218261719, 0.014821546152234077, 0.05928618460893631, 0.14821545779705048, 0.15933161973953247, 0.10004543513059616, 0.1963854879140854, 0.19844543933868408, 0.17537038028240204, 0.12460527569055557, 0.13845030963420868, 0.14075781404972076, 0.09460770338773727, 0.02538255602121353, 0.05307261645793915, 0.04845760762691498, 0.22721770405769348, 0.7498184442520142, 0.9585766196250916, 0.9663841724395752, 0.41473156213760376, 0.1111961379647255, 0.09917493909597397, 0.09316433221101761, 0.08114313334226608, 0.06912192702293396, 0.04507951810956001, 0.027047710493206978, 0.04207421466708183, 0.021037107333540916, 0.9542799592018127, 0.92936772108078, 0.9905747175216675, 0.9419030547142029, 0.8366877436637878, 0.14343218505382538, 0.9737809300422668, 0.28483065962791443, 0.7120766639709473, 0.902636706829071, 0.9877316355705261, 0.9309807419776917, 0.06104791909456253, 0.2067677229642868, 0.32103410363197327, 0.05985381454229355, 0.021765023469924927, 0.08161883801221848, 0.1523551642894745, 0.03264753520488739, 0.1197076290845871, 0.800387442111969, 0.17305675148963928, 0.9702355265617371, 0.9842220544815063, 0.9923783540725708, 0.36994683742523193, 0.4988677203655243, 0.03363153338432312, 0.06726306676864624, 0.02242102101445198, 0.005605255253612995, 0.9612470269203186, 0.8709295392036438, 0.10049187391996384, 0.7786708474159241, 0.15026982128620148, 0.05464356765151024, 0.18700413405895233, 0.19122226536273956, 0.12795019149780273, 0.06327207386493683, 0.021090691909193993, 0.04358742758631706, 0.0646781176328659, 0.06186603009700775, 0.1715376228094101, 0.07030230760574341, 0.9651085734367371, 0.10723606497049332, 0.6473881006240845, 0.13503800332546234, 0.07149071246385574, 0.039717063307762146, 0.9797773361206055, 0.2992735207080841, 0.15961255133152008, 0.13966098427772522, 0.3990313708782196, 0.2142971158027649, 0.20001064240932465, 0.38573479652404785, 0.02142971195280552, 0.17143769562244415, 0.9646502733230591, 0.978654682636261, 0.06064901873469353, 0.5458411574363708, 0.10108169913291931, 0.2830287516117096, 0.18926392495632172, 0.08927544206380844, 0.30710750818252563, 0.0035710176452994347, 0.17140884697437286, 0.10355950891971588, 0.042852211743593216, 0.0749913677573204, 0.014284070581197739, 0.25453829765319824, 0.18560084700584412, 0.08484610170125961, 0.10340619087219238, 0.201509490609169, 0.08219466358423233, 0.07954322546720505, 0.010605762712657452, 0.20437544584274292, 0.7007157802581787, 0.08758947253227234, 0.43405911326408386, 0.08367404341697693, 0.22487398982048035, 0.09413329511880875, 0.07844441384077072, 0.08367404341697693, 0.27605748176574707, 0.16563449800014496, 0.5383120775222778, 0.039026856422424316, 0.9366445541381836, 0.9602956175804138, 0.3822924792766571, 0.07167983800172806, 0.5256521701812744, 0.9548893570899963, 0.03182964771986008, 0.9777815937995911, 0.06128281354904175, 0.4657493829727173, 0.0980525016784668, 0.1225656270980835, 0.0735393762588501, 0.0980525016784668, 0.0490262508392334, 0.9401059150695801, 0.04986986517906189, 0.31584247946739197, 0.5319452285766602, 0.09973973035812378, 0.9777287840843201, 0.36067435145378113, 0.18841198086738586, 0.2853095531463623, 0.11843038350343704, 0.04844879359006882, 0.6012857556343079, 0.3092326819896698, 0.06871837377548218, 0.980093777179718, 0.9875092506408691, 0.9565157294273376, 0.9112247824668884, 0.950631856918335, 0.9390578269958496, 0.1547454297542572, 0.07282137870788574, 0.18205344676971436, 0.5916736721992493, 0.5776999592781067, 0.10539120435714722, 0.19907228648662567, 0.007806756068021059, 0.10539120435714722, 0.9658423066139221, 0.1575622856616974, 0.8357651829719543, 0.9741153717041016, 0.9817209839820862, 0.19275027513504028, 0.10096443444490433, 0.21110744774341583, 0.15603594481945038, 0.3396076261997223, 0.3579579293727875, 0.63921058177948, 0.9872922897338867], \"Term\": [\"absolutely\", \"absolutely\", \"absolutely\", \"absolutely\", \"accent\", \"accept\", \"act\", \"actually\", \"actually\", \"actually\", \"actually\", \"actually\", \"add\", \"adorable\", \"ago\", \"ago\", \"ago\", \"ago\", \"agree\", \"agree\", \"agree\", \"alex\", \"alfie\", \"alfie\", \"alisha\", \"alive\", \"amazing\", \"amazing\", \"amazing\", \"amazing\", \"amazing\", \"amazing\", \"amazing\", \"andrew\", \"andy\", \"anxiety\", \"app\", \"artist\", \"australia\", \"awesome\", \"baby\", \"baby\", \"ball\", \"ball\", \"basic\", \"bear\", \"beautiful\", \"beautiful\", \"beautiful\", \"beautiful\", \"beautiful\", \"beauty\", \"ben\", \"ben\", \"bet\", \"better\", \"better\", \"bhai\", \"birthday\", \"birthday\", \"bit\", \"black\", \"blue\", \"boat\", \"bobby\", \"book\", \"book\", \"book\", \"book\", \"book\", \"box\", \"boy\", \"boy\", \"boy\", \"boy\", \"boyfriend\", \"bread\", \"brent\", \"bright\", \"bring\", \"bring\", \"bring\", \"bro\", \"bro\", \"brother\", \"brother\", \"bruh\", \"bryce\", \"btw\", \"btw\", \"burn\", \"cake\", \"camera\", \"camera\", \"cat\", \"chair\", \"chair\", \"challenge\", \"challenge\", \"channel\", \"channel\", \"channel\", \"channel\", \"cheer\", \"chef\", \"chicken\", \"choose\", \"christmas\", \"christmas\", \"christmas\", \"christmas\", \"christmas\", \"city\", \"city\", \"click\", \"cloe\", \"close\", \"closet\", \"clothe\", \"cody\", \"coffee\", \"cold\", \"colleen\", \"college\", \"com\", \"come\", \"come\", \"come\", \"come\", \"come\", \"come\", \"come\", \"comment\", \"comment\", \"comment\", \"comment\", \"complain\", \"congrat\", \"consider\", \"content\", \"continue\", \"cookie\", \"cool\", \"cool\", \"count\", \"cousin\", \"cove\", \"crack\", \"crazy\", \"crazy\", \"crazy\", \"creation\", \"crush\", \"cry\", \"curious\", \"cute\", \"cute\", \"cute\", \"cute\", \"cute\", \"cuz\", \"dad\", \"dad\", \"daisy\", \"damn\", \"dan\", \"danny\", \"danny\", \"dark\", \"day\", \"day\", \"day\", \"day\", \"day\", \"day\", \"dead\", \"death\", \"decide\", \"deserve\", \"design\", \"die\", \"die\", \"different\", \"different\", \"different\", \"difficult\", \"dimpu\", \"doctor\", \"doctor\", \"dog\", \"dog\", \"dollar\", \"door\", \"drama\", \"draw\", \"draw\", \"dress\", \"dress\", \"dress\", \"dress\", \"drive\", \"dude\", \"dude\", \"early\", \"easily\", \"edit\", \"edit\", \"edit\", \"editing\", \"employee\", \"end\", \"end\", \"end\", \"energy\", \"energy\", \"etc\", \"etc\", \"eva\", \"exact\", \"exactly\", \"exactly\", \"exactly\", \"exactly\", \"excited\", \"excited\", \"expensive\", \"eye\", \"eye\", \"eye\", \"fact\", \"fact\", \"fact\", \"fact\", \"fall\", \"family\", \"family\", \"family\", \"family\", \"family\", \"fan\", \"fan\", \"far\", \"far\", \"favorite\", \"favorite\", \"feel\", \"feel\", \"feel\", \"feel\", \"feel\", \"feel\", \"feel\", \"figure\", \"find\", \"find\", \"find\", \"find\", \"find\", \"find\", \"finger\", \"flynn\", \"flynn\", \"foot\", \"forever\", \"free\", \"free\", \"friend\", \"friend\", \"friend\", \"friend\", \"friend\", \"friend\", \"fun\", \"fun\", \"fun\", \"fun\", \"future\", \"future\", \"gabi\", \"game\", \"game\", \"game\", \"game\", \"gay\", \"gay\", \"gay\", \"general\", \"ghost\", \"gift\", \"girl\", \"girl\", \"girl\", \"girl\", \"girl\", \"girlfriend\", \"giveaway\", \"goal\", \"god\", \"god\", \"god\", \"good\", \"good\", \"good\", \"good\", \"good\", \"good\", \"good\", \"good\", \"good\", \"good\", \"grade\", \"great\", \"great\", \"great\", \"green\", \"grow\", \"grow\", \"grow\", \"guess\", \"guess\", \"guy\", \"guy\", \"guy\", \"guy\", \"guy\", \"haha\", \"haha\", \"haha\", \"hahaha\", \"hair\", \"hair\", \"hair\", \"halloween\", \"hand\", \"hand\", \"handle\", \"happen\", \"happen\", \"happen\", \"happiness\", \"happy\", \"happy\", \"happy\", \"hard\", \"hard\", \"hard\", \"hard\", \"hat\", \"hat\", \"hate\", \"hate\", \"hate\", \"head\", \"head\", \"health\", \"healthy\", \"hear\", \"hear\", \"hear\", \"hear\", \"hear\", \"heart\", \"heart\", \"help\", \"help\", \"help\", \"help\", \"help\", \"help\", \"helpful\", \"hey\", \"hey\", \"hey\", \"hey\", \"hilarious\", \"holy\", \"home\", \"home\", \"honest\", \"hope\", \"hope\", \"hope\", \"hope\", \"hope\", \"horse\", \"house\", \"house\", \"house\", \"house\", \"house\", \"house\", \"humble\", \"hyram\", \"ice\", \"ice_cream\", \"iconic\", \"idea\", \"idea\", \"idea\", \"ikr\", \"ill\", \"imagine\", \"imagine\", \"important\", \"incredible\", \"india\", \"information\", \"inspiration\", \"instagram\", \"intro\", \"jack\", \"jacket\", \"jeff\", \"jenn\", \"jenna\", \"jenna\", \"joan\", \"joey\", \"joey\", \"julien\", \"justine\", \"karina\", \"kenzie\", \"kid\", \"kid\", \"kid\", \"kinda\", \"kiss\", \"know\", \"know\", \"know\", \"know\", \"know\", \"know\", \"know\", \"know\", \"kurtis\", \"kurtis\", \"kylie\", \"lady\", \"lady\", \"late\", \"late\", \"later\", \"later\", \"laugh\", \"laugh\", \"laugh\", \"lauren\", \"learn\", \"learn\", \"learn\", \"leave\", \"leave\", \"leave\", \"leave\", \"leave\", \"leave\", \"leg\", \"legend\", \"legit\", \"let\", \"let\", \"let\", \"let\", \"let\", \"let\", \"let\", \"level\", \"lexi\", \"life\", \"life\", \"life\", \"life\", \"life\", \"life\", \"life\", \"like\", \"like\", \"like\", \"like\", \"like\", \"like\", \"like\", \"like\", \"lilly\", \"line\", \"line\", \"line\", \"lip\", \"lipstick\", \"listen\", \"literally\", \"literally\", \"literally\", \"literally\", \"literally\", \"literally\", \"little\", \"little\", \"little\", \"little\", \"little\", \"little\", \"live\", \"live\", \"live\", \"live\", \"live\", \"lmao\", \"lol\", \"lol\", \"lol\", \"lol\", \"long\", \"long\", \"long\", \"long\", \"look\", \"look\", \"look\", \"look\", \"look\", \"look\", \"look\", \"look\", \"lose\", \"lose\", \"lose_weight\", \"lot\", \"lot\", \"lot\", \"lot\", \"lot\", \"lot\", \"lot\", \"lot\", \"lot\", \"loud\", \"love\", \"love\", \"love\", \"love\", \"love\", \"love\", \"love\", \"love\", \"love\", \"luck\", \"lucky\", \"mad\", \"makeup\", \"mall\", \"man\", \"man\", \"manage\", \"marble\", \"maria\", \"marie\", \"mark\", \"mark\", \"matter\", \"matter\", \"maybe\", \"maybe\", \"maybe\", \"maybe\", \"maybe\", \"mean\", \"mean\", \"mean\", \"mean\", \"mean\", \"medium\", \"mention\", \"merry_christmas\", \"mia\", \"mia\", \"middle\", \"middle\", \"middle\", \"milk\", \"million\", \"min\", \"miss\", \"miss\", \"miss\", \"miss\", \"mlm\", \"mom\", \"mom\", \"mom\", \"mom\", \"mom\", \"mom\", \"moment\", \"moment\", \"moment\", \"money\", \"money\", \"money\", \"mother\", \"movie\", \"movie\", \"movie\", \"mum\", \"mum\", \"music\", \"music\", \"music\", \"nah\", \"near\", \"need\", \"need\", \"need\", \"need\", \"need\", \"need\", \"need\", \"need\", \"need\", \"new\", \"new\", \"new\", \"new\", \"new\", \"new\", \"nice\", \"nice\", \"nice\", \"nice\", \"night\", \"night\", \"night\", \"niki\", \"noel\", \"normal\", \"normal\", \"normal\", \"notice\", \"notice\", \"notice\", \"notification\", \"notification\", \"number\", \"nyc\", \"obsess\", \"obviously\", \"oil\", \"old\", \"omg\", \"omg\", \"omg\", \"online\", \"oof\", \"opinion\", \"outfit\", \"outfit\", \"outside\", \"paint\", \"parent\", \"parent\", \"parent\", \"party\", \"people\", \"people\", \"people\", \"people\", \"people\", \"people\", \"perfect\", \"perfect\", \"perfect\", \"period\", \"phil\", \"phil\", \"phil\", \"phone\", \"phone\", \"phone\", \"piece\", \"pizza\", \"pizza\", \"place\", \"play\", \"plz\", \"podcast\", \"podcast\", \"poor\", \"positive\", \"possible\", \"post\", \"post\", \"post\", \"power\", \"ppl\", \"prank\", \"pregnant\", \"pregnant\", \"probably\", \"probably\", \"problem\", \"product\", \"pumpkin\", \"puppy\", \"puppy\", \"queen\", \"rachel\", \"raise\", \"react\", \"read\", \"read\", \"read\", \"read\", \"read\", \"read\", \"ready\", \"real\", \"real\", \"real\", \"real\", \"real\", \"real\", \"reason\", \"reason\", \"reason\", \"recently\", \"recently\", \"recommend\", \"red\", \"red\", \"red\", \"reference\", \"relatable\", \"remember\", \"remember\", \"remember\", \"remind\", \"remind\", \"reply\", \"respect\", \"review\", \"rewind\", \"rid\", \"ride\", \"right\", \"right\", \"right\", \"right\", \"right\", \"right\", \"rise\", \"rock\", \"roll\", \"romee\", \"room\", \"room\", \"roomie\", \"sad\", \"sad\", \"sad\", \"saf\", \"safe\", \"safiya\", \"save\", \"school\", \"school\", \"school\", \"scream\", \"screen\", \"second\", \"second\", \"second\", \"sell\", \"sense\", \"sensitive\", \"shade\", \"shadow\", \"shake\", \"share\", \"share\", \"share\", \"ship\", \"shirt\", \"shit\", \"shit\", \"shoe\", \"shoot\", \"shot\", \"sign\", \"sing\", \"sister\", \"sister\", \"size\", \"sleep\", \"sleep\", \"slime\", \"snow\", \"social\", \"song\", \"song\", \"soo\", \"soooo\", \"speak\", \"speak\", \"special\", \"spell\", \"spend\", \"spend\", \"sponsor\", \"start\", \"start\", \"start\", \"start\", \"start\", \"start\", \"storm\", \"story\", \"story\", \"story\", \"student\", \"study\", \"style\", \"style\", \"subscriber\", \"success\", \"successful\", \"suck\", \"sugar\", \"suit\", \"surprised\", \"sweet\", \"system\", \"taste\", \"tbh\", \"tea\", \"tea\", \"teach\", \"teal\", \"team\", \"tear\", \"tell\", \"tell\", \"tell\", \"tell\", \"term\", \"terrible\", \"tess\", \"test\", \"thank\", \"thank\", \"thank\", \"thank\", \"thank\", \"thing\", \"thing\", \"thing\", \"thing\", \"thing\", \"thing\", \"thing\", \"think\", \"think\", \"think\", \"think\", \"think\", \"think\", \"think\", \"think\", \"think\", \"tho\", \"tho\", \"thought\", \"thumbnail\", \"time\", \"time\", \"time\", \"time\", \"time\", \"time\", \"time\", \"time\", \"time\", \"time\", \"tiny\", \"tip\", \"title\", \"tooth\", \"totally\", \"totally\", \"tour\", \"tree\", \"tree\", \"trend\", \"trip\", \"true\", \"true\", \"try\", \"try\", \"try\", \"try\", \"try\", \"try\", \"try\", \"try\", \"turn\", \"turn\", \"twice\", \"tyler\", \"understand\", \"use\", \"use\", \"use\", \"use\", \"use\", \"use\", \"vegan\", \"vibe\", \"vibe\", \"vid\", \"vid\", \"vid\", \"video\", \"video\", \"video\", \"video\", \"video\", \"video\", \"video\", \"video\", \"video\", \"video\", \"visit\", \"vlog\", \"vlog\", \"vlog\", \"vlog\", \"vlog\", \"vlogma\", \"voice\", \"voice\", \"voice\", \"voice\", \"wait\", \"wait\", \"wait\", \"wait\", \"wait\", \"wake\", \"walk\", \"wanna\", \"wanna\", \"wanna\", \"wanna\", \"want\", \"want\", \"want\", \"want\", \"want\", \"want\", \"want\", \"want\", \"want\", \"watch\", \"watch\", \"watch\", \"watch\", \"watch\", \"watch\", \"watch\", \"watch\", \"water\", \"water\", \"water\", \"way\", \"way\", \"way\", \"way\", \"way\", \"way\", \"wear\", \"wear\", \"wear\", \"wedding\", \"wedding\", \"weight\", \"white\", \"white\", \"white\", \"win\", \"win\", \"winter\", \"wish\", \"wish\", \"wish\", \"wish\", \"wish\", \"wish\", \"wish\", \"wolfie\", \"woman\", \"woman\", \"woman\", \"woman\", \"word\", \"work\", \"work\", \"work\", \"work\", \"work\", \"world\", \"world\", \"world\", \"wow\", \"wtf\", \"xxx\", \"yass\", \"yay\", \"yea\", \"yeah\", \"yeah\", \"yeah\", \"yeah\", \"year\", \"year\", \"year\", \"year\", \"year\", \"yellow\", \"yes\", \"yes\", \"yesterday\", \"young\", \"youtube\", \"youtube\", \"youtube\", \"youtube\", \"youtube\", \"youtuber\", \"youtuber\", \"zoe\"]}, \"R\": 30, \"lambda.step\": 0.01, \"plot.opts\": {\"xlab\": \"PC1\", \"ylab\": \"PC2\"}, \"topic.order\": [2, 3, 5, 4, 6, 7, 9, 8, 10, 1]};\n",
       "\n",
       "function LDAvis_load_lib(url, callback){\n",
       "  var s = document.createElement('script');\n",
       "  s.src = url;\n",
       "  s.async = true;\n",
       "  s.onreadystatechange = s.onload = callback;\n",
       "  s.onerror = function(){console.warn(\"failed to load library \" + url);};\n",
       "  document.getElementsByTagName(\"head\")[0].appendChild(s);\n",
       "}\n",
       "\n",
       "if(typeof(LDAvis) !== \"undefined\"){\n",
       "   // already loaded: just create the visualization\n",
       "   !function(LDAvis){\n",
       "       new LDAvis(\"#\" + \"ldavis_el725628745276219601758605323\", ldavis_el725628745276219601758605323_data);\n",
       "   }(LDAvis);\n",
       "}else if(typeof define === \"function\" && define.amd){\n",
       "   // require.js is available: use it to load d3/LDAvis\n",
       "   require.config({paths: {d3: \"https://cdnjs.cloudflare.com/ajax/libs/d3/3.5.5/d3.min\"}});\n",
       "   require([\"d3\"], function(d3){\n",
       "      window.d3 = d3;\n",
       "      LDAvis_load_lib(\"https://cdn.rawgit.com/bmabey/pyLDAvis/files/ldavis.v1.0.0.js\", function(){\n",
       "        new LDAvis(\"#\" + \"ldavis_el725628745276219601758605323\", ldavis_el725628745276219601758605323_data);\n",
       "      });\n",
       "    });\n",
       "}else{\n",
       "    // require.js not available: dynamically load d3 & LDAvis\n",
       "    LDAvis_load_lib(\"https://cdnjs.cloudflare.com/ajax/libs/d3/3.5.5/d3.min.js\", function(){\n",
       "         LDAvis_load_lib(\"https://cdn.rawgit.com/bmabey/pyLDAvis/files/ldavis.v1.0.0.js\", function(){\n",
       "                 new LDAvis(\"#\" + \"ldavis_el725628745276219601758605323\", ldavis_el725628745276219601758605323_data);\n",
       "            })\n",
       "         });\n",
       "}\n",
       "</script>"
      ],
      "text/plain": [
       "PreparedData(topic_coordinates=              x         y  topics  cluster       Freq\n",
       "topic                                                \n",
       "1     -0.120210 -0.055648       1        1  15.413772\n",
       "2      0.040542 -0.186748       2        1  12.100415\n",
       "4      0.061167 -0.099548       3        1  11.363021\n",
       "3     -0.106947  0.060629       4        1  10.440310\n",
       "5     -0.128796 -0.061666       5        1  10.281646\n",
       "6     -0.081936  0.217386       6        1   9.295513\n",
       "8     -0.064607 -0.015501       7        1   8.610855\n",
       "7      0.167263  0.090534       8        1   8.323017\n",
       "9      0.024343  0.018377       9        1   7.785273\n",
       "0      0.209182  0.032184      10        1   6.386177, topic_info=    Category         Freq    Term        Total  loglift  logprob\n",
       "17   Default  1247.000000    love  1247.000000  30.0000  30.0000\n",
       "517  Default   235.000000     omg   235.000000  29.0000  29.0000\n",
       "2    Default  1083.000000    like  1083.000000  28.0000  28.0000\n",
       "51   Default   319.000000   thank   319.000000  27.0000  27.0000\n",
       "660  Default   300.000000     lol   300.000000  26.0000  26.0000\n",
       "..       ...          ...     ...          ...      ...      ...\n",
       "105  Topic10    37.352970     guy   199.338806   1.0764  -4.7100\n",
       "13   Topic10    49.988552   video   711.214233   0.0959  -4.4186\n",
       "54   Topic10    45.835022    good   575.044922   0.2216  -4.5053\n",
       "274  Topic10    19.973648   voice    50.121372   1.8310  -5.3360\n",
       "385  Topic10    18.630713  notice    38.812393   2.0171  -5.4056\n",
       "\n",
       "[623 rows x 6 columns], token_table=      Topic      Freq        Term\n",
       "term                             \n",
       "1226      1  0.038831  absolutely\n",
       "1226      4  0.232988  absolutely\n",
       "1226      6  0.563054  absolutely\n",
       "1226      8  0.155325  absolutely\n",
       "1448      3  0.906393      accent\n",
       "...     ...       ...         ...\n",
       "419       7  0.156036     youtube\n",
       "419       9  0.339608     youtube\n",
       "444       9  0.357958    youtuber\n",
       "444      10  0.639211    youtuber\n",
       "261       2  0.987292         zoe\n",
       "\n",
       "[1041 rows x 3 columns], R=30, lambda_step=0.01, plot_opts={'xlab': 'PC1', 'ylab': 'PC2'}, topic_order=[2, 3, 5, 4, 6, 7, 9, 8, 10, 1])"
      ]
     },
     "execution_count": 29,
     "metadata": {},
     "output_type": "execute_result"
    }
   ],
   "source": [
    "# Visualize the topics\n",
    "pyLDAvis.enable_notebook()\n",
    "vis = pyLDAvis.gensim.prepare(lda_model, corpus, words)\n",
    "vis"
   ]
  },
  {
   "cell_type": "code",
   "execution_count": 30,
   "metadata": {},
   "outputs": [],
   "source": [
    "## Find the number of topics that maximises coherence, minimises perplexity\n",
    "\n",
    "def topics_and_coherence(corpus,data_texts,word_dict,max_topics):\n",
    "    num_topics = [i for i in range(1,max_topics+1)]\n",
    "    coh_scores = []\n",
    "    for num in num_topics:\n",
    "        \n",
    "        lda_model = gensim.models.ldamodel.LdaModel(corpus=corpus,\n",
    "                                           id2word=word_dict,\n",
    "                                           num_topics=num, \n",
    "                                           random_state=2,\n",
    "                                           update_every=1,\n",
    "                                           passes=10,\n",
    "                                           alpha='auto',\n",
    "                                           per_word_topics=True)\n",
    "        \n",
    "        coherence_model_lda = CoherenceModel(model=lda_model, texts=data_texts, dictionary=word_dict, coherence='c_v')\n",
    "        coh_scores.append(coherence_model_lda.get_coherence())\n",
    "        \n",
    "    return num_topics,coh_scores\n",
    "\n",
    "\n",
    "num_topics,coh_scores = topics_and_coherence(corpus,doc_list,words,20)"
   ]
  },
  {
   "cell_type": "code",
   "execution_count": 31,
   "metadata": {},
   "outputs": [],
   "source": [
    "import matplotlib.pyplot as plt"
   ]
  },
  {
   "cell_type": "code",
   "execution_count": 32,
   "metadata": {},
   "outputs": [
    {
     "data": {
      "text/plain": [
       "[1, 2, 3, 4, 5, 6, 7, 8, 9, 10, 11, 12, 13, 14, 15, 16, 17, 18, 19, 20]"
      ]
     },
     "execution_count": 32,
     "metadata": {},
     "output_type": "execute_result"
    }
   ],
   "source": [
    "num_topics"
   ]
  },
  {
   "cell_type": "code",
   "execution_count": 33,
   "metadata": {},
   "outputs": [],
   "source": [
    "maxpos = coh_scores.index(max(coh_scores))  "
   ]
  },
  {
   "cell_type": "code",
   "execution_count": 34,
   "metadata": {},
   "outputs": [
    {
     "data": {
      "text/plain": [
       "18"
      ]
     },
     "execution_count": 34,
     "metadata": {},
     "output_type": "execute_result"
    }
   ],
   "source": [
    "maxpos"
   ]
  },
  {
   "cell_type": "code",
   "execution_count": 35,
   "metadata": {},
   "outputs": [
    {
     "data": {
      "text/plain": [
       "0.4318218145629274"
      ]
     },
     "execution_count": 35,
     "metadata": {},
     "output_type": "execute_result"
    }
   ],
   "source": [
    "coh_scores[maxpos]"
   ]
  },
  {
   "cell_type": "code",
   "execution_count": 36,
   "metadata": {},
   "outputs": [
    {
     "data": {
      "text/plain": [
       "0.4318218145629274"
      ]
     },
     "execution_count": 36,
     "metadata": {},
     "output_type": "execute_result"
    }
   ],
   "source": [
    "max(coh_scores)"
   ]
  },
  {
   "cell_type": "code",
   "execution_count": 41,
   "metadata": {},
   "outputs": [
    {
     "data": {
      "text/plain": [
       "[<matplotlib.lines.Line2D at 0x29d488ea2c8>]"
      ]
     },
     "execution_count": 41,
     "metadata": {},
     "output_type": "execute_result"
    },
    {
     "data": {
      "image/png": "[encoded data removed]",
      "text/plain": [
       "<Figure size 1440x576 with 1 Axes>"
      ]
     },
     "metadata": {
      "needs_background": "light"
     },
     "output_type": "display_data"
    }
   ],
   "source": [
    "plt.figure(figsize=(20,8))\n",
    "plt.plot(num_topics,coh_scores,'o--')"
   ]
  },
  {
   "cell_type": "markdown",
   "metadata": {},
   "source": [
    "#### Based on the above, we can see that number of topics seems to peak at 3 and 4 for the early number of topics, and 19 further down.\n",
    "\n",
    "Maybe we can try 3, 6, 15 and 18 and see how we go:"
   ]
  },
  {
   "cell_type": "code",
   "execution_count": 38,
   "metadata": {},
   "outputs": [],
   "source": [
    "lda_model_3_topics = gensim.models.ldamodel.LdaModel(corpus=corpus,\n",
    "                                           id2word=words,\n",
    "                                           num_topics=3, \n",
    "                                           random_state=2,\n",
    "                                           update_every=1,\n",
    "                                           passes=10,\n",
    "                                           alpha='auto',\n",
    "                                           per_word_topics=True)\n",
    "\n",
    "lda_model_4_topics = gensim.models.ldamodel.LdaModel(corpus=corpus,\n",
    "                                           id2word=words,\n",
    "                                           num_topics=4, \n",
    "                                           random_state=2,\n",
    "                                           update_every=1,\n",
    "                                           passes=10,\n",
    "                                           alpha='auto',\n",
    "                                           per_word_topics=True)\n",
    "\n",
    "lda_model_14_topics = gensim.models.ldamodel.LdaModel(corpus=corpus,\n",
    "                                           id2word=words,\n",
    "                                           num_topics=14, \n",
    "                                           random_state=2,\n",
    "                                           update_every=1,\n",
    "                                           passes=10,\n",
    "                                           alpha='auto',\n",
    "                                           per_word_topics=True)\n",
    "\n",
    "lda_model_18_topics = gensim.models.ldamodel.LdaModel(corpus=corpus,\n",
    "                                           id2word=words,\n",
    "                                           num_topics=19, \n",
    "                                           random_state=2,\n",
    "                                           update_every=1,\n",
    "                                           passes=10,\n",
    "                                           alpha='auto',\n",
    "                                           per_word_topics=True)"
   ]
  },
  {
   "cell_type": "code",
   "execution_count": 39,
   "metadata": {},
   "outputs": [
    {
     "data": {
      "text/html": [
       "\n",
       "<link rel=\"stylesheet\" type=\"text/css\" href=\"https://cdn.rawgit.com/bmabey/pyLDAvis/files/ldavis.v1.0.0.css\">\n",
       "\n",
       "\n",
       "<div id=\"ldavis_el725628745278407126875661318\"></div>\n",
       "<script type=\"text/javascript\">\n",
       "\n",
       "var ldavis_el725628745278407126875661318_data = {\"mdsDat\": {\"x\": [0.20940914401889496, -0.005784542896422689, -0.2036246011224722], \"y\": [0.09415441143513996, -0.196567618940968, 0.10241320750582805], \"topics\": [1, 2, 3], \"cluster\": [1, 1, 1], \"Freq\": [59.198768615722656, 27.75161361694336, 13.0496244430542]}, \"tinfo\": {\"Category\": [\"Default\", \"Default\", \"Default\", \"Default\", \"Default\", \"Default\", \"Default\", \"Default\", \"Default\", \"Default\", \"Default\", \"Default\", \"Default\", \"Default\", \"Default\", \"Default\", \"Default\", \"Default\", \"Default\", \"Default\", \"Default\", \"Default\", \"Default\", \"Default\", \"Default\", \"Default\", \"Default\", \"Default\", \"Default\", \"Default\", \"Topic1\", \"Topic1\", \"Topic1\", \"Topic1\", \"Topic1\", \"Topic1\", \"Topic1\", \"Topic1\", \"Topic1\", \"Topic1\", \"Topic1\", \"Topic1\", \"Topic1\", \"Topic1\", \"Topic1\", \"Topic1\", \"Topic1\", \"Topic1\", \"Topic1\", \"Topic1\", \"Topic1\", \"Topic1\", \"Topic1\", \"Topic1\", \"Topic1\", \"Topic1\", \"Topic1\", \"Topic1\", \"Topic1\", \"Topic1\", \"Topic1\", \"Topic1\", \"Topic1\", \"Topic1\", \"Topic1\", \"Topic1\", \"Topic1\", \"Topic1\", \"Topic1\", \"Topic1\", \"Topic1\", \"Topic1\", \"Topic1\", \"Topic1\", \"Topic1\", \"Topic1\", \"Topic1\", \"Topic1\", \"Topic1\", \"Topic1\", \"Topic1\", \"Topic1\", \"Topic1\", \"Topic2\", \"Topic2\", \"Topic2\", \"Topic2\", \"Topic2\", \"Topic2\", \"Topic2\", \"Topic2\", \"Topic2\", \"Topic2\", \"Topic2\", \"Topic2\", \"Topic2\", \"Topic2\", \"Topic2\", \"Topic2\", \"Topic2\", \"Topic2\", \"Topic2\", \"Topic2\", \"Topic2\", \"Topic2\", \"Topic2\", \"Topic2\", \"Topic2\", \"Topic2\", \"Topic2\", \"Topic2\", \"Topic2\", \"Topic2\", \"Topic2\", \"Topic2\", \"Topic2\", \"Topic2\", \"Topic2\", \"Topic2\", \"Topic2\", \"Topic2\", \"Topic2\", \"Topic2\", \"Topic2\", \"Topic2\", \"Topic2\", \"Topic2\", \"Topic2\", \"Topic2\", \"Topic2\", \"Topic2\", \"Topic2\", \"Topic2\", \"Topic2\", \"Topic2\", \"Topic2\", \"Topic2\", \"Topic3\", \"Topic3\", \"Topic3\", \"Topic3\", \"Topic3\", \"Topic3\", \"Topic3\", \"Topic3\", \"Topic3\", \"Topic3\", \"Topic3\", \"Topic3\", \"Topic3\", \"Topic3\", \"Topic3\", \"Topic3\", \"Topic3\", \"Topic3\", \"Topic3\", \"Topic3\", \"Topic3\", \"Topic3\", \"Topic3\", \"Topic3\", \"Topic3\", \"Topic3\", \"Topic3\", \"Topic3\", \"Topic3\", \"Topic3\", \"Topic3\", \"Topic3\", \"Topic3\", \"Topic3\", \"Topic3\", \"Topic3\", \"Topic3\", \"Topic3\", \"Topic3\", \"Topic3\", \"Topic3\", \"Topic3\"], \"Freq\": [1031.0, 1322.0, 741.0, 597.0, 388.0, 329.0, 259.0, 113.0, 251.0, 259.0, 243.0, 105.0, 88.0, 225.0, 81.0, 288.0, 200.0, 190.0, 429.0, 74.0, 190.0, 65.0, 55.0, 73.0, 69.0, 162.0, 67.0, 177.0, 60.0, 58.0, 259.1507568359375, 739.8060302734375, 328.6317138671875, 250.35365295410156, 161.55076599121094, 224.74505615234375, 133.45590209960938, 242.05426025390625, 133.15621948242188, 113.62068939208984, 258.6125793457031, 189.14305114746094, 100.07648468017578, 95.10315704345703, 123.9554672241211, 86.7305679321289, 87.55786895751953, 188.6904754638672, 110.13103485107422, 81.88593292236328, 68.0499038696289, 68.47765350341797, 64.61077117919922, 63.89925003051758, 64.17134857177734, 164.3404083251953, 67.20353698730469, 63.831886291503906, 384.6910095214844, 53.58100509643555, 1297.0791015625, 588.6990966796875, 150.5452117919922, 188.31576538085938, 103.46611022949219, 128.3832550048828, 277.056640625, 139.87139892578125, 314.4278869628906, 258.4681091308594, 148.1836395263672, 177.5242156982422, 184.38587951660156, 264.5084533691406, 162.18130493164062, 351.2079162597656, 215.6498565673828, 296.80633544921875, 172.37542724609375, 290.6151428222656, 189.17184448242188, 198.4188995361328, 309.3233947753906, 58.33592224121094, 65.02913665771484, 87.3334732055664, 51.093849182128906, 46.706260681152344, 48.032310485839844, 46.876338958740234, 43.846763610839844, 45.2124137878418, 41.923797607421875, 45.24994659423828, 37.2241096496582, 39.8396110534668, 36.51609802246094, 59.85049819946289, 34.44255447387695, 33.63374710083008, 80.46550750732422, 38.11015319824219, 33.792903900146484, 31.840612411499023, 33.342647552490234, 33.61787033081055, 46.09737014770508, 29.204484939575195, 29.04528045654297, 26.957569122314453, 28.15230369567871, 28.871976852416992, 26.317602157592773, 65.58975219726562, 55.38348388671875, 71.87651062011719, 65.8518295288086, 104.83717346191406, 68.04991912841797, 95.21478271484375, 721.5936889648438, 42.93029022216797, 60.4554443359375, 106.18408966064453, 91.66128540039062, 82.16532135009766, 138.37796020507812, 112.15066528320312, 110.03328704833984, 79.63169860839844, 52.56035614013672, 58.436737060546875, 56.3369255065918, 49.27357482910156, 50.416229248046875, 50.24481964111328, 48.18655776977539, 21.78306770324707, 22.639347076416016, 19.704288482666016, 17.154489517211914, 18.117658615112305, 19.495027542114258, 20.747364044189453, 16.893836975097656, 13.866790771484375, 19.995824813842773, 14.526229858398438, 14.749378204345703, 28.25638198852539, 13.221414566040039, 13.683738708496094, 12.669998168945312, 12.224897384643555, 11.797555923461914, 13.080977439880371, 12.968733787536621, 12.15615177154541, 12.011049270629883, 12.067962646484375, 10.552270889282227, 14.34009838104248, 10.161874771118164, 11.599204063415527, 10.687355041503906, 10.39939022064209, 12.093713760375977, 27.49437141418457, 15.193037033081055, 31.81340789794922, 27.139041900634766, 32.94624328613281, 14.722713470458984, 18.043306350708008, 13.025145530700684, 14.591780662536621, 13.936492919921875, 15.151714324951172, 12.723584175109863], \"Term\": [\"like\", \"love\", \"video\", \"good\", \"watch\", \"thank\", \"vlog\", \"man\", \"omg\", \"year\", \"day\", \"yeah\", \"sound\", \"come\", \"lmao\", \"people\", \"guy\", \"great\", \"think\", \"baby\", \"work\", \"phil\", \"money\", \"hey\", \"early\", \"amazing\", \"play\", \"comment\", \"colleen\", \"red\", \"vlog\", \"video\", \"thank\", \"omg\", \"amazing\", \"come\", \"mean\", \"day\", \"channel\", \"youtube\", \"year\", \"great\", \"family\", \"long\", \"beautiful\", \"pretty\", \"hard\", \"work\", \"hope\", \"different\", \"wow\", \"content\", \"remember\", \"true\", \"god\", \"friend\", \"wrong\", \"jenna\", \"watch\", \"share\", \"love\", \"good\", \"right\", \"way\", \"funny\", \"bad\", \"people\", \"wait\", \"time\", \"thing\", \"yes\", \"new\", \"life\", \"lol\", \"use\", \"look\", \"feel\", \"know\", \"girl\", \"think\", \"need\", \"want\", \"like\", \"red\", \"phil\", \"sound\", \"joey\", \"flynn\", \"tyler\", \"birthday\", \"green\", \"heart\", \"adorable\", \"light\", \"mike\", \"exactly\", \"draw\", \"colleen\", \"shirt\", \"cat\", \"lmao\", \"couple\", \"outfit\", \"gay\", \"favourite\", \"title\", \"wanna\", \"sing\", \"queen\", \"teal\", \"kill\", \"win\", \"kiss\", \"play\", \"joke\", \"baby\", \"early\", \"man\", \"hey\", \"yeah\", \"like\", \"okay\", \"wear\", \"guy\", \"comment\", \"cute\", \"think\", \"know\", \"look\", \"want\", \"dog\", \"live\", \"try\", \"little\", \"happy\", \"need\", \"feel\", \"tree\", \"phone\", \"gabi\", \"area\", \"poor\", \"group\", \"problem\", \"cloe\", \"hai\", \"tour\", \"tea\", \"alex\", \"hand\", \"bhai\", \"niki\", \"burn\", \"daisy\", \"giveaway\", \"yea\", \"soooo\", \"roll\", \"mood\", \"hank\", \"cyrus\", \"near\", \"disabled\", \"tooth\", \"employee\", \"apple\", \"alive\", \"etc\", \"drink\", \"dude\", \"skin\", \"money\", \"plant\", \"car\", \"hold\", \"totally\", \"support\", \"use\", \"city\"], \"Total\": [1031.0, 1322.0, 741.0, 597.0, 388.0, 329.0, 259.0, 113.0, 251.0, 259.0, 243.0, 105.0, 88.0, 225.0, 81.0, 288.0, 200.0, 190.0, 429.0, 74.0, 190.0, 65.0, 55.0, 73.0, 69.0, 162.0, 67.0, 177.0, 60.0, 58.0, 259.694091796875, 741.538330078125, 329.4810791015625, 251.0552520751953, 162.086669921875, 225.72193908691406, 134.04087829589844, 243.1470184326172, 133.7588348388672, 114.16717529296875, 259.8655090332031, 190.07501220703125, 100.62138366699219, 95.64988708496094, 124.74340057373047, 87.2952651977539, 88.16763305664062, 190.0321044921875, 110.94884490966797, 82.50724029541016, 68.5888442993164, 69.02227783203125, 65.14595031738281, 64.4373550415039, 64.72810363769531, 165.77671813964844, 67.79175567626953, 64.43309020996094, 388.45916748046875, 54.10807800292969, 1322.439697265625, 597.6333618164062, 152.865966796875, 193.07473754882812, 104.8888168334961, 131.02491760253906, 288.259033203125, 143.7145538330078, 335.94775390625, 275.344482421875, 153.61582946777344, 187.7488250732422, 195.98106384277344, 296.3490905761719, 177.6520233154297, 461.48406982421875, 264.0762634277344, 409.2681579589844, 195.23355102539062, 429.2842712402344, 242.57249450683594, 279.5814208984375, 1031.162353515625, 58.91538619995117, 65.68714904785156, 88.29266357421875, 51.669254302978516, 47.27695846557617, 48.637489318847656, 47.468692779541016, 44.424346923828125, 45.809837341308594, 42.50960159301758, 45.91493225097656, 37.802974700927734, 40.463768005371094, 37.09484100341797, 60.82292938232422, 35.02704620361328, 34.21570587158203, 81.89555358886719, 38.79807662963867, 34.403900146484375, 32.43689727783203, 33.99287796020508, 34.2736701965332, 47.006736755371094, 29.78789710998535, 29.626583099365234, 27.509103775024414, 28.746000289916992, 29.491912841796875, 26.922306060791016, 67.20669555664062, 57.02743148803711, 74.43428802490234, 69.29216766357422, 113.783447265625, 73.29942321777344, 105.36406707763672, 1031.162353515625, 45.18046569824219, 69.66593933105469, 200.17881774902344, 177.49461364746094, 157.5511932373047, 429.2842712402344, 409.2681579589844, 461.48406982421875, 279.5814208984375, 83.89810943603516, 128.9841766357422, 183.7294158935547, 133.53729248046875, 197.2604217529297, 242.57249450683594, 264.0762634277344, 22.489402770996094, 23.38944435119629, 20.380178451538086, 17.77959632873535, 18.78598403930664, 20.217010498046875, 21.53672981262207, 17.567140579223633, 14.459450721740723, 20.86849594116211, 15.181201934814453, 15.418557167053223, 29.555362701416016, 13.842220306396484, 14.327520370483398, 13.312518119812012, 12.872281074523926, 12.437727928161621, 13.793301582336426, 13.685209274291992, 12.85725212097168, 12.708325386047363, 12.770966529846191, 11.167967796325684, 15.180416107177734, 10.77041244506836, 12.294333457946777, 11.33166217803955, 11.03069019317627, 12.853262901306152, 29.637290954589844, 16.209138870239258, 40.7796630859375, 34.78705596923828, 55.688690185546875, 18.612110137939453, 48.3099365234375, 17.216217041015625, 39.87677764892578, 38.868751525878906, 177.6520233154297, 20.71483039855957], \"loglift\": [30.0, 29.0, 28.0, 27.0, 26.0, 25.0, 24.0, 23.0, 22.0, 21.0, 20.0, 19.0, 18.0, 17.0, 16.0, 15.0, 14.0, 13.0, 12.0, 11.0, 10.0, 9.0, 8.0, 7.0, 6.0, 5.0, 4.0, 3.0, 2.0, 1.0, 0.5221999883651733, 0.5218999981880188, 0.5217000246047974, 0.5214999914169312, 0.5210000276565552, 0.5199000239372253, 0.5199000239372253, 0.5198000073432922, 0.5198000073432922, 0.5195000171661377, 0.5194000005722046, 0.5194000005722046, 0.5188000202178955, 0.5184999704360962, 0.5178999900817871, 0.517799973487854, 0.517300009727478, 0.5171999931335449, 0.5169000029563904, 0.516700029373169, 0.5163999795913696, 0.5163000226020813, 0.515999972820282, 0.5159000158309937, 0.5156000256538391, 0.5156000256538391, 0.5156000256538391, 0.5149000287055969, 0.5145000219345093, 0.5145000219345093, 0.5048999786376953, 0.5091999769210815, 0.5090000033378601, 0.4993000030517578, 0.5105999708175659, 0.5038999915122986, 0.4846000075340271, 0.49720001220703125, 0.45809999108314514, 0.460999995470047, 0.48829999566078186, 0.4683000147342682, 0.4632999897003174, 0.4106000065803528, 0.43320000171661377, 0.25119999051094055, 0.32170000672340393, 0.2029999941587448, 0.39969998598098755, 0.13420000672340393, 0.27559998631477356, 0.18140000104904175, -0.6797999739646912, 1.2719999551773071, 1.2718000411987305, 1.2710000276565552, 1.2706999778747559, 1.269700050354004, 1.2694000005722046, 1.2692999839782715, 1.2688000202178955, 1.2687000036239624, 1.2680000066757202, 1.267300009727478, 1.2663999795913696, 1.2662999629974365, 1.2661999464035034, 1.2657999992370605, 1.2649999856948853, 1.2647000551223755, 1.264299988746643, 1.2640000581741333, 1.2640000581741333, 1.2632999420166016, 1.2625999450683594, 1.2625999450683594, 1.2623000144958496, 1.2620999813079834, 1.2620999813079834, 1.2616000175476074, 1.2610000371932983, 1.260599970817566, 1.2591999769210815, 1.2575000524520874, 1.2525999546051025, 1.246899962425232, 1.2309999465942383, 1.2000000476837158, 1.2075999975204468, 1.1806000471115112, 0.9248999953269958, 1.2308000326156616, 1.1401000022888184, 0.6478000283241272, 0.6209999918937683, 0.6309000253677368, 0.14970000088214874, -0.01269999984651804, -0.1518000066280365, 0.026000000536441803, 0.8141999840736389, 0.4900999963283539, 0.0997999981045723, 0.2849000096321106, -0.08229999989271164, -0.29249998927116394, -0.41929998993873596, 2.004499912261963, 2.0037999153137207, 2.002700090408325, 2.0006000995635986, 2.000200033187866, 2.0, 1.9990999698638916, 1.9973000288009644, 1.9946000576019287, 1.9937000274658203, 1.992300033569336, 1.9919999837875366, 1.9915000200271606, 1.9904999732971191, 1.990399956703186, 1.986899971961975, 1.9847999811172485, 1.9836000204086304, 1.9833999872207642, 1.9825999736785889, 1.980299949645996, 1.9800000190734863, 1.9797999858856201, 1.979699969291687, 1.9795000553131104, 1.9782999753952026, 1.9781999588012695, 1.9779000282287598, 1.9774999618530273, 1.9754999876022339, 1.961400032043457, 1.9716999530792236, 1.788100004196167, 1.788100004196167, 1.5115000009536743, 1.8020000457763672, 1.0514999628067017, 1.7574000358581543, 1.0311000347137451, 1.010699987411499, -0.4253000020980835, 1.5490000247955322], \"logprob\": [30.0, 29.0, 28.0, 27.0, 26.0, 25.0, 24.0, 23.0, 22.0, 21.0, 20.0, 19.0, 18.0, 17.0, 16.0, 15.0, 14.0, 13.0, 12.0, 11.0, 10.0, 9.0, 8.0, 7.0, 6.0, 5.0, 4.0, 3.0, 2.0, 1.0, -4.99970006942749, -3.950700044631958, -4.762199878692627, -5.034299850463867, -5.472300052642822, -5.142199993133545, -5.663400173187256, -5.067999839782715, -5.665599822998047, -5.8242998123168945, -5.001800060272217, -5.314599990844727, -5.951200008392334, -6.002200126647949, -5.737199783325195, -6.094299793243408, -6.084799766540527, -5.316999912261963, -5.855500221252441, -6.151800155639648, -6.336900234222412, -6.330599784851074, -6.388800144195557, -6.399799823760986, -6.395599842071533, -5.4552001953125, -6.349400043487549, -6.400899887084961, -4.604700088500977, -6.575900077819824, -3.3893001079559326, -4.179200172424316, -5.542900085449219, -5.318999767303467, -5.917900085449219, -5.702099800109863, -4.9328999519348145, -5.616399765014648, -4.806399822235107, -5.002399921417236, -5.558700084686279, -5.377999782562256, -5.340099811553955, -4.979300022125244, -5.468400001525879, -4.695799827575684, -5.183499813079834, -4.864099979400635, -5.40749979019165, -4.8850998878479, -5.314499855041504, -5.2667999267578125, -4.822700023651123, -5.73330020904541, -5.62470006942749, -5.329800128936768, -5.865900039672852, -5.955599784851074, -5.927700042724609, -5.952000141143799, -6.018799781799316, -5.9882001876831055, -6.063700199127197, -5.987299919128418, -6.182600021362305, -6.114699840545654, -6.2017998695373535, -5.707699775695801, -6.260200023651123, -6.283999919891357, -5.4116997718811035, -6.158999919891357, -6.279300212860107, -6.338799953460693, -6.292699813842773, -6.2845001220703125, -5.968800067901611, -6.42519998550415, -6.430699825286865, -6.505300045013428, -6.461900234222412, -6.436699867248535, -6.529300212860107, -5.616099834442139, -5.785200119018555, -5.524600028991699, -5.612100124359131, -5.14709997177124, -5.5792999267578125, -5.2434000968933105, -3.218100070953369, -6.039899826049805, -5.6975998878479, -5.134399890899658, -5.281400203704834, -5.3907999992370605, -4.869500160217285, -5.079699993133545, -5.098700046539307, -5.422100067138672, -5.837600231170654, -5.731599807739258, -5.768199920654297, -5.902100086212158, -5.879199981689453, -5.882599830627441, -5.9243998527526855, -5.963900089263916, -5.925300121307373, -6.064199924468994, -6.202700138092041, -6.148099899291992, -6.07480001449585, -6.012599945068359, -6.2179999351501465, -6.415500164031982, -6.049499988555908, -6.36899995803833, -6.353799819946289, -5.703700065612793, -6.463200092315674, -6.428800106048584, -6.505799770355225, -6.541500091552734, -6.577099800109863, -6.473800182342529, -6.482500076293945, -6.5472002029418945, -6.559199810028076, -6.5543999671936035, -6.688700199127197, -6.381899833679199, -6.72629976272583, -6.594099998474121, -6.675899982452393, -6.703199863433838, -6.552299976348877, -5.730999946594238, -6.32420015335083, -5.585100173950195, -5.74399995803833, -5.550099849700928, -6.355599880218506, -6.152200222015381, -6.478099822998047, -6.364500045776367, -6.4105000495910645, -6.326900005340576, -6.501500129699707]}, \"token.table\": {\"Topic\": [2, 3, 3, 1, 3, 3, 1, 2, 3, 1, 2, 1, 2, 3, 2, 3, 1, 2, 3, 2, 1, 1, 3, 3, 1, 2, 1, 2, 1, 2, 1, 2, 1, 2, 3, 3, 1, 2, 1, 3, 1, 2, 3, 2, 2, 3, 2, 3, 1, 2, 3, 1, 3, 2, 1, 2, 1, 2, 2, 1, 3, 1, 2, 3, 2, 1, 2, 3, 1, 1, 2, 3, 1, 2, 2, 3, 1, 2, 3, 2, 3, 3, 1, 2, 1, 2, 1, 2, 1, 2, 3, 1, 2, 1, 2, 1, 2, 2, 2, 1, 2, 1, 2, 2, 1, 2, 1, 2, 1, 2, 1, 2, 1, 2, 1, 1, 2, 1, 2, 1, 2, 1, 2, 1, 3, 3, 1, 3, 1, 2, 3, 1, 2, 3, 3, 1, 2, 1, 2, 1, 2, 3, 2, 3, 2, 3, 2, 3, 3, 1, 3, 2, 2, 1, 1, 2, 3, 1, 2, 2, 2, 3, 3, 1, 2, 2, 3, 3, 2, 1, 1, 2, 1, 2, 1, 2, 3, 2, 3, 1, 3, 1, 3, 3, 1, 1, 2, 2, 1, 3, 1, 2, 1, 1, 2, 1, 2, 1, 2, 3, 1, 2, 1, 2, 1, 2, 2, 1, 3, 1, 1, 3, 1, 2, 1, 2, 1, 2, 3, 1], \"Freq\": [0.9880120754241943, 0.9728536605834961, 0.9336150884628296, 0.99946528673172, 0.9065616130828857, 0.9561522006988525, 0.026869338005781174, 0.9672961235046387, 0.013434669002890587, 0.9769133925437927, 0.015264271758496761, 0.9940405488014221, 0.008016455918550491, 0.9391556978225708, 0.9901262521743774, 0.9765244722366333, 0.16559740900993347, 0.45539286732673645, 0.3725941479206085, 0.9936956763267517, 0.9943268299102783, 0.38619673252105713, 0.6275696754455566, 0.9677157998085022, 0.016441168263554573, 0.986470103263855, 0.9968016147613525, 0.004430229309946299, 0.484521746635437, 0.5183255672454834, 0.9851891398429871, 0.9794300198554993, 0.4760357439517975, 0.5204657316207886, 0.9849598407745361, 0.9322357177734375, 0.9952825903892517, 0.004112738184630871, 0.9938521981239319, 0.9284695386886597, 0.3575765788555145, 0.631718635559082, 0.011919219978153706, 0.9974432587623596, 0.06169359013438225, 0.925403892993927, 0.196176216006279, 0.784704864025116, 0.043294936418533325, 0.9524886012077332, 0.9707313776016235, 0.06748255342245102, 0.9110144376754761, 0.9885386824607849, 0.9938245415687561, 0.9707915782928467, 0.8179455399513245, 0.18176567554473877, 0.9941418170928955, 0.989282488822937, 0.006032210309058428, 0.9819921851158142, 0.009533904492855072, 0.9813456535339355, 0.9865308403968811, 0.8809961080551147, 0.11780761927366257, 0.9648064374923706, 0.9887513518333435, 0.9855540990829468, 0.013386133126914501, 0.0016732666408643126, 0.9943442940711975, 0.005261080805212259, 0.9904478788375854, 0.9398026466369629, 0.46958014369010925, 0.5295265316963196, 0.9682248830795288, 0.03383480757474899, 0.9473745822906494, 0.9396312832832336, 0.7452077865600586, 0.2534720301628113, 0.9980986714363098, 0.9823217391967773, 0.06821335852146149, 0.9277017116546631, 0.11616954207420349, 0.11616954207420349, 0.7551019787788391, 0.991447925567627, 0.009013162925839424, 0.993278443813324, 0.9870473146438599, 0.017535420134663582, 0.9644481539726257, 0.9740485548973083, 0.9657419323921204, 0.7256855964660645, 0.27365919947624207, 0.9388661980628967, 0.056127872318029404, 0.9800733327865601, 0.2996618449687958, 0.70018070936203, 0.6290377378463745, 0.3669387102127075, 0.5427021980285645, 0.4496675729751587, 0.01221067551523447, 0.9768540263175964, 0.8942156434059143, 0.10798075795173645, 0.9932055473327637, 0.7605896592140198, 0.2383614182472229, 0.9807630777359009, 0.01890445314347744, 0.07909762114286423, 0.9228056073188782, 0.9922346472740173, 0.9787589311599731, 0.39505329728126526, 0.5925799012184143, 0.9442628622055054, 0.06587434560060501, 0.9222408533096313, 0.779148519039154, 0.206123948097229, 0.012367436662316322, 0.9480751752853394, 0.005326265003532171, 0.04793638363480568, 0.977140486240387, 0.04426691681146622, 0.9517387747764587, 0.9957967400550842, 0.98826003074646, 0.9609412550926208, 0.0034691020846366882, 0.03816012293100357, 0.9895390868186951, 0.9833495616912842, 0.21491383016109467, 0.8059268593788147, 0.9820449948310852, 0.014879469759762287, 0.9581611752510071, 0.9966176152229309, 0.9750784039497375, 0.9788506627082825, 0.9844626784324646, 0.9977596402168274, 0.9877934455871582, 0.01308335643261671, 0.9333254098892212, 0.9980025291442871, 0.9706785082817078, 0.9735497832298279, 0.20122426748275757, 0.7761507630348206, 0.9499306678771973, 0.011325969360768795, 0.9853593111038208, 0.6431902050971985, 0.36018651723861694, 0.9880640506744385, 0.9814932346343994, 0.9985398650169373, 0.9370080828666687, 0.05810902640223503, 0.6778724789619446, 0.32146531343460083, 0.9346691370010376, 0.05953306704759598, 0.0029766533989459276, 0.9920151233673096, 0.9760594367980957, 0.6269313097000122, 0.37615877389907837, 0.04791912063956261, 0.9583824276924133, 0.9782385230064392, 0.9932126998901367, 0.6912338733673096, 0.304796040058136, 0.9868930578231812, 0.9118950366973877, 0.08443472534418106, 0.9979254603385925, 0.0013485479867085814, 0.9973272681236267, 0.9741532802581787, 0.02783294953405857, 0.021273545920848846, 0.9785831570625305, 0.7082015872001648, 0.2861420512199402, 0.00715355109423399, 0.9910951852798462, 0.010297092609107494, 0.9737161993980408, 0.02071736566722393, 0.1291879564523697, 0.861253023147583, 0.983320415019989, 0.9945687651634216, 0.005262268707156181, 0.9914148449897766, 0.9883207678794861, 0.9424864649772644, 0.09490901976823807, 0.9016356468200684, 0.9966694116592407, 0.003848144318908453, 0.9634423851966858, 0.026038983836770058, 0.006509745959192514, 0.998535692691803], \"Term\": [\"adorable\", \"alex\", \"alive\", \"amazing\", \"apple\", \"area\", \"baby\", \"baby\", \"baby\", \"bad\", \"bad\", \"beautiful\", \"beautiful\", \"bhai\", \"birthday\", \"burn\", \"car\", \"car\", \"car\", \"cat\", \"channel\", \"city\", \"city\", \"cloe\", \"colleen\", \"colleen\", \"come\", \"come\", \"comment\", \"comment\", \"content\", \"couple\", \"cute\", \"cute\", \"cyrus\", \"daisy\", \"day\", \"day\", \"different\", \"disabled\", \"dog\", \"dog\", \"dog\", \"draw\", \"drink\", \"drink\", \"dude\", \"dude\", \"early\", \"early\", \"employee\", \"etc\", \"etc\", \"exactly\", \"family\", \"favourite\", \"feel\", \"feel\", \"flynn\", \"friend\", \"friend\", \"funny\", \"funny\", \"gabi\", \"gay\", \"girl\", \"girl\", \"giveaway\", \"god\", \"good\", \"good\", \"good\", \"great\", \"great\", \"green\", \"group\", \"guy\", \"guy\", \"hai\", \"hand\", \"hand\", \"hank\", \"happy\", \"happy\", \"hard\", \"heart\", \"hey\", \"hey\", \"hold\", \"hold\", \"hold\", \"hope\", \"hope\", \"jenna\", \"joey\", \"joke\", \"joke\", \"kill\", \"kiss\", \"know\", \"know\", \"life\", \"life\", \"light\", \"like\", \"like\", \"little\", \"little\", \"live\", \"live\", \"lmao\", \"lmao\", \"lol\", \"lol\", \"long\", \"look\", \"look\", \"love\", \"love\", \"man\", \"man\", \"mean\", \"mike\", \"money\", \"money\", \"mood\", \"near\", \"near\", \"need\", \"need\", \"need\", \"new\", \"new\", \"new\", \"niki\", \"okay\", \"okay\", \"omg\", \"outfit\", \"people\", \"people\", \"people\", \"phil\", \"phone\", \"plant\", \"plant\", \"play\", \"play\", \"poor\", \"pretty\", \"problem\", \"queen\", \"red\", \"remember\", \"right\", \"right\", \"roll\", \"share\", \"shirt\", \"sing\", \"skin\", \"skin\", \"soooo\", \"sound\", \"sound\", \"support\", \"support\", \"tea\", \"teal\", \"thank\", \"thing\", \"thing\", \"think\", \"think\", \"time\", \"time\", \"time\", \"title\", \"tooth\", \"totally\", \"totally\", \"tour\", \"tour\", \"tree\", \"true\", \"try\", \"try\", \"tyler\", \"use\", \"use\", \"video\", \"video\", \"vlog\", \"wait\", \"wait\", \"wanna\", \"wanna\", \"want\", \"want\", \"want\", \"watch\", \"watch\", \"way\", \"way\", \"wear\", \"wear\", \"win\", \"work\", \"work\", \"wow\", \"wrong\", \"yea\", \"yeah\", \"yeah\", \"year\", \"year\", \"yes\", \"yes\", \"yes\", \"youtube\"]}, \"R\": 30, \"lambda.step\": 0.01, \"plot.opts\": {\"xlab\": \"PC1\", \"ylab\": \"PC2\"}, \"topic.order\": [2, 3, 1]};\n",
       "\n",
       "function LDAvis_load_lib(url, callback){\n",
       "  var s = document.createElement('script');\n",
       "  s.src = url;\n",
       "  s.async = true;\n",
       "  s.onreadystatechange = s.onload = callback;\n",
       "  s.onerror = function(){console.warn(\"failed to load library \" + url);};\n",
       "  document.getElementsByTagName(\"head\")[0].appendChild(s);\n",
       "}\n",
       "\n",
       "if(typeof(LDAvis) !== \"undefined\"){\n",
       "   // already loaded: just create the visualization\n",
       "   !function(LDAvis){\n",
       "       new LDAvis(\"#\" + \"ldavis_el725628745278407126875661318\", ldavis_el725628745278407126875661318_data);\n",
       "   }(LDAvis);\n",
       "}else if(typeof define === \"function\" && define.amd){\n",
       "   // require.js is available: use it to load d3/LDAvis\n",
       "   require.config({paths: {d3: \"https://cdnjs.cloudflare.com/ajax/libs/d3/3.5.5/d3.min\"}});\n",
       "   require([\"d3\"], function(d3){\n",
       "      window.d3 = d3;\n",
       "      LDAvis_load_lib(\"https://cdn.rawgit.com/bmabey/pyLDAvis/files/ldavis.v1.0.0.js\", function(){\n",
       "        new LDAvis(\"#\" + \"ldavis_el725628745278407126875661318\", ldavis_el725628745278407126875661318_data);\n",
       "      });\n",
       "    });\n",
       "}else{\n",
       "    // require.js not available: dynamically load d3 & LDAvis\n",
       "    LDAvis_load_lib(\"https://cdnjs.cloudflare.com/ajax/libs/d3/3.5.5/d3.min.js\", function(){\n",
       "         LDAvis_load_lib(\"https://cdn.rawgit.com/bmabey/pyLDAvis/files/ldavis.v1.0.0.js\", function(){\n",
       "                 new LDAvis(\"#\" + \"ldavis_el725628745278407126875661318\", ldavis_el725628745278407126875661318_data);\n",
       "            })\n",
       "         });\n",
       "}\n",
       "</script>"
      ],
      "text/plain": [
       "PreparedData(topic_coordinates=              x         y  topics  cluster       Freq\n",
       "topic                                                \n",
       "1      0.209409  0.094154       1        1  59.198769\n",
       "2     -0.005785 -0.196568       2        1  27.751614\n",
       "0     -0.203625  0.102413       3        1  13.049624, topic_info=     Category         Freq     Term        Total  loglift  logprob\n",
       "2     Default  1031.000000     like  1031.000000  30.0000  30.0000\n",
       "17    Default  1322.000000     love  1322.000000  29.0000  29.0000\n",
       "13    Default   741.000000    video   741.000000  28.0000  28.0000\n",
       "54    Default   597.000000     good   597.000000  27.0000  27.0000\n",
       "83    Default   388.000000    watch   388.000000  26.0000  26.0000\n",
       "...       ...          ...      ...          ...      ...      ...\n",
       "706    Topic3    13.025146     hold    17.216217   1.7574  -6.4781\n",
       "589    Topic3    14.591781  totally    39.876778   1.0311  -6.3645\n",
       "560    Topic3    13.936493  support    38.868752   1.0107  -6.4105\n",
       "477    Topic3    15.151714      use   177.652023  -0.4253  -6.3269\n",
       "1098   Topic3    12.723584     city    20.714830   1.5490  -6.5015\n",
       "\n",
       "[179 rows x 6 columns], token_table=      Topic      Freq      Term\n",
       "term                           \n",
       "234       2  0.988012  adorable\n",
       "3448      3  0.972854      alex\n",
       "897       3  0.933615     alive\n",
       "61        1  0.999465   amazing\n",
       "2909      3  0.906562     apple\n",
       "...     ...       ...       ...\n",
       "149       2  0.003848      year\n",
       "84        1  0.963442       yes\n",
       "84        2  0.026039       yes\n",
       "84        3  0.006510       yes\n",
       "419       1  0.998536   youtube\n",
       "\n",
       "[220 rows x 3 columns], R=30, lambda_step=0.01, plot_opts={'xlab': 'PC1', 'ylab': 'PC2'}, topic_order=[2, 3, 1])"
      ]
     },
     "execution_count": 39,
     "metadata": {},
     "output_type": "execute_result"
    }
   ],
   "source": [
    "# Visualize the topics\n",
    "pyLDAvis.enable_notebook()\n",
    "vis = pyLDAvis.gensim.prepare(lda_model_3_topics, corpus, words)\n",
    "vis"
   ]
  },
  {
   "cell_type": "code",
   "execution_count": 40,
   "metadata": {
    "scrolled": false
   },
   "outputs": [
    {
     "data": {
      "text/html": [
       "\n",
       "<link rel=\"stylesheet\" type=\"text/css\" href=\"https://cdn.rawgit.com/bmabey/pyLDAvis/files/ldavis.v1.0.0.css\">\n",
       "\n",
       "\n",
       "<div id=\"ldavis_el725628745235216086213283414\"></div>\n",
       "<script type=\"text/javascript\">\n",
       "\n",
       "var ldavis_el725628745235216086213283414_data = {\"mdsDat\": {\"x\": [0.20323932294364006, 0.023013229366449738, -0.005792161639698494, -0.2204603906703914], \"y\": [-0.07041073097373057, -0.057855467495052375, 0.20459146123849067, -0.07632526276970775], \"topics\": [1, 2, 3, 4], \"cluster\": [1, 1, 1, 1], \"Freq\": [49.42518615722656, 20.14187240600586, 16.411670684814453, 14.02126407623291]}, \"tinfo\": {\"Category\": [\"Default\", \"Default\", \"Default\", \"Default\", \"Default\", \"Default\", \"Default\", \"Default\", \"Default\", \"Default\", \"Default\", \"Default\", \"Default\", \"Default\", \"Default\", \"Default\", \"Default\", \"Default\", \"Default\", \"Default\", \"Default\", \"Default\", \"Default\", \"Default\", \"Default\", \"Default\", \"Default\", \"Default\", \"Default\", \"Default\", \"Topic1\", \"Topic1\", \"Topic1\", \"Topic1\", \"Topic1\", \"Topic1\", \"Topic1\", \"Topic1\", \"Topic1\", \"Topic1\", \"Topic1\", \"Topic1\", \"Topic1\", \"Topic1\", \"Topic1\", \"Topic1\", \"Topic1\", \"Topic1\", \"Topic1\", \"Topic1\", \"Topic1\", \"Topic1\", \"Topic1\", \"Topic1\", \"Topic1\", \"Topic1\", \"Topic1\", \"Topic1\", \"Topic1\", \"Topic1\", \"Topic1\", \"Topic1\", \"Topic1\", \"Topic1\", \"Topic1\", \"Topic1\", \"Topic1\", \"Topic1\", \"Topic1\", \"Topic1\", \"Topic1\", \"Topic1\", \"Topic1\", \"Topic1\", \"Topic1\", \"Topic1\", \"Topic1\", \"Topic1\", \"Topic1\", \"Topic1\", \"Topic1\", \"Topic1\", \"Topic1\", \"Topic1\", \"Topic1\", \"Topic1\", \"Topic1\", \"Topic1\", \"Topic1\", \"Topic1\", \"Topic1\", \"Topic1\", \"Topic1\", \"Topic1\", \"Topic1\", \"Topic1\", \"Topic1\", \"Topic2\", \"Topic2\", \"Topic2\", \"Topic2\", \"Topic2\", \"Topic2\", \"Topic2\", \"Topic2\", \"Topic2\", \"Topic2\", \"Topic2\", \"Topic2\", \"Topic2\", \"Topic2\", \"Topic2\", \"Topic2\", \"Topic2\", \"Topic2\", \"Topic2\", \"Topic2\", \"Topic2\", \"Topic2\", \"Topic2\", \"Topic2\", \"Topic2\", \"Topic2\", \"Topic2\", \"Topic2\", \"Topic2\", \"Topic2\", \"Topic2\", \"Topic2\", \"Topic2\", \"Topic2\", \"Topic2\", \"Topic2\", \"Topic2\", \"Topic2\", \"Topic2\", \"Topic2\", \"Topic2\", \"Topic2\", \"Topic2\", \"Topic2\", \"Topic2\", \"Topic2\", \"Topic2\", \"Topic2\", \"Topic2\", \"Topic2\", \"Topic2\", \"Topic2\", \"Topic2\", \"Topic2\", \"Topic2\", \"Topic2\", \"Topic2\", \"Topic2\", \"Topic2\", \"Topic3\", \"Topic3\", \"Topic3\", \"Topic3\", \"Topic3\", \"Topic3\", \"Topic3\", \"Topic3\", \"Topic3\", \"Topic3\", \"Topic3\", \"Topic3\", \"Topic3\", \"Topic3\", \"Topic3\", \"Topic3\", \"Topic3\", \"Topic3\", \"Topic3\", \"Topic3\", \"Topic3\", \"Topic3\", \"Topic3\", \"Topic3\", \"Topic3\", \"Topic3\", \"Topic3\", \"Topic3\", \"Topic3\", \"Topic3\", \"Topic3\", \"Topic3\", \"Topic3\", \"Topic3\", \"Topic3\", \"Topic3\", \"Topic3\", \"Topic3\", \"Topic3\", \"Topic3\", \"Topic3\", \"Topic3\", \"Topic3\", \"Topic3\", \"Topic3\", \"Topic3\", \"Topic3\", \"Topic3\", \"Topic3\", \"Topic3\", \"Topic3\", \"Topic3\", \"Topic3\", \"Topic4\", \"Topic4\", \"Topic4\", \"Topic4\", \"Topic4\", \"Topic4\", \"Topic4\", \"Topic4\", \"Topic4\", \"Topic4\", \"Topic4\", \"Topic4\", \"Topic4\", \"Topic4\", \"Topic4\", \"Topic4\", \"Topic4\", \"Topic4\", \"Topic4\", \"Topic4\", \"Topic4\", \"Topic4\", \"Topic4\", \"Topic4\", \"Topic4\", \"Topic4\", \"Topic4\", \"Topic4\", \"Topic4\", \"Topic4\", \"Topic4\", \"Topic4\", \"Topic4\", \"Topic4\", \"Topic4\", \"Topic4\", \"Topic4\", \"Topic4\", \"Topic4\", \"Topic4\", \"Topic4\", \"Topic4\", \"Topic4\", \"Topic4\", \"Topic4\", \"Topic4\", \"Topic4\", \"Topic4\", \"Topic4\", \"Topic4\", \"Topic4\", \"Topic4\", \"Topic4\"], \"Freq\": [1350.0, 761.0, 1045.0, 398.0, 606.0, 93.0, 257.0, 321.0, 265.0, 65.0, 421.0, 79.0, 133.0, 248.0, 166.0, 264.0, 198.0, 56.0, 53.0, 56.0, 223.0, 281.0, 70.0, 50.0, 44.0, 43.0, 42.0, 193.0, 117.0, 190.0, 759.4141845703125, 165.9761199951172, 256.57330322265625, 116.63060760498047, 102.6329574584961, 69.88819885253906, 99.24134826660156, 72.99540710449219, 58.213321685791016, 59.18536376953125, 57.15522766113281, 54.78904342651367, 55.36705017089844, 55.28009033203125, 53.45542526245117, 51.67500305175781, 50.007965087890625, 49.178531646728516, 48.5152702331543, 44.61061477661133, 42.71147537231445, 41.995540618896484, 39.408626556396484, 54.33137893676758, 38.61893081665039, 53.711700439453125, 91.91863250732422, 391.0087585449219, 59.41313171386719, 31.45398712158203, 1301.4149169921875, 111.43553161621094, 258.11376953125, 240.4119415283203, 142.89309692382812, 95.51678466796875, 251.03814697265625, 553.53466796875, 160.2749786376953, 182.2193603515625, 80.36882781982422, 127.34353637695312, 116.98323059082031, 100.5276870727539, 85.32180786132812, 82.8702163696289, 185.73751831054688, 148.6600341796875, 250.24740600585938, 164.10714721679688, 354.5951843261719, 157.25369262695312, 160.5615234375, 150.86148071289062, 242.1847686767578, 575.86181640625, 200.94593811035156, 275.16949462890625, 175.02490234375, 218.7619171142578, 154.5308837890625, 195.4324493408203, 232.66854858398438, 179.1589813232422, 181.5769805908203, 152.4808349609375, 151.77027893066406, 79.27532196044922, 56.18380355834961, 49.77583312988281, 36.95758819580078, 34.5395622253418, 31.228736877441406, 28.266342163085938, 25.949783325195312, 24.72256851196289, 25.419981002807617, 22.733184814453125, 24.251794815063477, 21.530902862548828, 23.660219192504883, 28.38131332397461, 20.60184669494629, 19.9891414642334, 19.49292755126953, 18.764328002929688, 18.356689453125, 18.252094268798828, 18.05828285217285, 17.756324768066406, 17.16664695739746, 16.94576072692871, 16.93368911743164, 17.02669334411621, 16.673017501831055, 16.64641571044922, 16.162050247192383, 17.749263763427734, 31.93706512451172, 58.37253189086914, 48.823917388916016, 40.540531158447266, 49.15561294555664, 36.062198638916016, 62.082763671875, 133.73570251464844, 102.00902557373047, 198.56602478027344, 34.33830642700195, 82.48186492919922, 40.37770080566406, 69.2244644165039, 47.0804557800293, 67.27212524414062, 38.44887161254883, 36.96139907836914, 70.01578521728516, 65.40404510498047, 44.183284759521484, 48.40093231201172, 53.403358459472656, 47.17259979248047, 36.22945785522461, 35.27789306640625, 35.4578857421875, 35.13177490234375, 55.81316375732422, 52.74226760864258, 43.316741943359375, 42.00166702270508, 43.4229850769043, 35.41204071044922, 31.186107635498047, 31.3453311920166, 30.96446990966797, 26.9243221282959, 24.413543701171875, 23.672868728637695, 22.044240951538086, 22.059532165527344, 21.797382354736328, 20.140899658203125, 19.483646392822266, 19.29414176940918, 19.310413360595703, 18.847734451293945, 18.470991134643555, 18.38895034790039, 16.97650718688965, 17.13611602783203, 17.193117141723633, 20.730928421020508, 15.866172790527344, 15.777840614318848, 16.110395431518555, 15.410415649414062, 37.67478561401367, 27.883785247802734, 29.108707427978516, 18.99448013305664, 29.06926918029785, 29.04608917236328, 271.1424255371094, 31.39432716369629, 34.89223861694336, 63.1735725402832, 45.06294250488281, 45.197967529296875, 28.252696990966797, 55.16643142700195, 44.403778076171875, 31.938859939575195, 32.63419723510742, 40.820281982421875, 27.967947006225586, 30.496885299682617, 33.1410026550293, 28.706439971923828, 28.160995483398438, 65.07196044921875, 92.0284194946289, 28.45038414001465, 26.27244758605957, 25.245868682861328, 22.406827926635742, 21.91817855834961, 20.150331497192383, 20.308067321777344, 20.208358764648438, 18.8005313873291, 18.459165573120117, 17.325149536132812, 16.072914123535156, 16.922866821289062, 14.448465347290039, 14.193646430969238, 13.583717346191406, 15.462409019470215, 14.018905639648438, 13.501707077026367, 13.528944969177246, 13.721297264099121, 12.904755592346191, 13.058338165283203, 11.822127342224121, 11.801043510437012, 12.089280128479004, 11.717306137084961, 13.011594772338867, 15.123048782348633, 21.37639617919922, 27.311918258666992, 34.59709167480469, 28.8349609375, 69.38617706298828, 15.247371673583984, 27.412830352783203, 29.129785537719727, 30.32441520690918, 27.575109481811523, 21.668832778930664, 30.49034881591797, 22.133373260498047, 18.955610275268555, 21.12285041809082, 17.78866958618164, 19.69573402404785, 20.952342987060547, 23.10857391357422, 24.335601806640625, 23.20191192626953, 19.00492286682129], \"Term\": [\"love\", \"video\", \"like\", \"watch\", \"good\", \"brent\", \"omg\", \"thank\", \"vlog\", \"lexi\", \"think\", \"lmao\", \"yes\", \"day\", \"amazing\", \"year\", \"happy\", \"colleen\", \"fan\", \"true\", \"come\", \"people\", \"hey\", \"dad\", \"birthday\", \"flynn\", \"light\", \"great\", \"youtube\", \"new\", \"video\", \"amazing\", \"omg\", \"youtube\", \"family\", \"wow\", \"miss\", \"fun\", \"joey\", \"month\", \"guess\", \"dress\", \"head\", \"meet\", \"btw\", \"fall\", \"imagine\", \"send\", \"night\", \"sweet\", \"super\", \"question\", \"fact\", \"music\", \"hit\", \"word\", \"boy\", \"watch\", \"minute\", \"hannah\", \"love\", \"hope\", \"vlog\", \"day\", \"wait\", \"long\", \"year\", \"good\", \"cute\", \"great\", \"end\", \"bad\", \"mom\", \"old\", \"pretty\", \"cry\", \"guy\", \"friend\", \"lol\", \"new\", \"look\", \"work\", \"life\", \"use\", \"time\", \"like\", \"feel\", \"know\", \"come\", \"thank\", \"way\", \"want\", \"think\", \"thing\", \"people\", \"happy\", \"girl\", \"lmao\", \"true\", \"dad\", \"pay\", \"class\", \"sit\", \"podcast\", \"zoe\", \"speak\", \"tree\", \"act\", \"problem\", \"finish\", \"inspire\", \"normal\", \"australia\", \"save\", \"background\", \"hello\", \"fuck\", \"jenn\", \"grade\", \"safe\", \"google\", \"tea\", \"loud\", \"shoot\", \"twitter\", \"chair\", \"leg\", \"dark\", \"understand\", \"hey\", \"early\", \"woman\", \"die\", \"stuff\", \"laugh\", \"think\", \"thank\", \"like\", \"world\", \"people\", \"help\", \"need\", \"man\", \"thing\", \"hard\", \"buy\", \"look\", \"know\", \"yes\", \"come\", \"time\", \"good\", \"find\", \"tell\", \"mean\", \"kid\", \"colleen\", \"fan\", \"flynn\", \"light\", \"birthday\", \"couple\", \"cat\", \"outfit\", \"favourite\", \"queen\", \"kiss\", \"foot\", \"saf\", \"freak\", \"merry_christmas\", \"review\", \"reply\", \"subscribe\", \"hug\", \"thought\", \"upload\", \"yay\", \"storm\", \"cake\", \"deserve\", \"vegan\", \"nah\", \"justine\", \"eva\", \"size\", \"adorable\", \"gay\", \"draw\", \"julien\", \"mike\", \"exactly\", \"like\", \"tyler\", \"jenna\", \"know\", \"try\", \"happy\", \"sorry\", \"think\", \"feel\", \"eat\", \"find\", \"look\", \"hair\", \"time\", \"love\", \"want\", \"lol\", \"lexi\", \"brent\", \"hahaha\", \"andrew\", \"phone\", \"tour\", \"gabi\", \"poor\", \"huge\", \"outside\", \"cloe\", \"dollar\", \"aww\", \"near\", \"healthy\", \"soooo\", \"immediately\", \"daisy\", \"quality\", \"girlfriend\", \"safiya\", \"alive\", \"holiday\", \"tooth\", \"giveaway\", \"oof\", \"boat\", \"health\", \"interested\", \"joan\", \"hai\", \"shoe\", \"etc\", \"car\", \"game\", \"yes\", \"ball\", \"agree\", \"money\", \"play\", \"phil\", \"ben\", \"yeah\", \"dude\", \"hand\", \"voice\", \"pregnant\", \"totally\", \"leave\", \"use\", \"want\", \"new\", \"stay\"], \"Total\": [1350.0, 761.0, 1045.0, 398.0, 606.0, 93.0, 257.0, 321.0, 265.0, 65.0, 421.0, 79.0, 133.0, 248.0, 166.0, 264.0, 198.0, 56.0, 53.0, 56.0, 223.0, 281.0, 70.0, 50.0, 44.0, 43.0, 42.0, 193.0, 117.0, 190.0, 761.8729858398438, 166.5724639892578, 257.8666687011719, 117.31220245361328, 103.37295532226562, 70.48243713378906, 100.19506072998047, 73.71126556396484, 58.81021499633789, 59.806854248046875, 57.76937484741211, 55.391971588134766, 55.98837661743164, 55.905418395996094, 54.08344650268555, 52.282958984375, 50.61154556274414, 49.77949523925781, 49.15315246582031, 45.2056999206543, 43.30929946899414, 42.61224365234375, 40.011661529541016, 55.1683349609375, 39.24876022338867, 54.60493850708008, 93.58489990234375, 398.1617736816406, 60.51118087768555, 32.04608154296875, 1350.8189697265625, 113.68207550048828, 265.7105407714844, 248.4422607421875, 147.36956787109375, 97.97169494628906, 264.8507080078125, 606.2848510742188, 169.22149658203125, 193.5384063720703, 82.76846313476562, 133.7895050048828, 124.52802276611328, 106.16954803466797, 89.11660766601562, 87.21427154541016, 212.10324096679688, 167.00473022460938, 297.99835205078125, 190.21728515625, 465.6278991699219, 190.10337829589844, 195.4277801513672, 180.9227294921875, 330.9775390625, 1045.7708740234375, 263.6733093261719, 407.1672058105469, 223.91067504882812, 321.50616455078125, 192.02513122558594, 279.55633544921875, 421.7691955566406, 268.6172790527344, 281.9717102050781, 198.0835723876953, 194.50363159179688, 79.91349029541016, 56.81830978393555, 50.419124603271484, 37.59060287475586, 35.176414489746094, 31.88935089111328, 28.91109275817871, 26.596088409423828, 25.35772132873535, 26.08744239807129, 23.380111694335938, 24.952800750732422, 22.17792510986328, 24.380088806152344, 29.2602596282959, 21.242300033569336, 20.633930206298828, 20.12793731689453, 19.399734497070312, 18.991703033447266, 18.893239974975586, 18.696462631225586, 18.39896011352539, 17.7932071685791, 17.57483673095703, 17.57483673095703, 17.671457290649414, 17.30458641052246, 17.302797317504883, 16.802772521972656, 18.565305709838867, 35.768192291259766, 70.79801940917969, 66.8021011352539, 53.437660217285156, 69.5682144165039, 47.71791458129883, 115.71235656738281, 421.7691955566406, 321.50616455078125, 1045.7708740234375, 55.49375534057617, 281.9717102050781, 80.9537353515625, 237.4588165283203, 118.2063217163086, 268.6172790527344, 82.50297546386719, 75.37055969238281, 465.6278991699219, 407.1672058105469, 133.4336700439453, 223.91067504882812, 330.9775390625, 606.2848510742188, 143.43637084960938, 110.94837188720703, 131.03916931152344, 114.06377410888672, 56.502559661865234, 53.41731262207031, 43.95442199707031, 42.68899917602539, 44.14574432373047, 36.08058166503906, 31.83028793334961, 32.003631591796875, 31.619365692138672, 27.569543838500977, 25.059926986694336, 24.316564559936523, 22.688457489013672, 22.707294464111328, 22.443923950195312, 20.785907745361328, 20.141010284423828, 19.962961196899414, 19.992319107055664, 19.523740768432617, 19.145658493041992, 19.062740325927734, 17.614595413208008, 17.78021812438965, 17.850080490112305, 21.535484313964844, 16.501495361328125, 16.416259765625, 16.77797508239746, 16.059396743774414, 39.58919143676758, 30.261808395385742, 34.74714279174805, 20.650869369506836, 35.44173812866211, 38.07429122924805, 1045.7708740234375, 45.302276611328125, 58.291053771972656, 407.1672058105469, 180.2554168701172, 198.0835723876953, 56.6231689453125, 421.7691955566406, 263.6733093261719, 113.69058990478516, 143.43637084960938, 465.6278991699219, 143.5015869140625, 330.9775390625, 1350.8189697265625, 279.55633544921875, 297.99835205078125, 65.71061706542969, 93.52545166015625, 29.10590362548828, 26.914466857910156, 25.897817611694336, 23.06475830078125, 22.57085609436035, 20.798206329345703, 20.97858238220215, 20.877174377441406, 19.441038131713867, 19.14241600036621, 17.977083206176758, 16.743892669677734, 17.69183921813965, 15.114375114440918, 14.857332229614258, 14.223661422729492, 16.1935977935791, 14.691044807434082, 14.152517318725586, 14.181758880615234, 14.387443542480469, 13.569531440734863, 13.74075698852539, 12.478560447692871, 12.465071678161621, 12.77352523803711, 12.386006355285645, 13.767496109008789, 16.048952102661133, 24.101848602294922, 32.93795394897461, 47.52407455444336, 39.98823547363281, 133.4336700439453, 17.80516815185547, 50.62776565551758, 57.084739685058594, 63.517066955566406, 67.13531494140625, 44.038841247558594, 107.793701171875, 46.69697952270508, 32.62828063964844, 46.49370193481445, 27.22616958618164, 41.397090911865234, 75.5193099975586, 180.9227294921875, 279.55633544921875, 190.21728515625, 43.599708557128906], \"loglift\": [30.0, 29.0, 28.0, 27.0, 26.0, 25.0, 24.0, 23.0, 22.0, 21.0, 20.0, 19.0, 18.0, 17.0, 16.0, 15.0, 14.0, 13.0, 12.0, 11.0, 10.0, 9.0, 8.0, 7.0, 6.0, 5.0, 4.0, 3.0, 2.0, 1.0, 0.7014999985694885, 0.7010999917984009, 0.6996999979019165, 0.6988999843597412, 0.6974999904632568, 0.6962000131607056, 0.6951000094413757, 0.6949999928474426, 0.6945000290870667, 0.6942999958992004, 0.6940000057220459, 0.6937999725341797, 0.6935999989509583, 0.6934999823570251, 0.6930000185966492, 0.6930000185966492, 0.6927000284194946, 0.6926000118255615, 0.6916000247001648, 0.6915000081062317, 0.6908000111579895, 0.6901000142097473, 0.6894999742507935, 0.6894000172615051, 0.6884999871253967, 0.6881999969482422, 0.6866999864578247, 0.6866000294685364, 0.6863999962806702, 0.6861000061035156, 0.6675000190734863, 0.6848000288009644, 0.6757000088691711, 0.6718999743461609, 0.6739000082015991, 0.6793000102043152, 0.6510999798774719, 0.6136999726295471, 0.6503999829292297, 0.6444000005722046, 0.6753000020980835, 0.6553000211715698, 0.6421999931335449, 0.6500999927520752, 0.6611999869346619, 0.6535999774932861, 0.5720000267028809, 0.5882999897003174, 0.5300999879837036, 0.5570999979972839, 0.43230000138282776, 0.5149999856948853, 0.5081999897956848, 0.5230000019073486, 0.39239999651908875, 0.10809999704360962, 0.43299999833106995, 0.31290000677108765, 0.45840001106262207, 0.3197000026702881, 0.48750001192092896, 0.3467000126838684, 0.10989999771118164, 0.299699991941452, 0.26460000872612, 0.4431000053882599, 0.45660001039505005, 1.5944000482559204, 1.5910999774932861, 1.5894999504089355, 1.5853999853134155, 1.5841000080108643, 1.5814000368118286, 1.579800009727478, 1.5778000354766846, 1.5770000219345093, 1.5765000581741333, 1.5743000507354736, 1.5738999843597412, 1.5728000402450562, 1.5723999738693237, 1.5719000101089478, 1.5717999935150146, 1.5706000328063965, 1.5702999830245972, 1.569100022315979, 1.5684000253677368, 1.5678000450134277, 1.5676000118255615, 1.5667999982833862, 1.566499948501587, 1.5658999681472778, 1.5651999711990356, 1.5651999711990356, 1.5651999711990356, 1.5636999607086182, 1.5635000467300415, 1.5573999881744385, 1.4890999794006348, 1.4093999862670898, 1.2889000177383423, 1.326200008392334, 1.2551000118255615, 1.3222999572753906, 0.9797000288963318, 0.4537999927997589, 0.4544000029563904, -0.05900000035762787, 1.1224000453948975, 0.37310001254081726, 0.9067999720573425, 0.36970001459121704, 0.6818000078201294, 0.21780000627040863, 0.8389000296592712, 0.8898000121116638, -0.2922999858856201, -0.22630000114440918, 0.49709999561309814, 0.0706000030040741, -0.22179999947547913, -0.951200008392334, 0.2264000028371811, 0.45660001039505005, 0.295199990272522, 0.424699991941452, 1.7948999404907227, 1.7944999933242798, 1.7926000356674194, 1.7908999919891357, 1.7906999588012695, 1.7884999513626099, 1.7867000102996826, 1.7863999605178833, 1.7862000465393066, 1.7834999561309814, 1.781000018119812, 1.7803000211715698, 1.77839994430542, 1.7782000303268433, 1.777899980545044, 1.7756999731063843, 1.7740000486373901, 1.7731000185012817, 1.7725000381469727, 1.7719000577926636, 1.771299958229065, 1.7711999416351318, 1.770300030708313, 1.770300030708313, 1.769700050354004, 1.7690999507904053, 1.767899990081787, 1.7675000429153442, 1.7666000127792358, 1.7659000158309937, 1.757599949836731, 1.7252999544143677, 1.6301000118255615, 1.7236000299453735, 1.6089999675750732, 1.5364999771118164, 0.45730000734329224, 1.4404000043869019, 1.2940000295639038, -0.05620000138878822, 0.42089998722076416, 0.3294999897480011, 1.111899971961975, -0.22689999639987946, 0.025800000876188278, 0.5375000238418579, 0.32659998536109924, -0.6269999742507935, 0.17190000414848328, -0.5771999955177307, -1.9005000591278076, -0.46889999508857727, -0.5519999861717224, 1.954800009727478, 1.9485000371932983, 1.9417999982833862, 1.940500020980835, 1.9391000270843506, 1.9357000589370728, 1.9352999925613403, 1.9328999519348145, 1.9321000576019287, 1.9320000410079956, 1.9311000108718872, 1.9282000064849854, 1.9277000427246094, 1.923699975013733, 1.920199990272522, 1.9194999933242798, 1.9189000129699707, 1.9185999631881714, 1.9184000492095947, 1.917799949645996, 1.9175000190734863, 1.9175000190734863, 1.917199969291687, 1.9143999814987183, 1.913699984550476, 1.910599946975708, 1.9098999500274658, 1.909500002861023, 1.90910005569458, 1.9081000089645386, 1.9052000045776367, 1.844599962234497, 1.7773000001907349, 1.6470999717712402, 1.6375999450683594, 1.3107000589370728, 1.809499979019165, 1.351099967956543, 1.2918000221252441, 1.2252000570297241, 1.0748000144958496, 1.2553999423980713, 0.7017999887466431, 1.218000054359436, 1.4214999675750732, 1.1756000518798828, 1.5390000343322754, 1.2217999696731567, 0.6825000047683716, -0.093299999833107, -0.4767000079154968, -0.13930000364780426, 1.1341999769210815], \"logprob\": [30.0, 29.0, 28.0, 27.0, 26.0, 25.0, 24.0, 23.0, 22.0, 21.0, 20.0, 19.0, 18.0, 17.0, 16.0, 15.0, 14.0, 13.0, 12.0, 11.0, 10.0, 9.0, 8.0, 7.0, 6.0, 5.0, 4.0, 3.0, 2.0, 1.0, -3.7441000938415527, -5.264800071716309, -4.8292999267578125, -5.617700099945068, -5.745500087738037, -6.129799842834473, -5.779099941253662, -6.086299896240234, -6.312600135803223, -6.296000003814697, -6.330900192260742, -6.373199939727783, -6.36269998550415, -6.364299774169922, -6.397799968719482, -6.431700229644775, -6.4644999504089355, -6.481200218200684, -6.494800090789795, -6.578700065612793, -6.622200012207031, -6.639100074768066, -6.702700138092041, -6.3815999031066895, -6.7230000495910645, -6.393099784851074, -5.855800151824951, -4.4079999923706055, -6.292200088500977, -6.928199768066406, -3.2054998874664307, -5.6631999015808105, -4.823299884796143, -4.8942999839782715, -5.414599895477295, -5.817399978637695, -4.851099967956543, -4.060400009155273, -5.299799919128418, -5.171500205993652, -5.990099906921387, -5.529799938201904, -5.614699840545654, -5.766300201416016, -5.930300235748291, -5.959400177001953, -5.152400016784668, -5.375, -4.8541998863220215, -5.276199817657471, -4.50570011138916, -5.31879997253418, -5.297999858856201, -5.360300064086914, -4.88700008392334, -4.0208001136779785, -5.073699951171875, -4.759300231933594, -5.2118000984191895, -4.988699913024902, -5.336299896240234, -5.101500034332275, -4.92710018157959, -5.188399791717529, -5.175000190734863, -5.349699974060059, -5.354300022125244, -5.106100082397461, -5.450399875640869, -5.571499824523926, -5.86929988861084, -5.9369001388549805, -6.037700176239014, -6.137400150299072, -6.222899913787842, -6.271299839019775, -6.243500232696533, -6.355199813842773, -6.290500164031982, -6.4095001220703125, -6.315199851989746, -6.133299827575684, -6.453700065612793, -6.483799934387207, -6.508999824523926, -6.547100067138672, -6.568999767303467, -6.57480001449585, -6.585400104522705, -6.60230016708374, -6.636099815368652, -6.64900016784668, -6.649700164794922, -6.6442999839782715, -6.665200233459473, -6.666800022125244, -6.696400165557861, -6.602700233459473, -6.0152997970581055, -5.412199974060059, -5.590799808502197, -5.776700019836426, -5.584000110626221, -5.893799781799316, -5.350599765777588, -4.583199977874756, -4.854000091552734, -4.187900066375732, -5.942800045013428, -5.066500186920166, -5.780799865722656, -5.241700172424316, -5.627200126647949, -5.270299911499023, -5.829699993133545, -5.869200229644775, -5.230299949645996, -5.298399925231934, -5.690700054168701, -5.5995001792907715, -5.501200199127197, -5.625199794769287, -5.889200210571289, -5.915800094604492, -5.910699844360352, -5.919899940490723, -5.252200126647949, -5.308800220489502, -5.50570011138916, -5.536499977111816, -5.503200054168701, -5.707200050354004, -5.8343000411987305, -5.82919979095459, -5.841400146484375, -5.981200218200684, -6.079100131988525, -6.109899997711182, -6.18120002746582, -6.180500030517578, -6.192399978637695, -6.271500110626221, -6.304699897766113, -6.3144001960754395, -6.313600063323975, -6.337800025939941, -6.357999801635742, -6.362500190734863, -6.442399978637695, -6.433000087738037, -6.429699897766113, -6.242599964141846, -6.510000228881836, -6.515600204467773, -6.494800090789795, -6.5391998291015625, -5.645199775695801, -5.946199893951416, -5.903200149536133, -6.330100059509277, -5.9045000076293945, -5.905300140380859, -3.671600103378296, -5.827600002288818, -5.7220001220703125, -5.128300189971924, -5.46619987487793, -5.463200092315674, -5.933000087738037, -5.263899803161621, -5.480899810791016, -5.810400009155273, -5.788899898529053, -5.565000057220459, -5.94320011138916, -5.856599807739258, -5.773499965667725, -5.917099952697754, -5.936299800872803, -4.941299915313721, -4.594699859619141, -5.768599987030029, -5.848299980163574, -5.8881001472473145, -6.007400035858154, -6.0295000076293945, -6.11359977722168, -6.105800151824951, -6.1107001304626465, -6.1828999519348145, -6.201200008392334, -6.264599800109863, -6.339700222015381, -6.288099765777588, -6.446199893951416, -6.464000225067139, -6.507900238037109, -6.378399848937988, -6.476399898529053, -6.513999938964844, -6.51200008392334, -6.497900009155273, -6.559199810028076, -6.547399997711182, -6.6468000411987305, -6.648600101470947, -6.624499797821045, -6.655700206756592, -6.551000118255615, -6.400599956512451, -6.054500102996826, -5.809500217437744, -5.572999954223633, -5.755199909210205, -4.877099990844727, -6.392399787902832, -5.805799961090088, -5.744999885559082, -5.704899787902832, -5.799900054931641, -6.040900230407715, -5.699399948120117, -6.019700050354004, -6.174699783325195, -6.066500186920166, -6.2382001876831055, -6.13640022277832, -6.0746002197265625, -5.976600170135498, -5.924900054931641, -5.972599983215332, -6.172100067138672]}, \"token.table\": {\"Topic\": [2, 2, 3, 1, 2, 4, 4, 1, 4, 2, 4, 2, 1, 2, 3, 1, 4, 1, 4, 3, 4, 1, 3, 1, 4, 1, 1, 2, 3, 4, 3, 3, 4, 3, 2, 2, 4, 3, 1, 2, 3, 1, 3, 1, 3, 2, 4, 2, 1, 2, 3, 3, 1, 2, 4, 4, 2, 3, 1, 1, 3, 4, 1, 2, 3, 1, 2, 3, 4, 1, 3, 4, 1, 2, 4, 3, 1, 2, 3, 1, 1, 1, 3, 3, 1, 2, 3, 1, 2, 3, 4, 2, 3, 3, 3, 1, 2, 4, 2, 1, 4, 1, 4, 2, 3, 1, 2, 3, 4, 4, 1, 2, 3, 4, 2, 2, 1, 2, 3, 1, 1, 2, 3, 4, 1, 4, 1, 3, 3, 4, 1, 1, 3, 1, 2, 3, 4, 1, 4, 4, 2, 1, 2, 3, 4, 1, 2, 3, 1, 4, 1, 3, 4, 3, 4, 1, 4, 2, 4, 2, 1, 3, 4, 1, 2, 3, 3, 1, 2, 3, 3, 1, 2, 3, 4, 1, 2, 3, 1, 3, 4, 2, 4, 1, 2, 3, 4, 3, 1, 2, 3, 2, 1, 2, 3, 4, 1, 2, 1, 2, 3, 2, 1, 3, 4, 1, 2, 3, 1, 2, 3, 1, 3, 2, 3, 1, 1, 3, 1, 3, 4, 2, 4, 1, 1, 3, 4, 1, 2, 3, 4, 1, 3, 4, 1, 2, 1, 2, 3, 1, 3, 4, 3, 4, 2, 1, 2, 4, 1, 2, 3, 4, 4, 2, 3, 4, 2, 4, 2, 4, 1, 2, 3, 2, 4, 3, 1, 3, 3, 3, 2, 4, 2, 1, 3, 4, 2, 2, 3, 4, 1, 2, 3, 2, 1, 2, 4, 3, 2, 3, 3, 1, 1, 2, 1, 2, 3, 1, 2, 4, 1, 2, 3, 4, 1, 2, 3, 3, 1, 2, 3, 4, 4, 1, 4, 4, 2, 2, 1, 2, 3, 4, 2, 2, 3, 4, 2, 4, 3, 1, 3, 4, 3, 1, 2, 3, 1, 2, 2, 4, 1, 2, 3, 1, 2, 3, 4, 1, 2, 3, 1, 2, 3, 4, 2, 3, 4, 1, 1, 2, 4, 1, 2, 3, 1, 3, 1, 2, 3, 4, 1, 2, 3, 4, 1, 2, 3, 4, 1, 2], \"Freq\": [0.9837421178817749, 0.02525942027568817, 0.9598579406738281, 0.1777680665254593, 0.27652809023857117, 0.5333042144775391, 0.9871836304664612, 0.9965632557868958, 0.9660232067108154, 0.9885935187339783, 0.9456483721733093, 0.9439616203308105, 0.9492523074150085, 0.02989771217107773, 0.014948856085538864, 0.11232693493366241, 0.8424520492553711, 0.4995590150356293, 0.4995590150356293, 0.9740463495254517, 0.962689995765686, 0.983064591884613, 0.010685484856367111, 0.010692276991903782, 0.9836894273757935, 0.9799671173095703, 0.18574891984462738, 0.49090784788131714, 0.14594557881355286, 0.18574891984462738, 0.9561187624931335, 0.2525036036968231, 0.7364688515663147, 0.973915159702301, 0.9825000762939453, 0.9949848651885986, 0.9773140549659729, 0.9911055564880371, 0.7815616726875305, 0.2143712043762207, 0.9700508713722229, 0.9516791105270386, 0.0458640530705452, 0.9455063343048096, 0.04727531597018242, 0.9916871786117554, 0.9842754006385803, 0.9695504307746887, 0.9660192131996155, 0.012075240723788738, 0.01610032096505165, 0.952376663684845, 0.15811818838119507, 0.704344630241394, 0.12936942279338837, 0.9403201937675476, 0.14389672875404358, 0.8346009850502014, 0.9929236769676208, 0.3426345884799957, 0.17131729423999786, 0.4711225628852844, 0.029939178377389908, 0.7335098385810852, 0.23951342701911926, 0.6332978010177612, 0.008795802481472492, 0.28146567940711975, 0.07916222512722015, 0.9665517210960388, 0.012081896886229515, 0.012081896886229515, 0.06072022393345833, 0.09108033776283264, 0.8197230696678162, 0.9536311626434326, 0.02626444213092327, 0.21011553704738617, 0.7616688013076782, 0.9747158288955688, 0.9945879578590393, 0.9963921308517456, 0.9921876788139343, 0.9804118275642395, 0.7623069882392883, 0.06826629489660263, 0.16687317192554474, 0.5089364647865295, 0.2509823739528656, 0.2300671637058258, 0.006971732247620821, 0.9919773936271667, 0.97828608751297, 0.9869815111160278, 0.9688516855239868, 0.8921902775764465, 0.035927124321460724, 0.07185424864292145, 0.9477822780609131, 0.9903506636619568, 0.9747082591056824, 0.27508091926574707, 0.7252132892608643, 0.06608990579843521, 0.9252586364746094, 0.7814764380455017, 0.08226067572832108, 0.13367359340190887, 0.9529615044593811, 0.9460905194282532, 0.9137619137763977, 0.07752131670713425, 0.003298779483884573, 0.004948168992996216, 0.9554207921028137, 0.9627489447593689, 0.9403818249702454, 0.05166932940483093, 0.005166932940483093, 0.9866819381713867, 0.8769314289093018, 0.028288111090660095, 0.09429370611906052, 0.9620041251182556, 0.06230936571955681, 0.9346404671669006, 0.8013848662376404, 0.19511979818344116, 0.3984273672103882, 0.5823169350624084, 0.9673569798469543, 0.7673528790473938, 0.22717684507369995, 0.4363479018211365, 0.4605894386768341, 0.060603875666856766, 0.03636232390999794, 0.982346773147583, 0.9394431114196777, 0.9608950018882751, 0.9793948531150818, 0.37058204412460327, 0.4941093921661377, 0.04941093921661377, 0.0864691436290741, 0.014124688692390919, 0.8192319273948669, 0.15537157654762268, 0.9936619400978088, 0.9730707406997681, 0.9764072299003601, 0.00879646185785532, 0.00879646185785532, 0.9503650069236755, 0.9533532857894897, 0.987916886806488, 0.9422956705093384, 0.9844098687171936, 0.9688352942466736, 0.9527217149734497, 0.3945716917514801, 0.600435197353363, 0.9442530274391174, 0.9862232208251953, 0.04842410981655121, 0.9200581312179565, 0.9746434688568115, 0.6750609278678894, 0.30684587359428406, 0.008767025545239449, 0.9577043056488037, 0.6753982305526733, 0.15963958203792572, 0.15472759306430817, 0.007367980200797319, 0.3456847667694092, 0.5358114242553711, 0.1123475506901741, 0.4634576141834259, 0.251591295003891, 0.27807456254959106, 0.9522237777709961, 0.989185631275177, 0.8238337635993958, 0.05116979777812958, 0.11769053339958191, 0.010233959183096886, 0.9838600158691406, 0.5507898926734924, 0.19029024243354797, 0.25913897156715393, 0.9885690212249756, 0.8389307856559753, 0.0369129553437233, 0.0939602479338646, 0.030201509594917297, 0.979874849319458, 0.020414059981703758, 0.76241135597229, 0.15033464133739471, 0.0880531445145607, 0.967292070388794, 0.9631194472312927, 0.024429624900221825, 0.011844666674733162, 0.49912726879119873, 0.3976098597049713, 0.10151741653680801, 0.7020801305770874, 0.2670957148075104, 0.030525224283337593, 0.98380446434021, 0.9802207350730896, 0.1692919284105301, 0.8182442784309387, 0.9750264286994934, 0.9880726337432861, 0.009980532340705395, 0.9395475387573242, 0.016060642898082733, 0.040151603519916534, 0.4904988706111908, 0.5080167055130005, 0.9865090250968933, 0.9788223505020142, 0.9696090817451477, 0.9555723071098328, 0.581153392791748, 0.290576696395874, 0.10528141260147095, 0.02526753954589367, 0.8621718883514404, 0.01577143743634224, 0.12091435492038727, 0.9968841671943665, 0.9569293260574341, 0.95130854845047, 0.028256690129637718, 0.028256690129637718, 0.99663907289505, 0.003877973183989525, 0.9616493582725525, 0.9686400890350342, 0.9579840302467346, 0.9842885732650757, 0.6454548239707947, 0.29080930352211, 0.06383619457483292, 0.4617539942264557, 0.11916232109069824, 0.01489529013633728, 0.41706812381744385, 0.9653323292732239, 0.26764461398124695, 0.2519007921218872, 0.4723140001296997, 0.9684863686561584, 0.9616214036941528, 0.33056432008743286, 0.6611286401748657, 0.9538065195083618, 0.02244250662624836, 0.01122125331312418, 0.9618158936500549, 0.9262920022010803, 0.9793415665626526, 0.9856322407722473, 0.9433488845825195, 0.9621903300285339, 0.9696560502052307, 0.9783161878585815, 0.989223301410675, 0.9692772626876831, 0.984341025352478, 0.0829811841249466, 0.8713024854660034, 0.9620032906532288, 0.9721113443374634, 0.9340326189994812, 0.9262704849243164, 0.22958800196647644, 0.2649092376232147, 0.49449723958969116, 0.9858930110931396, 0.5504624247550964, 0.022935932502150536, 0.4357827305793762, 0.9651087522506714, 0.7544336318969727, 0.23052139580249786, 0.9517626166343689, 0.992858350276947, 0.9954496622085571, 0.967292070388794, 0.5137524604797363, 0.31546205282211304, 0.16223761439323425, 0.6811689138412476, 0.31725674867630005, 0.0031103603541851044, 0.6663755774497986, 0.2494255006313324, 0.07817814499139786, 0.0037227687425911427, 0.5524348616600037, 0.3177092969417572, 0.130403071641922, 0.9731741547584534, 0.7311674356460571, 0.16013170778751373, 0.090640589594841, 0.015106765553355217, 0.9580286741256714, 0.507282018661499, 0.4831257462501526, 0.9538361430168152, 0.9583154916763306, 0.9855977892875671, 0.6046975255012512, 0.12204903364181519, 0.24964575469493866, 0.0277384165674448, 0.982398509979248, 0.02207394503057003, 0.6842923164367676, 0.26488736271858215, 0.8946496248245239, 0.08387340605258942, 0.9401609301567078, 0.8346104621887207, 0.03869055211544037, 0.12712609767913818, 0.9751347899436951, 0.9962290525436401, 0.0013125546975061297, 0.0013125546975061297, 0.9709814190864563, 0.026344457641243935, 0.5377072095870972, 0.45167407393455505, 0.9703496098518372, 0.020356984809041023, 0.006785661447793245, 0.6975338459014893, 0.1108899936079979, 0.1037357971072197, 0.0858503133058548, 0.982012927532196, 0.002511542057618499, 0.012557709589600563, 0.8071860074996948, 0.13019129633903503, 0.052076518535614014, 0.015622954815626144, 0.7672491669654846, 0.16842055320739746, 0.0748535767197609, 0.9889215230941772, 0.8258664608001709, 0.16832946240901947, 0.0052602957002818584, 0.360400915145874, 0.6126815676689148, 0.01802004501223564, 0.9931552410125732, 0.9442504048347473, 0.5380648374557495, 0.009276979602873325, 0.17626261711120605, 0.2783094048500061, 0.9477037191390991, 0.04530854523181915, 0.003775712102651596, 0.003775712102651596, 0.07494360208511353, 0.3297518491744995, 0.07494360208511353, 0.5171108841896057, 0.9973387122154236, 0.9775873422622681], \"Term\": [\"act\", \"adorable\", \"adorable\", \"agree\", \"agree\", \"agree\", \"alive\", \"amazing\", \"andrew\", \"australia\", \"aww\", \"background\", \"bad\", \"bad\", \"bad\", \"ball\", \"ball\", \"ben\", \"ben\", \"birthday\", \"boat\", \"boy\", \"boy\", \"brent\", \"brent\", \"btw\", \"buy\", \"buy\", \"buy\", \"buy\", \"cake\", \"car\", \"car\", \"cat\", \"chair\", \"class\", \"cloe\", \"colleen\", \"come\", \"come\", \"couple\", \"cry\", \"cry\", \"cute\", \"cute\", \"dad\", \"daisy\", \"dark\", \"day\", \"day\", \"day\", \"deserve\", \"die\", \"die\", \"die\", \"dollar\", \"draw\", \"draw\", \"dress\", \"dude\", \"dude\", \"dude\", \"early\", \"early\", \"early\", \"eat\", \"eat\", \"eat\", \"eat\", \"end\", \"end\", \"end\", \"etc\", \"etc\", \"etc\", \"eva\", \"exactly\", \"exactly\", \"exactly\", \"fact\", \"fall\", \"family\", \"fan\", \"favourite\", \"feel\", \"feel\", \"feel\", \"find\", \"find\", \"find\", \"find\", \"finish\", \"flynn\", \"foot\", \"freak\", \"friend\", \"friend\", \"friend\", \"fuck\", \"fun\", \"gabi\", \"game\", \"game\", \"gay\", \"gay\", \"girl\", \"girl\", \"girl\", \"girlfriend\", \"giveaway\", \"good\", \"good\", \"good\", \"good\", \"google\", \"grade\", \"great\", \"great\", \"great\", \"guess\", \"guy\", \"guy\", \"guy\", \"hahaha\", \"hai\", \"hai\", \"hair\", \"hair\", \"hand\", \"hand\", \"hannah\", \"happy\", \"happy\", \"hard\", \"hard\", \"hard\", \"hard\", \"head\", \"health\", \"healthy\", \"hello\", \"help\", \"help\", \"help\", \"help\", \"hey\", \"hey\", \"hey\", \"hit\", \"holiday\", \"hope\", \"hope\", \"hope\", \"hug\", \"huge\", \"imagine\", \"immediately\", \"inspire\", \"interested\", \"jenn\", \"jenna\", \"jenna\", \"joan\", \"joey\", \"julien\", \"julien\", \"justine\", \"kid\", \"kid\", \"kid\", \"kiss\", \"know\", \"know\", \"know\", \"know\", \"laugh\", \"laugh\", \"laugh\", \"leave\", \"leave\", \"leave\", \"leg\", \"lexi\", \"life\", \"life\", \"life\", \"life\", \"light\", \"like\", \"like\", \"like\", \"lmao\", \"lol\", \"lol\", \"lol\", \"lol\", \"long\", \"long\", \"look\", \"look\", \"look\", \"loud\", \"love\", \"love\", \"love\", \"man\", \"man\", \"man\", \"mean\", \"mean\", \"mean\", \"meet\", \"merry_christmas\", \"mike\", \"mike\", \"minute\", \"miss\", \"miss\", \"mom\", \"mom\", \"mom\", \"money\", \"money\", \"month\", \"music\", \"nah\", \"near\", \"need\", \"need\", \"need\", \"need\", \"new\", \"new\", \"new\", \"night\", \"normal\", \"old\", \"old\", \"old\", \"omg\", \"omg\", \"oof\", \"outfit\", \"outside\", \"pay\", \"people\", \"people\", \"people\", \"phil\", \"phil\", \"phil\", \"phil\", \"phone\", \"play\", \"play\", \"play\", \"podcast\", \"poor\", \"pregnant\", \"pregnant\", \"pretty\", \"pretty\", \"pretty\", \"problem\", \"quality\", \"queen\", \"question\", \"reply\", \"review\", \"saf\", \"safe\", \"safiya\", \"save\", \"send\", \"shoe\", \"shoe\", \"shoot\", \"sit\", \"size\", \"soooo\", \"sorry\", \"sorry\", \"sorry\", \"speak\", \"stay\", \"stay\", \"stay\", \"storm\", \"stuff\", \"stuff\", \"subscribe\", \"super\", \"sweet\", \"tea\", \"tell\", \"tell\", \"tell\", \"thank\", \"thank\", \"thank\", \"thing\", \"thing\", \"thing\", \"thing\", \"think\", \"think\", \"think\", \"thought\", \"time\", \"time\", \"time\", \"time\", \"tooth\", \"totally\", \"totally\", \"tour\", \"tree\", \"true\", \"try\", \"try\", \"try\", \"try\", \"twitter\", \"tyler\", \"tyler\", \"tyler\", \"understand\", \"understand\", \"upload\", \"use\", \"use\", \"use\", \"vegan\", \"video\", \"video\", \"video\", \"vlog\", \"vlog\", \"voice\", \"voice\", \"wait\", \"wait\", \"wait\", \"want\", \"want\", \"want\", \"want\", \"watch\", \"watch\", \"watch\", \"way\", \"way\", \"way\", \"way\", \"woman\", \"woman\", \"woman\", \"word\", \"work\", \"work\", \"work\", \"world\", \"world\", \"world\", \"wow\", \"yay\", \"yeah\", \"yeah\", \"yeah\", \"yeah\", \"year\", \"year\", \"year\", \"year\", \"yes\", \"yes\", \"yes\", \"yes\", \"youtube\", \"zoe\"]}, \"R\": 30, \"lambda.step\": 0.01, \"plot.opts\": {\"xlab\": \"PC1\", \"ylab\": \"PC2\"}, \"topic.order\": [2, 4, 3, 1]};\n",
       "\n",
       "function LDAvis_load_lib(url, callback){\n",
       "  var s = document.createElement('script');\n",
       "  s.src = url;\n",
       "  s.async = true;\n",
       "  s.onreadystatechange = s.onload = callback;\n",
       "  s.onerror = function(){console.warn(\"failed to load library \" + url);};\n",
       "  document.getElementsByTagName(\"head\")[0].appendChild(s);\n",
       "}\n",
       "\n",
       "if(typeof(LDAvis) !== \"undefined\"){\n",
       "   // already loaded: just create the visualization\n",
       "   !function(LDAvis){\n",
       "       new LDAvis(\"#\" + \"ldavis_el725628745235216086213283414\", ldavis_el725628745235216086213283414_data);\n",
       "   }(LDAvis);\n",
       "}else if(typeof define === \"function\" && define.amd){\n",
       "   // require.js is available: use it to load d3/LDAvis\n",
       "   require.config({paths: {d3: \"https://cdnjs.cloudflare.com/ajax/libs/d3/3.5.5/d3.min\"}});\n",
       "   require([\"d3\"], function(d3){\n",
       "      window.d3 = d3;\n",
       "      LDAvis_load_lib(\"https://cdn.rawgit.com/bmabey/pyLDAvis/files/ldavis.v1.0.0.js\", function(){\n",
       "        new LDAvis(\"#\" + \"ldavis_el725628745235216086213283414\", ldavis_el725628745235216086213283414_data);\n",
       "      });\n",
       "    });\n",
       "}else{\n",
       "    // require.js not available: dynamically load d3 & LDAvis\n",
       "    LDAvis_load_lib(\"https://cdnjs.cloudflare.com/ajax/libs/d3/3.5.5/d3.min.js\", function(){\n",
       "         LDAvis_load_lib(\"https://cdn.rawgit.com/bmabey/pyLDAvis/files/ldavis.v1.0.0.js\", function(){\n",
       "                 new LDAvis(\"#\" + \"ldavis_el725628745235216086213283414\", ldavis_el725628745235216086213283414_data);\n",
       "            })\n",
       "         });\n",
       "}\n",
       "</script>"
      ],
      "text/plain": [
       "PreparedData(topic_coordinates=              x         y  topics  cluster       Freq\n",
       "topic                                                \n",
       "1      0.203239 -0.070411       1        1  49.425186\n",
       "3      0.023013 -0.057855       2        1  20.141872\n",
       "2     -0.005792  0.204591       3        1  16.411671\n",
       "0     -0.220460 -0.076325       4        1  14.021264, topic_info=    Category         Freq   Term        Total  loglift  logprob\n",
       "17   Default  1350.000000   love  1350.000000  30.0000  30.0000\n",
       "13   Default   761.000000  video   761.000000  29.0000  29.0000\n",
       "2    Default  1045.000000   like  1045.000000  28.0000  28.0000\n",
       "83   Default   398.000000  watch   398.000000  27.0000  27.0000\n",
       "54   Default   606.000000   good   606.000000  26.0000  26.0000\n",
       "..       ...          ...    ...          ...      ...      ...\n",
       "306   Topic4    20.952343  leave    75.519310   0.6825  -6.0746\n",
       "477   Topic4    23.108574    use   180.922729  -0.0933  -5.9766\n",
       "111   Topic4    24.335602   want   279.556335  -0.4767  -5.9249\n",
       "99    Topic4    23.201912    new   190.217285  -0.1393  -5.9726\n",
       "888   Topic4    19.004923   stay    43.599709   1.1342  -6.1721\n",
       "\n",
       "[262 rows x 6 columns], token_table=      Topic      Freq      Term\n",
       "term                           \n",
       "1994      2  0.983742       act\n",
       "234       2  0.025259  adorable\n",
       "234       3  0.959858  adorable\n",
       "1909      1  0.177768     agree\n",
       "1909      2  0.276528     agree\n",
       "...     ...       ...       ...\n",
       "84        2  0.329752       yes\n",
       "84        3  0.074944       yes\n",
       "84        4  0.517111       yes\n",
       "419       1  0.997339   youtube\n",
       "261       2  0.977587       zoe\n",
       "\n",
       "[380 rows x 3 columns], R=30, lambda_step=0.01, plot_opts={'xlab': 'PC1', 'ylab': 'PC2'}, topic_order=[2, 4, 3, 1])"
      ]
     },
     "execution_count": 40,
     "metadata": {},
     "output_type": "execute_result"
    }
   ],
   "source": [
    "# Visualize the topics\n",
    "pyLDAvis.enable_notebook()\n",
    "vis = pyLDAvis.gensim.prepare(lda_model_4_topics, corpus, words)\n",
    "vis"
   ]
  },
  {
   "cell_type": "code",
   "execution_count": null,
   "metadata": {},
   "outputs": [],
   "source": [
    "# Visualize the topics\n",
    "pyLDAvis.enable_notebook()\n",
    "vis = pyLDAvis.gensim.prepare(lda_model_14_topics, corpus, words)\n",
    "vis"
   ]
  },
  {
   "cell_type": "code",
   "execution_count": null,
   "metadata": {},
   "outputs": [],
   "source": [
    "# Visualize the topics\n",
    "pyLDAvis.enable_notebook()\n",
    "vis = pyLDAvis.gensim.prepare(lda_model_18_topics, corpus, words)\n",
    "vis"
   ]
  },
  {
   "cell_type": "markdown",
   "metadata": {},
   "source": [
    "Try the above calculation on a larger sample of comments"
   ]
  },
  {
   "cell_type": "code",
   "execution_count": null,
   "metadata": {},
   "outputs": [],
   "source": [
    "comm_docs_samp2 = random.sample(comm_docs,20000)"
   ]
  },
  {
   "cell_type": "code",
   "execution_count": null,
   "metadata": {},
   "outputs": [],
   "source": [
    "doc_list2 = []\n",
    "# Iterates through each article in the corpus.\n",
    "for doc in tqdm(comm_docs_samp2):\n",
    "    # Passes that article through the pipeline and adds to a new list.\n",
    "    pr = nlp(doc)\n",
    "    doc_list2.append(pr)"
   ]
  },
  {
   "cell_type": "markdown",
   "metadata": {},
   "source": [
    "Topic analysis using the spaCy pipeline to process the data seems a little better in that the topics are more spread out, but it is still difficult to interpret.\n",
    "\n",
    "I am going to try just having the spaCy output (word2vec) and use terms to see which are most related"
   ]
  },
  {
   "cell_type": "code",
   "execution_count": null,
   "metadata": {},
   "outputs": [],
   "source": [
    "comms_df = comms_df.dropna(subset=['textDisplay'])"
   ]
  },
  {
   "cell_type": "code",
   "execution_count": null,
   "metadata": {},
   "outputs": [],
   "source": [
    "comm_docs = comms_df['textDisplay']"
   ]
  },
  {
   "cell_type": "code",
   "execution_count": null,
   "metadata": {},
   "outputs": [],
   "source": [
    "comm_docs[0:5]"
   ]
  },
  {
   "cell_type": "code",
   "execution_count": null,
   "metadata": {},
   "outputs": [],
   "source": [
    "floats_list =[]\n",
    "for doc in comm_docs:\n",
    "    if type(doc) == type(1.2):\n",
    "        floats_list.append(doc)"
   ]
  },
  {
   "cell_type": "code",
   "execution_count": null,
   "metadata": {},
   "outputs": [],
   "source": [
    "floats_list"
   ]
  },
  {
   "cell_type": "code",
   "execution_count": null,
   "metadata": {},
   "outputs": [],
   "source": [
    "# Cleaning emojis\n",
    "def deEmojify(inputString):\n",
    "    return inputString.encode('ascii', 'ignore').decode('ascii')\n",
    "\n",
    "comm_docs = [deEmojify(doc) for doc in comm_docs]"
   ]
  },
  {
   "cell_type": "code",
   "execution_count": null,
   "metadata": {},
   "outputs": [],
   "source": [
    "def clean_text_spa(text):\n",
    "    # lower case:\n",
    "    text = text.lower()\n",
    "    # replace new line and return with space\n",
    "    text = text.replace(\"\\n\", \" \").replace(\"\\r\",\" \")\n",
    "    # replace punctuation marks with space\n",
    "    #punc_list = '!\"#$%&()*+,-./:;<=>?@[\\]{}|^_~' + '0123456789'\n",
    "    #t=str.maketrans(dict.fromkeys(punc_list, \" \"))\n",
    "    #text = text.translate(t)\n",
    "    # replace single quote with empty character\n",
    "    #t = str.maketrans(dict.fromkeys(\"'`\",\"\"))\n",
    "    #text = text.translate(t)\n",
    "    return text\n",
    "\n",
    "comm_docs = [clean_text_spa(doc) for doc in comm_docs]"
   ]
  },
  {
   "cell_type": "code",
   "execution_count": null,
   "metadata": {},
   "outputs": [],
   "source": [
    "comm_docs[20:35]"
   ]
  },
  {
   "cell_type": "markdown",
   "metadata": {},
   "source": [
    "## Load language model from spaCy - nlp()"
   ]
  },
  {
   "cell_type": "code",
   "execution_count": null,
   "metadata": {},
   "outputs": [],
   "source": [
    "nlp2 = spacy.load(\"en_core_web_lg\")"
   ]
  },
  {
   "cell_type": "markdown",
   "metadata": {},
   "source": [
    "## Choose a sample of 50,000 comments:"
   ]
  },
  {
   "cell_type": "code",
   "execution_count": null,
   "metadata": {},
   "outputs": [],
   "source": [
    "docs_samp = random.sample(comm_docs,50000)"
   ]
  },
  {
   "cell_type": "markdown",
   "metadata": {},
   "source": [
    "## Run the nlp pipeline on the comments"
   ]
  },
  {
   "cell_type": "code",
   "execution_count": null,
   "metadata": {},
   "outputs": [],
   "source": [
    "spa_docs= []\n",
    "for doc in tqdm(docs_samp):\n",
    "    # Passes that article through the pipeline and adds to a new list.\n",
    "    pr = nlp2(doc)\n",
    "    spa_docs.append(pr)"
   ]
  },
  {
   "cell_type": "code",
   "execution_count": null,
   "metadata": {},
   "outputs": [],
   "source": [
    "from sklearn.metrics.pairwise import cosine_similarity"
   ]
  },
  {
   "cell_type": "markdown",
   "metadata": {},
   "source": [
    "## Assign a keyword/s of interest"
   ]
  },
  {
   "cell_type": "code",
   "execution_count": null,
   "metadata": {},
   "outputs": [],
   "source": [
    "eg_doc = nlp2('canon')"
   ]
  },
  {
   "cell_type": "code",
   "execution_count": null,
   "metadata": {},
   "outputs": [],
   "source": [
    "# Create a matrix of the search term/s doc:\n",
    "eg_vec = eg_doc.vector.reshape(1,-1)"
   ]
  },
  {
   "cell_type": "code",
   "execution_count": null,
   "metadata": {
    "scrolled": true
   },
   "outputs": [],
   "source": [
    "eg_vec.shape"
   ]
  },
  {
   "cell_type": "markdown",
   "metadata": {},
   "source": [
    "## Matrix database"
   ]
  },
  {
   "cell_type": "code",
   "execution_count": null,
   "metadata": {},
   "outputs": [],
   "source": [
    "# Create a matrix of the database:\n",
    "\n",
    "# Empty matrix\n",
    "comms_vec = np.zeros((len(spa_docs),300))\n",
    "\n",
    "# Go through each doc and save the word2vec vector to the matrix:\n",
    "for idx,doc in enumerate(spa_docs):\n",
    "    comms_vec[idx] = doc.vector.reshape(1,-1)"
   ]
  },
  {
   "cell_type": "code",
   "execution_count": null,
   "metadata": {},
   "outputs": [],
   "source": [
    "comms_vec.shape"
   ]
  },
  {
   "cell_type": "code",
   "execution_count": null,
   "metadata": {},
   "outputs": [],
   "source": [
    "np.transpose(comms_vec).shape"
   ]
  },
  {
   "cell_type": "markdown",
   "metadata": {},
   "source": [
    "## Cosine similarity between keyword/s with the database of comments:"
   ]
  },
  {
   "cell_type": "code",
   "execution_count": null,
   "metadata": {},
   "outputs": [],
   "source": [
    "sim_mat = cosine_similarity(eg_vec,comms_vec)"
   ]
  },
  {
   "cell_type": "markdown",
   "metadata": {},
   "source": [
    "## Set a threshold of similarity for comments with keyword/s"
   ]
  },
  {
   "cell_type": "code",
   "execution_count": null,
   "metadata": {},
   "outputs": [],
   "source": [
    "tf_ar = sim_mat > 0.42"
   ]
  },
  {
   "cell_type": "code",
   "execution_count": null,
   "metadata": {},
   "outputs": [],
   "source": [
    "result = [x for idx,x in enumerate(spa_docs) if tf_ar[0][idx]]"
   ]
  },
  {
   "cell_type": "code",
   "execution_count": null,
   "metadata": {},
   "outputs": [],
   "source": [
    "np.transpose(sim_mat)"
   ]
  },
  {
   "cell_type": "code",
   "execution_count": null,
   "metadata": {
    "scrolled": false
   },
   "outputs": [],
   "source": [
    "for res in result:\n",
    "    print(res)\n",
    "    print('\\n')"
   ]
  },
  {
   "cell_type": "code",
   "execution_count": null,
   "metadata": {},
   "outputs": [],
   "source": [
    "for "
   ]
  },
  {
   "cell_type": "code",
   "execution_count": null,
   "metadata": {},
   "outputs": [],
   "source": [
    "sim_mat[np.where(sim_mat>0.5)]"
   ]
  },
  {
   "cell_type": "code",
   "execution_count": null,
   "metadata": {},
   "outputs": [],
   "source": [
    "def getKey(item):\n",
    "    return item[0]"
   ]
  },
  {
   "cell_type": "code",
   "execution_count": null,
   "metadata": {},
   "outputs": [],
   "source": [
    "comms_vec[0] = eg_vec"
   ]
  },
  {
   "cell_type": "code",
   "execution_count": null,
   "metadata": {},
   "outputs": [],
   "source": [
    "comms_vec[0:5]"
   ]
  },
  {
   "cell_type": "code",
   "execution_count": null,
   "metadata": {},
   "outputs": [],
   "source": [
    "sim_comments = []\n",
    "idx_comments = []\n",
    "for idx,doc in enumerate(spa_docs):\n",
    "    dist = cosine_similarity(eg_doc.vector.reshape(1,-1),doc.vector.reshape(1,-1))\n",
    "    if dist > 0.35:\n",
    "        sim_comments.append((float(dist),doc))\n",
    "        idx_comments.append(idx)"
   ]
  },
  {
   "cell_type": "code",
   "execution_count": null,
   "metadata": {},
   "outputs": [],
   "source": [
    "sorted(sim_comments, key=getKey, reverse=True)"
   ]
  },
  {
   "cell_type": "code",
   "execution_count": null,
   "metadata": {},
   "outputs": [],
   "source": [
    "for doc in sim_comments:\n",
    "    print(doc.sentiment)"
   ]
  },
  {
   "cell_type": "code",
   "execution_count": null,
   "metadata": {},
   "outputs": [],
   "source": [
    "from textblob import Textblob"
   ]
  },
  {
   "cell_type": "code",
   "execution_count": null,
   "metadata": {},
   "outputs": [],
   "source": [
    "for idx,doc in enumerate(longer_docs[1:]):\n",
    "    if 'hairdresser' in doc.text:\n",
    "        print(doc)\n",
    "        idx_min = idx"
   ]
  },
  {
   "cell_type": "markdown",
   "metadata": {},
   "source": [
    "### I'm happy with how the comments are coming out now, the main problem is sentiment but textblob doesn't want to load\n",
    "\n",
    "### I will start a new Notebook to get that done\n",
    "\n",
    "### For now I will just run the nlp2() pipeline I have on all the comment data I have"
   ]
  },
  {
   "cell_type": "code",
   "execution_count": null,
   "metadata": {},
   "outputs": [],
   "source": [
    "comm_docs_spa = []\n",
    "for doc in tqdm(comm_docs):\n",
    "    # Passes that article through the pipeline and adds to a new list.\n",
    "    pr = nlp2(doc)\n",
    "    comm_docs_spa.append(pr)"
   ]
  },
  {
   "cell_type": "markdown",
   "metadata": {},
   "source": [
    "### Figure out pickling:"
   ]
  },
  {
   "cell_type": "code",
   "execution_count": null,
   "metadata": {},
   "outputs": [],
   "source": [
    "type(spa_docs[50])"
   ]
  },
  {
   "cell_type": "code",
   "execution_count": null,
   "metadata": {},
   "outputs": [],
   "source": [
    "with open('comms_spa.pkl', 'wb') as f:\n",
    "    pickle.dump(spa_docs, f)"
   ]
  },
  {
   "cell_type": "markdown",
   "metadata": {},
   "source": [
    "Worked in the next notebook, i.e. reopened (however file size is quite large)"
   ]
  },
  {
   "cell_type": "code",
   "execution_count": null,
   "metadata": {},
   "outputs": [],
   "source": []
  }
 ],
 "metadata": {
  "kernelspec": {
   "display_name": "Python 3",
   "language": "python",
   "name": "python3"
  },
  "language_info": {
   "codemirror_mode": {
    "name": "ipython",
    "version": 3
   },
   "file_extension": ".py",
   "mimetype": "text/x-python",
   "name": "python",
   "nbconvert_exporter": "python",
   "pygments_lexer": "ipython3",
   "version": "3.7.6"
  }
 },
 "nbformat": 4,
 "nbformat_minor": 2
}
