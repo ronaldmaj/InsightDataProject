{
 "cells": [
  {
   "cell_type": "markdown",
   "metadata": {},
   "source": [
    "# 2020-01-15\n",
    "\n",
    "### Scratch Book - Testing YouTube API\n",
    "\n",
    "In this notebook, I will just be testing out some code to see the functionality of Google's YouTube API.\n",
    "This is the main way that I will be gathering my comment data.\n",
    "\n",
    "I have set up a Google Developer account in order to use the YouTube API, obtained a developer key and used the sample code from the Google website \n",
    "https://developers.google.com/youtube/v3/code_samples/code_snippets\n",
    "\n",
    "Altering the code for a commentThread request I have the code below:"
   ]
  },
  {
   "cell_type": "code",
   "execution_count": 1,
   "metadata": {},
   "outputs": [],
   "source": [
    "# -*- coding: utf-8 -*-\n",
    "\n",
    "# Sample Python code for youtube.commentThreads.list\n",
    "# See instructions for running these code samples locally:\n",
    "# https://developers.google.com/explorer-help/guides/code_samples#python\n",
    "\n",
    "import os\n",
    "import json\n",
    "import googleapiclient.discovery"
   ]
  },
  {
   "cell_type": "code",
   "execution_count": 2,
   "metadata": {},
   "outputs": [],
   "source": [
    "with open(os.getcwd()[0:19]+'\\\\Documents\\\\GitHub\\\\YT_API_key.txt','r') as f_API:\n",
    "    DEVELOPER_KEY = f_API.read()"
   ]
  },
  {
   "cell_type": "code",
   "execution_count": 3,
   "metadata": {},
   "outputs": [],
   "source": [
    "def get_comment_content(order_option):\n",
    "    # Disable OAuthlib's HTTPS verification when running locally.\n",
    "    # *DO NOT* leave this option enabled in production.\n",
    "    os.environ[\"OAUTHLIB_INSECURE_TRANSPORT\"] = \"1\"\n",
    "\n",
    "    api_service_name = \"youtube\"\n",
    "    api_version = \"v3\"\n",
    "\n",
    "    youtube = googleapiclient.discovery.build(\n",
    "        api_service_name, api_version, developerKey = DEVELOPER_KEY)\n",
    "\n",
    "    request = youtube.commentThreads().list(\n",
    "        part=\"snippet,replies\",\n",
    "        maxResults=100,\n",
    "        order=order_option,\n",
    "        textFormat=\"plainText\",\n",
    "        videoId=\"Vz8X2bhyNnE\"\n",
    "    )\n",
    "    response = request.execute()\n",
    "\n",
    "    return response"
   ]
  },
  {
   "cell_type": "markdown",
   "metadata": {},
   "source": [
    "Do an API call for comment content, with comments ordered by relevance and time"
   ]
  },
  {
   "cell_type": "code",
   "execution_count": 4,
   "metadata": {},
   "outputs": [],
   "source": [
    "comments100_JSON = get_comment_content(\"relevance\")"
   ]
  },
  {
   "cell_type": "code",
   "execution_count": 5,
   "metadata": {},
   "outputs": [],
   "source": [
    "comments100_JSON_time = get_comment_content(\"time\")"
   ]
  },
  {
   "cell_type": "code",
   "execution_count": 6,
   "metadata": {},
   "outputs": [
    {
     "data": {
      "text/plain": [
       "dict"
      ]
     },
     "execution_count": 6,
     "metadata": {},
     "output_type": "execute_result"
    }
   ],
   "source": [
    "# TO reference individual comments, need to figure out how best to \"parse\" the information. Type of object is:\n",
    "type(comments100_JSON_time)"
   ]
  },
  {
   "cell_type": "code",
   "execution_count": 7,
   "metadata": {},
   "outputs": [
    {
     "data": {
      "text/plain": [
       "dict_keys(['kind', 'etag', 'nextPageToken', 'pageInfo', 'items'])"
      ]
     },
     "execution_count": 7,
     "metadata": {},
     "output_type": "execute_result"
    }
   ],
   "source": [
    "comments100_JSON_time.keys()"
   ]
  },
  {
   "cell_type": "code",
   "execution_count": 8,
   "metadata": {},
   "outputs": [
    {
     "data": {
      "text/plain": [
       "100"
      ]
     },
     "execution_count": 8,
     "metadata": {},
     "output_type": "execute_result"
    }
   ],
   "source": [
    "# With a dict can get key,value pairs of information\n",
    "len(comments100_JSON_time[\"items\"]) # items contains a list of another series of dicts"
   ]
  },
  {
   "cell_type": "code",
   "execution_count": 9,
   "metadata": {},
   "outputs": [
    {
     "data": {
      "text/plain": [
       "dict_keys(['kind', 'etag', 'id', 'snippet'])"
      ]
     },
     "execution_count": 9,
     "metadata": {},
     "output_type": "execute_result"
    }
   ],
   "source": [
    "# For individual comment, go through series of keys to get to the comment\n",
    "comments100_JSON_time[\"items\"][0].keys()"
   ]
  },
  {
   "cell_type": "code",
   "execution_count": 10,
   "metadata": {},
   "outputs": [
    {
     "data": {
      "text/plain": [
       "'youtube#commentThread'"
      ]
     },
     "execution_count": 10,
     "metadata": {},
     "output_type": "execute_result"
    }
   ],
   "source": [
    "comments100_JSON_time[\"items\"][0]['kind']"
   ]
  },
  {
   "cell_type": "code",
   "execution_count": 11,
   "metadata": {},
   "outputs": [
    {
     "data": {
      "text/plain": [
       "dict_keys(['videoId', 'topLevelComment', 'canReply', 'totalReplyCount', 'isPublic'])"
      ]
     },
     "execution_count": 11,
     "metadata": {},
     "output_type": "execute_result"
    }
   ],
   "source": [
    "comments100_JSON_time[\"items\"][0][\"snippet\"].keys()"
   ]
  },
  {
   "cell_type": "code",
   "execution_count": 12,
   "metadata": {},
   "outputs": [
    {
     "data": {
      "text/plain": [
       "0"
      ]
     },
     "execution_count": 12,
     "metadata": {},
     "output_type": "execute_result"
    }
   ],
   "source": [
    "comments100_JSON_time[\"items\"][0][\"snippet\"]['totalReplyCount']"
   ]
  },
  {
   "cell_type": "code",
   "execution_count": 13,
   "metadata": {},
   "outputs": [
    {
     "data": {
      "text/plain": [
       "dict_keys(['kind', 'etag', 'id', 'snippet'])"
      ]
     },
     "execution_count": 13,
     "metadata": {},
     "output_type": "execute_result"
    }
   ],
   "source": [
    "comments100_JSON_time[\"items\"][0][\"snippet\"][\"topLevelComment\"].keys()"
   ]
  },
  {
   "cell_type": "code",
   "execution_count": 14,
   "metadata": {},
   "outputs": [
    {
     "data": {
      "text/plain": [
       "'youtube#comment'"
      ]
     },
     "execution_count": 14,
     "metadata": {},
     "output_type": "execute_result"
    }
   ],
   "source": [
    "comments100_JSON_time[\"items\"][0][\"snippet\"][\"topLevelComment\"]['kind']"
   ]
  },
  {
   "cell_type": "code",
   "execution_count": 15,
   "metadata": {},
   "outputs": [
    {
     "data": {
      "text/plain": [
       "dict_keys(['authorDisplayName', 'authorProfileImageUrl', 'authorChannelUrl', 'authorChannelId', 'videoId', 'textDisplay', 'textOriginal', 'canRate', 'viewerRating', 'likeCount', 'publishedAt', 'updatedAt'])"
      ]
     },
     "execution_count": 15,
     "metadata": {},
     "output_type": "execute_result"
    }
   ],
   "source": [
    "comments100_JSON_time[\"items\"][0][\"snippet\"][\"topLevelComment\"][\"snippet\"].keys()"
   ]
  },
  {
   "cell_type": "code",
   "execution_count": 16,
   "metadata": {},
   "outputs": [
    {
     "data": {
      "text/plain": [
       "\"I'm foorting\""
      ]
     },
     "execution_count": 16,
     "metadata": {},
     "output_type": "execute_result"
    }
   ],
   "source": [
    "comments100_JSON_time[\"items\"][0][\"snippet\"][\"topLevelComment\"][\"snippet\"][\"textDisplay\"]"
   ]
  },
  {
   "cell_type": "code",
   "execution_count": 17,
   "metadata": {},
   "outputs": [
    {
     "data": {
      "text/plain": [
       "'2020-01-18T03:19:32.000Z'"
      ]
     },
     "execution_count": 17,
     "metadata": {},
     "output_type": "execute_result"
    }
   ],
   "source": [
    "comments100_JSON_time[\"items\"][0][\"snippet\"][\"topLevelComment\"][\"snippet\"][\"publishedAt\"]"
   ]
  },
  {
   "cell_type": "markdown",
   "metadata": {},
   "source": [
    "So it looks like when you do a request for comments based on time, it gives you the latest comments.\n",
    "\n",
    "# 2020-01-16\n",
    "\n",
    "#### For the time being, just want to save as many comments as possible in one go:"
   ]
  },
  {
   "cell_type": "code",
   "execution_count": 18,
   "metadata": {},
   "outputs": [],
   "source": [
    "def get_comments_page(vid_ID, order_option,pagetok=None):\n",
    "    # Disable OAuthlib's HTTPS verification when running locally.\n",
    "    # *DO NOT* leave this option enabled in production.\n",
    "    os.environ[\"OAUTHLIB_INSECURE_TRANSPORT\"] = \"1\"\n",
    "\n",
    "    api_service_name = \"youtube\"\n",
    "    api_version = \"v3\"\n",
    "    \n",
    "\n",
    "    youtube = googleapiclient.discovery.build(\n",
    "        api_service_name, api_version, developerKey = DEVELOPER_KEY)\n",
    "\n",
    "    request = youtube.commentThreads().list(\n",
    "        part=\"snippet,replies\",\n",
    "        maxResults=100,\n",
    "        order=order_option,\n",
    "        pageToken = pagetok,\n",
    "        textFormat=\"plainText\",\n",
    "        videoId=vid_ID\n",
    "    )\n",
    "    response = request.execute()\n",
    "\n",
    "    return response"
   ]
  },
  {
   "cell_type": "code",
   "execution_count": 19,
   "metadata": {},
   "outputs": [],
   "source": [
    "# Few example videos to start with\n",
    "drew_vid = \"S79hAIZBRN0\"\n",
    "clement_vid = \"3Q_oYDQ2whs\"\n",
    "techlead_vid = \"7t2X-kMhPIA\""
   ]
  },
  {
   "cell_type": "code",
   "execution_count": 20,
   "metadata": {},
   "outputs": [],
   "source": [
    "# Run through the basic function to see what happens at the end of the line of comments"
   ]
  },
  {
   "cell_type": "code",
   "execution_count": 21,
   "metadata": {},
   "outputs": [],
   "source": [
    "currentcomments1 = get_comments_page(clement_vid,'time')"
   ]
  },
  {
   "cell_type": "code",
   "execution_count": 22,
   "metadata": {},
   "outputs": [
    {
     "data": {
      "text/plain": [
       "100"
      ]
     },
     "execution_count": 22,
     "metadata": {},
     "output_type": "execute_result"
    }
   ],
   "source": [
    "len(currentcomments1['items'])"
   ]
  },
  {
   "cell_type": "code",
   "execution_count": 23,
   "metadata": {},
   "outputs": [],
   "source": [
    "currentcomments2 = get_comments_page(clement_vid, 'time',pagetok=currentcomments1['nextPageToken'])"
   ]
  },
  {
   "cell_type": "code",
   "execution_count": 24,
   "metadata": {},
   "outputs": [
    {
     "data": {
      "text/plain": [
       "100"
      ]
     },
     "execution_count": 24,
     "metadata": {},
     "output_type": "execute_result"
    }
   ],
   "source": [
    "len(currentcomments2['items'])"
   ]
  },
  {
   "cell_type": "code",
   "execution_count": 25,
   "metadata": {},
   "outputs": [],
   "source": [
    "currentcomments3 = get_comments_page(clement_vid, 'time',pagetok=currentcomments2['nextPageToken'])"
   ]
  },
  {
   "cell_type": "code",
   "execution_count": 26,
   "metadata": {},
   "outputs": [
    {
     "data": {
      "text/plain": [
       "55"
      ]
     },
     "execution_count": 26,
     "metadata": {},
     "output_type": "execute_result"
    }
   ],
   "source": [
    "len(currentcomments3['items'])"
   ]
  },
  {
   "cell_type": "code",
   "execution_count": 27,
   "metadata": {},
   "outputs": [
    {
     "ename": "KeyError",
     "evalue": "'nextPageToken'",
     "output_type": "error",
     "traceback": [
      "\u001b[1;31m---------------------------------------------------------------------------\u001b[0m",
      "\u001b[1;31mKeyError\u001b[0m                                  Traceback (most recent call last)",
      "\u001b[1;32m<ipython-input-27-44554c9c956a>\u001b[0m in \u001b[0;36m<module>\u001b[1;34m\u001b[0m\n\u001b[1;32m----> 1\u001b[1;33m \u001b[0mcurrentcomments4\u001b[0m \u001b[1;33m=\u001b[0m \u001b[0mget_comments_page\u001b[0m\u001b[1;33m(\u001b[0m\u001b[0mclement_vid\u001b[0m\u001b[1;33m,\u001b[0m \u001b[1;34m'relevance'\u001b[0m\u001b[1;33m,\u001b[0m\u001b[0mpagetok\u001b[0m\u001b[1;33m=\u001b[0m\u001b[0mcurrentcomments3\u001b[0m\u001b[1;33m[\u001b[0m\u001b[1;34m'nextPageToken'\u001b[0m\u001b[1;33m]\u001b[0m\u001b[1;33m)\u001b[0m\u001b[1;33m\u001b[0m\u001b[1;33m\u001b[0m\u001b[0m\n\u001b[0m",
      "\u001b[1;31mKeyError\u001b[0m: 'nextPageToken'"
     ]
    }
   ],
   "source": [
    "currentcomments4 = get_comments_page(clement_vid, 'relevance',pagetok=currentcomments3['nextPageToken'])"
   ]
  },
  {
   "cell_type": "markdown",
   "metadata": {},
   "source": [
    "#### Although on the YouTube website states this video has just over 400 comments, the list seems to have maxed out at 255. \n",
    "\n",
    "#### Therefore, a KeyError was thrown up."
   ]
  },
  {
   "cell_type": "code",
   "execution_count": 28,
   "metadata": {},
   "outputs": [],
   "source": [
    "# Automate the process\n",
    "# Get all the comments from a YouTube video, by running first instance of function and while loop to wait till the end\n",
    "nxt_pg_flag = 1\n",
    "items_list = []\n",
    "\n",
    "currentcomments = get_comments_page(clement_vid,'time')\n",
    "items_list = items_list + currentcomments[\"items\"]\n",
    "priorcomments = currentcomments\n",
    "\n",
    "while nxt_pg_flag == 1:\n",
    "    try:\n",
    "        currentcomments = get_comments_page(clement_vid,'time',priorcomments['nextPageToken'])\n",
    "        items_list = items_list + currentcomments[\"items\"]\n",
    "        priorcomments = currentcomments\n",
    "    except KeyError:\n",
    "        nxt_pg_flag = 0"
   ]
  },
  {
   "cell_type": "code",
   "execution_count": 29,
   "metadata": {},
   "outputs": [
    {
     "data": {
      "text/plain": [
       "255"
      ]
     },
     "execution_count": 29,
     "metadata": {},
     "output_type": "execute_result"
    }
   ],
   "source": [
    "len(items_list)"
   ]
  },
  {
   "cell_type": "markdown",
   "metadata": {},
   "source": [
    "#### Exploration of the dictionary structure created from the json conversion"
   ]
  },
  {
   "cell_type": "code",
   "execution_count": 30,
   "metadata": {},
   "outputs": [
    {
     "data": {
      "text/plain": [
       "dict_keys(['kind', 'etag', 'id', 'snippet', 'replies'])"
      ]
     },
     "execution_count": 30,
     "metadata": {},
     "output_type": "execute_result"
    }
   ],
   "source": [
    "items_list[0].keys()"
   ]
  },
  {
   "cell_type": "code",
   "execution_count": 31,
   "metadata": {},
   "outputs": [
    {
     "data": {
      "text/plain": [
       "dict_keys(['authorDisplayName', 'authorProfileImageUrl', 'authorChannelUrl', 'authorChannelId', 'videoId', 'textDisplay', 'textOriginal', 'canRate', 'viewerRating', 'likeCount', 'publishedAt', 'updatedAt'])"
      ]
     },
     "execution_count": 31,
     "metadata": {},
     "output_type": "execute_result"
    }
   ],
   "source": [
    "items_list[1]['snippet'][\"topLevelComment\"]['snippet'].keys()"
   ]
  },
  {
   "cell_type": "code",
   "execution_count": 32,
   "metadata": {},
   "outputs": [
    {
     "data": {
      "text/plain": [
       "dict_keys(['kind', 'etag', 'id', 'snippet'])"
      ]
     },
     "execution_count": 32,
     "metadata": {},
     "output_type": "execute_result"
    }
   ],
   "source": [
    "items_list[0]['replies']['comments'][0].keys()"
   ]
  },
  {
   "cell_type": "code",
   "execution_count": 33,
   "metadata": {},
   "outputs": [
    {
     "data": {
      "text/plain": [
       "dict_keys(['authorDisplayName', 'authorProfileImageUrl', 'authorChannelUrl', 'authorChannelId', 'videoId', 'textDisplay', 'textOriginal', 'parentId', 'canRate', 'viewerRating', 'likeCount', 'publishedAt', 'updatedAt'])"
      ]
     },
     "execution_count": 33,
     "metadata": {},
     "output_type": "execute_result"
    }
   ],
   "source": [
    "items_list[0]['replies']['comments'][0]['snippet'].keys()"
   ]
  },
  {
   "cell_type": "code",
   "execution_count": 34,
   "metadata": {},
   "outputs": [
    {
     "data": {
      "text/plain": [
       "{'authorDisplayName': 'Charles Gambill',\n",
       " 'authorProfileImageUrl': 'https://yt3.ggpht.com/a/AGF-l7-2heYCxjLqN7_Kie8egBPEzTTJLusZo-KqIw=s48-c-k-c0xffffffff-no-rj-mo',\n",
       " 'authorChannelUrl': 'http://www.youtube.com/channel/UC-lM44XLGaYoayCVsjRwcvQ',\n",
       " 'authorChannelId': {'value': 'UC-lM44XLGaYoayCVsjRwcvQ'},\n",
       " 'videoId': '3Q_oYDQ2whs',\n",
       " 'textDisplay': \"I feel like the best way to do this problem is to graph the times that they both have meetings then look for places that are blank for person a and b, c ... If needed. Then see if they they are less than x min but I don't code\",\n",
       " 'textOriginal': \"I feel like the best way to do this problem is to graph the times that they both have meetings then look for places that are blank for person a and b, c ... If needed. Then see if they they are less than x min but I don't code\",\n",
       " 'parentId': 'UgycV2LRqaKxQq1JAid4AaABAg',\n",
       " 'canRate': True,\n",
       " 'viewerRating': 'none',\n",
       " 'likeCount': 0,\n",
       " 'publishedAt': '2020-01-13T22:12:42.000Z',\n",
       " 'updatedAt': '2020-01-13T22:21:37.000Z'}"
      ]
     },
     "execution_count": 34,
     "metadata": {},
     "output_type": "execute_result"
    }
   ],
   "source": [
    "items_list[0]['replies']['comments'][0]['snippet']"
   ]
  },
  {
   "cell_type": "code",
   "execution_count": 35,
   "metadata": {},
   "outputs": [
    {
     "data": {
      "text/plain": [
       "{'value': 'UC-lM44XLGaYoayCVsjRwcvQ'}"
      ]
     },
     "execution_count": 35,
     "metadata": {},
     "output_type": "execute_result"
    }
   ],
   "source": [
    "items_list[0]['replies']['comments'][0]['snippet']['authorChannelId']"
   ]
  },
  {
   "cell_type": "code",
   "execution_count": 36,
   "metadata": {},
   "outputs": [
    {
     "data": {
      "text/plain": [
       "'UC-lM44XLGaYoayCVsjRwcvQ'"
      ]
     },
     "execution_count": 36,
     "metadata": {},
     "output_type": "execute_result"
    }
   ],
   "source": [
    "items_list[0]['replies']['comments'][0]['snippet']['authorChannelId']['value']"
   ]
  },
  {
   "cell_type": "code",
   "execution_count": 37,
   "metadata": {},
   "outputs": [
    {
     "data": {
      "text/plain": [
       "dict_keys(['videoId', 'topLevelComment', 'canReply', 'totalReplyCount', 'isPublic'])"
      ]
     },
     "execution_count": 37,
     "metadata": {},
     "output_type": "execute_result"
    }
   ],
   "source": [
    "items_list[1]['snippet'].keys()"
   ]
  },
  {
   "cell_type": "code",
   "execution_count": 38,
   "metadata": {
    "scrolled": true
   },
   "outputs": [
    {
     "data": {
      "text/plain": [
       "'UC0qmeWFt4MdEfwnVOFkxnrw'"
      ]
     },
     "execution_count": 38,
     "metadata": {},
     "output_type": "execute_result"
    }
   ],
   "source": [
    "items_list[1]['snippet'][\"topLevelComment\"]['snippet']['authorChannelId']['value']"
   ]
  },
  {
   "cell_type": "code",
   "execution_count": 39,
   "metadata": {
    "scrolled": true
   },
   "outputs": [
    {
     "data": {
      "text/plain": [
       "dict_keys(['authorDisplayName', 'authorProfileImageUrl', 'authorChannelUrl', 'authorChannelId', 'videoId', 'textDisplay', 'textOriginal', 'canRate', 'viewerRating', 'likeCount', 'publishedAt', 'updatedAt'])"
      ]
     },
     "execution_count": 39,
     "metadata": {},
     "output_type": "execute_result"
    }
   ],
   "source": [
    "items_list[1]['snippet'][\"topLevelComment\"]['snippet'].keys()"
   ]
  },
  {
   "cell_type": "code",
   "execution_count": 40,
   "metadata": {},
   "outputs": [
    {
     "data": {
      "text/plain": [
       "{'authorDisplayName': 'Seven Time',\n",
       " 'authorProfileImageUrl': 'https://yt3.ggpht.com/a/AGF-l7_Tk8rnkAsdUwrZrlVfCw_mCCGyUhCWnJJ2vA=s48-c-k-c0xffffffff-no-rj-mo',\n",
       " 'authorChannelUrl': 'http://www.youtube.com/channel/UC0qmeWFt4MdEfwnVOFkxnrw',\n",
       " 'authorChannelId': {'value': 'UC0qmeWFt4MdEfwnVOFkxnrw'},\n",
       " 'videoId': '3Q_oYDQ2whs',\n",
       " 'textDisplay': \"Seriously, this solution is very overcomplicated and hard to read, doesn't use any OOP principles... :/ Solved this question in like 15 min...\",\n",
       " 'textOriginal': \"Seriously, this solution is very overcomplicated and hard to read, doesn't use any OOP principles... :/ Solved this question in like 15 min...\",\n",
       " 'canRate': True,\n",
       " 'viewerRating': 'none',\n",
       " 'likeCount': 0,\n",
       " 'publishedAt': '2020-01-18T03:17:12.000Z',\n",
       " 'updatedAt': '2020-01-18T03:17:12.000Z'}"
      ]
     },
     "execution_count": 40,
     "metadata": {},
     "output_type": "execute_result"
    }
   ],
   "source": [
    "items_list[1]['snippet'][\"topLevelComment\"]['snippet']"
   ]
  },
  {
   "cell_type": "markdown",
   "metadata": {},
   "source": [
    "# 2020-01-17\n",
    "\n",
    "Create a pandas dataframe out of the comment information that is received.\n",
    "\n",
    "Afterwards perhaps, I can store it in an SQL database"
   ]
  },
  {
   "cell_type": "code",
   "execution_count": 41,
   "metadata": {},
   "outputs": [],
   "source": [
    "import pandas as pd"
   ]
  },
  {
   "cell_type": "code",
   "execution_count": 42,
   "metadata": {},
   "outputs": [],
   "source": [
    "cols = ['CommID'] + list(items_list[0]['snippet'][\"topLevelComment\"]['snippet'].keys()) + ['parentId']\n",
    "df_comms = pd.DataFrame(columns=cols)"
   ]
  },
  {
   "cell_type": "code",
   "execution_count": 43,
   "metadata": {},
   "outputs": [
    {
     "data": {
      "text/html": [
       "<div>\n",
       "<style scoped>\n",
       "    .dataframe tbody tr th:only-of-type {\n",
       "        vertical-align: middle;\n",
       "    }\n",
       "\n",
       "    .dataframe tbody tr th {\n",
       "        vertical-align: top;\n",
       "    }\n",
       "\n",
       "    .dataframe thead th {\n",
       "        text-align: right;\n",
       "    }\n",
       "</style>\n",
       "<table border=\"1\" class=\"dataframe\">\n",
       "  <thead>\n",
       "    <tr style=\"text-align: right;\">\n",
       "      <th></th>\n",
       "      <th>CommID</th>\n",
       "      <th>authorDisplayName</th>\n",
       "      <th>authorProfileImageUrl</th>\n",
       "      <th>authorChannelUrl</th>\n",
       "      <th>authorChannelId</th>\n",
       "      <th>videoId</th>\n",
       "      <th>textDisplay</th>\n",
       "      <th>textOriginal</th>\n",
       "      <th>canRate</th>\n",
       "      <th>viewerRating</th>\n",
       "      <th>likeCount</th>\n",
       "      <th>publishedAt</th>\n",
       "      <th>updatedAt</th>\n",
       "      <th>parentId</th>\n",
       "    </tr>\n",
       "  </thead>\n",
       "  <tbody>\n",
       "  </tbody>\n",
       "</table>\n",
       "</div>"
      ],
      "text/plain": [
       "Empty DataFrame\n",
       "Columns: [CommID, authorDisplayName, authorProfileImageUrl, authorChannelUrl, authorChannelId, videoId, textDisplay, textOriginal, canRate, viewerRating, likeCount, publishedAt, updatedAt, parentId]\n",
       "Index: []"
      ]
     },
     "execution_count": 43,
     "metadata": {},
     "output_type": "execute_result"
    }
   ],
   "source": [
    "df_comms"
   ]
  },
  {
   "cell_type": "code",
   "execution_count": 44,
   "metadata": {},
   "outputs": [],
   "source": [
    "for item in items_list:\n",
    "    \n",
    "    data = {\"CommID\": item['id'], 'parentId': 0}\n",
    "    data.update(item['snippet'][\"topLevelComment\"]['snippet'])\n",
    "    df_comms = df_comms.append(data,ignore_index=True)\n",
    "    \n",
    "    if 'replies' in item.keys():\n",
    "        for reply in item['replies']['comments']:\n",
    "            data = {\"CommID\": reply['id']}\n",
    "            data.update(reply['snippet'])\n",
    "            df_comms = df_comms.append(data,ignore_index=True)"
   ]
  },
  {
   "cell_type": "code",
   "execution_count": 45,
   "metadata": {},
   "outputs": [
    {
     "data": {
      "text/html": [
       "<div>\n",
       "<style scoped>\n",
       "    .dataframe tbody tr th:only-of-type {\n",
       "        vertical-align: middle;\n",
       "    }\n",
       "\n",
       "    .dataframe tbody tr th {\n",
       "        vertical-align: top;\n",
       "    }\n",
       "\n",
       "    .dataframe thead th {\n",
       "        text-align: right;\n",
       "    }\n",
       "</style>\n",
       "<table border=\"1\" class=\"dataframe\">\n",
       "  <thead>\n",
       "    <tr style=\"text-align: right;\">\n",
       "      <th></th>\n",
       "      <th>authorDisplayName</th>\n",
       "      <th>textDisplay</th>\n",
       "      <th>publishedAt</th>\n",
       "      <th>parentId</th>\n",
       "    </tr>\n",
       "  </thead>\n",
       "  <tbody>\n",
       "    <tr>\n",
       "      <th>0</th>\n",
       "      <td>Clément Mihailescu</td>\n",
       "      <td>Big thanks to Tim for being willing to do this...</td>\n",
       "      <td>2019-12-26T14:44:47.000Z</td>\n",
       "      <td>0</td>\n",
       "    </tr>\n",
       "    <tr>\n",
       "      <th>1</th>\n",
       "      <td>Charles Gambill</td>\n",
       "      <td>I feel like the best way to do this problem is...</td>\n",
       "      <td>2020-01-13T22:12:42.000Z</td>\n",
       "      <td>UgycV2LRqaKxQq1JAid4AaABAg</td>\n",
       "    </tr>\n",
       "    <tr>\n",
       "      <th>2</th>\n",
       "      <td>Simant Kaushik Luitel</td>\n",
       "      <td>I paused the video and started coding after se...</td>\n",
       "      <td>2020-01-01T16:22:34.000Z</td>\n",
       "      <td>UgycV2LRqaKxQq1JAid4AaABAg</td>\n",
       "    </tr>\n",
       "    <tr>\n",
       "      <th>3</th>\n",
       "      <td>Arya Nando</td>\n",
       "      <td>stop the google.docx  its hurting my eyes sdna...</td>\n",
       "      <td>2020-01-01T08:02:08.000Z</td>\n",
       "      <td>UgycV2LRqaKxQq1JAid4AaABAg</td>\n",
       "    </tr>\n",
       "    <tr>\n",
       "      <th>4</th>\n",
       "      <td>Bitu Singh</td>\n",
       "      <td>@Clément Mihailescu sir tell me question..in w...</td>\n",
       "      <td>2019-12-31T11:13:19.000Z</td>\n",
       "      <td>UgycV2LRqaKxQq1JAid4AaABAg</td>\n",
       "    </tr>\n",
       "    <tr>\n",
       "      <th>5</th>\n",
       "      <td>AK k</td>\n",
       "      <td>Even a senior developer would not have written...</td>\n",
       "      <td>2019-12-30T06:04:15.000Z</td>\n",
       "      <td>UgycV2LRqaKxQq1JAid4AaABAg</td>\n",
       "    </tr>\n",
       "    <tr>\n",
       "      <th>6</th>\n",
       "      <td>Seven Time</td>\n",
       "      <td>Seriously, this solution is very overcomplicat...</td>\n",
       "      <td>2020-01-18T03:17:12.000Z</td>\n",
       "      <td>0</td>\n",
       "    </tr>\n",
       "    <tr>\n",
       "      <th>7</th>\n",
       "      <td>Quora Expert</td>\n",
       "      <td>51:00 kids got big balls telling the interview...</td>\n",
       "      <td>2020-01-18T00:50:47.000Z</td>\n",
       "      <td>0</td>\n",
       "    </tr>\n",
       "    <tr>\n",
       "      <th>8</th>\n",
       "      <td>Arvie Pardeno</td>\n",
       "      <td>King ina wala akong maintidihan</td>\n",
       "      <td>2020-01-18T00:32:40.000Z</td>\n",
       "      <td>0</td>\n",
       "    </tr>\n",
       "    <tr>\n",
       "      <th>9</th>\n",
       "      <td>Warlock Nova</td>\n",
       "      <td>Esti roman?</td>\n",
       "      <td>2020-01-17T18:54:43.000Z</td>\n",
       "      <td>0</td>\n",
       "    </tr>\n",
       "    <tr>\n",
       "      <th>10</th>\n",
       "      <td>Chill -_-</td>\n",
       "      <td>hi everyone.  I made an attempt at the problem...</td>\n",
       "      <td>2020-01-17T16:54:11.000Z</td>\n",
       "      <td>0</td>\n",
       "    </tr>\n",
       "    <tr>\n",
       "      <th>11</th>\n",
       "      <td>Towky Phil</td>\n",
       "      <td>I got a solution, that is ab bit dirty but cou...</td>\n",
       "      <td>2020-01-17T00:08:32.000Z</td>\n",
       "      <td>0</td>\n",
       "    </tr>\n",
       "    <tr>\n",
       "      <th>12</th>\n",
       "      <td>Towky Phil</td>\n",
       "      <td>Ok, there are ~90 Lines of code :D \\nhttps://g...</td>\n",
       "      <td>2020-01-17T01:01:15.000Z</td>\n",
       "      <td>UgwejQWFal-nCZJwd4V4AaABAg</td>\n",
       "    </tr>\n",
       "    <tr>\n",
       "      <th>13</th>\n",
       "      <td>Xhiro lol</td>\n",
       "      <td>Tim!</td>\n",
       "      <td>2020-01-16T23:32:57.000Z</td>\n",
       "      <td>0</td>\n",
       "    </tr>\n",
       "    <tr>\n",
       "      <th>14</th>\n",
       "      <td>Just Sa'in</td>\n",
       "      <td>*sigh I realise i'm not clever just knowledgable.</td>\n",
       "      <td>2020-01-16T21:31:45.000Z</td>\n",
       "      <td>0</td>\n",
       "    </tr>\n",
       "    <tr>\n",
       "      <th>15</th>\n",
       "      <td>Dan</td>\n",
       "      <td>If that is a question for internal.. I would m...</td>\n",
       "      <td>2020-01-16T20:16:34.000Z</td>\n",
       "      <td>0</td>\n",
       "    </tr>\n",
       "    <tr>\n",
       "      <th>16</th>\n",
       "      <td>Dan</td>\n",
       "      <td>If that is a question for internal.. I would m...</td>\n",
       "      <td>2020-01-16T20:16:24.000Z</td>\n",
       "      <td>0</td>\n",
       "    </tr>\n",
       "    <tr>\n",
       "      <th>17</th>\n",
       "      <td>bitsnbytes</td>\n",
       "      <td>I would convert those lists to 64-bit integers...</td>\n",
       "      <td>2020-01-16T03:18:23.000Z</td>\n",
       "      <td>0</td>\n",
       "    </tr>\n",
       "    <tr>\n",
       "      <th>18</th>\n",
       "      <td>Anusha</td>\n",
       "      <td>I have a possible idea for an algorithm - \\nTa...</td>\n",
       "      <td>2020-01-16T03:10:04.000Z</td>\n",
       "      <td>0</td>\n",
       "    </tr>\n",
       "    <tr>\n",
       "      <th>19</th>\n",
       "      <td>play With abood</td>\n",
       "      <td>Google Interview on Firefox l</td>\n",
       "      <td>2020-01-16T02:39:15.000Z</td>\n",
       "      <td>0</td>\n",
       "    </tr>\n",
       "    <tr>\n",
       "      <th>20</th>\n",
       "      <td>ryan.m</td>\n",
       "      <td>i like to use collections. each user gets an i...</td>\n",
       "      <td>2020-01-15T23:53:33.000Z</td>\n",
       "      <td>0</td>\n",
       "    </tr>\n",
       "    <tr>\n",
       "      <th>21</th>\n",
       "      <td>Rad Rad</td>\n",
       "      <td>I feel like Google would benefit from just cre...</td>\n",
       "      <td>2020-01-15T23:11:08.000Z</td>\n",
       "      <td>0</td>\n",
       "    </tr>\n",
       "    <tr>\n",
       "      <th>22</th>\n",
       "      <td>Cody Patnaude</td>\n",
       "      <td>@NAVANEETH P sure, but you could use an editor...</td>\n",
       "      <td>2020-01-18T03:49:24.000Z</td>\n",
       "      <td>UgwH4VQ_LbQKa7xNx_d4AaABAg</td>\n",
       "    </tr>\n",
       "    <tr>\n",
       "      <th>23</th>\n",
       "      <td>NAVANEETH P</td>\n",
       "      <td>Because the aim is not to see if the interview...</td>\n",
       "      <td>2020-01-18T03:44:09.000Z</td>\n",
       "      <td>UgwH4VQ_LbQKa7xNx_d4AaABAg</td>\n",
       "    </tr>\n",
       "    <tr>\n",
       "      <th>24</th>\n",
       "      <td>Cody Patnaude</td>\n",
       "      <td>Tons of environments DO exist for this purpose...</td>\n",
       "      <td>2020-01-17T04:36:24.000Z</td>\n",
       "      <td>UgwH4VQ_LbQKa7xNx_d4AaABAg</td>\n",
       "    </tr>\n",
       "    <tr>\n",
       "      <th>25</th>\n",
       "      <td>Beatriz</td>\n",
       "      <td>Rad Rad there’s google collaboratory, I use it...</td>\n",
       "      <td>2020-01-17T00:25:46.000Z</td>\n",
       "      <td>UgwH4VQ_LbQKa7xNx_d4AaABAg</td>\n",
       "    </tr>\n",
       "    <tr>\n",
       "      <th>26</th>\n",
       "      <td>Suraj Ingle</td>\n",
       "      <td>i paused the video and tried to solve it mysel...</td>\n",
       "      <td>2020-01-15T21:37:19.000Z</td>\n",
       "      <td>0</td>\n",
       "    </tr>\n",
       "    <tr>\n",
       "      <th>27</th>\n",
       "      <td>R Jose</td>\n",
       "      <td>MFer only needed half an hour the student</td>\n",
       "      <td>2020-01-16T03:09:04.000Z</td>\n",
       "      <td>UgwLtVMYbt6sno-n6XR4AaABAg</td>\n",
       "    </tr>\n",
       "    <tr>\n",
       "      <th>28</th>\n",
       "      <td>Ryan Duncan</td>\n",
       "      <td>There's a much more elegant solution to the ca...</td>\n",
       "      <td>2020-01-15T20:04:05.000Z</td>\n",
       "      <td>0</td>\n",
       "    </tr>\n",
       "    <tr>\n",
       "      <th>29</th>\n",
       "      <td>Huan Doan Ngoc</td>\n",
       "      <td>Converting the hour:minute format into minute ...</td>\n",
       "      <td>2020-01-15T16:36:12.000Z</td>\n",
       "      <td>0</td>\n",
       "    </tr>\n",
       "    <tr>\n",
       "      <th>30</th>\n",
       "      <td>R Jose</td>\n",
       "      <td>Yea that's what I was thinking.</td>\n",
       "      <td>2020-01-16T03:10:24.000Z</td>\n",
       "      <td>Ugwmx7Nc1WJD5ODX2Ol4AaABAg</td>\n",
       "    </tr>\n",
       "    <tr>\n",
       "      <th>31</th>\n",
       "      <td>bluescanfly1981</td>\n",
       "      <td>I have a different idea. Since time passes the...</td>\n",
       "      <td>2020-01-15T07:43:28.000Z</td>\n",
       "      <td>0</td>\n",
       "    </tr>\n",
       "    <tr>\n",
       "      <th>32</th>\n",
       "      <td>Zulqarnain Bar</td>\n",
       "      <td>Ouh that monotone of Tim....gotta say love it ...</td>\n",
       "      <td>2020-01-15T02:21:13.000Z</td>\n",
       "      <td>0</td>\n",
       "    </tr>\n",
       "    <tr>\n",
       "      <th>33</th>\n",
       "      <td>Filelor</td>\n",
       "      <td>bump, did you watch his 12 hour live stream wh...</td>\n",
       "      <td>2020-01-17T04:53:03.000Z</td>\n",
       "      <td>UgzkAXdleiXYcFhRcS54AaABAg</td>\n",
       "    </tr>\n",
       "    <tr>\n",
       "      <th>34</th>\n",
       "      <td>Dustn Perkins</td>\n",
       "      <td>damn this is boring af. lmao don't think i cou...</td>\n",
       "      <td>2020-01-15T00:00:17.000Z</td>\n",
       "      <td>0</td>\n",
       "    </tr>\n",
       "    <tr>\n",
       "      <th>35</th>\n",
       "      <td>TheVideomaster138</td>\n",
       "      <td>I feel like I would instantly forget everythin...</td>\n",
       "      <td>2020-01-14T23:58:15.000Z</td>\n",
       "      <td>0</td>\n",
       "    </tr>\n",
       "    <tr>\n",
       "      <th>36</th>\n",
       "      <td>R Jose</td>\n",
       "      <td>Me Too</td>\n",
       "      <td>2020-01-16T03:04:19.000Z</td>\n",
       "      <td>Ugyee4nw3lcqu4qwkPh4AaABAg</td>\n",
       "    </tr>\n",
       "    <tr>\n",
       "      <th>37</th>\n",
       "      <td>Truster Zero</td>\n",
       "      <td>When you have been working as a developer for ...</td>\n",
       "      <td>2020-01-14T14:33:21.000Z</td>\n",
       "      <td>0</td>\n",
       "    </tr>\n",
       "    <tr>\n",
       "      <th>38</th>\n",
       "      <td>Џон Мастерман</td>\n",
       "      <td>Fake !</td>\n",
       "      <td>2020-01-13T02:39:54.000Z</td>\n",
       "      <td>0</td>\n",
       "    </tr>\n",
       "    <tr>\n",
       "      <th>39</th>\n",
       "      <td>Zawe</td>\n",
       "      <td>intern gets this type of question?</td>\n",
       "      <td>2020-01-12T14:00:08.000Z</td>\n",
       "      <td>0</td>\n",
       "    </tr>\n",
       "    <tr>\n",
       "      <th>40</th>\n",
       "      <td>Tim O.</td>\n",
       "      <td>This literally feels like my teacher is tellin...</td>\n",
       "      <td>2020-01-12T01:56:36.000Z</td>\n",
       "      <td>0</td>\n",
       "    </tr>\n",
       "    <tr>\n",
       "      <th>41</th>\n",
       "      <td>Rakshit</td>\n",
       "      <td>Easy looking questions with deep algorithms in...</td>\n",
       "      <td>2020-01-10T19:02:13.000Z</td>\n",
       "      <td>0</td>\n",
       "    </tr>\n",
       "    <tr>\n",
       "      <th>42</th>\n",
       "      <td>Milan Manoj Regmi</td>\n",
       "      <td>Can I send you my solution? actually don't kno...</td>\n",
       "      <td>2020-01-10T09:23:47.000Z</td>\n",
       "      <td>0</td>\n",
       "    </tr>\n",
       "    <tr>\n",
       "      <th>43</th>\n",
       "      <td>DaPokeBoss</td>\n",
       "      <td>Why am I watching this I’m a biology student</td>\n",
       "      <td>2020-01-10T05:33:17.000Z</td>\n",
       "      <td>0</td>\n",
       "    </tr>\n",
       "    <tr>\n",
       "      <th>44</th>\n",
       "      <td>Filelor</td>\n",
       "      <td>Because the media told us to learn to code.</td>\n",
       "      <td>2020-01-17T04:50:01.000Z</td>\n",
       "      <td>Ugz_5LfVJrssTi3pyhF4AaABAg</td>\n",
       "    </tr>\n",
       "  </tbody>\n",
       "</table>\n",
       "</div>"
      ],
      "text/plain": [
       "        authorDisplayName                                        textDisplay  \\\n",
       "0      Clément Mihailescu  Big thanks to Tim for being willing to do this...   \n",
       "1         Charles Gambill  I feel like the best way to do this problem is...   \n",
       "2   Simant Kaushik Luitel  I paused the video and started coding after se...   \n",
       "3              Arya Nando  stop the google.docx  its hurting my eyes sdna...   \n",
       "4              Bitu Singh  @Clément Mihailescu sir tell me question..in w...   \n",
       "5                    AK k  Even a senior developer would not have written...   \n",
       "6              Seven Time  Seriously, this solution is very overcomplicat...   \n",
       "7            Quora Expert  51:00 kids got big balls telling the interview...   \n",
       "8           Arvie Pardeno                    King ina wala akong maintidihan   \n",
       "9            Warlock Nova                                        Esti roman?   \n",
       "10              Chill -_-  hi everyone.  I made an attempt at the problem...   \n",
       "11             Towky Phil  I got a solution, that is ab bit dirty but cou...   \n",
       "12             Towky Phil  Ok, there are ~90 Lines of code :D \\nhttps://g...   \n",
       "13              Xhiro lol                                               Tim!   \n",
       "14             Just Sa'in  *sigh I realise i'm not clever just knowledgable.   \n",
       "15                    Dan  If that is a question for internal.. I would m...   \n",
       "16                    Dan  If that is a question for internal.. I would m...   \n",
       "17             bitsnbytes  I would convert those lists to 64-bit integers...   \n",
       "18                 Anusha  I have a possible idea for an algorithm - \\nTa...   \n",
       "19        play With abood                      Google Interview on Firefox l   \n",
       "20                 ryan.m  i like to use collections. each user gets an i...   \n",
       "21                Rad Rad  I feel like Google would benefit from just cre...   \n",
       "22          Cody Patnaude  @NAVANEETH P sure, but you could use an editor...   \n",
       "23            NAVANEETH P  Because the aim is not to see if the interview...   \n",
       "24          Cody Patnaude  Tons of environments DO exist for this purpose...   \n",
       "25                Beatriz  Rad Rad there’s google collaboratory, I use it...   \n",
       "26            Suraj Ingle  i paused the video and tried to solve it mysel...   \n",
       "27                 R Jose          MFer only needed half an hour the student   \n",
       "28            Ryan Duncan  There's a much more elegant solution to the ca...   \n",
       "29         Huan Doan Ngoc  Converting the hour:minute format into minute ...   \n",
       "30                 R Jose                    Yea that's what I was thinking.   \n",
       "31        bluescanfly1981  I have a different idea. Since time passes the...   \n",
       "32         Zulqarnain Bar  Ouh that monotone of Tim....gotta say love it ...   \n",
       "33                Filelor  bump, did you watch his 12 hour live stream wh...   \n",
       "34          Dustn Perkins  damn this is boring af. lmao don't think i cou...   \n",
       "35      TheVideomaster138  I feel like I would instantly forget everythin...   \n",
       "36                 R Jose                                             Me Too   \n",
       "37           Truster Zero  When you have been working as a developer for ...   \n",
       "38          Џон Мастерман                                             Fake !   \n",
       "39                   Zawe                 intern gets this type of question?   \n",
       "40                 Tim O.  This literally feels like my teacher is tellin...   \n",
       "41                Rakshit  Easy looking questions with deep algorithms in...   \n",
       "42      Milan Manoj Regmi  Can I send you my solution? actually don't kno...   \n",
       "43             DaPokeBoss       Why am I watching this I’m a biology student   \n",
       "44                Filelor        Because the media told us to learn to code.   \n",
       "\n",
       "                 publishedAt                    parentId  \n",
       "0   2019-12-26T14:44:47.000Z                           0  \n",
       "1   2020-01-13T22:12:42.000Z  UgycV2LRqaKxQq1JAid4AaABAg  \n",
       "2   2020-01-01T16:22:34.000Z  UgycV2LRqaKxQq1JAid4AaABAg  \n",
       "3   2020-01-01T08:02:08.000Z  UgycV2LRqaKxQq1JAid4AaABAg  \n",
       "4   2019-12-31T11:13:19.000Z  UgycV2LRqaKxQq1JAid4AaABAg  \n",
       "5   2019-12-30T06:04:15.000Z  UgycV2LRqaKxQq1JAid4AaABAg  \n",
       "6   2020-01-18T03:17:12.000Z                           0  \n",
       "7   2020-01-18T00:50:47.000Z                           0  \n",
       "8   2020-01-18T00:32:40.000Z                           0  \n",
       "9   2020-01-17T18:54:43.000Z                           0  \n",
       "10  2020-01-17T16:54:11.000Z                           0  \n",
       "11  2020-01-17T00:08:32.000Z                           0  \n",
       "12  2020-01-17T01:01:15.000Z  UgwejQWFal-nCZJwd4V4AaABAg  \n",
       "13  2020-01-16T23:32:57.000Z                           0  \n",
       "14  2020-01-16T21:31:45.000Z                           0  \n",
       "15  2020-01-16T20:16:34.000Z                           0  \n",
       "16  2020-01-16T20:16:24.000Z                           0  \n",
       "17  2020-01-16T03:18:23.000Z                           0  \n",
       "18  2020-01-16T03:10:04.000Z                           0  \n",
       "19  2020-01-16T02:39:15.000Z                           0  \n",
       "20  2020-01-15T23:53:33.000Z                           0  \n",
       "21  2020-01-15T23:11:08.000Z                           0  \n",
       "22  2020-01-18T03:49:24.000Z  UgwH4VQ_LbQKa7xNx_d4AaABAg  \n",
       "23  2020-01-18T03:44:09.000Z  UgwH4VQ_LbQKa7xNx_d4AaABAg  \n",
       "24  2020-01-17T04:36:24.000Z  UgwH4VQ_LbQKa7xNx_d4AaABAg  \n",
       "25  2020-01-17T00:25:46.000Z  UgwH4VQ_LbQKa7xNx_d4AaABAg  \n",
       "26  2020-01-15T21:37:19.000Z                           0  \n",
       "27  2020-01-16T03:09:04.000Z  UgwLtVMYbt6sno-n6XR4AaABAg  \n",
       "28  2020-01-15T20:04:05.000Z                           0  \n",
       "29  2020-01-15T16:36:12.000Z                           0  \n",
       "30  2020-01-16T03:10:24.000Z  Ugwmx7Nc1WJD5ODX2Ol4AaABAg  \n",
       "31  2020-01-15T07:43:28.000Z                           0  \n",
       "32  2020-01-15T02:21:13.000Z                           0  \n",
       "33  2020-01-17T04:53:03.000Z  UgzkAXdleiXYcFhRcS54AaABAg  \n",
       "34  2020-01-15T00:00:17.000Z                           0  \n",
       "35  2020-01-14T23:58:15.000Z                           0  \n",
       "36  2020-01-16T03:04:19.000Z  Ugyee4nw3lcqu4qwkPh4AaABAg  \n",
       "37  2020-01-14T14:33:21.000Z                           0  \n",
       "38  2020-01-13T02:39:54.000Z                           0  \n",
       "39  2020-01-12T14:00:08.000Z                           0  \n",
       "40  2020-01-12T01:56:36.000Z                           0  \n",
       "41  2020-01-10T19:02:13.000Z                           0  \n",
       "42  2020-01-10T09:23:47.000Z                           0  \n",
       "43  2020-01-10T05:33:17.000Z                           0  \n",
       "44  2020-01-17T04:50:01.000Z  Ugz_5LfVJrssTi3pyhF4AaABAg  "
      ]
     },
     "execution_count": 45,
     "metadata": {},
     "output_type": "execute_result"
    }
   ],
   "source": [
    "df_comms[['authorDisplayName','textDisplay','publishedAt','parentId']].head(45)"
   ]
  },
  {
   "cell_type": "code",
   "execution_count": 46,
   "metadata": {},
   "outputs": [
    {
     "data": {
      "text/plain": [
       "0      Big thanks to Tim for being willing to do this...\n",
       "1      I feel like the best way to do this problem is...\n",
       "2      I paused the video and started coding after se...\n",
       "3      stop the google.docx  its hurting my eyes sdna...\n",
       "4      @Clément Mihailescu sir tell me question..in w...\n",
       "                             ...                        \n",
       "396                                                Bruh!\n",
       "397    Those mock interview are the best thing ever. ...\n",
       "398    Season greetings Clem, I miss the Cardistry. K...\n",
       "399    Season's greetings Lynyrd! I'll make sure to t...\n",
       "400                                               First?\n",
       "Name: textDisplay, Length: 401, dtype: object"
      ]
     },
     "execution_count": 46,
     "metadata": {},
     "output_type": "execute_result"
    }
   ],
   "source": [
    "df_comms['textDisplay']"
   ]
  },
  {
   "cell_type": "code",
   "execution_count": 47,
   "metadata": {},
   "outputs": [],
   "source": [
    "from textblob import TextBlob"
   ]
  },
  {
   "cell_type": "code",
   "execution_count": 48,
   "metadata": {},
   "outputs": [],
   "source": [
    "blobs = []\n",
    "for item in df_comms['textDisplay']:\n",
    "    blobs.append(TextBlob(item))"
   ]
  },
  {
   "cell_type": "code",
   "execution_count": 49,
   "metadata": {},
   "outputs": [],
   "source": [
    "import numpy as np"
   ]
  },
  {
   "cell_type": "code",
   "execution_count": 50,
   "metadata": {},
   "outputs": [],
   "source": [
    "sents = np.array([blob.sentiment.polarity for blob in blobs])"
   ]
  },
  {
   "cell_type": "code",
   "execution_count": 51,
   "metadata": {},
   "outputs": [
    {
     "data": {
      "text/plain": [
       "401"
      ]
     },
     "execution_count": 51,
     "metadata": {},
     "output_type": "execute_result"
    }
   ],
   "source": [
    "len(sents)"
   ]
  },
  {
   "cell_type": "code",
   "execution_count": 52,
   "metadata": {},
   "outputs": [],
   "source": [
    "import seaborn as sns\n",
    "import matplotlib.pyplot as plt\n",
    "import matplotlib   "
   ]
  },
  {
   "cell_type": "code",
   "execution_count": 53,
   "metadata": {},
   "outputs": [],
   "source": [
    "font = {'family' : 'normal',\n",
    "        'weight' : 'bold',\n",
    "        'size'   : 22}\t\n",
    "matplotlib.rc('font', **font)"
   ]
  },
  {
   "cell_type": "code",
   "execution_count": 54,
   "metadata": {},
   "outputs": [
    {
     "data": {
      "text/plain": [
       "<matplotlib.axes._subplots.AxesSubplot at 0x24a590b3b48>"
      ]
     },
     "execution_count": 54,
     "metadata": {},
     "output_type": "execute_result"
    },
    {
     "name": "stderr",
     "output_type": "stream",
     "text": [
      "findfont: Font family ['normal'] not found. Falling back to DejaVu Sans.\n",
      "findfont: Font family ['normal'] not found. Falling back to DejaVu Sans.\n",
      "findfont: Font family ['normal'] not found. Falling back to DejaVu Sans.\n"
     ]
    },
    {
     "data": {
      "image/png": "[encoded data removed]",
      "text/plain": [
       "<Figure size 576x576 with 1 Axes>"
      ]
     },
     "metadata": {
      "needs_background": "light"
     },
     "output_type": "display_data"
    }
   ],
   "source": [
    "plt.figure(figsize=(8, 8))\n",
    "plt.title('Sentiment Analysis')\n",
    "plt.xlabel('Polarity')\n",
    "plt.ylabel('No. Comments')\n",
    "sns.set_style('darkgrid')\n",
    "sns.distplot(sents,kde=False)"
   ]
  },
  {
   "cell_type": "markdown",
   "metadata": {},
   "source": [
    "### Ok, let's write up a function for this process:"
   ]
  },
  {
   "cell_type": "code",
   "execution_count": 55,
   "metadata": {},
   "outputs": [],
   "source": [
    "import time"
   ]
  },
  {
   "cell_type": "code",
   "execution_count": 56,
   "metadata": {},
   "outputs": [],
   "source": [
    "# Input: videoID\n",
    "# Output: dataframe of comments\n",
    "\n",
    "def get_comments_page(vid_ID, order_option,pagetok=None):\n",
    "    # Disable OAuthlib's HTTPS verification when running locally.\n",
    "    # *DO NOT* leave this option enabled in production.\n",
    "    os.environ[\"OAUTHLIB_INSECURE_TRANSPORT\"] = \"1\"\n",
    "\n",
    "    api_service_name = \"youtube\"\n",
    "    api_version = \"v3\"\n",
    "    \n",
    "\n",
    "    youtube = googleapiclient.discovery.build(\n",
    "        api_service_name, api_version, developerKey = DEVELOPER_KEY)\n",
    "\n",
    "    request = youtube.commentThreads().list(\n",
    "        part=\"snippet,replies\",\n",
    "        maxResults=100,\n",
    "        order=order_option,\n",
    "        pageToken = pagetok,\n",
    "        textFormat=\"plainText\",\n",
    "        videoId=vid_ID\n",
    "    )\n",
    "    response = request.execute()\n",
    "    time.sleep(0.5)\n",
    "    return response\n",
    "\n",
    "# Given a YouTube videoID, the following function creates a data frame of comments (including replies)\n",
    "def create_comments_df(vid_ID, order_option):\n",
    "    nxt_pg_flag = 1\n",
    "    items_list = []\n",
    "\n",
    "    currentcomments = get_comments_page(vid_ID,order_option)\n",
    "    items_list = items_list + currentcomments[\"items\"]\n",
    "    priorcomments = currentcomments\n",
    "\n",
    "    while nxt_pg_flag == 1:\n",
    "        try:\n",
    "            currentcomments = get_comments_page(vid_ID,order_option,priorcomments['nextPageToken'])\n",
    "            items_list = items_list + currentcomments[\"items\"]\n",
    "            priorcomments = currentcomments\n",
    "        except KeyError:\n",
    "            nxt_pg_flag = 0\n",
    "\n",
    "    for item in items_list:\n",
    "        data = {\"CommID\": item['id'], 'parentId': 0}\n",
    "        data.update(item['snippet'][\"topLevelComment\"]['snippet'])\n",
    "        df_comms = df_comms.append(data,ignore_index=True)\n",
    "        if 'replies' in item.keys():\n",
    "            for reply in item['replies']['comments']:\n",
    "                data = {\"CommID\": reply['id']}\n",
    "                data.update(reply['snippet'])\n",
    "                df_comms = df_comms.append(data,ignore_index=True)\n",
    "    return df_comms"
   ]
  },
  {
   "cell_type": "markdown",
   "metadata": {},
   "source": [
    "# Moved work to python script"
   ]
  },
  {
   "cell_type": "code",
   "execution_count": null,
   "metadata": {},
   "outputs": [],
   "source": []
  }
 ],
 "metadata": {
  "kernelspec": {
   "display_name": "Python 3",
   "language": "python",
   "name": "python3"
  },
  "language_info": {
   "codemirror_mode": {
    "name": "ipython",
    "version": 3
   },
   "file_extension": ".py",
   "mimetype": "text/x-python",
   "name": "python",
   "nbconvert_exporter": "python",
   "pygments_lexer": "ipython3",
   "version": "3.7.6"
  }
 },
 "nbformat": 4,
 "nbformat_minor": 2
}
