{
 "cells": [
  {
   "cell_type": "markdown",
   "metadata": {},
   "source": [
    "# 2020-01-29\n",
    "\n",
    "#### Here I will take a sample of 50000 from my main database of comments, embed in spaCy, and then be able to:\n",
    "- search for keyword/s\n",
    "- rank comments in terms of similiary\n",
    "- link to user name\n",
    "\n",
    "#### After downloading YT channel info, also link to:\n",
    "- channel info (name, subscriber count, number likes, views for last 30 videos)\n",
    "\n",
    "#### Also interested in getting an engagement score associated with users / channels. Need to work out what is best way to do that at the end"
   ]
  },
  {
   "cell_type": "code",
   "execution_count": 56,
   "metadata": {},
   "outputs": [],
   "source": [
    "import numpy as np\n",
    "from sklearn.metrics.pairwise import cosine_similarity\n",
    "import pandas as pd\n",
    "import spacy\n",
    "from tqdm.notebook import tqdm"
   ]
  },
  {
   "cell_type": "code",
   "execution_count": 3,
   "metadata": {},
   "outputs": [
    {
     "name": "stderr",
     "output_type": "stream",
     "text": [
      "C:\\ProgramData\\Anaconda3\\envs\\insight\\lib\\site-packages\\IPython\\core\\interactiveshell.py:3051: DtypeWarning: Columns (9) have mixed types. Specify dtype option on import or set low_memory=False.\n",
      "  interactivity=interactivity, compiler=compiler, result=result)\n"
     ]
    }
   ],
   "source": [
    "insight_dir = 'C:\\\\Users\\\\Ronald Maj\\\\Documents\\\\GitHub\\\\InsightDataProject\\\\'\n",
    "\n",
    "# Load comments data\n",
    "comms_df = pd.read_csv(insight_dir+'data\\\\processed\\\\all_comments_dup_na_clean_df.csv', index_col=0)"
   ]
  },
  {
   "cell_type": "code",
   "execution_count": 8,
   "metadata": {},
   "outputs": [],
   "source": [
    "# Dropna's and get rid of additional column in all_comments_en_df.csv file:\n",
    "#comms_df = comms_df.dropna(subset=['textDisplay'])\n",
    "#comms_df = comms_df.drop(['Unnamed: 0.1'], axis=1)"
   ]
  },
  {
   "cell_type": "code",
   "execution_count": 17,
   "metadata": {},
   "outputs": [],
   "source": [
    "#dups = comms_df[comms_df.duplicated()]"
   ]
  },
  {
   "cell_type": "code",
   "execution_count": 33,
   "metadata": {},
   "outputs": [],
   "source": [
    "#comms_df.drop(dups.index, inplace=True)"
   ]
  },
  {
   "cell_type": "code",
   "execution_count": 37,
   "metadata": {},
   "outputs": [],
   "source": [
    "# Save the dropna's and duplicate dropped version of the comments dataframe:\n",
    "#comms_df.to_csv(insight_dir+'data\\\\cleaned\\\\all_comments_dup_na_clean_df.csv')"
   ]
  },
  {
   "cell_type": "code",
   "execution_count": 38,
   "metadata": {},
   "outputs": [],
   "source": [
    "comms_samp_df = comms_df.sample(50000)"
   ]
  },
  {
   "cell_type": "code",
   "execution_count": 39,
   "metadata": {},
   "outputs": [
    {
     "data": {
      "text/plain": [
       "50000"
      ]
     },
     "execution_count": 39,
     "metadata": {},
     "output_type": "execute_result"
    }
   ],
   "source": [
    "len(comms_samp_df)"
   ]
  },
  {
   "cell_type": "code",
   "execution_count": 40,
   "metadata": {},
   "outputs": [
    {
     "data": {
      "text/plain": [
       "202410    Soli ketai specially api dutai oxomiya koba la...\n",
       "281874                                      That is amazing\n",
       "202409            Mane mane .moi mane.\\nTamm moja. Dimpu da\n",
       "795615              “Your such a bad boyfriend” - Alex 2019\n",
       "889265    Except perhaps being trapped in an isolated \"C...\n",
       "                                ...                        \n",
       "209084                                NIKA!! NIKA!! hey ;-)\n",
       "94052     That was great - so happy for you both.  Love ...\n",
       "478965                                  I would be laughing\n",
       "7686         \"No, mum do it\"\\n\\nShe is cute and disciplined\n",
       "46459                Liv N lol ME a broke college student 😂\n",
       "Name: textDisplay, Length: 50000, dtype: object"
      ]
     },
     "execution_count": 40,
     "metadata": {},
     "output_type": "execute_result"
    }
   ],
   "source": [
    "# Get just the comment text from the dataframe:\n",
    "\n",
    "comms_samp_df['textDisplay']"
   ]
  },
  {
   "cell_type": "code",
   "execution_count": 41,
   "metadata": {},
   "outputs": [
    {
     "data": {
      "text/html": [
       "<div>\n",
       "<style scoped>\n",
       "    .dataframe tbody tr th:only-of-type {\n",
       "        vertical-align: middle;\n",
       "    }\n",
       "\n",
       "    .dataframe tbody tr th {\n",
       "        vertical-align: top;\n",
       "    }\n",
       "\n",
       "    .dataframe thead th {\n",
       "        text-align: right;\n",
       "    }\n",
       "</style>\n",
       "<table border=\"1\" class=\"dataframe\">\n",
       "  <thead>\n",
       "    <tr style=\"text-align: right;\">\n",
       "      <th></th>\n",
       "      <th>CommID</th>\n",
       "      <th>authorChannelId</th>\n",
       "      <th>authorChannelUrl</th>\n",
       "      <th>authorDisplayName</th>\n",
       "      <th>authorProfileImageUrl</th>\n",
       "      <th>canRate</th>\n",
       "      <th>likeCount</th>\n",
       "      <th>moderationStatus</th>\n",
       "      <th>parentId</th>\n",
       "      <th>publishedAt</th>\n",
       "      <th>textDisplay</th>\n",
       "      <th>textOriginal</th>\n",
       "      <th>updatedAt</th>\n",
       "      <th>videoId</th>\n",
       "      <th>viewerRating</th>\n",
       "    </tr>\n",
       "  </thead>\n",
       "  <tbody>\n",
       "  </tbody>\n",
       "</table>\n",
       "</div>"
      ],
      "text/plain": [
       "Empty DataFrame\n",
       "Columns: [CommID, authorChannelId, authorChannelUrl, authorDisplayName, authorProfileImageUrl, canRate, likeCount, moderationStatus, parentId, publishedAt, textDisplay, textOriginal, updatedAt, videoId, viewerRating]\n",
       "Index: []"
      ]
     },
     "execution_count": 41,
     "metadata": {},
     "output_type": "execute_result"
    }
   ],
   "source": [
    "comms_samp_df[comms_samp_df.duplicated()]"
   ]
  },
  {
   "cell_type": "markdown",
   "metadata": {},
   "source": [
    "##### Create a list to put into spaCy, clean the comments then run through the spaCy pipeline:"
   ]
  },
  {
   "cell_type": "code",
   "execution_count": 42,
   "metadata": {},
   "outputs": [],
   "source": [
    "comm_docs = comms_samp_df['textDisplay']\n",
    "\n",
    "def clean_text(text):\n",
    "    # lower case:\n",
    "    text = text.lower()\n",
    "    \n",
    "    # replace new line and return with space\n",
    "    text = text.replace(\"\\n\", \" \").replace(\"\\r\",\" \")\n",
    "    \n",
    "    # replace punctuation marks with space\n",
    "    punc_list = '#/<>@[\\]{}|^~'\n",
    "    t=str.maketrans(dict.fromkeys(punc_list, \"\"))\n",
    "    \n",
    "    return text\n",
    "\n",
    "comm_docs = [clean_text(doc) for doc in comm_docs]\n",
    "\n",
    "# Cleaning emojis\n",
    "def deEmojify(inputString):\n",
    "    return inputString.encode('ascii', 'ignore').decode('ascii')\n",
    "\n",
    "comm_docs = [deEmojify(doc) for doc in comm_docs]"
   ]
  },
  {
   "cell_type": "code",
   "execution_count": 45,
   "metadata": {},
   "outputs": [],
   "source": [
    "nlp2 = spacy.load(\"en_core_web_lg\")"
   ]
  },
  {
   "cell_type": "code",
   "execution_count": 48,
   "metadata": {},
   "outputs": [
    {
     "data": {
      "application/vnd.jupyter.widget-view+json": {
       "model_id": "6205fa022425411cb3dc6f8c461f923a",
       "version_major": 2,
       "version_minor": 0
      },
      "text/plain": [
       "HBox(children=(FloatProgress(value=0.0, max=50000.0), HTML(value='')))"
      ]
     },
     "metadata": {},
     "output_type": "display_data"
    },
    {
     "name": "stdout",
     "output_type": "stream",
     "text": [
      "\n"
     ]
    }
   ],
   "source": [
    "spa_docs= []\n",
    "for doc in tqdm(comm_docs):\n",
    "    # Passes that article through the pipeline and adds to a new list.\n",
    "    pr = nlp2(doc)\n",
    "    spa_docs.append(pr)"
   ]
  },
  {
   "cell_type": "markdown",
   "metadata": {},
   "source": [
    "### Create a matrix of the database:"
   ]
  },
  {
   "cell_type": "code",
   "execution_count": 53,
   "metadata": {},
   "outputs": [],
   "source": [
    "# Empty matrix\n",
    "comms_vec = np.zeros((len(spa_docs),300))\n",
    "\n",
    "# Go through each doc and save the word2vec vector to the matrix:\n",
    "for idx,doc in enumerate(spa_docs):\n",
    "    comms_vec[idx] = doc.vector.reshape(1,-1)"
   ]
  },
  {
   "cell_type": "markdown",
   "metadata": {},
   "source": [
    "#### Put in search term of interest:"
   ]
  },
  {
   "cell_type": "code",
   "execution_count": 188,
   "metadata": {},
   "outputs": [],
   "source": [
    "eg_doc = nlp2('canon')"
   ]
  },
  {
   "cell_type": "code",
   "execution_count": 189,
   "metadata": {},
   "outputs": [],
   "source": [
    "# Get the vector representation:\n",
    "eg_vec = eg_doc.vector.reshape(1,-1)"
   ]
  },
  {
   "cell_type": "markdown",
   "metadata": {},
   "source": [
    "#### Create similarity vector"
   ]
  },
  {
   "cell_type": "code",
   "execution_count": 191,
   "metadata": {},
   "outputs": [],
   "source": [
    "sim_vec = cosine_similarity(eg_vec,comms_vec)"
   ]
  },
  {
   "cell_type": "markdown",
   "metadata": {},
   "source": [
    "#### Choose a limit on the how similar comments should be to the term of interest and return ordered list of comments:"
   ]
  },
  {
   "cell_type": "code",
   "execution_count": 192,
   "metadata": {},
   "outputs": [],
   "source": [
    "tf_ar = sim_vec > 0.4"
   ]
  },
  {
   "cell_type": "code",
   "execution_count": 193,
   "metadata": {},
   "outputs": [],
   "source": [
    "result = [(sim_vec[0][idx],x) for idx,x in enumerate(spa_docs) if tf_ar[0][idx]]"
   ]
  },
  {
   "cell_type": "code",
   "execution_count": 194,
   "metadata": {},
   "outputs": [],
   "source": [
    "def getKey(item):\n",
    "    return item[0]"
   ]
  },
  {
   "cell_type": "code",
   "execution_count": 195,
   "metadata": {},
   "outputs": [],
   "source": [
    "srt_result = sorted(result, key=getKey, reverse=True)"
   ]
  },
  {
   "cell_type": "code",
   "execution_count": 196,
   "metadata": {
    "scrolled": false
   },
   "outputs": [
    {
     "name": "stdout",
     "output_type": "stream",
     "text": [
      "0.8610382980295238\n",
      "and canon\n",
      "\r\n",
      "0.5671278675991411\n",
      "when you changing to canon 90d\n",
      "\r\n",
      "0.5595608082587311\n",
      "what kind of canon vixia  you are using?\n",
      "\r\n",
      "0.5547693659742631\n",
      "peter 'the most credible reviewer of canon cameras\" mckinnon\n",
      "\r\n",
      "0.48834382664048037\n",
      "i look forward to seeing if canon update the eos r. the camera in most excited about in 2020 is...the one(s) i have :) (canon 6d, 600d, iphone 11, osmo pocket, mavic mini)\n",
      "\r\n",
      "0.48594378623553186\n",
      "tape over the canon logo on the eos r? sponsorship from red perhaps?\n",
      "\r\n",
      "0.4447663800109599\n",
      "hi peter, i would love to see your review of the canon rp...\n",
      "\r\n",
      "0.442722641227062\n",
      "sony is the best \n",
      "\r\n",
      "0.4412109327240698\n",
      "at canon you spend thousands for these specs \n",
      "\r\n",
      "0.44010672997789274\n",
      "eos rp plez\n",
      "\r\n",
      "0.4298817414502166\n",
      "camera vaps mt do\n",
      "\r\n",
      "0.425212687753459\n",
      "i agree cannon is better. sony made your videos darker\n",
      "\r\n",
      "0.4174971754655249\n",
      "annabell cannon whitch ones?\n",
      "\r\n",
      "0.40976104155997245\n",
      "2:27  canon cafeteria coffee?  ccc yay! that's an alliteration!\n",
      "\r\n"
     ]
    }
   ],
   "source": [
    "for sim,res in srt_result:\n",
    "    print(sim)\n",
    "    print(res)\n",
    "    print('\\r')"
   ]
  },
  {
   "cell_type": "markdown",
   "metadata": {},
   "source": [
    "### Need to figure out how to link the comment found back to the user name, together with what video it came from and have that show up as well.\n",
    "\n",
    "#### Load up the channel and video info to refer to:"
   ]
  },
  {
   "cell_type": "code",
   "execution_count": 197,
   "metadata": {},
   "outputs": [],
   "source": [
    "chan_info_df = pd.read_csv(insight_dir + 'data\\\\processed\\\\all_channels_info.csv', index_col=0)"
   ]
  },
  {
   "cell_type": "code",
   "execution_count": 198,
   "metadata": {},
   "outputs": [
    {
     "data": {
      "text/html": [
       "<div>\n",
       "<style scoped>\n",
       "    .dataframe tbody tr th:only-of-type {\n",
       "        vertical-align: middle;\n",
       "    }\n",
       "\n",
       "    .dataframe tbody tr th {\n",
       "        vertical-align: top;\n",
       "    }\n",
       "\n",
       "    .dataframe thead th {\n",
       "        text-align: right;\n",
       "    }\n",
       "</style>\n",
       "<table border=\"1\" class=\"dataframe\">\n",
       "  <thead>\n",
       "    <tr style=\"text-align: right;\">\n",
       "      <th></th>\n",
       "      <th>ChannelID</th>\n",
       "      <th>title</th>\n",
       "      <th>description</th>\n",
       "      <th>publishedAt</th>\n",
       "      <th>viewCount</th>\n",
       "      <th>commentCount</th>\n",
       "      <th>subscriberCount</th>\n",
       "      <th>videoCount</th>\n",
       "    </tr>\n",
       "  </thead>\n",
       "  <tbody>\n",
       "  </tbody>\n",
       "</table>\n",
       "</div>"
      ],
      "text/plain": [
       "Empty DataFrame\n",
       "Columns: [ChannelID, title, description, publishedAt, viewCount, commentCount, subscriberCount, videoCount]\n",
       "Index: []"
      ]
     },
     "execution_count": 198,
     "metadata": {},
     "output_type": "execute_result"
    }
   ],
   "source": [
    "chan_info_df[chan_info_df.duplicated()]"
   ]
  },
  {
   "cell_type": "code",
   "execution_count": 199,
   "metadata": {},
   "outputs": [],
   "source": [
    "# Save the duplicate dropped version of the comments dataframe:\n",
    "#vids_df.to_csv(insight_dir+'data\\\\cleaned\\\\all_videos_dup_na_clean_df.csv')\n",
    "vids_df = pd.read_csv(insight_dir+'data\\\\cleaned\\\\all_videos_dup_na_clean_df.csv', index_col=0)"
   ]
  },
  {
   "cell_type": "code",
   "execution_count": 200,
   "metadata": {},
   "outputs": [],
   "source": [
    "# Load vids data\n",
    "#vids_df = pd.read_csv(insight_dir+'data\\\\processed\\\\all_vids_en_df.csv', index_col=0)\n",
    "#vids_df = vids_df.drop(['Unnamed: 0.1'], axis=1)\n",
    "\n",
    "dups = vids_df[vids_df.duplicated()]"
   ]
  },
  {
   "cell_type": "code",
   "execution_count": 203,
   "metadata": {
    "scrolled": true
   },
   "outputs": [],
   "source": [
    "#vids_df[vids_df['VidID'] == dups.iloc[10]['VidID']]"
   ]
  },
  {
   "cell_type": "code",
   "execution_count": 204,
   "metadata": {},
   "outputs": [
    {
     "data": {
      "text/plain": [
       "4269"
      ]
     },
     "execution_count": 204,
     "metadata": {},
     "output_type": "execute_result"
    }
   ],
   "source": [
    "len(vids_df)"
   ]
  },
  {
   "cell_type": "code",
   "execution_count": 205,
   "metadata": {},
   "outputs": [
    {
     "data": {
      "text/plain": [
       "0"
      ]
     },
     "execution_count": 205,
     "metadata": {},
     "output_type": "execute_result"
    }
   ],
   "source": [
    "sum(pd.isna(vids_df['VidTitle']))"
   ]
  },
  {
   "cell_type": "code",
   "execution_count": 206,
   "metadata": {},
   "outputs": [],
   "source": [
    "vids_df.drop(dups.index, inplace=True)"
   ]
  },
  {
   "cell_type": "code",
   "execution_count": 208,
   "metadata": {},
   "outputs": [],
   "source": [
    "#vids_df[vids_df['VidID'] == dups.iloc[10]['VidID']]"
   ]
  },
  {
   "cell_type": "markdown",
   "metadata": {},
   "source": [
    "First need to find the video associated with each comment:"
   ]
  },
  {
   "cell_type": "code",
   "execution_count": 209,
   "metadata": {},
   "outputs": [
    {
     "data": {
      "text/html": [
       "<div>\n",
       "<style scoped>\n",
       "    .dataframe tbody tr th:only-of-type {\n",
       "        vertical-align: middle;\n",
       "    }\n",
       "\n",
       "    .dataframe tbody tr th {\n",
       "        vertical-align: top;\n",
       "    }\n",
       "\n",
       "    .dataframe thead th {\n",
       "        text-align: right;\n",
       "    }\n",
       "</style>\n",
       "<table border=\"1\" class=\"dataframe\">\n",
       "  <thead>\n",
       "    <tr style=\"text-align: right;\">\n",
       "      <th></th>\n",
       "      <th>CommID</th>\n",
       "      <th>authorChannelId</th>\n",
       "      <th>authorChannelUrl</th>\n",
       "      <th>authorDisplayName</th>\n",
       "      <th>authorProfileImageUrl</th>\n",
       "      <th>canRate</th>\n",
       "      <th>likeCount</th>\n",
       "      <th>moderationStatus</th>\n",
       "      <th>parentId</th>\n",
       "      <th>publishedAt</th>\n",
       "      <th>textDisplay</th>\n",
       "      <th>textOriginal</th>\n",
       "      <th>updatedAt</th>\n",
       "      <th>videoId</th>\n",
       "      <th>viewerRating</th>\n",
       "    </tr>\n",
       "  </thead>\n",
       "  <tbody>\n",
       "    <tr>\n",
       "      <th>22606</th>\n",
       "      <td>Ugx-hk6za70kAuJlyJZ4AaABAg</td>\n",
       "      <td>{'value': 'UCptPjyG9epmeAEQ7yTN1auw'}</td>\n",
       "      <td>http://www.youtube.com/channel/UCptPjyG9epmeAE...</td>\n",
       "      <td>Jokunas Tv</td>\n",
       "      <td>https://yt3.ggpht.com/a/AGF-l7-GsPRDdkEwUczQKF...</td>\n",
       "      <td>True</td>\n",
       "      <td>0</td>\n",
       "      <td>NaN</td>\n",
       "      <td>0</td>\n",
       "      <td>2019-09-03T15:30:04.000Z</td>\n",
       "      <td>when you changing to canon 90d</td>\n",
       "      <td>when you changing to canon 90d</td>\n",
       "      <td>2019-09-03T15:30:04.000Z</td>\n",
       "      <td>dSmsQraeCVM</td>\n",
       "      <td>none</td>\n",
       "    </tr>\n",
       "    <tr>\n",
       "      <th>109252</th>\n",
       "      <td>Ugy34UPrYQJPvZW9aRN4AaABAg</td>\n",
       "      <td>{'value': 'UCUv1W3SgdCyH5uW_X8M6P8g'}</td>\n",
       "      <td>http://www.youtube.com/channel/UCUv1W3SgdCyH5u...</td>\n",
       "      <td>Gay Garcia</td>\n",
       "      <td>https://yt3.ggpht.com/a/AGF-l79l-GNoQHL_a7y9Yt...</td>\n",
       "      <td>True</td>\n",
       "      <td>0</td>\n",
       "      <td>NaN</td>\n",
       "      <td>0</td>\n",
       "      <td>2019-09-17T13:58:33.000Z</td>\n",
       "      <td>What kind of canon vixia  you are using?</td>\n",
       "      <td>What kind of canon vixia  you are using?</td>\n",
       "      <td>2019-09-17T13:58:33.000Z</td>\n",
       "      <td>58j7ycxs1_Y</td>\n",
       "      <td>none</td>\n",
       "    </tr>\n",
       "    <tr>\n",
       "      <th>61333</th>\n",
       "      <td>UgwFoXNO8-3pc9IIpg94AaABAg.8zBM5QHZLHJ90dQ8pzlyLR</td>\n",
       "      <td>{'value': 'UCMFVtlkIOcnii_uLK-8Oa_A'}</td>\n",
       "      <td>http://www.youtube.com/channel/UCMFVtlkIOcnii_...</td>\n",
       "      <td>Pasquale Calvi</td>\n",
       "      <td>https://yt3.ggpht.com/a/AGF-l7-1kBlKOUn2P2BiOM...</td>\n",
       "      <td>True</td>\n",
       "      <td>1</td>\n",
       "      <td>NaN</td>\n",
       "      <td>UgwFoXNO8-3pc9IIpg94AaABAg</td>\n",
       "      <td>2019-10-28T17:35:58.000Z</td>\n",
       "      <td>At canon you spend thousands for these specs 😂</td>\n",
       "      <td>At canon you spend thousands for these specs 😂</td>\n",
       "      <td>2019-10-28T17:35:58.000Z</td>\n",
       "      <td>uidwRr9qCdM</td>\n",
       "      <td>none</td>\n",
       "    </tr>\n",
       "    <tr>\n",
       "      <th>260043</th>\n",
       "      <td>Ugy39Ch8QAbSPtup7yB4AaABAg</td>\n",
       "      <td>{'value': 'UC90YQHdvy0jJmR-sIDrzzYA'}</td>\n",
       "      <td>http://www.youtube.com/channel/UC90YQHdvy0jJmR...</td>\n",
       "      <td>Candy Candy Girl</td>\n",
       "      <td>https://yt3.ggpht.com/a/AGF-l7_iT4V5R9D-Ur1xcl...</td>\n",
       "      <td>True</td>\n",
       "      <td>0</td>\n",
       "      <td>NaN</td>\n",
       "      <td>0</td>\n",
       "      <td>2020-01-22T19:06:49.000Z</td>\n",
       "      <td>Sony is the best ❤️❤️❤️</td>\n",
       "      <td>Sony is the best ❤️❤️❤️</td>\n",
       "      <td>2020-01-22T19:06:49.000Z</td>\n",
       "      <td>eZSQJnLPFB8</td>\n",
       "      <td>none</td>\n",
       "    </tr>\n",
       "    <tr>\n",
       "      <th>56738</th>\n",
       "      <td>UgzBg_5O-WhPxWIrRhV4AaABAg</td>\n",
       "      <td>{'value': 'UCZ91zEZpoz78qtitDeZsIiQ'}</td>\n",
       "      <td>http://www.youtube.com/channel/UCZ91zEZpoz78qt...</td>\n",
       "      <td>JGettisJr. Ministries</td>\n",
       "      <td>https://yt3.ggpht.com/a/AGF-l78mrVXAkBsq0r69Bg...</td>\n",
       "      <td>True</td>\n",
       "      <td>0</td>\n",
       "      <td>NaN</td>\n",
       "      <td>0</td>\n",
       "      <td>2019-12-04T15:00:16.000Z</td>\n",
       "      <td>Hi Peter, I would love to see your review of t...</td>\n",
       "      <td>Hi Peter, I would love to see your review of t...</td>\n",
       "      <td>2019-12-04T15:00:16.000Z</td>\n",
       "      <td>eKfpM4cBfwo</td>\n",
       "      <td>none</td>\n",
       "    </tr>\n",
       "    <tr>\n",
       "      <th>54150</th>\n",
       "      <td>UgyS3FAcxXLhq6D60oZ4AaABAg</td>\n",
       "      <td>{'value': 'UCichq-WswRaG6UG3GxHPgxA'}</td>\n",
       "      <td>http://www.youtube.com/channel/UCichq-WswRaG6U...</td>\n",
       "      <td>Chris Kelly</td>\n",
       "      <td>https://yt3.ggpht.com/a/AGF-l7-_7uDaTfec8HccTn...</td>\n",
       "      <td>True</td>\n",
       "      <td>0</td>\n",
       "      <td>NaN</td>\n",
       "      <td>0</td>\n",
       "      <td>2020-01-17T17:16:46.000Z</td>\n",
       "      <td>I look forward to seeing if Canon update the e...</td>\n",
       "      <td>I look forward to seeing if Canon update the e...</td>\n",
       "      <td>2020-01-17T17:16:46.000Z</td>\n",
       "      <td>vyXlR0AsiRw</td>\n",
       "      <td>none</td>\n",
       "    </tr>\n",
       "    <tr>\n",
       "      <th>54860</th>\n",
       "      <td>UgyglqkBrSRJ9JXf18l4AaABAg</td>\n",
       "      <td>{'value': 'UCfSwjnAlTET0CSLu0KBj-Zw'}</td>\n",
       "      <td>http://www.youtube.com/channel/UCfSwjnAlTET0CS...</td>\n",
       "      <td>Muhammed Yaseen</td>\n",
       "      <td>https://yt3.ggpht.com/a/AGF-l7_XmTdq-_xAp5Vwcm...</td>\n",
       "      <td>True</td>\n",
       "      <td>0</td>\n",
       "      <td>NaN</td>\n",
       "      <td>0</td>\n",
       "      <td>2020-01-07T14:15:35.000Z</td>\n",
       "      <td>2:27 \\nCanon Cafeteria Coffee? \\nCCC\\nYay! Tha...</td>\n",
       "      <td>2:27 \\nCanon Cafeteria Coffee? \\nCCC\\nYay! Tha...</td>\n",
       "      <td>2020-01-07T14:15:35.000Z</td>\n",
       "      <td>pKNjUl29jDY</td>\n",
       "      <td>none</td>\n",
       "    </tr>\n",
       "    <tr>\n",
       "      <th>151491</th>\n",
       "      <td>Ugwc2s8vOxDbVxj0v-Z4AaABAg</td>\n",
       "      <td>{'value': 'UCByF5UAoEe8EQlXGT3whf1Q'}</td>\n",
       "      <td>http://www.youtube.com/channel/UCByF5UAoEe8EQl...</td>\n",
       "      <td>mohit mehra</td>\n",
       "      <td>https://yt3.ggpht.com/a/AGF-l78ed3KuF7ewPUDNRi...</td>\n",
       "      <td>True</td>\n",
       "      <td>0</td>\n",
       "      <td>NaN</td>\n",
       "      <td>0</td>\n",
       "      <td>2019-11-28T04:25:11.000Z</td>\n",
       "      <td>Camera vaps mt do😂😂</td>\n",
       "      <td>Camera vaps mt do😂😂</td>\n",
       "      <td>2019-11-28T04:25:11.000Z</td>\n",
       "      <td>t0Cs8P_TX9g</td>\n",
       "      <td>none</td>\n",
       "    </tr>\n",
       "    <tr>\n",
       "      <th>60106</th>\n",
       "      <td>UgzeeoQ81TECqc47ZHp4AaABAg.9-aHxIIjeeR93lu7SXC0dB</td>\n",
       "      <td>{'value': 'UCiBUOOlQGXKXgE93RQNOqbw'}</td>\n",
       "      <td>http://www.youtube.com/channel/UCiBUOOlQGXKXgE...</td>\n",
       "      <td>Jerimiah Cook Vlogs</td>\n",
       "      <td>https://yt3.ggpht.com/a/AGF-l79WjIogXbsQZEmYK4...</td>\n",
       "      <td>True</td>\n",
       "      <td>0</td>\n",
       "      <td>NaN</td>\n",
       "      <td>UgzeeoQ81TECqc47ZHp4AaABAg</td>\n",
       "      <td>2020-01-14T14:14:46.000Z</td>\n",
       "      <td>and Canon</td>\n",
       "      <td>and Canon</td>\n",
       "      <td>2020-01-14T14:14:46.000Z</td>\n",
       "      <td>xg05Jza995o</td>\n",
       "      <td>none</td>\n",
       "    </tr>\n",
       "    <tr>\n",
       "      <th>61593</th>\n",
       "      <td>Ugz30dC7DeY0F13syWF4AaABAg</td>\n",
       "      <td>{'value': 'UCZuEPkS4u_mUEkqkP9tklJA'}</td>\n",
       "      <td>http://www.youtube.com/channel/UCZuEPkS4u_mUEk...</td>\n",
       "      <td>Damon Tang</td>\n",
       "      <td>https://yt3.ggpht.com/a/AGF-l7-tGiBxTkW84hFBOs...</td>\n",
       "      <td>True</td>\n",
       "      <td>11</td>\n",
       "      <td>NaN</td>\n",
       "      <td>0</td>\n",
       "      <td>2019-09-14T09:02:44.000Z</td>\n",
       "      <td>Tape over the Canon logo on the EOS R? Sponsor...</td>\n",
       "      <td>Tape over the Canon logo on the EOS R? Sponsor...</td>\n",
       "      <td>2019-09-14T09:02:44.000Z</td>\n",
       "      <td>v65tZn1cq3E</td>\n",
       "      <td>none</td>\n",
       "    </tr>\n",
       "    <tr>\n",
       "      <th>873627</th>\n",
       "      <td>UgzWWYePrR6CwVpgcLJ4AaABAg</td>\n",
       "      <td>{'value': 'UCw5AwCOMdCfvGVVGcrEHmxw'}</td>\n",
       "      <td>http://www.youtube.com/channel/UCw5AwCOMdCfvGV...</td>\n",
       "      <td>nclullaby1</td>\n",
       "      <td>https://yt3.ggpht.com/a/AGF-l78x_HEQTyRN7hyQBE...</td>\n",
       "      <td>True</td>\n",
       "      <td>0</td>\n",
       "      <td>NaN</td>\n",
       "      <td>0</td>\n",
       "      <td>2019-12-25T22:00:15.000Z</td>\n",
       "      <td>I agree cannon is better. Sony made your video...</td>\n",
       "      <td>I agree cannon is better. Sony made your video...</td>\n",
       "      <td>2019-12-25T22:01:12.000Z</td>\n",
       "      <td>O_PVav8Y0xc</td>\n",
       "      <td>none</td>\n",
       "    </tr>\n",
       "    <tr>\n",
       "      <th>54803</th>\n",
       "      <td>Ugy7LwndFwvMayqcN6V4AaABAg</td>\n",
       "      <td>{'value': 'UCNAphI2AHomZ_XTznjO56QQ'}</td>\n",
       "      <td>http://www.youtube.com/channel/UCNAphI2AHomZ_X...</td>\n",
       "      <td>papaya</td>\n",
       "      <td>https://yt3.ggpht.com/a/AGF-l7_Z8OZg_k5yZfyQc_...</td>\n",
       "      <td>True</td>\n",
       "      <td>5</td>\n",
       "      <td>NaN</td>\n",
       "      <td>0</td>\n",
       "      <td>2020-01-08T09:47:51.000Z</td>\n",
       "      <td>peter 'the most credible reviewer of canon cam...</td>\n",
       "      <td>peter 'the most credible reviewer of canon cam...</td>\n",
       "      <td>2020-01-08T09:47:51.000Z</td>\n",
       "      <td>pKNjUl29jDY</td>\n",
       "      <td>none</td>\n",
       "    </tr>\n",
       "    <tr>\n",
       "      <th>905498</th>\n",
       "      <td>UgzlEr_GTlBvV6AY38d4AaABAg.90rA6SkDqPj91jG5O3m16l</td>\n",
       "      <td>{'value': 'UC2Q5SOtXTLZ-SCLDQUnHkVw'}</td>\n",
       "      <td>http://www.youtube.com/channel/UC2Q5SOtXTLZ-SC...</td>\n",
       "      <td>A.A. lessia</td>\n",
       "      <td>https://yt3.ggpht.com/a/AGF-l7_pv8lI15ULFePFqS...</td>\n",
       "      <td>True</td>\n",
       "      <td>0</td>\n",
       "      <td>NaN</td>\n",
       "      <td>UgzlEr_GTlBvV6AY38d4AaABAg</td>\n",
       "      <td>2019-11-24T20:34:57.000Z</td>\n",
       "      <td>ANNABELL CANNON whitch ones?</td>\n",
       "      <td>ANNABELL CANNON whitch ones?</td>\n",
       "      <td>2019-11-24T20:34:57.000Z</td>\n",
       "      <td>j3Xj6SNIY94</td>\n",
       "      <td>none</td>\n",
       "    </tr>\n",
       "    <tr>\n",
       "      <th>56547</th>\n",
       "      <td>UgwaAqTx7TfMxMqeW3R4AaABAg.923-N06C39I93eKu5air6i</td>\n",
       "      <td>{'value': 'UCCHfLmMcz1on6sNN50fBkUw'}</td>\n",
       "      <td>http://www.youtube.com/channel/UCCHfLmMcz1on6s...</td>\n",
       "      <td>Mr.david_chill</td>\n",
       "      <td>https://yt3.ggpht.com/a/AGF-l7_YtwOqfJ5L1qBiKg...</td>\n",
       "      <td>True</td>\n",
       "      <td>0</td>\n",
       "      <td>NaN</td>\n",
       "      <td>UgwaAqTx7TfMxMqeW3R4AaABAg</td>\n",
       "      <td>2020-01-11T15:43:33.000Z</td>\n",
       "      <td>EOS RP PLEZ</td>\n",
       "      <td>EOS RP PLEZ</td>\n",
       "      <td>2020-01-11T15:43:33.000Z</td>\n",
       "      <td>eKfpM4cBfwo</td>\n",
       "      <td>none</td>\n",
       "    </tr>\n",
       "  </tbody>\n",
       "</table>\n",
       "</div>"
      ],
      "text/plain": [
       "                                                   CommID  \\\n",
       "22606                          Ugx-hk6za70kAuJlyJZ4AaABAg   \n",
       "109252                         Ugy34UPrYQJPvZW9aRN4AaABAg   \n",
       "61333   UgwFoXNO8-3pc9IIpg94AaABAg.8zBM5QHZLHJ90dQ8pzlyLR   \n",
       "260043                         Ugy39Ch8QAbSPtup7yB4AaABAg   \n",
       "56738                          UgzBg_5O-WhPxWIrRhV4AaABAg   \n",
       "54150                          UgyS3FAcxXLhq6D60oZ4AaABAg   \n",
       "54860                          UgyglqkBrSRJ9JXf18l4AaABAg   \n",
       "151491                         Ugwc2s8vOxDbVxj0v-Z4AaABAg   \n",
       "60106   UgzeeoQ81TECqc47ZHp4AaABAg.9-aHxIIjeeR93lu7SXC0dB   \n",
       "61593                          Ugz30dC7DeY0F13syWF4AaABAg   \n",
       "873627                         UgzWWYePrR6CwVpgcLJ4AaABAg   \n",
       "54803                          Ugy7LwndFwvMayqcN6V4AaABAg   \n",
       "905498  UgzlEr_GTlBvV6AY38d4AaABAg.90rA6SkDqPj91jG5O3m16l   \n",
       "56547   UgwaAqTx7TfMxMqeW3R4AaABAg.923-N06C39I93eKu5air6i   \n",
       "\n",
       "                              authorChannelId  \\\n",
       "22606   {'value': 'UCptPjyG9epmeAEQ7yTN1auw'}   \n",
       "109252  {'value': 'UCUv1W3SgdCyH5uW_X8M6P8g'}   \n",
       "61333   {'value': 'UCMFVtlkIOcnii_uLK-8Oa_A'}   \n",
       "260043  {'value': 'UC90YQHdvy0jJmR-sIDrzzYA'}   \n",
       "56738   {'value': 'UCZ91zEZpoz78qtitDeZsIiQ'}   \n",
       "54150   {'value': 'UCichq-WswRaG6UG3GxHPgxA'}   \n",
       "54860   {'value': 'UCfSwjnAlTET0CSLu0KBj-Zw'}   \n",
       "151491  {'value': 'UCByF5UAoEe8EQlXGT3whf1Q'}   \n",
       "60106   {'value': 'UCiBUOOlQGXKXgE93RQNOqbw'}   \n",
       "61593   {'value': 'UCZuEPkS4u_mUEkqkP9tklJA'}   \n",
       "873627  {'value': 'UCw5AwCOMdCfvGVVGcrEHmxw'}   \n",
       "54803   {'value': 'UCNAphI2AHomZ_XTznjO56QQ'}   \n",
       "905498  {'value': 'UC2Q5SOtXTLZ-SCLDQUnHkVw'}   \n",
       "56547   {'value': 'UCCHfLmMcz1on6sNN50fBkUw'}   \n",
       "\n",
       "                                         authorChannelUrl  \\\n",
       "22606   http://www.youtube.com/channel/UCptPjyG9epmeAE...   \n",
       "109252  http://www.youtube.com/channel/UCUv1W3SgdCyH5u...   \n",
       "61333   http://www.youtube.com/channel/UCMFVtlkIOcnii_...   \n",
       "260043  http://www.youtube.com/channel/UC90YQHdvy0jJmR...   \n",
       "56738   http://www.youtube.com/channel/UCZ91zEZpoz78qt...   \n",
       "54150   http://www.youtube.com/channel/UCichq-WswRaG6U...   \n",
       "54860   http://www.youtube.com/channel/UCfSwjnAlTET0CS...   \n",
       "151491  http://www.youtube.com/channel/UCByF5UAoEe8EQl...   \n",
       "60106   http://www.youtube.com/channel/UCiBUOOlQGXKXgE...   \n",
       "61593   http://www.youtube.com/channel/UCZuEPkS4u_mUEk...   \n",
       "873627  http://www.youtube.com/channel/UCw5AwCOMdCfvGV...   \n",
       "54803   http://www.youtube.com/channel/UCNAphI2AHomZ_X...   \n",
       "905498  http://www.youtube.com/channel/UC2Q5SOtXTLZ-SC...   \n",
       "56547   http://www.youtube.com/channel/UCCHfLmMcz1on6s...   \n",
       "\n",
       "            authorDisplayName  \\\n",
       "22606              Jokunas Tv   \n",
       "109252             Gay Garcia   \n",
       "61333          Pasquale Calvi   \n",
       "260043       Candy Candy Girl   \n",
       "56738   JGettisJr. Ministries   \n",
       "54150             Chris Kelly   \n",
       "54860         Muhammed Yaseen   \n",
       "151491            mohit mehra   \n",
       "60106     Jerimiah Cook Vlogs   \n",
       "61593              Damon Tang   \n",
       "873627             nclullaby1   \n",
       "54803                  papaya   \n",
       "905498            A.A. lessia   \n",
       "56547          Mr.david_chill   \n",
       "\n",
       "                                    authorProfileImageUrl  canRate  likeCount  \\\n",
       "22606   https://yt3.ggpht.com/a/AGF-l7-GsPRDdkEwUczQKF...     True          0   \n",
       "109252  https://yt3.ggpht.com/a/AGF-l79l-GNoQHL_a7y9Yt...     True          0   \n",
       "61333   https://yt3.ggpht.com/a/AGF-l7-1kBlKOUn2P2BiOM...     True          1   \n",
       "260043  https://yt3.ggpht.com/a/AGF-l7_iT4V5R9D-Ur1xcl...     True          0   \n",
       "56738   https://yt3.ggpht.com/a/AGF-l78mrVXAkBsq0r69Bg...     True          0   \n",
       "54150   https://yt3.ggpht.com/a/AGF-l7-_7uDaTfec8HccTn...     True          0   \n",
       "54860   https://yt3.ggpht.com/a/AGF-l7_XmTdq-_xAp5Vwcm...     True          0   \n",
       "151491  https://yt3.ggpht.com/a/AGF-l78ed3KuF7ewPUDNRi...     True          0   \n",
       "60106   https://yt3.ggpht.com/a/AGF-l79WjIogXbsQZEmYK4...     True          0   \n",
       "61593   https://yt3.ggpht.com/a/AGF-l7-tGiBxTkW84hFBOs...     True         11   \n",
       "873627  https://yt3.ggpht.com/a/AGF-l78x_HEQTyRN7hyQBE...     True          0   \n",
       "54803   https://yt3.ggpht.com/a/AGF-l7_Z8OZg_k5yZfyQc_...     True          5   \n",
       "905498  https://yt3.ggpht.com/a/AGF-l7_pv8lI15ULFePFqS...     True          0   \n",
       "56547   https://yt3.ggpht.com/a/AGF-l7_YtwOqfJ5L1qBiKg...     True          0   \n",
       "\n",
       "       moderationStatus                    parentId               publishedAt  \\\n",
       "22606               NaN                           0  2019-09-03T15:30:04.000Z   \n",
       "109252              NaN                           0  2019-09-17T13:58:33.000Z   \n",
       "61333               NaN  UgwFoXNO8-3pc9IIpg94AaABAg  2019-10-28T17:35:58.000Z   \n",
       "260043              NaN                           0  2020-01-22T19:06:49.000Z   \n",
       "56738               NaN                           0  2019-12-04T15:00:16.000Z   \n",
       "54150               NaN                           0  2020-01-17T17:16:46.000Z   \n",
       "54860               NaN                           0  2020-01-07T14:15:35.000Z   \n",
       "151491              NaN                           0  2019-11-28T04:25:11.000Z   \n",
       "60106               NaN  UgzeeoQ81TECqc47ZHp4AaABAg  2020-01-14T14:14:46.000Z   \n",
       "61593               NaN                           0  2019-09-14T09:02:44.000Z   \n",
       "873627              NaN                           0  2019-12-25T22:00:15.000Z   \n",
       "54803               NaN                           0  2020-01-08T09:47:51.000Z   \n",
       "905498              NaN  UgzlEr_GTlBvV6AY38d4AaABAg  2019-11-24T20:34:57.000Z   \n",
       "56547               NaN  UgwaAqTx7TfMxMqeW3R4AaABAg  2020-01-11T15:43:33.000Z   \n",
       "\n",
       "                                              textDisplay  \\\n",
       "22606                      when you changing to canon 90d   \n",
       "109252           What kind of canon vixia  you are using?   \n",
       "61333      At canon you spend thousands for these specs 😂   \n",
       "260043                            Sony is the best ❤️❤️❤️   \n",
       "56738   Hi Peter, I would love to see your review of t...   \n",
       "54150   I look forward to seeing if Canon update the e...   \n",
       "54860   2:27 \\nCanon Cafeteria Coffee? \\nCCC\\nYay! Tha...   \n",
       "151491                                Camera vaps mt do😂😂   \n",
       "60106                                           and Canon   \n",
       "61593   Tape over the Canon logo on the EOS R? Sponsor...   \n",
       "873627  I agree cannon is better. Sony made your video...   \n",
       "54803   peter 'the most credible reviewer of canon cam...   \n",
       "905498                       ANNABELL CANNON whitch ones?   \n",
       "56547                                         EOS RP PLEZ   \n",
       "\n",
       "                                             textOriginal  \\\n",
       "22606                      when you changing to canon 90d   \n",
       "109252           What kind of canon vixia  you are using?   \n",
       "61333      At canon you spend thousands for these specs 😂   \n",
       "260043                            Sony is the best ❤️❤️❤️   \n",
       "56738   Hi Peter, I would love to see your review of t...   \n",
       "54150   I look forward to seeing if Canon update the e...   \n",
       "54860   2:27 \\nCanon Cafeteria Coffee? \\nCCC\\nYay! Tha...   \n",
       "151491                                Camera vaps mt do😂😂   \n",
       "60106                                           and Canon   \n",
       "61593   Tape over the Canon logo on the EOS R? Sponsor...   \n",
       "873627  I agree cannon is better. Sony made your video...   \n",
       "54803   peter 'the most credible reviewer of canon cam...   \n",
       "905498                       ANNABELL CANNON whitch ones?   \n",
       "56547                                         EOS RP PLEZ   \n",
       "\n",
       "                       updatedAt      videoId viewerRating  \n",
       "22606   2019-09-03T15:30:04.000Z  dSmsQraeCVM         none  \n",
       "109252  2019-09-17T13:58:33.000Z  58j7ycxs1_Y         none  \n",
       "61333   2019-10-28T17:35:58.000Z  uidwRr9qCdM         none  \n",
       "260043  2020-01-22T19:06:49.000Z  eZSQJnLPFB8         none  \n",
       "56738   2019-12-04T15:00:16.000Z  eKfpM4cBfwo         none  \n",
       "54150   2020-01-17T17:16:46.000Z  vyXlR0AsiRw         none  \n",
       "54860   2020-01-07T14:15:35.000Z  pKNjUl29jDY         none  \n",
       "151491  2019-11-28T04:25:11.000Z  t0Cs8P_TX9g         none  \n",
       "60106   2020-01-14T14:14:46.000Z  xg05Jza995o         none  \n",
       "61593   2019-09-14T09:02:44.000Z  v65tZn1cq3E         none  \n",
       "873627  2019-12-25T22:01:12.000Z  O_PVav8Y0xc         none  \n",
       "54803   2020-01-08T09:47:51.000Z  pKNjUl29jDY         none  \n",
       "905498  2019-11-24T20:34:57.000Z  j3Xj6SNIY94         none  \n",
       "56547   2020-01-11T15:43:33.000Z  eKfpM4cBfwo         none  "
      ]
     },
     "execution_count": 209,
     "metadata": {},
     "output_type": "execute_result"
    }
   ],
   "source": [
    "comms_samp_df[tf_ar[0]]"
   ]
  },
  {
   "cell_type": "code",
   "execution_count": 160,
   "metadata": {},
   "outputs": [],
   "source": [
    "from collections import Counter"
   ]
  },
  {
   "cell_type": "code",
   "execution_count": 161,
   "metadata": {},
   "outputs": [],
   "source": [
    "count = Counter(comms_samp_df[tf_ar[0]]['videoId'])"
   ]
  },
  {
   "cell_type": "code",
   "execution_count": 162,
   "metadata": {},
   "outputs": [
    {
     "data": {
      "text/plain": [
       "Counter({'dSmsQraeCVM': 1,\n",
       "         '58j7ycxs1_Y': 1,\n",
       "         'uidwRr9qCdM': 1,\n",
       "         'eZSQJnLPFB8': 1,\n",
       "         'eKfpM4cBfwo': 2,\n",
       "         'vyXlR0AsiRw': 1,\n",
       "         'pKNjUl29jDY': 2,\n",
       "         't0Cs8P_TX9g': 1,\n",
       "         'xg05Jza995o': 1,\n",
       "         'v65tZn1cq3E': 1,\n",
       "         'O_PVav8Y0xc': 1,\n",
       "         'j3Xj6SNIY94': 1})"
      ]
     },
     "execution_count": 162,
     "metadata": {},
     "output_type": "execute_result"
    }
   ],
   "source": [
    "count"
   ]
  },
  {
   "cell_type": "code",
   "execution_count": 268,
   "metadata": {},
   "outputs": [],
   "source": [
    "# Now have the dataframe of results from the results list. \n",
    "# Create a results_info_df that collects all the relevant information on the resultant list produced:\n",
    "results_info_df = comms_samp_df[tf_ar[0]][['CommID',\n",
    "                                           'authorChannelUrl',\n",
    "                                           'authorDisplayName',\n",
    "                                           'authorProfileImageUrl',\n",
    "                                           'parentId',\n",
    "                                           'publishedAt',\n",
    "                                           'textDisplay',\n",
    "                                           'videoId']].copy(deep=True)"
   ]
  },
  {
   "cell_type": "code",
   "execution_count": 269,
   "metadata": {},
   "outputs": [
    {
     "data": {
      "text/plain": [
       "22606     dSmsQraeCVM\n",
       "109252    58j7ycxs1_Y\n",
       "61333     uidwRr9qCdM\n",
       "260043    eZSQJnLPFB8\n",
       "56738     eKfpM4cBfwo\n",
       "54150     vyXlR0AsiRw\n",
       "54860     pKNjUl29jDY\n",
       "151491    t0Cs8P_TX9g\n",
       "60106     xg05Jza995o\n",
       "61593     v65tZn1cq3E\n",
       "873627    O_PVav8Y0xc\n",
       "54803     pKNjUl29jDY\n",
       "905498    j3Xj6SNIY94\n",
       "56547     eKfpM4cBfwo\n",
       "Name: videoId, dtype: object"
      ]
     },
     "execution_count": 269,
     "metadata": {},
     "output_type": "execute_result"
    }
   ],
   "source": [
    "results_info_df['videoId']"
   ]
  },
  {
   "cell_type": "code",
   "execution_count": 270,
   "metadata": {},
   "outputs": [
    {
     "data": {
      "text/plain": [
       "22606     dSmsQraeCVM\n",
       "109252    58j7ycxs1_Y\n",
       "61333     uidwRr9qCdM\n",
       "260043    eZSQJnLPFB8\n",
       "56738     eKfpM4cBfwo\n",
       "54150     vyXlR0AsiRw\n",
       "54860     pKNjUl29jDY\n",
       "151491    t0Cs8P_TX9g\n",
       "60106     xg05Jza995o\n",
       "61593     v65tZn1cq3E\n",
       "873627    O_PVav8Y0xc\n",
       "54803     pKNjUl29jDY\n",
       "905498    j3Xj6SNIY94\n",
       "56547     eKfpM4cBfwo\n",
       "Name: videoId, dtype: object"
      ]
     },
     "execution_count": 270,
     "metadata": {},
     "output_type": "execute_result"
    }
   ],
   "source": [
    "# Check that it aligns with the results from the main dataframe\n",
    "comms_samp_df[tf_ar[0]]['videoId']"
   ]
  },
  {
   "cell_type": "code",
   "execution_count": 271,
   "metadata": {},
   "outputs": [],
   "source": [
    "# Assign a new column in the results_info dataframe to associate the similarity score with the correct comment and sort:\n",
    "results_info_df['sim_score'] = sim_vec[0][tf_ar[0]]\n",
    "results_info_df.sort_values(by='sim_score',ascending=False, inplace=True)"
   ]
  },
  {
   "cell_type": "code",
   "execution_count": 272,
   "metadata": {},
   "outputs": [],
   "source": [
    "# Assign a new column for the channel associated with the given video:\n",
    "chan_look_up = vids_df[vids_df['VidID'].isin(results_info_df['videoId'])]\n"
   ]
  },
  {
   "cell_type": "code",
   "execution_count": 273,
   "metadata": {},
   "outputs": [
    {
     "data": {
      "text/plain": [
       "60106     xg05Jza995o\n",
       "22606     dSmsQraeCVM\n",
       "109252    58j7ycxs1_Y\n",
       "54803     pKNjUl29jDY\n",
       "54150     vyXlR0AsiRw\n",
       "61593     v65tZn1cq3E\n",
       "56738     eKfpM4cBfwo\n",
       "260043    eZSQJnLPFB8\n",
       "61333     uidwRr9qCdM\n",
       "56547     eKfpM4cBfwo\n",
       "151491    t0Cs8P_TX9g\n",
       "873627    O_PVav8Y0xc\n",
       "905498    j3Xj6SNIY94\n",
       "54860     pKNjUl29jDY\n",
       "Name: videoId, dtype: object"
      ]
     },
     "execution_count": 273,
     "metadata": {},
     "output_type": "execute_result"
    }
   ],
   "source": [
    "results_info_df['videoId']"
   ]
  },
  {
   "cell_type": "markdown",
   "metadata": {},
   "source": [
    "#### Need to rename the column with the video ID to match up with that in the vids_df"
   ]
  },
  {
   "cell_type": "code",
   "execution_count": 274,
   "metadata": {},
   "outputs": [],
   "source": [
    "cols = list(results_info_df.columns)\n",
    "\n",
    "cols[-2] = 'VidID'\n",
    "\n",
    "results_info_df.columns = cols"
   ]
  },
  {
   "cell_type": "code",
   "execution_count": 275,
   "metadata": {},
   "outputs": [],
   "source": [
    "results_info_df = results_info_df.merge(right=vids_df,how='left',on='VidID',suffixes=('_comm', '_vid'))"
   ]
  },
  {
   "cell_type": "code",
   "execution_count": 276,
   "metadata": {},
   "outputs": [
    {
     "data": {
      "text/html": [
       "<div>\n",
       "<style scoped>\n",
       "    .dataframe tbody tr th:only-of-type {\n",
       "        vertical-align: middle;\n",
       "    }\n",
       "\n",
       "    .dataframe tbody tr th {\n",
       "        vertical-align: top;\n",
       "    }\n",
       "\n",
       "    .dataframe thead th {\n",
       "        text-align: right;\n",
       "    }\n",
       "</style>\n",
       "<table border=\"1\" class=\"dataframe\">\n",
       "  <thead>\n",
       "    <tr style=\"text-align: right;\">\n",
       "      <th></th>\n",
       "      <th>CommID</th>\n",
       "      <th>authorChannelUrl</th>\n",
       "      <th>authorDisplayName</th>\n",
       "      <th>authorProfileImageUrl</th>\n",
       "      <th>parentId</th>\n",
       "      <th>publishedAt</th>\n",
       "      <th>textDisplay</th>\n",
       "      <th>VidID</th>\n",
       "      <th>sim_score</th>\n",
       "      <th>ChannelID</th>\n",
       "      <th>VidTitle</th>\n",
       "      <th>VidDescription</th>\n",
       "      <th>VidPublished</th>\n",
       "      <th>viewCount</th>\n",
       "      <th>likeCount</th>\n",
       "      <th>dislikeCount</th>\n",
       "      <th>favoriteCount</th>\n",
       "      <th>commentCount</th>\n",
       "    </tr>\n",
       "  </thead>\n",
       "  <tbody>\n",
       "    <tr>\n",
       "      <th>0</th>\n",
       "      <td>UgzeeoQ81TECqc47ZHp4AaABAg.9-aHxIIjeeR93lu7SXC0dB</td>\n",
       "      <td>http://www.youtube.com/channel/UCiBUOOlQGXKXgE...</td>\n",
       "      <td>Jerimiah Cook Vlogs</td>\n",
       "      <td>https://yt3.ggpht.com/a/AGF-l79WjIogXbsQZEmYK4...</td>\n",
       "      <td>UgzeeoQ81TECqc47ZHp4AaABAg</td>\n",
       "      <td>2020-01-14T14:14:46.000Z</td>\n",
       "      <td>and Canon</td>\n",
       "      <td>xg05Jza995o</td>\n",
       "      <td>0.861038</td>\n",
       "      <td>UC3DkFux8Iv-aYnTRWzwaiBA</td>\n",
       "      <td>How I Film a Cinematic Sequence - Behind The S...</td>\n",
       "      <td>10% OFF SQUARESPACE! 'MCKINNON' @ checkout! : ...</td>\n",
       "      <td>2019-09-30T22:39:45.000Z</td>\n",
       "      <td>446652.0</td>\n",
       "      <td>22465.0</td>\n",
       "      <td>348.0</td>\n",
       "      <td>0.0</td>\n",
       "      <td>1392.0</td>\n",
       "    </tr>\n",
       "    <tr>\n",
       "      <th>1</th>\n",
       "      <td>Ugx-hk6za70kAuJlyJZ4AaABAg</td>\n",
       "      <td>http://www.youtube.com/channel/UCptPjyG9epmeAE...</td>\n",
       "      <td>Jokunas Tv</td>\n",
       "      <td>https://yt3.ggpht.com/a/AGF-l7-GsPRDdkEwUczQKF...</td>\n",
       "      <td>0</td>\n",
       "      <td>2019-09-03T15:30:04.000Z</td>\n",
       "      <td>when you changing to canon 90d</td>\n",
       "      <td>dSmsQraeCVM</td>\n",
       "      <td>0.567128</td>\n",
       "      <td>UCtinbF-Q-fVthA0qrFQTgXQ</td>\n",
       "      <td>My New New Studio</td>\n",
       "      <td>Go to https://NordVPN.com/casey to get 75% off...</td>\n",
       "      <td>2019-08-14T16:41:02.000Z</td>\n",
       "      <td>2819681.0</td>\n",
       "      <td>94198.0</td>\n",
       "      <td>4931.0</td>\n",
       "      <td>0.0</td>\n",
       "      <td>5388.0</td>\n",
       "    </tr>\n",
       "    <tr>\n",
       "      <th>2</th>\n",
       "      <td>Ugy34UPrYQJPvZW9aRN4AaABAg</td>\n",
       "      <td>http://www.youtube.com/channel/UCUv1W3SgdCyH5u...</td>\n",
       "      <td>Gay Garcia</td>\n",
       "      <td>https://yt3.ggpht.com/a/AGF-l79l-GNoQHL_a7y9Yt...</td>\n",
       "      <td>0</td>\n",
       "      <td>2019-09-17T13:58:33.000Z</td>\n",
       "      <td>What kind of canon vixia  you are using?</td>\n",
       "      <td>58j7ycxs1_Y</td>\n",
       "      <td>0.559561</td>\n",
       "      <td>UCAo41QETLlwvJ-oqjmEPt8A</td>\n",
       "      <td>📱A DAY IN MY LIFE *without a phone*</td>\n",
       "      <td>📷 Instagram: http://instagram.com/joankeem\\n🐥 ...</td>\n",
       "      <td>2019-09-16T12:00:01.000Z</td>\n",
       "      <td>81594.0</td>\n",
       "      <td>3154.0</td>\n",
       "      <td>56.0</td>\n",
       "      <td>0.0</td>\n",
       "      <td>239.0</td>\n",
       "    </tr>\n",
       "    <tr>\n",
       "      <th>3</th>\n",
       "      <td>Ugy7LwndFwvMayqcN6V4AaABAg</td>\n",
       "      <td>http://www.youtube.com/channel/UCNAphI2AHomZ_X...</td>\n",
       "      <td>papaya</td>\n",
       "      <td>https://yt3.ggpht.com/a/AGF-l7_Z8OZg_k5yZfyQc_...</td>\n",
       "      <td>0</td>\n",
       "      <td>2020-01-08T09:47:51.000Z</td>\n",
       "      <td>peter 'the most credible reviewer of canon cam...</td>\n",
       "      <td>pKNjUl29jDY</td>\n",
       "      <td>0.554769</td>\n",
       "      <td>UC3DkFux8Iv-aYnTRWzwaiBA</td>\n",
       "      <td>HANDS ON with NEW Canon 1DXMK3!!</td>\n",
       "      <td>Lightroom PRESET PACK: https://goo.gl/1CfEKF\\n...</td>\n",
       "      <td>2020-01-07T01:30:38.000Z</td>\n",
       "      <td>582725.0</td>\n",
       "      <td>22906.0</td>\n",
       "      <td>784.0</td>\n",
       "      <td>0.0</td>\n",
       "      <td>1832.0</td>\n",
       "    </tr>\n",
       "    <tr>\n",
       "      <th>4</th>\n",
       "      <td>UgyS3FAcxXLhq6D60oZ4AaABAg</td>\n",
       "      <td>http://www.youtube.com/channel/UCichq-WswRaG6U...</td>\n",
       "      <td>Chris Kelly</td>\n",
       "      <td>https://yt3.ggpht.com/a/AGF-l7-_7uDaTfec8HccTn...</td>\n",
       "      <td>0</td>\n",
       "      <td>2020-01-17T17:16:46.000Z</td>\n",
       "      <td>I look forward to seeing if Canon update the e...</td>\n",
       "      <td>vyXlR0AsiRw</td>\n",
       "      <td>0.488344</td>\n",
       "      <td>UC3DkFux8Iv-aYnTRWzwaiBA</td>\n",
       "      <td>5.5K RAW B ROLL with the 1DXMK3!!! OMG! *Actua...</td>\n",
       "      <td>Follow Ryan and Comment to win this wallet me ...</td>\n",
       "      <td>2020-01-16T22:38:37.000Z</td>\n",
       "      <td>405802.0</td>\n",
       "      <td>20814.0</td>\n",
       "      <td>381.0</td>\n",
       "      <td>0.0</td>\n",
       "      <td>1863.0</td>\n",
       "    </tr>\n",
       "  </tbody>\n",
       "</table>\n",
       "</div>"
      ],
      "text/plain": [
       "                                              CommID  \\\n",
       "0  UgzeeoQ81TECqc47ZHp4AaABAg.9-aHxIIjeeR93lu7SXC0dB   \n",
       "1                         Ugx-hk6za70kAuJlyJZ4AaABAg   \n",
       "2                         Ugy34UPrYQJPvZW9aRN4AaABAg   \n",
       "3                         Ugy7LwndFwvMayqcN6V4AaABAg   \n",
       "4                         UgyS3FAcxXLhq6D60oZ4AaABAg   \n",
       "\n",
       "                                    authorChannelUrl    authorDisplayName  \\\n",
       "0  http://www.youtube.com/channel/UCiBUOOlQGXKXgE...  Jerimiah Cook Vlogs   \n",
       "1  http://www.youtube.com/channel/UCptPjyG9epmeAE...           Jokunas Tv   \n",
       "2  http://www.youtube.com/channel/UCUv1W3SgdCyH5u...           Gay Garcia   \n",
       "3  http://www.youtube.com/channel/UCNAphI2AHomZ_X...               papaya   \n",
       "4  http://www.youtube.com/channel/UCichq-WswRaG6U...          Chris Kelly   \n",
       "\n",
       "                               authorProfileImageUrl  \\\n",
       "0  https://yt3.ggpht.com/a/AGF-l79WjIogXbsQZEmYK4...   \n",
       "1  https://yt3.ggpht.com/a/AGF-l7-GsPRDdkEwUczQKF...   \n",
       "2  https://yt3.ggpht.com/a/AGF-l79l-GNoQHL_a7y9Yt...   \n",
       "3  https://yt3.ggpht.com/a/AGF-l7_Z8OZg_k5yZfyQc_...   \n",
       "4  https://yt3.ggpht.com/a/AGF-l7-_7uDaTfec8HccTn...   \n",
       "\n",
       "                     parentId               publishedAt  \\\n",
       "0  UgzeeoQ81TECqc47ZHp4AaABAg  2020-01-14T14:14:46.000Z   \n",
       "1                           0  2019-09-03T15:30:04.000Z   \n",
       "2                           0  2019-09-17T13:58:33.000Z   \n",
       "3                           0  2020-01-08T09:47:51.000Z   \n",
       "4                           0  2020-01-17T17:16:46.000Z   \n",
       "\n",
       "                                         textDisplay        VidID  sim_score  \\\n",
       "0                                          and Canon  xg05Jza995o   0.861038   \n",
       "1                     when you changing to canon 90d  dSmsQraeCVM   0.567128   \n",
       "2           What kind of canon vixia  you are using?  58j7ycxs1_Y   0.559561   \n",
       "3  peter 'the most credible reviewer of canon cam...  pKNjUl29jDY   0.554769   \n",
       "4  I look forward to seeing if Canon update the e...  vyXlR0AsiRw   0.488344   \n",
       "\n",
       "                  ChannelID  \\\n",
       "0  UC3DkFux8Iv-aYnTRWzwaiBA   \n",
       "1  UCtinbF-Q-fVthA0qrFQTgXQ   \n",
       "2  UCAo41QETLlwvJ-oqjmEPt8A   \n",
       "3  UC3DkFux8Iv-aYnTRWzwaiBA   \n",
       "4  UC3DkFux8Iv-aYnTRWzwaiBA   \n",
       "\n",
       "                                            VidTitle  \\\n",
       "0  How I Film a Cinematic Sequence - Behind The S...   \n",
       "1                                  My New New Studio   \n",
       "2                📱A DAY IN MY LIFE *without a phone*   \n",
       "3                   HANDS ON with NEW Canon 1DXMK3!!   \n",
       "4  5.5K RAW B ROLL with the 1DXMK3!!! OMG! *Actua...   \n",
       "\n",
       "                                      VidDescription  \\\n",
       "0  10% OFF SQUARESPACE! 'MCKINNON' @ checkout! : ...   \n",
       "1  Go to https://NordVPN.com/casey to get 75% off...   \n",
       "2  📷 Instagram: http://instagram.com/joankeem\\n🐥 ...   \n",
       "3  Lightroom PRESET PACK: https://goo.gl/1CfEKF\\n...   \n",
       "4  Follow Ryan and Comment to win this wallet me ...   \n",
       "\n",
       "               VidPublished  viewCount  likeCount  dislikeCount  \\\n",
       "0  2019-09-30T22:39:45.000Z   446652.0    22465.0         348.0   \n",
       "1  2019-08-14T16:41:02.000Z  2819681.0    94198.0        4931.0   \n",
       "2  2019-09-16T12:00:01.000Z    81594.0     3154.0          56.0   \n",
       "3  2020-01-07T01:30:38.000Z   582725.0    22906.0         784.0   \n",
       "4  2020-01-16T22:38:37.000Z   405802.0    20814.0         381.0   \n",
       "\n",
       "   favoriteCount  commentCount  \n",
       "0            0.0        1392.0  \n",
       "1            0.0        5388.0  \n",
       "2            0.0         239.0  \n",
       "3            0.0        1832.0  \n",
       "4            0.0        1863.0  "
      ]
     },
     "execution_count": 276,
     "metadata": {},
     "output_type": "execute_result"
    }
   ],
   "source": [
    "results_info_df.head(5)"
   ]
  },
  {
   "cell_type": "markdown",
   "metadata": {},
   "source": [
    "#### Lastly get the channel info:"
   ]
  },
  {
   "cell_type": "code",
   "execution_count": 277,
   "metadata": {},
   "outputs": [],
   "source": [
    "# Rename common columns:\n",
    "cols = list(results_info_df.columns)"
   ]
  },
  {
   "cell_type": "code",
   "execution_count": 278,
   "metadata": {
    "scrolled": true
   },
   "outputs": [],
   "source": [
    "cols[5] = 'publishedAt_comm'"
   ]
  },
  {
   "cell_type": "code",
   "execution_count": 279,
   "metadata": {},
   "outputs": [],
   "source": [
    "results_info_df.columns = cols"
   ]
  },
  {
   "cell_type": "code",
   "execution_count": 281,
   "metadata": {},
   "outputs": [],
   "source": [
    "results_info_df = results_info_df.merge(right=chan_info_df,how='left',on='ChannelID',suffixes=('_vid', '_chan'))"
   ]
  },
  {
   "cell_type": "code",
   "execution_count": 311,
   "metadata": {},
   "outputs": [
    {
     "data": {
      "text/plain": [
       "Index(['CommID', 'authorChannelUrl', 'authorDisplayName',\n",
       "       'authorProfileImageUrl', 'parentId', 'publishedAt_comm', 'textDisplay',\n",
       "       'VidID', 'sim_score', 'ChannelID', 'VidTitle', 'VidDescription',\n",
       "       'VidPublished', 'viewCount_vid', 'likeCount', 'dislikeCount',\n",
       "       'favoriteCount', 'commentCount_vid', 'title', 'description',\n",
       "       'publishedAt', 'viewCount_chan', 'commentCount_chan', 'subscriberCount',\n",
       "       'videoCount'],\n",
       "      dtype='object')"
      ]
     },
     "execution_count": 311,
     "metadata": {},
     "output_type": "execute_result"
    }
   ],
   "source": [
    "results_info_df.head(5).columns"
   ]
  },
  {
   "cell_type": "markdown",
   "metadata": {},
   "source": [
    "Got All the pieces now to create a results dataframe.\n",
    "\n",
    "Now it is a matter of referring to that information in a easy to understand manner\n",
    "\n",
    "Really have two boxes for info:\n",
    "\n",
    "- Info On Comments (text, sim_score, author name / picture)\n",
    "- Info On Channels (Name, Sub Count, View Count)\n",
    "\n",
    "Engagement metrics will need to be added to this as well, but I can do that afterwards"
   ]
  },
  {
   "cell_type": "code",
   "execution_count": 291,
   "metadata": {
    "scrolled": true
   },
   "outputs": [
    {
     "data": {
      "text/plain": [
       "0     UC3DkFux8Iv-aYnTRWzwaiBA\n",
       "1     UCtinbF-Q-fVthA0qrFQTgXQ\n",
       "2     UCAo41QETLlwvJ-oqjmEPt8A\n",
       "3     UC3DkFux8Iv-aYnTRWzwaiBA\n",
       "4     UC3DkFux8Iv-aYnTRWzwaiBA\n",
       "5     UC3DkFux8Iv-aYnTRWzwaiBA\n",
       "6     UC3DkFux8Iv-aYnTRWzwaiBA\n",
       "7     UCey_c7U86mJGz1VJWH5CYPA\n",
       "8     UC3DkFux8Iv-aYnTRWzwaiBA\n",
       "9     UC3DkFux8Iv-aYnTRWzwaiBA\n",
       "10    UCCLzJP8T09kuoy3OGPHNs5g\n",
       "11    UC0YgscPJVsW-4tIx2U499cw\n",
       "12    UC0QHWhjbe5fGJEPz3sVb6nw\n",
       "13    UC3DkFux8Iv-aYnTRWzwaiBA\n",
       "Name: ChannelID, dtype: object"
      ]
     },
     "execution_count": 291,
     "metadata": {},
     "output_type": "execute_result"
    }
   ],
   "source": [
    "results_info_df['ChannelID']"
   ]
  },
  {
   "cell_type": "code",
   "execution_count": 293,
   "metadata": {},
   "outputs": [],
   "source": [
    "comm_count = Counter(results_info_df['ChannelID'])"
   ]
  },
  {
   "cell_type": "code",
   "execution_count": 294,
   "metadata": {},
   "outputs": [
    {
     "data": {
      "text/plain": [
       "Counter({'UC3DkFux8Iv-aYnTRWzwaiBA': 8,\n",
       "         'UCtinbF-Q-fVthA0qrFQTgXQ': 1,\n",
       "         'UCAo41QETLlwvJ-oqjmEPt8A': 1,\n",
       "         'UCey_c7U86mJGz1VJWH5CYPA': 1,\n",
       "         'UCCLzJP8T09kuoy3OGPHNs5g': 1,\n",
       "         'UC0YgscPJVsW-4tIx2U499cw': 1,\n",
       "         'UC0QHWhjbe5fGJEPz3sVb6nw': 1})"
      ]
     },
     "execution_count": 294,
     "metadata": {},
     "output_type": "execute_result"
    }
   ],
   "source": [
    "comm_count"
   ]
  },
  {
   "cell_type": "code",
   "execution_count": 290,
   "metadata": {},
   "outputs": [
    {
     "data": {
      "text/plain": [
       "array(['UC3DkFux8Iv-aYnTRWzwaiBA', 'UCtinbF-Q-fVthA0qrFQTgXQ',\n",
       "       'UCAo41QETLlwvJ-oqjmEPt8A', 'UCey_c7U86mJGz1VJWH5CYPA',\n",
       "       'UCCLzJP8T09kuoy3OGPHNs5g', 'UC0YgscPJVsW-4tIx2U499cw',\n",
       "       'UC0QHWhjbe5fGJEPz3sVb6nw'], dtype=object)"
      ]
     },
     "execution_count": 290,
     "metadata": {},
     "output_type": "execute_result"
    }
   ],
   "source": [
    "results_info_df['ChannelID'].unique()"
   ]
  },
  {
   "cell_type": "code",
   "execution_count": 319,
   "metadata": {},
   "outputs": [],
   "source": [
    "comm_chan_keys = list(comm_count.keys())"
   ]
  },
  {
   "cell_type": "code",
   "execution_count": 327,
   "metadata": {},
   "outputs": [
    {
     "data": {
      "text/plain": [
       "dict_keys(['UC3DkFux8Iv-aYnTRWzwaiBA', 'UCtinbF-Q-fVthA0qrFQTgXQ', 'UCAo41QETLlwvJ-oqjmEPt8A', 'UCey_c7U86mJGz1VJWH5CYPA', 'UCCLzJP8T09kuoy3OGPHNs5g', 'UC0YgscPJVsW-4tIx2U499cw', 'UC0QHWhjbe5fGJEPz3sVb6nw'])"
      ]
     },
     "execution_count": 327,
     "metadata": {},
     "output_type": "execute_result"
    }
   ],
   "source": [
    "comm_count.keys()"
   ]
  },
  {
   "cell_type": "code",
   "execution_count": 331,
   "metadata": {},
   "outputs": [
    {
     "data": {
      "text/plain": [
       "14"
      ]
     },
     "execution_count": 331,
     "metadata": {},
     "output_type": "execute_result"
    }
   ],
   "source": [
    "sum(comm_count.values())"
   ]
  },
  {
   "cell_type": "code",
   "execution_count": 313,
   "metadata": {},
   "outputs": [
    {
     "data": {
      "text/plain": [
       "8528.0"
      ]
     },
     "execution_count": 313,
     "metadata": {},
     "output_type": "execute_result"
    }
   ],
   "source": [
    "float(chan_result['commentCount_vid'])"
   ]
  },
  {
   "cell_type": "code",
   "execution_count": 335,
   "metadata": {},
   "outputs": [
    {
     "name": "stdout",
     "output_type": "stream",
     "text": [
      "Channel Name: Peter McKinnon\n",
      "Comment Fraction: 0.5714285714285714\n",
      "No. Subscribers: 4260000\n",
      "No. Views: 299307734\n",
      "Likes/Views (on video): 0.050296427643892784\n",
      "Comments/Views (on video): 0.003116520243948309\n",
      "\r\n",
      "Channel Name: CaseyNeistat\n",
      "Comment Fraction: 0.07142857142857142\n",
      "No. Subscribers: 11800000\n",
      "No. Views: 2762948246\n",
      "Likes/Views (on video): 0.03340732515486681\n",
      "Comments/Views (on video): 0.0019108544548124416\n",
      "\r\n",
      "Channel Name: joanday\n",
      "Comment Fraction: 0.07142857142857142\n",
      "No. Subscribers: 397000\n",
      "No. Views: 51974173\n",
      "Likes/Views (on video): 0.03865480304924382\n",
      "Comments/Views (on video): 0.002929136946344094\n",
      "\r\n",
      "Channel Name: iJustine\n",
      "Comment Fraction: 0.07142857142857142\n",
      "No. Subscribers: 6290000\n",
      "No. Views: 1127596495\n",
      "Likes/Views (on video): 0.04094717754838404\n",
      "Comments/Views (on video): 0.0039110184054896475\n",
      "\r\n",
      "Channel Name: Shanice Shrestha Vlogs\n",
      "Comment Fraction: 0.07142857142857142\n",
      "No. Subscribers: 466000\n",
      "No. Views: 33391643\n",
      "Likes/Views (on video): 0.06475774968055291\n",
      "Comments/Views (on video): 0.006381882231682092\n",
      "\r\n",
      "Channel Name: Sarah Rae Vlogas\n",
      "Comment Fraction: 0.07142857142857142\n",
      "No. Subscribers: 252000\n",
      "No. Views: 36181577\n",
      "Likes/Views (on video): 0.03934863558050353\n",
      "Comments/Views (on video): 0.003945978991830156\n",
      "\r\n",
      "Channel Name: Doctor Mike\n",
      "Comment Fraction: 0.07142857142857142\n",
      "No. Subscribers: 4860000\n",
      "No. Views: 412310594\n",
      "Likes/Views (on video): 0.039716076465267855\n",
      "Comments/Views (on video): 0.0028557106007875304\n",
      "\r\n"
     ]
    }
   ],
   "source": [
    "for chan_id in comm_count.keys():\n",
    "    chan_result = results_info_df[results_info_df['ChannelID'] == chan_id].iloc[0]\n",
    "    print('Channel Name: '+str(chan_result['title']))\n",
    "    print('Comment Fraction: '+str(comm_count[chan_id]/sum(comm_count.values())))\n",
    "    print('No. Subscribers: '+str(chan_result['subscriberCount']))\n",
    "    print('No. Views: '+str(chan_result['viewCount_chan']))\n",
    "    print('Likes/Views (on video): '+str(chan_result['likeCount'] / chan_result['viewCount_vid']))\n",
    "    print('Comments/Views (on video): '+str(chan_result['commentCount_vid'] / chan_result['viewCount_vid']))\n",
    "    print('\\r')"
   ]
  },
  {
   "cell_type": "code",
   "execution_count": 305,
   "metadata": {},
   "outputs": [
    {
     "name": "stdout",
     "output_type": "stream",
     "text": [
      "Name: Peter McKinnon\n",
      "Comment: and Canon\n",
      "Sim Score: 0.8610382980295238\n",
      "\r\n",
      "Name: CaseyNeistat\n",
      "Comment: when you changing to canon 90d\n",
      "Sim Score: 0.5671278675991411\n",
      "\r\n",
      "Name: joanday\n",
      "Comment: What kind of canon vixia  you are using?\n",
      "Sim Score: 0.5595608082587311\n",
      "\r\n",
      "Name: Peter McKinnon\n",
      "Comment: peter 'the most credible reviewer of canon cameras\" mckinnon\n",
      "Sim Score: 0.5547693659742631\n",
      "\r\n",
      "Name: Peter McKinnon\n",
      "Comment: I look forward to seeing if Canon update the eos R. the camera in most excited about in 2020 is...the one(s) i have :) (Canon 6D, 600D, iphone 11, osmo pocket, mavic mini)\n",
      "Sim Score: 0.48834382664048037\n",
      "\r\n",
      "Name: Peter McKinnon\n",
      "Comment: Tape over the Canon logo on the EOS R? Sponsorship from RED perhaps?\n",
      "Sim Score: 0.48594378623553186\n",
      "\r\n",
      "Name: Peter McKinnon\n",
      "Comment: Hi Peter, I would love to see your review of the Canon RP...\n",
      "Sim Score: 0.4447663800109599\n",
      "\r\n",
      "Name: iJustine\n",
      "Comment: Sony is the best ❤️❤️❤️\n",
      "Sim Score: 0.442722641227062\n",
      "\r\n",
      "Name: Peter McKinnon\n",
      "Comment: At canon you spend thousands for these specs 😂\n",
      "Sim Score: 0.4412109327240698\n",
      "\r\n",
      "Name: Peter McKinnon\n",
      "Comment: EOS RP PLEZ\n",
      "Sim Score: 0.44010672997789274\n",
      "\r\n",
      "Name: Shanice Shrestha Vlogs\n",
      "Comment: Camera vaps mt do😂😂\n",
      "Sim Score: 0.4298817414502166\n",
      "\r\n",
      "Name: Sarah Rae Vlogas\n",
      "Comment: I agree cannon is better. Sony made your videos darker\n",
      "Sim Score: 0.425212687753459\n",
      "\r\n",
      "Name: Doctor Mike\n",
      "Comment: ANNABELL CANNON whitch ones?\n",
      "Sim Score: 0.4174971754655249\n",
      "\r\n",
      "Name: Peter McKinnon\n",
      "Comment: 2:27 \n",
      "Canon Cafeteria Coffee? \n",
      "CCC\n",
      "Yay! That's an alliteration!\n",
      "Sim Score: 0.40976104155997245\n",
      "\r\n"
     ]
    }
   ],
   "source": [
    "for i in results_info_df.index:\n",
    "    print('Name: '+str(results_info_df.iloc[i]['authorDisplayName']))\n",
    "    print('Comment: '+str(results_info_df.iloc[i]['textDisplay']))\n",
    "    print('Sim Score: '+str(results_info_df.iloc[i]['sim_score']))\n",
    "    print('\\r')"
   ]
  },
  {
   "cell_type": "code",
   "execution_count": null,
   "metadata": {},
   "outputs": [],
   "source": []
  }
 ],
 "metadata": {
  "kernelspec": {
   "display_name": "Python 3",
   "language": "python",
   "name": "python3"
  },
  "language_info": {
   "codemirror_mode": {
    "name": "ipython",
    "version": 3
   },
   "file_extension": ".py",
   "mimetype": "text/x-python",
   "name": "python",
   "nbconvert_exporter": "python",
   "pygments_lexer": "ipython3",
   "version": "3.7.6"
  }
 },
 "nbformat": 4,
 "nbformat_minor": 2
}
