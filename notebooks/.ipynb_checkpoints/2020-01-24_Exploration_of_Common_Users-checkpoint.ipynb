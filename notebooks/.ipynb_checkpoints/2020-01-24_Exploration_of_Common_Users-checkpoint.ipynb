{
 "cells": [
  {
   "cell_type": "markdown",
   "metadata": {},
   "source": [
    "# 2020-01-24 \n",
    "\n",
    "In this notebook I will investigate the presence / lack of commenters throughout a series of videos.\n",
    "\n",
    "Also interested to find a male / female speech dataset"
   ]
  },
  {
   "cell_type": "code",
   "execution_count": 1,
   "metadata": {},
   "outputs": [],
   "source": [
    "import os\n",
    "import pandas as pd\n",
    "from textblob import TextBlob\n",
    "import numpy as np\n",
    "import seaborn as sns\n",
    "from matplotlib import pyplot as plt\n",
    "import re\n",
    "\n",
    "import dateparser"
   ]
  },
  {
   "cell_type": "code",
   "execution_count": 2,
   "metadata": {},
   "outputs": [
    {
     "name": "stderr",
     "output_type": "stream",
     "text": [
      "C:\\ProgramData\\Anaconda3\\envs\\insight\\lib\\site-packages\\IPython\\core\\interactiveshell.py:3051: DtypeWarning: Columns (8) have mixed types. Specify dtype option on import or set low_memory=False.\n",
      "  interactivity=interactivity, compiler=compiler, result=result)\n"
     ]
    }
   ],
   "source": [
    "insight_dir = os.getcwd()[0:19]+'\\\\Documents\\\\GitHub\\\\InsightDataProject\\\\'\n",
    "\n",
    "comms_df = pd.read_csv(insight_dir+'data\\\\processed\\\\comments_df.csv', index_col=0)\n",
    "vids_df = pd.read_csv(insight_dir+'data\\\\processed\\\\videos_top30_df.csv', index_col=0)\n",
    "channels_df = pd.read_csv(insight_dir+'data\\\\processed\\\\channels_top50_df.csv', index_col=0)"
   ]
  },
  {
   "cell_type": "code",
   "execution_count": 3,
   "metadata": {},
   "outputs": [],
   "source": [
    "test_cid = channels_df.iloc[1]['ChannelID']\n",
    "test_vids_list = list(vids_df[vids_df['ChannelID'] == test_cid]['VidID'])"
   ]
  },
  {
   "cell_type": "code",
   "execution_count": 4,
   "metadata": {},
   "outputs": [],
   "source": [
    "# Get just the comments from the test case\n",
    "test_df = comms_df[comms_df['videoId'].isin(test_vids_list)]"
   ]
  },
  {
   "cell_type": "code",
   "execution_count": 5,
   "metadata": {},
   "outputs": [
    {
     "data": {
      "text/html": [
       "<div>\n",
       "<style scoped>\n",
       "    .dataframe tbody tr th:only-of-type {\n",
       "        vertical-align: middle;\n",
       "    }\n",
       "\n",
       "    .dataframe tbody tr th {\n",
       "        vertical-align: top;\n",
       "    }\n",
       "\n",
       "    .dataframe thead th {\n",
       "        text-align: right;\n",
       "    }\n",
       "</style>\n",
       "<table border=\"1\" class=\"dataframe\">\n",
       "  <thead>\n",
       "    <tr style=\"text-align: right;\">\n",
       "      <th></th>\n",
       "      <th>CommID</th>\n",
       "      <th>authorChannelId</th>\n",
       "      <th>authorChannelUrl</th>\n",
       "      <th>authorDisplayName</th>\n",
       "      <th>authorProfileImageUrl</th>\n",
       "      <th>canRate</th>\n",
       "      <th>likeCount</th>\n",
       "      <th>moderationStatus</th>\n",
       "      <th>parentId</th>\n",
       "      <th>publishedAt</th>\n",
       "      <th>textDisplay</th>\n",
       "      <th>textOriginal</th>\n",
       "      <th>updatedAt</th>\n",
       "      <th>videoId</th>\n",
       "      <th>viewerRating</th>\n",
       "    </tr>\n",
       "  </thead>\n",
       "  <tbody>\n",
       "    <tr>\n",
       "      <th>0</th>\n",
       "      <td>Ugx4tPkUDK6SD6BfquJ4AaABAg</td>\n",
       "      <td>{'value': 'UCN5yuBsYaTyqH1eebwsiDTg'}</td>\n",
       "      <td>http://www.youtube.com/channel/UCN5yuBsYaTyqH1...</td>\n",
       "      <td>Adam</td>\n",
       "      <td>https://yt3.ggpht.com/a/AGF-l78Er8kO5QSBQNMQpY...</td>\n",
       "      <td>True</td>\n",
       "      <td>90</td>\n",
       "      <td>NaN</td>\n",
       "      <td>0</td>\n",
       "      <td>2020-01-21T11:24:57.000Z</td>\n",
       "      <td>Did I just watch two brothers legit have a \"to...</td>\n",
       "      <td>Did I just watch two brothers legit have a \"to...</td>\n",
       "      <td>2020-01-21T12:45:22.000Z</td>\n",
       "      <td>-TP0FuN5Saw</td>\n",
       "      <td>none</td>\n",
       "    </tr>\n",
       "    <tr>\n",
       "      <th>1</th>\n",
       "      <td>Ugx4tPkUDK6SD6BfquJ4AaABAg.942cFkZBu4O9442vbfk0Zx</td>\n",
       "      <td>{'value': 'UCIO8eoOzwAmWRwudrYn1Sew'}</td>\n",
       "      <td>http://www.youtube.com/channel/UCIO8eoOzwAmWRw...</td>\n",
       "      <td>Synical</td>\n",
       "      <td>https://yt3.ggpht.com/a/AGF-l7-wr3mhVx6G5DxbGy...</td>\n",
       "      <td>True</td>\n",
       "      <td>0</td>\n",
       "      <td>NaN</td>\n",
       "      <td>Ugx4tPkUDK6SD6BfquJ4AaABAg</td>\n",
       "      <td>2020-01-22T00:45:58.000Z</td>\n",
       "      <td>@Shammi Vlogs I thought that was a joke, lol</td>\n",
       "      <td>@Shammi Vlogs I thought that was a joke, lol</td>\n",
       "      <td>2020-01-22T00:45:58.000Z</td>\n",
       "      <td>-TP0FuN5Saw</td>\n",
       "      <td>none</td>\n",
       "    </tr>\n",
       "    <tr>\n",
       "      <th>2</th>\n",
       "      <td>Ugx4tPkUDK6SD6BfquJ4AaABAg.942cFkZBu4O942tUZ5yyus</td>\n",
       "      <td>{'value': 'UC31J-GnK6dQY0p2orKnMN_Q'}</td>\n",
       "      <td>http://www.youtube.com/channel/UC31J-GnK6dQY0p...</td>\n",
       "      <td>Shammi Vlogs</td>\n",
       "      <td>https://yt3.ggpht.com/a/AGF-l7_1Zvd6j616fP_RnV...</td>\n",
       "      <td>True</td>\n",
       "      <td>7</td>\n",
       "      <td>NaN</td>\n",
       "      <td>Ugx4tPkUDK6SD6BfquJ4AaABAg</td>\n",
       "      <td>2020-01-21T13:55:31.000Z</td>\n",
       "      <td>Bahahahahaha</td>\n",
       "      <td>Bahahahahaha</td>\n",
       "      <td>2020-01-21T13:55:31.000Z</td>\n",
       "      <td>-TP0FuN5Saw</td>\n",
       "      <td>none</td>\n",
       "    </tr>\n",
       "    <tr>\n",
       "      <th>3</th>\n",
       "      <td>Ugx4tPkUDK6SD6BfquJ4AaABAg.942cFkZBu4O942lQp3-bgX</td>\n",
       "      <td>{'value': 'UCN5yuBsYaTyqH1eebwsiDTg'}</td>\n",
       "      <td>http://www.youtube.com/channel/UCN5yuBsYaTyqH1...</td>\n",
       "      <td>Adam</td>\n",
       "      <td>https://yt3.ggpht.com/a/AGF-l78Er8kO5QSBQNMQpY...</td>\n",
       "      <td>True</td>\n",
       "      <td>3</td>\n",
       "      <td>NaN</td>\n",
       "      <td>Ugx4tPkUDK6SD6BfquJ4AaABAg</td>\n",
       "      <td>2020-01-21T12:45:06.000Z</td>\n",
       "      <td>@Larry lmao true \\n\\nPs  \\nIll edit it</td>\n",
       "      <td>@Larry lmao true \\n\\nPs  \\nIll edit it</td>\n",
       "      <td>2020-01-21T12:45:06.000Z</td>\n",
       "      <td>-TP0FuN5Saw</td>\n",
       "      <td>none</td>\n",
       "    </tr>\n",
       "    <tr>\n",
       "      <th>4</th>\n",
       "      <td>Ugx4tPkUDK6SD6BfquJ4AaABAg.942cFkZBu4O942kC_rsj3B</td>\n",
       "      <td>{'value': 'UClx1z4juTQWqhcYiTCEV3bA'}</td>\n",
       "      <td>http://www.youtube.com/channel/UClx1z4juTQWqhc...</td>\n",
       "      <td>Larry</td>\n",
       "      <td>https://yt3.ggpht.com/a/AGF-l79NxTgxxVsBDnhhPS...</td>\n",
       "      <td>True</td>\n",
       "      <td>3</td>\n",
       "      <td>NaN</td>\n",
       "      <td>Ugx4tPkUDK6SD6BfquJ4AaABAg</td>\n",
       "      <td>2020-01-21T12:34:25.000Z</td>\n",
       "      <td>Adam brothers* and the worst part about it is ...</td>\n",
       "      <td>Adam brothers* and the worst part about it is ...</td>\n",
       "      <td>2020-01-21T12:34:25.000Z</td>\n",
       "      <td>-TP0FuN5Saw</td>\n",
       "      <td>none</td>\n",
       "    </tr>\n",
       "  </tbody>\n",
       "</table>\n",
       "</div>"
      ],
      "text/plain": [
       "                                              CommID  \\\n",
       "0                         Ugx4tPkUDK6SD6BfquJ4AaABAg   \n",
       "1  Ugx4tPkUDK6SD6BfquJ4AaABAg.942cFkZBu4O9442vbfk0Zx   \n",
       "2  Ugx4tPkUDK6SD6BfquJ4AaABAg.942cFkZBu4O942tUZ5yyus   \n",
       "3  Ugx4tPkUDK6SD6BfquJ4AaABAg.942cFkZBu4O942lQp3-bgX   \n",
       "4  Ugx4tPkUDK6SD6BfquJ4AaABAg.942cFkZBu4O942kC_rsj3B   \n",
       "\n",
       "                         authorChannelId  \\\n",
       "0  {'value': 'UCN5yuBsYaTyqH1eebwsiDTg'}   \n",
       "1  {'value': 'UCIO8eoOzwAmWRwudrYn1Sew'}   \n",
       "2  {'value': 'UC31J-GnK6dQY0p2orKnMN_Q'}   \n",
       "3  {'value': 'UCN5yuBsYaTyqH1eebwsiDTg'}   \n",
       "4  {'value': 'UClx1z4juTQWqhcYiTCEV3bA'}   \n",
       "\n",
       "                                    authorChannelUrl authorDisplayName  \\\n",
       "0  http://www.youtube.com/channel/UCN5yuBsYaTyqH1...              Adam   \n",
       "1  http://www.youtube.com/channel/UCIO8eoOzwAmWRw...           Synical   \n",
       "2  http://www.youtube.com/channel/UC31J-GnK6dQY0p...      Shammi Vlogs   \n",
       "3  http://www.youtube.com/channel/UCN5yuBsYaTyqH1...              Adam   \n",
       "4  http://www.youtube.com/channel/UClx1z4juTQWqhc...             Larry   \n",
       "\n",
       "                               authorProfileImageUrl  canRate  likeCount  \\\n",
       "0  https://yt3.ggpht.com/a/AGF-l78Er8kO5QSBQNMQpY...     True         90   \n",
       "1  https://yt3.ggpht.com/a/AGF-l7-wr3mhVx6G5DxbGy...     True          0   \n",
       "2  https://yt3.ggpht.com/a/AGF-l7_1Zvd6j616fP_RnV...     True          7   \n",
       "3  https://yt3.ggpht.com/a/AGF-l78Er8kO5QSBQNMQpY...     True          3   \n",
       "4  https://yt3.ggpht.com/a/AGF-l79NxTgxxVsBDnhhPS...     True          3   \n",
       "\n",
       "  moderationStatus                    parentId               publishedAt  \\\n",
       "0              NaN                           0  2020-01-21T11:24:57.000Z   \n",
       "1              NaN  Ugx4tPkUDK6SD6BfquJ4AaABAg  2020-01-22T00:45:58.000Z   \n",
       "2              NaN  Ugx4tPkUDK6SD6BfquJ4AaABAg  2020-01-21T13:55:31.000Z   \n",
       "3              NaN  Ugx4tPkUDK6SD6BfquJ4AaABAg  2020-01-21T12:45:06.000Z   \n",
       "4              NaN  Ugx4tPkUDK6SD6BfquJ4AaABAg  2020-01-21T12:34:25.000Z   \n",
       "\n",
       "                                         textDisplay  \\\n",
       "0  Did I just watch two brothers legit have a \"to...   \n",
       "1       @Shammi Vlogs I thought that was a joke, lol   \n",
       "2                                       Bahahahahaha   \n",
       "3             @Larry lmao true \\n\\nPs  \\nIll edit it   \n",
       "4  Adam brothers* and the worst part about it is ...   \n",
       "\n",
       "                                        textOriginal  \\\n",
       "0  Did I just watch two brothers legit have a \"to...   \n",
       "1       @Shammi Vlogs I thought that was a joke, lol   \n",
       "2                                       Bahahahahaha   \n",
       "3             @Larry lmao true \\n\\nPs  \\nIll edit it   \n",
       "4  Adam brothers* and the worst part about it is ...   \n",
       "\n",
       "                  updatedAt      videoId viewerRating  \n",
       "0  2020-01-21T12:45:22.000Z  -TP0FuN5Saw         none  \n",
       "1  2020-01-22T00:45:58.000Z  -TP0FuN5Saw         none  \n",
       "2  2020-01-21T13:55:31.000Z  -TP0FuN5Saw         none  \n",
       "3  2020-01-21T12:45:06.000Z  -TP0FuN5Saw         none  \n",
       "4  2020-01-21T12:34:25.000Z  -TP0FuN5Saw         none  "
      ]
     },
     "execution_count": 5,
     "metadata": {},
     "output_type": "execute_result"
    }
   ],
   "source": [
    "test_df[0:5]"
   ]
  },
  {
   "cell_type": "code",
   "execution_count": 6,
   "metadata": {},
   "outputs": [
    {
     "data": {
      "text/html": [
       "<div>\n",
       "<style scoped>\n",
       "    .dataframe tbody tr th:only-of-type {\n",
       "        vertical-align: middle;\n",
       "    }\n",
       "\n",
       "    .dataframe tbody tr th {\n",
       "        vertical-align: top;\n",
       "    }\n",
       "\n",
       "    .dataframe thead th {\n",
       "        text-align: right;\n",
       "    }\n",
       "</style>\n",
       "<table border=\"1\" class=\"dataframe\">\n",
       "  <thead>\n",
       "    <tr style=\"text-align: right;\">\n",
       "      <th></th>\n",
       "      <th>textDisplay</th>\n",
       "      <th>publishedAt</th>\n",
       "    </tr>\n",
       "  </thead>\n",
       "  <tbody>\n",
       "    <tr>\n",
       "      <th>0</th>\n",
       "      <td>Did I just watch two brothers legit have a \"to...</td>\n",
       "      <td>2020-01-21T11:24:57.000Z</td>\n",
       "    </tr>\n",
       "    <tr>\n",
       "      <th>3</th>\n",
       "      <td>@Larry lmao true \\n\\nPs  \\nIll edit it</td>\n",
       "      <td>2020-01-21T12:45:06.000Z</td>\n",
       "    </tr>\n",
       "    <tr>\n",
       "      <th>2017</th>\n",
       "      <td>Love your videos Shammi!!</td>\n",
       "      <td>2019-12-04T07:50:16.000Z</td>\n",
       "    </tr>\n",
       "    <tr>\n",
       "      <th>2175</th>\n",
       "      <td>Did I just watch two brothers legit have a \"to...</td>\n",
       "      <td>2020-01-21T11:24:57.000Z</td>\n",
       "    </tr>\n",
       "    <tr>\n",
       "      <th>6129</th>\n",
       "      <td>Why didn't it go for 100 minutes 😂😂</td>\n",
       "      <td>2019-09-23T10:34:38.000Z</td>\n",
       "    </tr>\n",
       "    <tr>\n",
       "      <th>6699</th>\n",
       "      <td>Shammi you and Jackson are my favourite Youtubers</td>\n",
       "      <td>2019-09-05T05:15:29.000Z</td>\n",
       "    </tr>\n",
       "    <tr>\n",
       "      <th>7534</th>\n",
       "      <td>Nah your drugs are 'uncut' 😂😂 cant fool me 😂😭😀😭</td>\n",
       "      <td>2019-10-18T02:30:21.000Z</td>\n",
       "    </tr>\n",
       "    <tr>\n",
       "      <th>7860</th>\n",
       "      <td>Farrk views have gone down after this so many ...</td>\n",
       "      <td>2019-10-18T02:22:37.000Z</td>\n",
       "    </tr>\n",
       "    <tr>\n",
       "      <th>8007</th>\n",
       "      <td>I really like you and your videos Shammi!! Lov...</td>\n",
       "      <td>2019-06-16T09:43:49.000Z</td>\n",
       "    </tr>\n",
       "    <tr>\n",
       "      <th>8008</th>\n",
       "      <td>Shammi Vlogs Shammi you don’t know how happy y...</td>\n",
       "      <td>2019-06-16T10:34:17.000Z</td>\n",
       "    </tr>\n",
       "    <tr>\n",
       "      <th>8050</th>\n",
       "      <td>Was that a mix bowl near jayden 😂😂\\n\\nCan you ...</td>\n",
       "      <td>2019-06-16T11:29:33.000Z</td>\n",
       "    </tr>\n",
       "    <tr>\n",
       "      <th>8051</th>\n",
       "      <td>@Mad Dog yeh it had lil bit in the bottom of i...</td>\n",
       "      <td>2019-06-16T12:01:24.000Z</td>\n",
       "    </tr>\n",
       "    <tr>\n",
       "      <th>8690</th>\n",
       "      <td>These are my 4 favourite youtubers all in one ...</td>\n",
       "      <td>2019-06-06T05:19:39.000Z</td>\n",
       "    </tr>\n",
       "    <tr>\n",
       "      <th>8693</th>\n",
       "      <td>Killer Elite yes he is also my favourite</td>\n",
       "      <td>2019-08-19T14:13:18.000Z</td>\n",
       "    </tr>\n",
       "  </tbody>\n",
       "</table>\n",
       "</div>"
      ],
      "text/plain": [
       "                                            textDisplay  \\\n",
       "0     Did I just watch two brothers legit have a \"to...   \n",
       "3                @Larry lmao true \\n\\nPs  \\nIll edit it   \n",
       "2017                          Love your videos Shammi!!   \n",
       "2175  Did I just watch two brothers legit have a \"to...   \n",
       "6129                Why didn't it go for 100 minutes 😂😂   \n",
       "6699  Shammi you and Jackson are my favourite Youtubers   \n",
       "7534    Nah your drugs are 'uncut' 😂😂 cant fool me 😂😭😀😭   \n",
       "7860  Farrk views have gone down after this so many ...   \n",
       "8007  I really like you and your videos Shammi!! Lov...   \n",
       "8008  Shammi Vlogs Shammi you don’t know how happy y...   \n",
       "8050  Was that a mix bowl near jayden 😂😂\\n\\nCan you ...   \n",
       "8051  @Mad Dog yeh it had lil bit in the bottom of i...   \n",
       "8690  These are my 4 favourite youtubers all in one ...   \n",
       "8693           Killer Elite yes he is also my favourite   \n",
       "\n",
       "                   publishedAt  \n",
       "0     2020-01-21T11:24:57.000Z  \n",
       "3     2020-01-21T12:45:06.000Z  \n",
       "2017  2019-12-04T07:50:16.000Z  \n",
       "2175  2020-01-21T11:24:57.000Z  \n",
       "6129  2019-09-23T10:34:38.000Z  \n",
       "6699  2019-09-05T05:15:29.000Z  \n",
       "7534  2019-10-18T02:30:21.000Z  \n",
       "7860  2019-10-18T02:22:37.000Z  \n",
       "8007  2019-06-16T09:43:49.000Z  \n",
       "8008  2019-06-16T10:34:17.000Z  \n",
       "8050  2019-06-16T11:29:33.000Z  \n",
       "8051  2019-06-16T12:01:24.000Z  \n",
       "8690  2019-06-06T05:19:39.000Z  \n",
       "8693  2019-08-19T14:13:18.000Z  "
      ]
     },
     "execution_count": 6,
     "metadata": {},
     "output_type": "execute_result"
    }
   ],
   "source": [
    "# See the occurrence of user 'Adam'\n",
    "test_df[test_df['authorDisplayName']=='Adam'][['textDisplay','publishedAt']]"
   ]
  },
  {
   "cell_type": "code",
   "execution_count": 7,
   "metadata": {},
   "outputs": [
    {
     "data": {
      "text/plain": [
       "14"
      ]
     },
     "execution_count": 7,
     "metadata": {},
     "output_type": "execute_result"
    }
   ],
   "source": [
    "len(test_df[test_df['authorDisplayName']=='Adam'])"
   ]
  },
  {
   "cell_type": "code",
   "execution_count": 8,
   "metadata": {},
   "outputs": [
    {
     "data": {
      "text/plain": [
       "4376"
      ]
     },
     "execution_count": 8,
     "metadata": {},
     "output_type": "execute_result"
    }
   ],
   "source": [
    "# Number of unique commenters over all Shammi vlog videos\n",
    "len(set(test_df['authorChannelUrl']))"
   ]
  },
  {
   "cell_type": "code",
   "execution_count": 9,
   "metadata": {},
   "outputs": [],
   "source": [
    "list_of_commenters = list(set(test_df['authorChannelUrl']))"
   ]
  },
  {
   "cell_type": "code",
   "execution_count": 10,
   "metadata": {},
   "outputs": [
    {
     "data": {
      "text/plain": [
       "[nan,\n",
       " 'http://www.youtube.com/channel/UCqnExaDsc2SK8mwDzshdZMw',\n",
       " 'http://www.youtube.com/channel/UCLL91Yv_5-TnoJHZe6hb01A',\n",
       " 'http://www.youtube.com/channel/UCzp3n8jWinHeUx5temvcUEA',\n",
       " 'http://www.youtube.com/channel/UC9k70qmsbDDrAw32-BVoZOQ']"
      ]
     },
     "execution_count": 10,
     "metadata": {},
     "output_type": "execute_result"
    }
   ],
   "source": [
    "list_of_commenters[0:5]"
   ]
  },
  {
   "cell_type": "code",
   "execution_count": 11,
   "metadata": {},
   "outputs": [],
   "source": [
    "fans_url_list = []\n",
    "for commenter in list_of_commenters:\n",
    "    if len(test_df[test_df['authorChannelUrl']==commenter]) > 14:\n",
    "        fans_url_list.append(commenter)"
   ]
  },
  {
   "cell_type": "code",
   "execution_count": 12,
   "metadata": {},
   "outputs": [],
   "source": [
    "fan_names = []\n",
    "for url in fans_url_list:\n",
    "    fan_names.append(test_df[test_df['authorChannelUrl']==url]['authorDisplayName'].values[0])"
   ]
  },
  {
   "cell_type": "code",
   "execution_count": 13,
   "metadata": {},
   "outputs": [
    {
     "data": {
      "text/plain": [
       "['Sam Ludendorff',\n",
       " 'Jashan',\n",
       " 'Fishlips o _',\n",
       " 'Aidan Mccormack',\n",
       " 'Busty Kate',\n",
       " 'LazyInfantry',\n",
       " 'it is what it aint',\n",
       " 'Ned Kelly',\n",
       " 'Shammi Vlogs',\n",
       " 'Zac Benz',\n",
       " 'Ant mc',\n",
       " 'Pubbzy']"
      ]
     },
     "execution_count": 13,
     "metadata": {},
     "output_type": "execute_result"
    }
   ],
   "source": [
    "fan_names"
   ]
  },
  {
   "cell_type": "code",
   "execution_count": 45,
   "metadata": {},
   "outputs": [
    {
     "data": {
      "text/plain": [
       "31      Was watching one of the older vlogs and then i...\n",
       "177                                     haahahhaa the end\n",
       "1804    Oi Shammi are you and Paige still together, ha...\n",
       "1989                                     Hahahahaa yewwww\n",
       "4394                    Can’t wait for daily vlogs yewww!\n",
       "5159    4:03 ahahahahaha, this is the funniest vlog ho...\n",
       "6821    Shammi can finally go in the rich areas with h...\n",
       "6997    Shammi i had a feeling u would make a video of...\n",
       "7296         YEs shammi keep the videos coming brother <3\n",
       "7748    7:47 I lost it AHAHAHAHA love the videos btw k...\n",
       "7987    Shammi gotta pick up ur grapling game brother ...\n",
       "8242                      Also, come down to Coffs shammi\n",
       "8255    Shammi please keep the uploads coming, even if...\n",
       "8496    I'm a simple man, I see, I click, See you's al...\n",
       "8709    Literally never clicked on a video so fast how...\n",
       "8847    Shammi you know how to throw an egg at someone...\n",
       "9004    bro My cousin literally bought me a 1kg egg om...\n",
       "9256    Shammi keep the uploads coming ahaha that was ...\n",
       "Name: textDisplay, dtype: object"
      ]
     },
     "execution_count": 45,
     "metadata": {},
     "output_type": "execute_result"
    }
   ],
   "source": [
    "test_df[test_df['authorDisplayName']==fan_names[11]]['textDisplay']"
   ]
  },
  {
   "cell_type": "code",
   "execution_count": 15,
   "metadata": {},
   "outputs": [
    {
     "data": {
      "text/html": [
       "<div>\n",
       "<style scoped>\n",
       "    .dataframe tbody tr th:only-of-type {\n",
       "        vertical-align: middle;\n",
       "    }\n",
       "\n",
       "    .dataframe tbody tr th {\n",
       "        vertical-align: top;\n",
       "    }\n",
       "\n",
       "    .dataframe thead th {\n",
       "        text-align: right;\n",
       "    }\n",
       "</style>\n",
       "<table border=\"1\" class=\"dataframe\">\n",
       "  <thead>\n",
       "    <tr style=\"text-align: right;\">\n",
       "      <th></th>\n",
       "      <th>authorDisplayName</th>\n",
       "      <th>textDisplay</th>\n",
       "      <th>updatedAt</th>\n",
       "      <th>videoId</th>\n",
       "    </tr>\n",
       "  </thead>\n",
       "  <tbody>\n",
       "    <tr>\n",
       "      <th>1020</th>\n",
       "      <td>Pumkin</td>\n",
       "      <td>That actually looks so good</td>\n",
       "      <td>2019-12-21T02:13:28.000Z</td>\n",
       "      <td>TF2jxwObEoI</td>\n",
       "    </tr>\n",
       "    <tr>\n",
       "      <th>1021</th>\n",
       "      <td>Scott Man</td>\n",
       "      <td>This is such a dank gift! What a awesome idea....</td>\n",
       "      <td>2019-12-20T19:53:18.000Z</td>\n",
       "      <td>TF2jxwObEoI</td>\n",
       "    </tr>\n",
       "    <tr>\n",
       "      <th>1022</th>\n",
       "      <td>summer aiwaz</td>\n",
       "      <td>he’s videos inspire me</td>\n",
       "      <td>2019-12-21T12:56:44.000Z</td>\n",
       "      <td>TF2jxwObEoI</td>\n",
       "    </tr>\n",
       "    <tr>\n",
       "      <th>1023</th>\n",
       "      <td>Brie Browne</td>\n",
       "      <td>That’s dedication there !\\n\\nYou guys are true...</td>\n",
       "      <td>2019-12-24T21:46:16.000Z</td>\n",
       "      <td>TF2jxwObEoI</td>\n",
       "    </tr>\n",
       "    <tr>\n",
       "      <th>1024</th>\n",
       "      <td>PJ</td>\n",
       "      <td>Looks sweet, should have used a tape gun, $8 f...</td>\n",
       "      <td>2019-12-20T08:25:31.000Z</td>\n",
       "      <td>TF2jxwObEoI</td>\n",
       "    </tr>\n",
       "    <tr>\n",
       "      <th>1025</th>\n",
       "      <td>Gold Whisperer Prospecting</td>\n",
       "      <td>Definitely impressed,</td>\n",
       "      <td>2019-12-20T23:18:22.000Z</td>\n",
       "      <td>TF2jxwObEoI</td>\n",
       "    </tr>\n",
       "    <tr>\n",
       "      <th>1026</th>\n",
       "      <td>Aiden Sandoval</td>\n",
       "      <td>Damn Jayden gettin alil fat</td>\n",
       "      <td>2019-12-20T19:57:26.000Z</td>\n",
       "      <td>TF2jxwObEoI</td>\n",
       "    </tr>\n",
       "    <tr>\n",
       "      <th>1027</th>\n",
       "      <td>Hridey Dalal</td>\n",
       "      <td>Woww😂😂😂❤❤</td>\n",
       "      <td>2019-12-20T09:43:29.000Z</td>\n",
       "      <td>TF2jxwObEoI</td>\n",
       "    </tr>\n",
       "    <tr>\n",
       "      <th>1028</th>\n",
       "      <td>KYLE</td>\n",
       "      <td>You all have the exact same laugh... :,)</td>\n",
       "      <td>2019-12-20T16:37:29.000Z</td>\n",
       "      <td>TF2jxwObEoI</td>\n",
       "    </tr>\n",
       "    <tr>\n",
       "      <th>1029</th>\n",
       "      <td>Patrick</td>\n",
       "      <td>Nice bro LMAO</td>\n",
       "      <td>2019-12-21T22:38:41.000Z</td>\n",
       "      <td>TF2jxwObEoI</td>\n",
       "    </tr>\n",
       "  </tbody>\n",
       "</table>\n",
       "</div>"
      ],
      "text/plain": [
       "               authorDisplayName  \\\n",
       "1020                      Pumkin   \n",
       "1021                   Scott Man   \n",
       "1022                summer aiwaz   \n",
       "1023                 Brie Browne   \n",
       "1024                          PJ   \n",
       "1025  Gold Whisperer Prospecting   \n",
       "1026              Aiden Sandoval   \n",
       "1027                Hridey Dalal   \n",
       "1028                        KYLE   \n",
       "1029                     Patrick   \n",
       "\n",
       "                                            textDisplay  \\\n",
       "1020                        That actually looks so good   \n",
       "1021  This is such a dank gift! What a awesome idea....   \n",
       "1022                             he’s videos inspire me   \n",
       "1023  That’s dedication there !\\n\\nYou guys are true...   \n",
       "1024  Looks sweet, should have used a tape gun, $8 f...   \n",
       "1025                              Definitely impressed,   \n",
       "1026                        Damn Jayden gettin alil fat   \n",
       "1027                                          Woww😂😂😂❤❤   \n",
       "1028           You all have the exact same laugh... :,)   \n",
       "1029                                      Nice bro LMAO   \n",
       "\n",
       "                     updatedAt      videoId  \n",
       "1020  2019-12-21T02:13:28.000Z  TF2jxwObEoI  \n",
       "1021  2019-12-20T19:53:18.000Z  TF2jxwObEoI  \n",
       "1022  2019-12-21T12:56:44.000Z  TF2jxwObEoI  \n",
       "1023  2019-12-24T21:46:16.000Z  TF2jxwObEoI  \n",
       "1024  2019-12-20T08:25:31.000Z  TF2jxwObEoI  \n",
       "1025  2019-12-20T23:18:22.000Z  TF2jxwObEoI  \n",
       "1026  2019-12-20T19:57:26.000Z  TF2jxwObEoI  \n",
       "1027  2019-12-20T09:43:29.000Z  TF2jxwObEoI  \n",
       "1028  2019-12-20T16:37:29.000Z  TF2jxwObEoI  \n",
       "1029  2019-12-21T22:38:41.000Z  TF2jxwObEoI  "
      ]
     },
     "execution_count": 15,
     "metadata": {},
     "output_type": "execute_result"
    }
   ],
   "source": [
    "test_df[['authorDisplayName','textDisplay','updatedAt','videoId']][1020:1030]"
   ]
  },
  {
   "cell_type": "code",
   "execution_count": 16,
   "metadata": {},
   "outputs": [
    {
     "data": {
      "text/html": [
       "<div>\n",
       "<style scoped>\n",
       "    .dataframe tbody tr th:only-of-type {\n",
       "        vertical-align: middle;\n",
       "    }\n",
       "\n",
       "    .dataframe tbody tr th {\n",
       "        vertical-align: top;\n",
       "    }\n",
       "\n",
       "    .dataframe thead th {\n",
       "        text-align: right;\n",
       "    }\n",
       "</style>\n",
       "<table border=\"1\" class=\"dataframe\">\n",
       "  <thead>\n",
       "    <tr style=\"text-align: right;\">\n",
       "      <th></th>\n",
       "      <th>authorDisplayName</th>\n",
       "      <th>textDisplay</th>\n",
       "      <th>updatedAt</th>\n",
       "      <th>videoId</th>\n",
       "    </tr>\n",
       "  </thead>\n",
       "  <tbody>\n",
       "    <tr>\n",
       "      <th>5208</th>\n",
       "      <td>bandywallop</td>\n",
       "      <td>So dumb, so funny... truly a genius idea</td>\n",
       "      <td>2019-10-24T11:24:14.000Z</td>\n",
       "      <td>0AL9lV0PeDI</td>\n",
       "    </tr>\n",
       "    <tr>\n",
       "      <th>5209</th>\n",
       "      <td>Jherald Carpila</td>\n",
       "      <td>Buy a fart bomb and stay in a car with closed ...</td>\n",
       "      <td>2019-10-24T17:08:38.000Z</td>\n",
       "      <td>0AL9lV0PeDI</td>\n",
       "    </tr>\n",
       "    <tr>\n",
       "      <th>5210</th>\n",
       "      <td>Toseef Ahmed</td>\n",
       "      <td>Seat belts on when the car is stationary not d...</td>\n",
       "      <td>2020-01-10T02:25:05.000Z</td>\n",
       "      <td>0AL9lV0PeDI</td>\n",
       "    </tr>\n",
       "    <tr>\n",
       "      <th>5211</th>\n",
       "      <td>NoFxcksGibbon</td>\n",
       "      <td>Top shelf content Bois</td>\n",
       "      <td>2019-10-24T11:16:44.000Z</td>\n",
       "      <td>0AL9lV0PeDI</td>\n",
       "    </tr>\n",
       "    <tr>\n",
       "      <th>5212</th>\n",
       "      <td>Luke Luna</td>\n",
       "      <td>Next time do a cold version also I thought u g...</td>\n",
       "      <td>2019-12-27T00:01:36.000Z</td>\n",
       "      <td>0AL9lV0PeDI</td>\n",
       "    </tr>\n",
       "    <tr>\n",
       "      <th>5213</th>\n",
       "      <td>Leonard Thaggard</td>\n",
       "      <td>Wow that was a awesome challenge...thanks for ...</td>\n",
       "      <td>2019-10-24T10:45:02.000Z</td>\n",
       "      <td>0AL9lV0PeDI</td>\n",
       "    </tr>\n",
       "    <tr>\n",
       "      <th>5214</th>\n",
       "      <td>Doomba 0</td>\n",
       "      <td>Upload more often 👌🏻</td>\n",
       "      <td>2019-10-24T11:07:11.000Z</td>\n",
       "      <td>0AL9lV0PeDI</td>\n",
       "    </tr>\n",
       "    <tr>\n",
       "      <th>5215</th>\n",
       "      <td>Hannah Xuereb</td>\n",
       "      <td>Yo this video literally made me vomit🤮</td>\n",
       "      <td>2019-12-23T08:14:24.000Z</td>\n",
       "      <td>0AL9lV0PeDI</td>\n",
       "    </tr>\n",
       "    <tr>\n",
       "      <th>5216</th>\n",
       "      <td>Nicholas Ware</td>\n",
       "      <td>Why do you have ur seatbelts on 😂😂😂</td>\n",
       "      <td>2019-10-24T13:08:57.000Z</td>\n",
       "      <td>0AL9lV0PeDI</td>\n",
       "    </tr>\n",
       "    <tr>\n",
       "      <th>5217</th>\n",
       "      <td>R!ot gaming</td>\n",
       "      <td>I love the vid keep up the work,      Love you...</td>\n",
       "      <td>2019-10-24T10:48:05.000Z</td>\n",
       "      <td>0AL9lV0PeDI</td>\n",
       "    </tr>\n",
       "  </tbody>\n",
       "</table>\n",
       "</div>"
      ],
      "text/plain": [
       "     authorDisplayName                                        textDisplay  \\\n",
       "5208       bandywallop           So dumb, so funny... truly a genius idea   \n",
       "5209   Jherald Carpila  Buy a fart bomb and stay in a car with closed ...   \n",
       "5210      Toseef Ahmed  Seat belts on when the car is stationary not d...   \n",
       "5211     NoFxcksGibbon                             Top shelf content Bois   \n",
       "5212         Luke Luna  Next time do a cold version also I thought u g...   \n",
       "5213  Leonard Thaggard  Wow that was a awesome challenge...thanks for ...   \n",
       "5214          Doomba 0                               Upload more often 👌🏻   \n",
       "5215     Hannah Xuereb             Yo this video literally made me vomit🤮   \n",
       "5216     Nicholas Ware                Why do you have ur seatbelts on 😂😂😂   \n",
       "5217       R!ot gaming  I love the vid keep up the work,      Love you...   \n",
       "\n",
       "                     updatedAt      videoId  \n",
       "5208  2019-10-24T11:24:14.000Z  0AL9lV0PeDI  \n",
       "5209  2019-10-24T17:08:38.000Z  0AL9lV0PeDI  \n",
       "5210  2020-01-10T02:25:05.000Z  0AL9lV0PeDI  \n",
       "5211  2019-10-24T11:16:44.000Z  0AL9lV0PeDI  \n",
       "5212  2019-12-27T00:01:36.000Z  0AL9lV0PeDI  \n",
       "5213  2019-10-24T10:45:02.000Z  0AL9lV0PeDI  \n",
       "5214  2019-10-24T11:07:11.000Z  0AL9lV0PeDI  \n",
       "5215  2019-12-23T08:14:24.000Z  0AL9lV0PeDI  \n",
       "5216  2019-10-24T13:08:57.000Z  0AL9lV0PeDI  \n",
       "5217  2019-10-24T10:48:05.000Z  0AL9lV0PeDI  "
      ]
     },
     "execution_count": 16,
     "metadata": {},
     "output_type": "execute_result"
    }
   ],
   "source": [
    "test_df[['authorDisplayName','textDisplay','updatedAt','videoId']][3180:3190]"
   ]
  },
  {
   "cell_type": "code",
   "execution_count": 17,
   "metadata": {},
   "outputs": [
    {
     "data": {
      "text/plain": [
       "0       False\n",
       "1       False\n",
       "2       False\n",
       "3       False\n",
       "4       False\n",
       "        ...  \n",
       "9405    False\n",
       "9406    False\n",
       "9407    False\n",
       "9408    False\n",
       "9409    False\n",
       "Length: 7382, dtype: bool"
      ]
     },
     "execution_count": 17,
     "metadata": {},
     "output_type": "execute_result"
    }
   ],
   "source": [
    "test_df.duplicated(subset=['updatedAt','videoId','textDisplay'])"
   ]
  },
  {
   "cell_type": "code",
   "execution_count": 18,
   "metadata": {},
   "outputs": [
    {
     "data": {
      "text/plain": [
       "7382"
      ]
     },
     "execution_count": 18,
     "metadata": {},
     "output_type": "execute_result"
    }
   ],
   "source": [
    "# Number of rows in comments section for this channel\n",
    "len(test_df)"
   ]
  },
  {
   "cell_type": "code",
   "execution_count": 19,
   "metadata": {},
   "outputs": [
    {
     "data": {
      "text/plain": [
       "33"
      ]
     },
     "execution_count": 19,
     "metadata": {},
     "output_type": "execute_result"
    }
   ],
   "source": [
    "# Number of duplicated rows in comments section for this channel\n",
    "len(test_df[test_df.duplicated(subset=['updatedAt','videoId','textDisplay'])])"
   ]
  },
  {
   "cell_type": "code",
   "execution_count": 20,
   "metadata": {},
   "outputs": [
    {
     "data": {
      "text/plain": [
       "178908"
      ]
     },
     "execution_count": 20,
     "metadata": {},
     "output_type": "execute_result"
    }
   ],
   "source": [
    "# total number of comments in dataframe\n",
    "len(comms_df)"
   ]
  },
  {
   "cell_type": "code",
   "execution_count": 21,
   "metadata": {},
   "outputs": [
    {
     "data": {
      "text/plain": [
       "72"
      ]
     },
     "execution_count": 21,
     "metadata": {},
     "output_type": "execute_result"
    }
   ],
   "source": [
    "# Duplicated in dataframe:\n",
    "len(comms_df[comms_df.duplicated(subset=['updatedAt','videoId','textDisplay'])])"
   ]
  },
  {
   "cell_type": "markdown",
   "metadata": {},
   "source": [
    "Looks like almost all the duplicates are coming from that first channel - Shammi vlogs"
   ]
  },
  {
   "cell_type": "code",
   "execution_count": 22,
   "metadata": {},
   "outputs": [
    {
     "name": "stderr",
     "output_type": "stream",
     "text": [
      "C:\\ProgramData\\Anaconda3\\envs\\insight\\lib\\site-packages\\ipykernel_launcher.py:1: SettingWithCopyWarning: \n",
      "A value is trying to be set on a copy of a slice from a DataFrame\n",
      "\n",
      "See the caveats in the documentation: http://pandas.pydata.org/pandas-docs/stable/user_guide/indexing.html#returning-a-view-versus-a-copy\n",
      "  \"\"\"Entry point for launching an IPython kernel.\n"
     ]
    }
   ],
   "source": [
    "test_df.drop_duplicates(keep='first', inplace=True)"
   ]
  },
  {
   "cell_type": "code",
   "execution_count": 23,
   "metadata": {},
   "outputs": [
    {
     "data": {
      "text/plain": [
       "7382"
      ]
     },
     "execution_count": 23,
     "metadata": {},
     "output_type": "execute_result"
    }
   ],
   "source": [
    "len(test_df)"
   ]
  },
  {
   "cell_type": "code",
   "execution_count": 24,
   "metadata": {},
   "outputs": [],
   "source": [
    "comms_df.drop_duplicates(keep='first', inplace=True)"
   ]
  },
  {
   "cell_type": "code",
   "execution_count": 25,
   "metadata": {
    "scrolled": true
   },
   "outputs": [
    {
     "data": {
      "text/plain": [
       "178908"
      ]
     },
     "execution_count": 25,
     "metadata": {},
     "output_type": "execute_result"
    }
   ],
   "source": [
    "len(comms_df)"
   ]
  },
  {
   "cell_type": "code",
   "execution_count": 26,
   "metadata": {},
   "outputs": [],
   "source": [
    "#comms_df.to_csv(insight_dir+'data\\\\processed\\\\comments_df.csv')"
   ]
  },
  {
   "cell_type": "code",
   "execution_count": 27,
   "metadata": {},
   "outputs": [],
   "source": [
    "eg = 'This is an example of a string where I mention the term sponsor but do not say anything much else about it :)'"
   ]
  },
  {
   "cell_type": "code",
   "execution_count": 28,
   "metadata": {
    "scrolled": true
   },
   "outputs": [
    {
     "data": {
      "text/plain": [
       "True"
      ]
     },
     "execution_count": 28,
     "metadata": {},
     "output_type": "execute_result"
    }
   ],
   "source": [
    "'sponsor' in eg"
   ]
  },
  {
   "cell_type": "code",
   "execution_count": 49,
   "metadata": {},
   "outputs": [
    {
     "data": {
      "text/html": [
       "<div>\n",
       "<style scoped>\n",
       "    .dataframe tbody tr th:only-of-type {\n",
       "        vertical-align: middle;\n",
       "    }\n",
       "\n",
       "    .dataframe tbody tr th {\n",
       "        vertical-align: top;\n",
       "    }\n",
       "\n",
       "    .dataframe thead th {\n",
       "        text-align: right;\n",
       "    }\n",
       "</style>\n",
       "<table border=\"1\" class=\"dataframe\">\n",
       "  <thead>\n",
       "    <tr style=\"text-align: right;\">\n",
       "      <th></th>\n",
       "      <th>CommID</th>\n",
       "      <th>authorChannelId</th>\n",
       "      <th>authorChannelUrl</th>\n",
       "      <th>authorDisplayName</th>\n",
       "      <th>authorProfileImageUrl</th>\n",
       "      <th>canRate</th>\n",
       "      <th>likeCount</th>\n",
       "      <th>moderationStatus</th>\n",
       "      <th>parentId</th>\n",
       "      <th>publishedAt</th>\n",
       "      <th>textDisplay</th>\n",
       "      <th>textOriginal</th>\n",
       "      <th>updatedAt</th>\n",
       "      <th>videoId</th>\n",
       "      <th>viewerRating</th>\n",
       "    </tr>\n",
       "  </thead>\n",
       "  <tbody>\n",
       "    <tr>\n",
       "      <th>0</th>\n",
       "      <td>Ugx4tPkUDK6SD6BfquJ4AaABAg</td>\n",
       "      <td>{'value': 'UCN5yuBsYaTyqH1eebwsiDTg'}</td>\n",
       "      <td>http://www.youtube.com/channel/UCN5yuBsYaTyqH1...</td>\n",
       "      <td>Adam</td>\n",
       "      <td>https://yt3.ggpht.com/a/AGF-l78Er8kO5QSBQNMQpY...</td>\n",
       "      <td>True</td>\n",
       "      <td>90</td>\n",
       "      <td>NaN</td>\n",
       "      <td>0</td>\n",
       "      <td>2020-01-21T11:24:57.000Z</td>\n",
       "      <td>Did I just watch two brothers legit have a \"to...</td>\n",
       "      <td>Did I just watch two brothers legit have a \"to...</td>\n",
       "      <td>2020-01-21T12:45:22.000Z</td>\n",
       "      <td>-TP0FuN5Saw</td>\n",
       "      <td>none</td>\n",
       "    </tr>\n",
       "    <tr>\n",
       "      <th>1</th>\n",
       "      <td>Ugx4tPkUDK6SD6BfquJ4AaABAg.942cFkZBu4O9442vbfk0Zx</td>\n",
       "      <td>{'value': 'UCIO8eoOzwAmWRwudrYn1Sew'}</td>\n",
       "      <td>http://www.youtube.com/channel/UCIO8eoOzwAmWRw...</td>\n",
       "      <td>Synical</td>\n",
       "      <td>https://yt3.ggpht.com/a/AGF-l7-wr3mhVx6G5DxbGy...</td>\n",
       "      <td>True</td>\n",
       "      <td>0</td>\n",
       "      <td>NaN</td>\n",
       "      <td>Ugx4tPkUDK6SD6BfquJ4AaABAg</td>\n",
       "      <td>2020-01-22T00:45:58.000Z</td>\n",
       "      <td>@Shammi Vlogs I thought that was a joke, lol</td>\n",
       "      <td>@Shammi Vlogs I thought that was a joke, lol</td>\n",
       "      <td>2020-01-22T00:45:58.000Z</td>\n",
       "      <td>-TP0FuN5Saw</td>\n",
       "      <td>none</td>\n",
       "    </tr>\n",
       "    <tr>\n",
       "      <th>2</th>\n",
       "      <td>Ugx4tPkUDK6SD6BfquJ4AaABAg.942cFkZBu4O942tUZ5yyus</td>\n",
       "      <td>{'value': 'UC31J-GnK6dQY0p2orKnMN_Q'}</td>\n",
       "      <td>http://www.youtube.com/channel/UC31J-GnK6dQY0p...</td>\n",
       "      <td>Shammi Vlogs</td>\n",
       "      <td>https://yt3.ggpht.com/a/AGF-l7_1Zvd6j616fP_RnV...</td>\n",
       "      <td>True</td>\n",
       "      <td>7</td>\n",
       "      <td>NaN</td>\n",
       "      <td>Ugx4tPkUDK6SD6BfquJ4AaABAg</td>\n",
       "      <td>2020-01-21T13:55:31.000Z</td>\n",
       "      <td>Bahahahahaha</td>\n",
       "      <td>Bahahahahaha</td>\n",
       "      <td>2020-01-21T13:55:31.000Z</td>\n",
       "      <td>-TP0FuN5Saw</td>\n",
       "      <td>none</td>\n",
       "    </tr>\n",
       "    <tr>\n",
       "      <th>3</th>\n",
       "      <td>Ugx4tPkUDK6SD6BfquJ4AaABAg.942cFkZBu4O942lQp3-bgX</td>\n",
       "      <td>{'value': 'UCN5yuBsYaTyqH1eebwsiDTg'}</td>\n",
       "      <td>http://www.youtube.com/channel/UCN5yuBsYaTyqH1...</td>\n",
       "      <td>Adam</td>\n",
       "      <td>https://yt3.ggpht.com/a/AGF-l78Er8kO5QSBQNMQpY...</td>\n",
       "      <td>True</td>\n",
       "      <td>3</td>\n",
       "      <td>NaN</td>\n",
       "      <td>Ugx4tPkUDK6SD6BfquJ4AaABAg</td>\n",
       "      <td>2020-01-21T12:45:06.000Z</td>\n",
       "      <td>@Larry lmao true \\n\\nPs  \\nIll edit it</td>\n",
       "      <td>@Larry lmao true \\n\\nPs  \\nIll edit it</td>\n",
       "      <td>2020-01-21T12:45:06.000Z</td>\n",
       "      <td>-TP0FuN5Saw</td>\n",
       "      <td>none</td>\n",
       "    </tr>\n",
       "    <tr>\n",
       "      <th>4</th>\n",
       "      <td>Ugx4tPkUDK6SD6BfquJ4AaABAg.942cFkZBu4O942kC_rsj3B</td>\n",
       "      <td>{'value': 'UClx1z4juTQWqhcYiTCEV3bA'}</td>\n",
       "      <td>http://www.youtube.com/channel/UClx1z4juTQWqhc...</td>\n",
       "      <td>Larry</td>\n",
       "      <td>https://yt3.ggpht.com/a/AGF-l79NxTgxxVsBDnhhPS...</td>\n",
       "      <td>True</td>\n",
       "      <td>3</td>\n",
       "      <td>NaN</td>\n",
       "      <td>Ugx4tPkUDK6SD6BfquJ4AaABAg</td>\n",
       "      <td>2020-01-21T12:34:25.000Z</td>\n",
       "      <td>Adam brothers* and the worst part about it is ...</td>\n",
       "      <td>Adam brothers* and the worst part about it is ...</td>\n",
       "      <td>2020-01-21T12:34:25.000Z</td>\n",
       "      <td>-TP0FuN5Saw</td>\n",
       "      <td>none</td>\n",
       "    </tr>\n",
       "  </tbody>\n",
       "</table>\n",
       "</div>"
      ],
      "text/plain": [
       "                                              CommID  \\\n",
       "0                         Ugx4tPkUDK6SD6BfquJ4AaABAg   \n",
       "1  Ugx4tPkUDK6SD6BfquJ4AaABAg.942cFkZBu4O9442vbfk0Zx   \n",
       "2  Ugx4tPkUDK6SD6BfquJ4AaABAg.942cFkZBu4O942tUZ5yyus   \n",
       "3  Ugx4tPkUDK6SD6BfquJ4AaABAg.942cFkZBu4O942lQp3-bgX   \n",
       "4  Ugx4tPkUDK6SD6BfquJ4AaABAg.942cFkZBu4O942kC_rsj3B   \n",
       "\n",
       "                         authorChannelId  \\\n",
       "0  {'value': 'UCN5yuBsYaTyqH1eebwsiDTg'}   \n",
       "1  {'value': 'UCIO8eoOzwAmWRwudrYn1Sew'}   \n",
       "2  {'value': 'UC31J-GnK6dQY0p2orKnMN_Q'}   \n",
       "3  {'value': 'UCN5yuBsYaTyqH1eebwsiDTg'}   \n",
       "4  {'value': 'UClx1z4juTQWqhcYiTCEV3bA'}   \n",
       "\n",
       "                                    authorChannelUrl authorDisplayName  \\\n",
       "0  http://www.youtube.com/channel/UCN5yuBsYaTyqH1...              Adam   \n",
       "1  http://www.youtube.com/channel/UCIO8eoOzwAmWRw...           Synical   \n",
       "2  http://www.youtube.com/channel/UC31J-GnK6dQY0p...      Shammi Vlogs   \n",
       "3  http://www.youtube.com/channel/UCN5yuBsYaTyqH1...              Adam   \n",
       "4  http://www.youtube.com/channel/UClx1z4juTQWqhc...             Larry   \n",
       "\n",
       "                               authorProfileImageUrl  canRate  likeCount  \\\n",
       "0  https://yt3.ggpht.com/a/AGF-l78Er8kO5QSBQNMQpY...     True         90   \n",
       "1  https://yt3.ggpht.com/a/AGF-l7-wr3mhVx6G5DxbGy...     True          0   \n",
       "2  https://yt3.ggpht.com/a/AGF-l7_1Zvd6j616fP_RnV...     True          7   \n",
       "3  https://yt3.ggpht.com/a/AGF-l78Er8kO5QSBQNMQpY...     True          3   \n",
       "4  https://yt3.ggpht.com/a/AGF-l79NxTgxxVsBDnhhPS...     True          3   \n",
       "\n",
       "  moderationStatus                    parentId               publishedAt  \\\n",
       "0              NaN                           0  2020-01-21T11:24:57.000Z   \n",
       "1              NaN  Ugx4tPkUDK6SD6BfquJ4AaABAg  2020-01-22T00:45:58.000Z   \n",
       "2              NaN  Ugx4tPkUDK6SD6BfquJ4AaABAg  2020-01-21T13:55:31.000Z   \n",
       "3              NaN  Ugx4tPkUDK6SD6BfquJ4AaABAg  2020-01-21T12:45:06.000Z   \n",
       "4              NaN  Ugx4tPkUDK6SD6BfquJ4AaABAg  2020-01-21T12:34:25.000Z   \n",
       "\n",
       "                                         textDisplay  \\\n",
       "0  Did I just watch two brothers legit have a \"to...   \n",
       "1       @Shammi Vlogs I thought that was a joke, lol   \n",
       "2                                       Bahahahahaha   \n",
       "3             @Larry lmao true \\n\\nPs  \\nIll edit it   \n",
       "4  Adam brothers* and the worst part about it is ...   \n",
       "\n",
       "                                        textOriginal  \\\n",
       "0  Did I just watch two brothers legit have a \"to...   \n",
       "1       @Shammi Vlogs I thought that was a joke, lol   \n",
       "2                                       Bahahahahaha   \n",
       "3             @Larry lmao true \\n\\nPs  \\nIll edit it   \n",
       "4  Adam brothers* and the worst part about it is ...   \n",
       "\n",
       "                  updatedAt      videoId viewerRating  \n",
       "0  2020-01-21T12:45:22.000Z  -TP0FuN5Saw         none  \n",
       "1  2020-01-22T00:45:58.000Z  -TP0FuN5Saw         none  \n",
       "2  2020-01-21T13:55:31.000Z  -TP0FuN5Saw         none  \n",
       "3  2020-01-21T12:45:06.000Z  -TP0FuN5Saw         none  \n",
       "4  2020-01-21T12:34:25.000Z  -TP0FuN5Saw         none  "
      ]
     },
     "execution_count": 49,
     "metadata": {},
     "output_type": "execute_result"
    }
   ],
   "source": [
    "test_df.head(5)"
   ]
  },
  {
   "cell_type": "code",
   "execution_count": 52,
   "metadata": {},
   "outputs": [
    {
     "name": "stdout",
     "output_type": "stream",
     "text": [
      "Surely this is worth a sponsorship from Carlton Dry\n",
      "Feel like shammi just makes these videos to get sponsored by Carlton drys\n",
      "Was that video sponsored by Carlton Dry? hahhaha\n",
      "Get sponsors for your videos then you don’t need subs\n",
      "Sportsbet should sponsor a video!\n"
     ]
    }
   ],
   "source": [
    "for comm in test_df['textDisplay']:\n",
    "    if 'sponsor' in comm:\n",
    "        print(comm)"
   ]
  },
  {
   "cell_type": "code",
   "execution_count": 62,
   "metadata": {},
   "outputs": [
    {
     "ename": "TypeError",
     "evalue": "argument of type 'float' is not iterable",
     "output_type": "error",
     "traceback": [
      "\u001b[1;31m---------------------------------------------------------------------------\u001b[0m",
      "\u001b[1;31mTypeError\u001b[0m                                 Traceback (most recent call last)",
      "\u001b[1;32m<ipython-input-62-26cceecfb670>\u001b[0m in \u001b[0;36m<module>\u001b[1;34m\u001b[0m\n\u001b[0;32m      2\u001b[0m \u001b[1;33m\u001b[0m\u001b[0m\n\u001b[0;32m      3\u001b[0m \u001b[1;32mfor\u001b[0m \u001b[0midx\u001b[0m\u001b[1;33m,\u001b[0m\u001b[0mcomm\u001b[0m \u001b[1;32min\u001b[0m \u001b[0menumerate\u001b[0m\u001b[1;33m(\u001b[0m\u001b[0mcomms_df\u001b[0m\u001b[1;33m[\u001b[0m\u001b[1;34m'textDisplay'\u001b[0m\u001b[1;33m]\u001b[0m\u001b[1;33m)\u001b[0m\u001b[1;33m:\u001b[0m\u001b[1;33m\u001b[0m\u001b[1;33m\u001b[0m\u001b[0m\n\u001b[1;32m----> 4\u001b[1;33m     \u001b[1;32mif\u001b[0m \u001b[1;34m'sponsor'\u001b[0m \u001b[1;32min\u001b[0m \u001b[0mcomm\u001b[0m\u001b[1;33m:\u001b[0m\u001b[1;33m\u001b[0m\u001b[1;33m\u001b[0m\u001b[0m\n\u001b[0m\u001b[0;32m      5\u001b[0m         \u001b[0msponsor_vids\u001b[0m\u001b[1;33m.\u001b[0m\u001b[0mappend\u001b[0m\u001b[1;33m(\u001b[0m\u001b[0mcomms_df\u001b[0m\u001b[1;33m[\u001b[0m\u001b[1;34m'videoId'\u001b[0m\u001b[1;33m]\u001b[0m\u001b[1;33m.\u001b[0m\u001b[0miloc\u001b[0m\u001b[1;33m[\u001b[0m\u001b[0midx\u001b[0m\u001b[1;33m]\u001b[0m\u001b[1;33m)\u001b[0m\u001b[1;33m\u001b[0m\u001b[1;33m\u001b[0m\u001b[0m\n",
      "\u001b[1;31mTypeError\u001b[0m: argument of type 'float' is not iterable"
     ]
    }
   ],
   "source": [
    "sponsor_vids = []\n",
    "\n",
    "for idx,comm in enumerate(comms_df['textDisplay']):\n",
    "    if 'sponsor' in comm:\n",
    "        sponsor_vids.append(comms_df['videoId'].iloc[idx])"
   ]
  },
  {
   "cell_type": "code",
   "execution_count": 63,
   "metadata": {},
   "outputs": [
    {
     "data": {
      "text/plain": [
       "['TF2jxwObEoI',\n",
       " 'TF2jxwObEoI',\n",
       " 'TF2jxwObEoI',\n",
       " 'c_zGA5j4dWc',\n",
       " '7If4L7GnKos',\n",
       " 'eazXhjpOsCg',\n",
       " 'N2BI6uLB5Gc',\n",
       " '5WlsUou0mK8',\n",
       " '5WlsUou0mK8',\n",
       " 'JBVNOQjj148',\n",
       " '5jC3oK14ADA',\n",
       " 'mvMJl_0oQ_8',\n",
       " 'mvMJl_0oQ_8',\n",
       " 'mvMJl_0oQ_8',\n",
       " 'mvMJl_0oQ_8',\n",
       " 'mvMJl_0oQ_8',\n",
       " 'mvMJl_0oQ_8',\n",
       " 'FtlF-6TnMuo',\n",
       " 'FtlF-6TnMuo',\n",
       " '2-czoC-Rv7I',\n",
       " '2-czoC-Rv7I',\n",
       " 'uBNFgU4sfP4',\n",
       " 'dSmsQraeCVM',\n",
       " 'dSmsQraeCVM',\n",
       " 'cWPbGSZpSdE',\n",
       " 'cWPbGSZpSdE',\n",
       " 'fxa0lifjXdk',\n",
       " 'fxa0lifjXdk',\n",
       " 'EbR3muQJ66I',\n",
       " 'UE6UkF9sABU',\n",
       " 'UE6UkF9sABU',\n",
       " 'UE6UkF9sABU',\n",
       " 'UE6UkF9sABU',\n",
       " '6DfP10OeDP0',\n",
       " '7yCtB1JYXs0',\n",
       " '31ze-iBH6i8',\n",
       " '9fqnHF7BLbU',\n",
       " 'rMRZm6UmIrg',\n",
       " 'rMRZm6UmIrg',\n",
       " 'S2HFp5Hjeaw',\n",
       " 'S2HFp5Hjeaw',\n",
       " 'S2HFp5Hjeaw',\n",
       " 'mZ87IBZ8VBQ',\n",
       " '415UPT7weCA',\n",
       " 'MB-wm51q-gM',\n",
       " 'kKT7LZ4daKc',\n",
       " 'uq7ydQE8Yyw',\n",
       " 'uq7ydQE8Yyw',\n",
       " 'uq7ydQE8Yyw',\n",
       " 'uq7ydQE8Yyw',\n",
       " 'uq7ydQE8Yyw',\n",
       " 'uq7ydQE8Yyw',\n",
       " 'uq7ydQE8Yyw',\n",
       " 'uq7ydQE8Yyw',\n",
       " 'uq7ydQE8Yyw',\n",
       " 'uq7ydQE8Yyw',\n",
       " 'bbTszN1hpA0',\n",
       " 'XLWmJvmOx3s',\n",
       " 'fTofZG9-Tvs',\n",
       " 'fTofZG9-Tvs',\n",
       " 'wThXqvtXQMA',\n",
       " '5DHimM-QMnw',\n",
       " '5DHimM-QMnw',\n",
       " 'A_my_eqXwC4',\n",
       " 'tHvkUKn75-k',\n",
       " 'tHvkUKn75-k',\n",
       " 'EMv5E18U0cI',\n",
       " '6V8sxzSDtV8',\n",
       " '1sPtKl00iDc',\n",
       " '1sPtKl00iDc',\n",
       " '1sPtKl00iDc',\n",
       " '1sPtKl00iDc',\n",
       " 'eKfpM4cBfwo',\n",
       " 'Ri5ddU6FN_Q',\n",
       " 'e7Arzvlau6c',\n",
       " '2Z0lv6qlj0Q',\n",
       " 'uTRulMgEvrI',\n",
       " 'Gg9GjCQPTro',\n",
       " 'Gg9GjCQPTro',\n",
       " 'Gg9GjCQPTro',\n",
       " 'Gg9GjCQPTro',\n",
       " 'Gg9GjCQPTro',\n",
       " 'Gg9GjCQPTro',\n",
       " 'CZ8nDkO2p5E',\n",
       " 'PuG0lqVMA7w',\n",
       " 'Gx1WTDpCcjQ',\n",
       " 'uBahw_3cKiI',\n",
       " 'T1Tw_sm537s',\n",
       " 'IOU7VtH5A2w',\n",
       " 'IOU7VtH5A2w',\n",
       " 'i9_zSxFIBb0',\n",
       " 'i9_zSxFIBb0',\n",
       " 'vFTv7LBfM8o',\n",
       " 'QQARGHvBvwU',\n",
       " 'QQARGHvBvwU',\n",
       " 'ZYeCZnA_GJE',\n",
       " '1G0HZMRobZc',\n",
       " 'DvdlWirKwQQ',\n",
       " 'DvdlWirKwQQ',\n",
       " 'PBMdJ45kdNU',\n",
       " 'PBMdJ45kdNU',\n",
       " 'PBMdJ45kdNU',\n",
       " 'PBMdJ45kdNU',\n",
       " 'hwDK3DvsNvc',\n",
       " 'DQSEIMd_Bu8',\n",
       " 'MXEfFxcdFm0',\n",
       " 'ooSGbbsYYKw',\n",
       " 'ooSGbbsYYKw',\n",
       " 'ooSGbbsYYKw',\n",
       " '7vAko-xTdEU',\n",
       " '7vAko-xTdEU',\n",
       " '5mOG8DOSzOY',\n",
       " 'fhCyWKV8tmU',\n",
       " 'codCTYxm-mo',\n",
       " '3-eYMvBe7_w',\n",
       " 'dEttQYPRETw',\n",
       " 'AWAIGojXv0A',\n",
       " 'WyuZETz3rsU',\n",
       " 'by4nobJPJcs',\n",
       " '2sx2WKnsYSk',\n",
       " 'bq7FWiSAjfU',\n",
       " 'BMH0cs95VS8',\n",
       " 'BBXZApF3jrw',\n",
       " 'lVi-vLNxt2I',\n",
       " 'tckTxhzjNbg',\n",
       " 'aNnYacSjmlE',\n",
       " 'cG7mnjVolQ0',\n",
       " 'h7qXqmfhRp0',\n",
       " 'Pm8-BMiZjr0',\n",
       " '8CYH7nHjBeA']"
      ]
     },
     "execution_count": 63,
     "metadata": {},
     "output_type": "execute_result"
    }
   ],
   "source": [
    "sponsor_vids"
   ]
  },
  {
   "cell_type": "code",
   "execution_count": 61,
   "metadata": {},
   "outputs": [
    {
     "data": {
      "text/plain": [
       "'c_zGA5j4dWc'"
      ]
     },
     "execution_count": 61,
     "metadata": {},
     "output_type": "execute_result"
    }
   ],
   "source": [
    "comms_df['videoId'].iloc[4171]"
   ]
  },
  {
   "cell_type": "code",
   "execution_count": 64,
   "metadata": {},
   "outputs": [],
   "source": [
    "from collections import Counter"
   ]
  },
  {
   "cell_type": "code",
   "execution_count": 65,
   "metadata": {},
   "outputs": [],
   "source": [
    "c = Counter(sponsor_vids)"
   ]
  },
  {
   "cell_type": "code",
   "execution_count": 72,
   "metadata": {},
   "outputs": [],
   "source": [
    "large_sponsor_mention = []\n",
    "for key,val in c.items():\n",
    "    if val > 3:\n",
    "        large_sponsor_mention.append(key)"
   ]
  },
  {
   "cell_type": "code",
   "execution_count": 73,
   "metadata": {},
   "outputs": [
    {
     "data": {
      "text/plain": [
       "['mvMJl_0oQ_8',\n",
       " 'UE6UkF9sABU',\n",
       " 'uq7ydQE8Yyw',\n",
       " '1sPtKl00iDc',\n",
       " 'Gg9GjCQPTro',\n",
       " 'PBMdJ45kdNU']"
      ]
     },
     "execution_count": 73,
     "metadata": {},
     "output_type": "execute_result"
    }
   ],
   "source": [
    "large_sponsor_mention"
   ]
  },
  {
   "cell_type": "code",
   "execution_count": 74,
   "metadata": {},
   "outputs": [
    {
     "data": {
      "text/plain": [
       "Index(['VidID', 'ChannelID', 'VidTitle', 'VidDescription', 'VidPublished',\n",
       "       'viewCount', 'likeCount', 'dislikeCount', 'favoriteCount',\n",
       "       'commentCount'],\n",
       "      dtype='object')"
      ]
     },
     "execution_count": 74,
     "metadata": {},
     "output_type": "execute_result"
    }
   ],
   "source": [
    "vids_df.columns"
   ]
  },
  {
   "cell_type": "code",
   "execution_count": 85,
   "metadata": {},
   "outputs": [],
   "source": [
    "mask = []\n",
    "for vid in large_sponsor_mention:\n",
    "    mask.append(vids_df['VidID'] == vid)"
   ]
  },
  {
   "cell_type": "code",
   "execution_count": 86,
   "metadata": {},
   "outputs": [
    {
     "ename": "ValueError",
     "evalue": "Item wrong length 6 instead of 1260.",
     "output_type": "error",
     "traceback": [
      "\u001b[1;31m---------------------------------------------------------------------------\u001b[0m",
      "\u001b[1;31mValueError\u001b[0m                                Traceback (most recent call last)",
      "\u001b[1;32m<ipython-input-86-8145dfbd068a>\u001b[0m in \u001b[0;36m<module>\u001b[1;34m\u001b[0m\n\u001b[1;32m----> 1\u001b[1;33m \u001b[0mvids_df\u001b[0m\u001b[1;33m[\u001b[0m\u001b[0mmask\u001b[0m\u001b[1;33m]\u001b[0m\u001b[1;33m\u001b[0m\u001b[1;33m\u001b[0m\u001b[0m\n\u001b[0m",
      "\u001b[1;32mC:\\ProgramData\\Anaconda3\\envs\\insight\\lib\\site-packages\\pandas\\core\\frame.py\u001b[0m in \u001b[0;36m__getitem__\u001b[1;34m(self, key)\u001b[0m\n\u001b[0;32m   2984\u001b[0m         \u001b[1;31m# Do we have a (boolean) 1d indexer?\u001b[0m\u001b[1;33m\u001b[0m\u001b[1;33m\u001b[0m\u001b[1;33m\u001b[0m\u001b[0m\n\u001b[0;32m   2985\u001b[0m         \u001b[1;32mif\u001b[0m \u001b[0mcom\u001b[0m\u001b[1;33m.\u001b[0m\u001b[0mis_bool_indexer\u001b[0m\u001b[1;33m(\u001b[0m\u001b[0mkey\u001b[0m\u001b[1;33m)\u001b[0m\u001b[1;33m:\u001b[0m\u001b[1;33m\u001b[0m\u001b[1;33m\u001b[0m\u001b[0m\n\u001b[1;32m-> 2986\u001b[1;33m             \u001b[1;32mreturn\u001b[0m \u001b[0mself\u001b[0m\u001b[1;33m.\u001b[0m\u001b[0m_getitem_bool_array\u001b[0m\u001b[1;33m(\u001b[0m\u001b[0mkey\u001b[0m\u001b[1;33m)\u001b[0m\u001b[1;33m\u001b[0m\u001b[1;33m\u001b[0m\u001b[0m\n\u001b[0m\u001b[0;32m   2987\u001b[0m \u001b[1;33m\u001b[0m\u001b[0m\n\u001b[0;32m   2988\u001b[0m         \u001b[1;31m# We are left with two options: a single key, and a collection of keys,\u001b[0m\u001b[1;33m\u001b[0m\u001b[1;33m\u001b[0m\u001b[1;33m\u001b[0m\u001b[0m\n",
      "\u001b[1;32mC:\\ProgramData\\Anaconda3\\envs\\insight\\lib\\site-packages\\pandas\\core\\frame.py\u001b[0m in \u001b[0;36m_getitem_bool_array\u001b[1;34m(self, key)\u001b[0m\n\u001b[0;32m   3031\u001b[0m         \u001b[1;32melif\u001b[0m \u001b[0mlen\u001b[0m\u001b[1;33m(\u001b[0m\u001b[0mkey\u001b[0m\u001b[1;33m)\u001b[0m \u001b[1;33m!=\u001b[0m \u001b[0mlen\u001b[0m\u001b[1;33m(\u001b[0m\u001b[0mself\u001b[0m\u001b[1;33m.\u001b[0m\u001b[0mindex\u001b[0m\u001b[1;33m)\u001b[0m\u001b[1;33m:\u001b[0m\u001b[1;33m\u001b[0m\u001b[1;33m\u001b[0m\u001b[0m\n\u001b[0;32m   3032\u001b[0m             raise ValueError(\n\u001b[1;32m-> 3033\u001b[1;33m                 \u001b[1;34m\"Item wrong length %d instead of %d.\"\u001b[0m \u001b[1;33m%\u001b[0m \u001b[1;33m(\u001b[0m\u001b[0mlen\u001b[0m\u001b[1;33m(\u001b[0m\u001b[0mkey\u001b[0m\u001b[1;33m)\u001b[0m\u001b[1;33m,\u001b[0m \u001b[0mlen\u001b[0m\u001b[1;33m(\u001b[0m\u001b[0mself\u001b[0m\u001b[1;33m.\u001b[0m\u001b[0mindex\u001b[0m\u001b[1;33m)\u001b[0m\u001b[1;33m)\u001b[0m\u001b[1;33m\u001b[0m\u001b[1;33m\u001b[0m\u001b[0m\n\u001b[0m\u001b[0;32m   3034\u001b[0m             )\n\u001b[0;32m   3035\u001b[0m \u001b[1;33m\u001b[0m\u001b[0m\n",
      "\u001b[1;31mValueError\u001b[0m: Item wrong length 6 instead of 1260."
     ]
    }
   ],
   "source": [
    "vids_df[mask]"
   ]
  },
  {
   "cell_type": "code",
   "execution_count": null,
   "metadata": {},
   "outputs": [],
   "source": []
  }
 ],
 "metadata": {
  "kernelspec": {
   "display_name": "Python 3",
   "language": "python",
   "name": "python3"
  },
  "language_info": {
   "codemirror_mode": {
    "name": "ipython",
    "version": 3
   },
   "file_extension": ".py",
   "mimetype": "text/x-python",
   "name": "python",
   "nbconvert_exporter": "python",
   "pygments_lexer": "ipython3",
   "version": "3.7.6"
  }
 },
 "nbformat": 4,
 "nbformat_minor": 2
}
