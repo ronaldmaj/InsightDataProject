{
 "cells": [
  {
   "cell_type": "markdown",
   "metadata": {},
   "source": [
    "# 2020-01-28\n",
    "\n",
    "In this notebook I will test the pickling process (open a file), then move on to trying to do sentiment analysis on the comments:"
   ]
  },
  {
   "cell_type": "code",
   "execution_count": 1,
   "metadata": {},
   "outputs": [],
   "source": [
    "import pickle\n",
    "with open('comms_spa.pkl', 'rb') as f:\n",
    "    mynewlist = pickle.load(f)"
   ]
  },
  {
   "cell_type": "code",
   "execution_count": 1,
   "metadata": {},
   "outputs": [
    {
     "name": "stderr",
     "output_type": "stream",
     "text": [
      "C:\\ProgramData\\Anaconda3\\envs\\insight\\lib\\site-packages\\thinc\\neural\\train.py:3: DeprecationWarning: Using or importing the ABCs from 'collections' instead of from 'collections.abc' is deprecated since Python 3.3,and in 3.9 it will stop working\n",
      "  from .optimizers import Adam, SGD, linear_decay\n",
      "C:\\ProgramData\\Anaconda3\\envs\\insight\\lib\\site-packages\\thinc\\check.py:1: DeprecationWarning: Using or importing the ABCs from 'collections' instead of from 'collections.abc' is deprecated since Python 3.3,and in 3.9 it will stop working\n",
      "  from collections import defaultdict, Sequence, Sized, Iterable, Callable\n",
      "C:\\ProgramData\\Anaconda3\\envs\\insight\\lib\\site-packages\\thinc\\check.py:1: DeprecationWarning: Using or importing the ABCs from 'collections' instead of from 'collections.abc' is deprecated since Python 3.3,and in 3.9 it will stop working\n",
      "  from collections import defaultdict, Sequence, Sized, Iterable, Callable\n"
     ]
    }
   ],
   "source": [
    "import pickle\n",
    "import pandas as pd\n",
    "import random\n",
    "import numpy as np\n",
    "import pandas as pd\n",
    "import re\n",
    "\n",
    "import gensim\n",
    "import gensim.corpora as corpora\n",
    "from gensim.utils import simple_preprocess\n",
    "from gensim.models import CoherenceModel\n",
    "\n",
    "# Plotting tools\n",
    "import pyLDAvis\n",
    "import pyLDAvis.gensim  # don't skip this\n",
    "import matplotlib.pyplot as plt\n",
    "%matplotlib inline\n",
    "\n",
    "import spacy\n",
    "from spacy.lemmatizer import Lemmatizer\n",
    "from spacy.lang.en.stop_words import STOP_WORDS\n",
    "import en_core_web_lg\n",
    "\n",
    "from tqdm.notebook import tqdm\n",
    "from pprint import pprint"
   ]
  },
  {
   "cell_type": "code",
   "execution_count": 23,
   "metadata": {},
   "outputs": [
    {
     "data": {
      "text/plain": [
       "i love every single human in this video!!"
      ]
     },
     "execution_count": 23,
     "metadata": {},
     "output_type": "execute_result"
    }
   ],
   "source": [
    "mynewlist[10]"
   ]
  },
  {
   "cell_type": "code",
   "execution_count": 20,
   "metadata": {},
   "outputs": [
    {
     "data": {
      "text/plain": [
       "spacy.tokens.doc.Doc"
      ]
     },
     "execution_count": 20,
     "metadata": {},
     "output_type": "execute_result"
    }
   ],
   "source": [
    "type(mynewlist[10])"
   ]
  },
  {
   "cell_type": "markdown",
   "metadata": {},
   "source": [
    "### So the pickling process works, now onto linking the comments found with the commenter / video / channel details"
   ]
  },
  {
   "cell_type": "code",
   "execution_count": 2,
   "metadata": {},
   "outputs": [
    {
     "name": "stderr",
     "output_type": "stream",
     "text": [
      "C:\\ProgramData\\Anaconda3\\envs\\insight\\lib\\site-packages\\IPython\\core\\interactiveshell.py:3051: DtypeWarning: Columns (9) have mixed types. Specify dtype option on import or set low_memory=False.\n",
      "  interactivity=interactivity, compiler=compiler, result=result)\n"
     ]
    }
   ],
   "source": [
    "insight_dir = 'C:\\\\Users\\\\Ronald Maj\\\\Documents\\\\GitHub\\\\InsightDataProject\\\\'\n",
    "\n",
    "# Load vids data\n",
    "vids_df = pd.read_csv(insight_dir+'data\\\\processed\\\\all_vids_en_df.csv', index_col=0)\n",
    "# Load comments data\n",
    "comms_df = pd.read_csv(insight_dir+'data\\\\processed\\\\all_comments_en_df.csv', index_col=0)"
   ]
  },
  {
   "cell_type": "code",
   "execution_count": 3,
   "metadata": {},
   "outputs": [],
   "source": [
    "comms_df = comms_df.dropna(subset=['textDisplay'])"
   ]
  },
  {
   "cell_type": "code",
   "execution_count": 4,
   "metadata": {},
   "outputs": [],
   "source": [
    "comms_df = comms_df.drop(['Unnamed: 0.1'], axis=1)"
   ]
  },
  {
   "cell_type": "code",
   "execution_count": 5,
   "metadata": {},
   "outputs": [],
   "source": [
    "# For our new sample, just get a random assortment of 10,000 comments from teh data frame:\n",
    "docs_samp_df = comms_df.sample(10000)"
   ]
  },
  {
   "cell_type": "code",
   "execution_count": 6,
   "metadata": {},
   "outputs": [
    {
     "data": {
      "text/html": [
       "<div>\n",
       "<style scoped>\n",
       "    .dataframe tbody tr th:only-of-type {\n",
       "        vertical-align: middle;\n",
       "    }\n",
       "\n",
       "    .dataframe tbody tr th {\n",
       "        vertical-align: top;\n",
       "    }\n",
       "\n",
       "    .dataframe thead th {\n",
       "        text-align: right;\n",
       "    }\n",
       "</style>\n",
       "<table border=\"1\" class=\"dataframe\">\n",
       "  <thead>\n",
       "    <tr style=\"text-align: right;\">\n",
       "      <th></th>\n",
       "      <th>CommID</th>\n",
       "      <th>authorChannelId</th>\n",
       "      <th>authorChannelUrl</th>\n",
       "      <th>authorDisplayName</th>\n",
       "      <th>authorProfileImageUrl</th>\n",
       "      <th>canRate</th>\n",
       "      <th>likeCount</th>\n",
       "      <th>moderationStatus</th>\n",
       "      <th>parentId</th>\n",
       "      <th>publishedAt</th>\n",
       "      <th>textDisplay</th>\n",
       "      <th>textOriginal</th>\n",
       "      <th>updatedAt</th>\n",
       "      <th>videoId</th>\n",
       "      <th>viewerRating</th>\n",
       "    </tr>\n",
       "  </thead>\n",
       "  <tbody>\n",
       "    <tr>\n",
       "      <th>912330</th>\n",
       "      <td>UgwB74R-ao2HxuUw9FV4AaABAg</td>\n",
       "      <td>{'value': 'UCCjezOkAnUm7d72_6RSQjWw'}</td>\n",
       "      <td>http://www.youtube.com/channel/UCCjezOkAnUm7d7...</td>\n",
       "      <td>Fortnut playz</td>\n",
       "      <td>https://yt3.ggpht.com/a/AGF-l7-egKOq6WZ9wsH6wv...</td>\n",
       "      <td>True</td>\n",
       "      <td>0</td>\n",
       "      <td>NaN</td>\n",
       "      <td>0</td>\n",
       "      <td>2019-09-13T19:55:35.000Z</td>\n",
       "      <td>0:50 is that voice of zelda?</td>\n",
       "      <td>0:50 is that voice of zelda?</td>\n",
       "      <td>2019-09-13T19:55:35.000Z</td>\n",
       "      <td>YSqHZUCkFfQ</td>\n",
       "      <td>none</td>\n",
       "    </tr>\n",
       "    <tr>\n",
       "      <th>584253</th>\n",
       "      <td>UgyaEeeU7m4_jqndmoN4AaABAg.8zK7iRmI5S88zOPF69T1YO</td>\n",
       "      <td>{'value': 'UCByC7nfOlb-qpy1DpL38zBA'}</td>\n",
       "      <td>http://www.youtube.com/channel/UCByC7nfOlb-qpy...</td>\n",
       "      <td>djangoDakoti</td>\n",
       "      <td>https://yt3.ggpht.com/a/AGF-l7_H3YD8h50Gdz3aOE...</td>\n",
       "      <td>True</td>\n",
       "      <td>1</td>\n",
       "      <td>NaN</td>\n",
       "      <td>UgyaEeeU7m4_jqndmoN4AaABAg</td>\n",
       "      <td>2019-09-02T19:17:27.000Z</td>\n",
       "      <td>@MEGACHEESE 😘</td>\n",
       "      <td>@MEGACHEESE 😘</td>\n",
       "      <td>2019-09-02T19:17:27.000Z</td>\n",
       "      <td>od7P-RhLjLQ</td>\n",
       "      <td>none</td>\n",
       "    </tr>\n",
       "    <tr>\n",
       "      <th>634121</th>\n",
       "      <td>Ugyk96C9tOXQVWQdeqd4AaABAg</td>\n",
       "      <td>{'value': 'UCmvH1SQnoGvL0n7qFn91uPw'}</td>\n",
       "      <td>http://www.youtube.com/channel/UCmvH1SQnoGvL0n...</td>\n",
       "      <td>Amanda P</td>\n",
       "      <td>https://yt3.ggpht.com/a/AGF-l78qEU9IqYRTa3fPxh...</td>\n",
       "      <td>True</td>\n",
       "      <td>418</td>\n",
       "      <td>NaN</td>\n",
       "      <td>0</td>\n",
       "      <td>2019-10-30T01:21:01.000Z</td>\n",
       "      <td>Pink and Red seem like good choices.\\n\\nThe do...</td>\n",
       "      <td>Pink and Red seem like good choices.\\n\\nThe do...</td>\n",
       "      <td>2019-10-30T01:21:17.000Z</td>\n",
       "      <td>iglH3Q2IGj8</td>\n",
       "      <td>none</td>\n",
       "    </tr>\n",
       "    <tr>\n",
       "      <th>279707</th>\n",
       "      <td>UgwcfnNqmyZIq5pIVbR4AaABAg.8s-PnIYPKiC8yztHlWC_YI</td>\n",
       "      <td>{'value': 'UCdu7UGB7YG8tBuQ0cHCm5xA'}</td>\n",
       "      <td>http://www.youtube.com/channel/UCdu7UGB7YG8tBu...</td>\n",
       "      <td>Denis Breimann</td>\n",
       "      <td>https://yt3.ggpht.com/a/AGF-l7_crRb50K8tASA7ny...</td>\n",
       "      <td>True</td>\n",
       "      <td>0</td>\n",
       "      <td>NaN</td>\n",
       "      <td>UgwcfnNqmyZIq5pIVbR4AaABAg</td>\n",
       "      <td>2019-08-23T21:28:26.000Z</td>\n",
       "      <td>That's not comparable, like, at all</td>\n",
       "      <td>That's not comparable, like, at all</td>\n",
       "      <td>2019-08-23T21:28:26.000Z</td>\n",
       "      <td>817R3ApVFok</td>\n",
       "      <td>none</td>\n",
       "    </tr>\n",
       "    <tr>\n",
       "      <th>109042</th>\n",
       "      <td>UgwzVCS-rexbv7FGDvt4AaABAg</td>\n",
       "      <td>{'value': 'UCva8ubjNzA2qXNHvA4GLACQ'}</td>\n",
       "      <td>http://www.youtube.com/channel/UCva8ubjNzA2qXN...</td>\n",
       "      <td>Christine Khamo</td>\n",
       "      <td>https://yt3.ggpht.com/a/AGF-l7_JCOKg9HgPgSJ6AQ...</td>\n",
       "      <td>True</td>\n",
       "      <td>3</td>\n",
       "      <td>NaN</td>\n",
       "      <td>0</td>\n",
       "      <td>2019-09-14T12:04:01.000Z</td>\n",
       "      <td>Always love to chill and watch your videos. Su...</td>\n",
       "      <td>Always love to chill and watch your videos. Su...</td>\n",
       "      <td>2019-09-14T12:04:01.000Z</td>\n",
       "      <td>TVN9Jwh9Nwc</td>\n",
       "      <td>none</td>\n",
       "    </tr>\n",
       "  </tbody>\n",
       "</table>\n",
       "</div>"
      ],
      "text/plain": [
       "                                                   CommID  \\\n",
       "912330                         UgwB74R-ao2HxuUw9FV4AaABAg   \n",
       "584253  UgyaEeeU7m4_jqndmoN4AaABAg.8zK7iRmI5S88zOPF69T1YO   \n",
       "634121                         Ugyk96C9tOXQVWQdeqd4AaABAg   \n",
       "279707  UgwcfnNqmyZIq5pIVbR4AaABAg.8s-PnIYPKiC8yztHlWC_YI   \n",
       "109042                         UgwzVCS-rexbv7FGDvt4AaABAg   \n",
       "\n",
       "                              authorChannelId  \\\n",
       "912330  {'value': 'UCCjezOkAnUm7d72_6RSQjWw'}   \n",
       "584253  {'value': 'UCByC7nfOlb-qpy1DpL38zBA'}   \n",
       "634121  {'value': 'UCmvH1SQnoGvL0n7qFn91uPw'}   \n",
       "279707  {'value': 'UCdu7UGB7YG8tBuQ0cHCm5xA'}   \n",
       "109042  {'value': 'UCva8ubjNzA2qXNHvA4GLACQ'}   \n",
       "\n",
       "                                         authorChannelUrl authorDisplayName  \\\n",
       "912330  http://www.youtube.com/channel/UCCjezOkAnUm7d7...     Fortnut playz   \n",
       "584253  http://www.youtube.com/channel/UCByC7nfOlb-qpy...      djangoDakoti   \n",
       "634121  http://www.youtube.com/channel/UCmvH1SQnoGvL0n...          Amanda P   \n",
       "279707  http://www.youtube.com/channel/UCdu7UGB7YG8tBu...    Denis Breimann   \n",
       "109042  http://www.youtube.com/channel/UCva8ubjNzA2qXN...   Christine Khamo   \n",
       "\n",
       "                                    authorProfileImageUrl  canRate  likeCount  \\\n",
       "912330  https://yt3.ggpht.com/a/AGF-l7-egKOq6WZ9wsH6wv...     True          0   \n",
       "584253  https://yt3.ggpht.com/a/AGF-l7_H3YD8h50Gdz3aOE...     True          1   \n",
       "634121  https://yt3.ggpht.com/a/AGF-l78qEU9IqYRTa3fPxh...     True        418   \n",
       "279707  https://yt3.ggpht.com/a/AGF-l7_crRb50K8tASA7ny...     True          0   \n",
       "109042  https://yt3.ggpht.com/a/AGF-l7_JCOKg9HgPgSJ6AQ...     True          3   \n",
       "\n",
       "       moderationStatus                    parentId               publishedAt  \\\n",
       "912330              NaN                           0  2019-09-13T19:55:35.000Z   \n",
       "584253              NaN  UgyaEeeU7m4_jqndmoN4AaABAg  2019-09-02T19:17:27.000Z   \n",
       "634121              NaN                           0  2019-10-30T01:21:01.000Z   \n",
       "279707              NaN  UgwcfnNqmyZIq5pIVbR4AaABAg  2019-08-23T21:28:26.000Z   \n",
       "109042              NaN                           0  2019-09-14T12:04:01.000Z   \n",
       "\n",
       "                                              textDisplay  \\\n",
       "912330                       0:50 is that voice of zelda?   \n",
       "584253                                      @MEGACHEESE 😘   \n",
       "634121  Pink and Red seem like good choices.\\n\\nThe do...   \n",
       "279707                That's not comparable, like, at all   \n",
       "109042  Always love to chill and watch your videos. Su...   \n",
       "\n",
       "                                             textOriginal  \\\n",
       "912330                       0:50 is that voice of zelda?   \n",
       "584253                                      @MEGACHEESE 😘   \n",
       "634121  Pink and Red seem like good choices.\\n\\nThe do...   \n",
       "279707                That's not comparable, like, at all   \n",
       "109042  Always love to chill and watch your videos. Su...   \n",
       "\n",
       "                       updatedAt      videoId viewerRating  \n",
       "912330  2019-09-13T19:55:35.000Z  YSqHZUCkFfQ         none  \n",
       "584253  2019-09-02T19:17:27.000Z  od7P-RhLjLQ         none  \n",
       "634121  2019-10-30T01:21:17.000Z  iglH3Q2IGj8         none  \n",
       "279707  2019-08-23T21:28:26.000Z  817R3ApVFok         none  \n",
       "109042  2019-09-14T12:04:01.000Z  TVN9Jwh9Nwc         none  "
      ]
     },
     "execution_count": 6,
     "metadata": {},
     "output_type": "execute_result"
    }
   ],
   "source": [
    "docs_samp_df.head(5)"
   ]
  },
  {
   "cell_type": "code",
   "execution_count": 13,
   "metadata": {},
   "outputs": [],
   "source": [
    "comm_docs = docs_samp_df['textDisplay']"
   ]
  },
  {
   "cell_type": "code",
   "execution_count": 14,
   "metadata": {},
   "outputs": [
    {
     "name": "stderr",
     "output_type": "stream",
     "text": [
      "<>:9: DeprecationWarning: invalid escape sequence \\]\n",
      "<>:9: DeprecationWarning: invalid escape sequence \\]\n",
      "<>:9: DeprecationWarning: invalid escape sequence \\]\n",
      "<ipython-input-14-25fd158cf537>:9: DeprecationWarning: invalid escape sequence \\]\n",
      "  punc_list = '#/<>@[\\]{}|^~'\n"
     ]
    }
   ],
   "source": [
    "def clean_text(text):\n",
    "    # lower case:\n",
    "    text = text.lower()\n",
    "    \n",
    "    # replace new line and return with space\n",
    "    text = text.replace(\"\\n\", \" \").replace(\"\\r\",\" \")\n",
    "    \n",
    "    # replace punctuation marks with space\n",
    "    punc_list = '#/<>@[\\]{}|^~'\n",
    "    t=str.maketrans(dict.fromkeys(punc_list, \"\"))\n",
    "    \n",
    "    return text\n",
    "\n",
    "comm_docs = [clean_text(doc) for doc in comm_docs]\n",
    "\n",
    "\n",
    "# Cleaning emojis\n",
    "def deEmojify(inputString):\n",
    "    return inputString.encode('ascii', 'ignore').decode('ascii')\n",
    "\n",
    "comm_docs = [deEmojify(doc) for doc in comm_docs]"
   ]
  },
  {
   "cell_type": "code",
   "execution_count": 15,
   "metadata": {},
   "outputs": [
    {
     "data": {
      "text/plain": [
       "['0:50 is that voice of zelda?',\n",
       " '@megacheese ',\n",
       " 'pink and red seem like good choices.  the dogs like both of them, red is really chill and pink likes to say hi and give kisses (so sweet).  red is really unique. pink has good relationships and is also unique (and bi-eyed).',\n",
       " \"that's not comparable, like, at all\",\n",
       " 'always love to chill and watch your videos. such a stress reliever! ']"
      ]
     },
     "execution_count": 15,
     "metadata": {},
     "output_type": "execute_result"
    }
   ],
   "source": [
    "comm_docs[0:5]"
   ]
  },
  {
   "cell_type": "markdown",
   "metadata": {},
   "source": [
    "### Load spaCy language model"
   ]
  },
  {
   "cell_type": "code",
   "execution_count": 16,
   "metadata": {},
   "outputs": [],
   "source": [
    "nlp2 = spacy.load(\"en_core_web_lg\")"
   ]
  },
  {
   "cell_type": "code",
   "execution_count": 18,
   "metadata": {},
   "outputs": [],
   "source": [
    "list_attrs = [\"ID\", \n",
    "              \"NORM\", \n",
    "              \"LOWER\", \n",
    "              \"SHAPE\",\n",
    "              \"PREFIX\", \n",
    "              \"SUFFIX\", \n",
    "              \"CLUSTER\", \n",
    "              \"LENGTH\", \n",
    "              \"POS\", \n",
    "              \"LEMMA\", \n",
    "              \"TAG\", \n",
    "              \"DEP\", \n",
    "              \"HEAD\", \n",
    "              \"ENT_IOB\", \n",
    "              \"ENT_TYPE\", \n",
    "              \"ENT_ID\", \n",
    "              \"ENT_KB_ID\", \n",
    "              \"SENT_START\"]"
   ]
  },
  {
   "cell_type": "code",
   "execution_count": 19,
   "metadata": {},
   "outputs": [
    {
     "ename": "ImportError",
     "evalue": "cannot import name 'DocBin' from 'spacy.tokens' (C:\\ProgramData\\Anaconda3\\envs\\insight\\lib\\site-packages\\spacy\\tokens\\__init__.py)",
     "output_type": "error",
     "traceback": [
      "\u001b[1;31m---------------------------------------------------------------------------\u001b[0m",
      "\u001b[1;31mImportError\u001b[0m                               Traceback (most recent call last)",
      "\u001b[1;32m<ipython-input-19-e096cf89b738>\u001b[0m in \u001b[0;36m<module>\u001b[1;34m\u001b[0m\n\u001b[1;32m----> 1\u001b[1;33m \u001b[1;32mfrom\u001b[0m \u001b[0mspacy\u001b[0m\u001b[1;33m.\u001b[0m\u001b[0mtokens\u001b[0m \u001b[1;32mimport\u001b[0m \u001b[0mDocBin\u001b[0m\u001b[1;33m\u001b[0m\u001b[1;33m\u001b[0m\u001b[0m\n\u001b[0m\u001b[0;32m      2\u001b[0m \u001b[0mdoc_bin\u001b[0m \u001b[1;33m=\u001b[0m \u001b[0mDocBin\u001b[0m\u001b[1;33m(\u001b[0m\u001b[0mattrs\u001b[0m\u001b[1;33m=\u001b[0m\u001b[0mlist_attrs\u001b[0m\u001b[1;33m)\u001b[0m\u001b[1;33m\u001b[0m\u001b[1;33m\u001b[0m\u001b[0m\n",
      "\u001b[1;31mImportError\u001b[0m: cannot import name 'DocBin' from 'spacy.tokens' (C:\\ProgramData\\Anaconda3\\envs\\insight\\lib\\site-packages\\spacy\\tokens\\__init__.py)"
     ]
    }
   ],
   "source": [
    "from spacy.tokens import DocBin\n",
    "doc_bin = DocBin(attrs=list_attrs)"
   ]
  },
  {
   "cell_type": "code",
   "execution_count": 21,
   "metadata": {},
   "outputs": [
    {
     "data": {
      "text/plain": [
       "935897"
      ]
     },
     "execution_count": 21,
     "metadata": {},
     "output_type": "execute_result"
    }
   ],
   "source": [
    "len(comms_df)"
   ]
  },
  {
   "cell_type": "code",
   "execution_count": null,
   "metadata": {},
   "outputs": [],
   "source": [
    "# Empty matrix\n",
    "comms_vec = np.zeros((len(comms_df),300))"
   ]
  },
  {
   "cell_type": "code",
   "execution_count": 22,
   "metadata": {},
   "outputs": [
    {
     "data": {
      "text/plain": [
       "10000"
      ]
     },
     "execution_count": 22,
     "metadata": {},
     "output_type": "execute_result"
    }
   ],
   "source": [
    "len(comm_docs)"
   ]
  },
  {
   "cell_type": "code",
   "execution_count": 23,
   "metadata": {},
   "outputs": [
    {
     "data": {
      "application/vnd.jupyter.widget-view+json": {
       "model_id": "571b01e4629442a5909cc4a59382aa37",
       "version_major": 2,
       "version_minor": 0
      },
      "text/plain": [
       "HBox(children=(FloatProgress(value=0.0, max=10000.0), HTML(value='')))"
      ]
     },
     "metadata": {},
     "output_type": "display_data"
    },
    {
     "name": "stdout",
     "output_type": "stream",
     "text": [
      "\n"
     ]
    }
   ],
   "source": [
    "spa_docs= []\n",
    "for doc in tqdm(comm_docs):\n",
    "    # Passes that article through the pipeline and adds to a new list.\n",
    "    pr = nlp2(doc)\n",
    "    spa_docs.append(pr)"
   ]
  },
  {
   "cell_type": "code",
   "execution_count": 192,
   "metadata": {},
   "outputs": [],
   "source": [
    "eg_doc = nlp2('canon')"
   ]
  },
  {
   "cell_type": "code",
   "execution_count": 193,
   "metadata": {},
   "outputs": [],
   "source": [
    "# Create a matrix of the search term/s doc:\n",
    "eg_vec = eg_doc.vector.reshape(1,-1)"
   ]
  },
  {
   "cell_type": "code",
   "execution_count": 194,
   "metadata": {},
   "outputs": [],
   "source": [
    "# Create a matrix of the database:\n",
    "\n",
    "# Empty matrix\n",
    "comms_vec = np.zeros((len(spa_docs),300))\n",
    "\n",
    "# Go through each doc and save the word2vec vector to the matrix:\n",
    "for idx,doc in enumerate(spa_docs):\n",
    "    comms_vec[idx] = doc.vector.reshape(1,-1)"
   ]
  },
  {
   "cell_type": "code",
   "execution_count": 195,
   "metadata": {},
   "outputs": [],
   "source": [
    "from sklearn.metrics.pairwise import cosine_similarity"
   ]
  },
  {
   "cell_type": "code",
   "execution_count": 196,
   "metadata": {},
   "outputs": [],
   "source": [
    "sim_mat = cosine_similarity(eg_vec,comms_vec)"
   ]
  },
  {
   "cell_type": "code",
   "execution_count": 197,
   "metadata": {},
   "outputs": [
    {
     "data": {
      "text/plain": [
       "10000"
      ]
     },
     "execution_count": 197,
     "metadata": {},
     "output_type": "execute_result"
    }
   ],
   "source": [
    "len(sim_mat[0])"
   ]
  },
  {
   "cell_type": "code",
   "execution_count": 209,
   "metadata": {},
   "outputs": [],
   "source": [
    "tf_ar = sim_mat > 0.35"
   ]
  },
  {
   "cell_type": "code",
   "execution_count": 210,
   "metadata": {},
   "outputs": [],
   "source": [
    "result = [(sim_mat[0][idx],x) for idx,x in enumerate(spa_docs) if tf_ar[0][idx]]"
   ]
  },
  {
   "cell_type": "code",
   "execution_count": 211,
   "metadata": {},
   "outputs": [],
   "source": [
    "def getKey(item):\n",
    "    return item[0]"
   ]
  },
  {
   "cell_type": "code",
   "execution_count": 212,
   "metadata": {},
   "outputs": [],
   "source": [
    "srt_result = sorted(result, key=getKey, reverse=True)"
   ]
  },
  {
   "cell_type": "code",
   "execution_count": 213,
   "metadata": {
    "scrolled": false
   },
   "outputs": [
    {
     "name": "stdout",
     "output_type": "stream",
     "text": [
      "0.4205289471920324\n",
      "i would love to see your review of the canon eosr!\n",
      "\n",
      "\n",
      "0.3987104587629539\n",
      "you say about beautifully peter, also yes do a review on the eos rp\n",
      "\n",
      "\n",
      "0.37363115084355597\n",
      "love from hp\n",
      "\n",
      "\n",
      "0.36348023352497266\n",
      "amazing :). the macro lens is super cool\n",
      "\n",
      "\n",
      "0.36098596288225115\n",
      "@baby yoda yt kaylee no.. not scanner, scummy.\n",
      "\n",
      "\n",
      "0.3583458510817653\n",
      "well now i wanna buy the mavic zoom...\n",
      "\n",
      "\n",
      "0.356971343041984\n",
      "harry potter crafts *hawaii* idk why yall getting hawaii wrong\n",
      "\n",
      "\n",
      "0.3541878840378725\n",
      "this movie is clearly pro mushroom, anti laptop propaganda\n",
      "\n",
      "\n"
     ]
    }
   ],
   "source": [
    "for sim,res in srt_result:\n",
    "    print(sim)\n",
    "    print(res)\n",
    "    print('\\n')"
   ]
  },
  {
   "cell_type": "markdown",
   "metadata": {},
   "source": [
    "Connecting now with the channel it is from:"
   ]
  },
  {
   "cell_type": "code",
   "execution_count": 214,
   "metadata": {},
   "outputs": [
    {
     "data": {
      "text/html": [
       "<div>\n",
       "<style scoped>\n",
       "    .dataframe tbody tr th:only-of-type {\n",
       "        vertical-align: middle;\n",
       "    }\n",
       "\n",
       "    .dataframe tbody tr th {\n",
       "        vertical-align: top;\n",
       "    }\n",
       "\n",
       "    .dataframe thead th {\n",
       "        text-align: right;\n",
       "    }\n",
       "</style>\n",
       "<table border=\"1\" class=\"dataframe\">\n",
       "  <thead>\n",
       "    <tr style=\"text-align: right;\">\n",
       "      <th></th>\n",
       "      <th>CommID</th>\n",
       "      <th>authorChannelId</th>\n",
       "      <th>authorChannelUrl</th>\n",
       "      <th>authorDisplayName</th>\n",
       "      <th>authorProfileImageUrl</th>\n",
       "      <th>canRate</th>\n",
       "      <th>likeCount</th>\n",
       "      <th>moderationStatus</th>\n",
       "      <th>parentId</th>\n",
       "      <th>publishedAt</th>\n",
       "      <th>textDisplay</th>\n",
       "      <th>textOriginal</th>\n",
       "      <th>updatedAt</th>\n",
       "      <th>videoId</th>\n",
       "      <th>viewerRating</th>\n",
       "    </tr>\n",
       "  </thead>\n",
       "  <tbody>\n",
       "    <tr>\n",
       "      <th>56716</th>\n",
       "      <td>Ugwsgdqe1yH54Fa1T554AaABAg</td>\n",
       "      <td>{'value': 'UC26SB-Czj1sEtf8MEQhNDgw'}</td>\n",
       "      <td>http://www.youtube.com/channel/UC26SB-Czj1sEtf...</td>\n",
       "      <td>Curtis Distaso</td>\n",
       "      <td>https://yt3.ggpht.com/a/AGF-l7_XtppEwRg-zCKzLl...</td>\n",
       "      <td>True</td>\n",
       "      <td>9</td>\n",
       "      <td>NaN</td>\n",
       "      <td>0</td>\n",
       "      <td>2019-12-02T23:25:20.000Z</td>\n",
       "      <td>You say about beautifully Peter, also yes do a...</td>\n",
       "      <td>You say about beautifully Peter, also yes do a...</td>\n",
       "      <td>2019-12-02T23:25:20.000Z</td>\n",
       "      <td>eKfpM4cBfwo</td>\n",
       "      <td>none</td>\n",
       "    </tr>\n",
       "    <tr>\n",
       "      <th>56741</th>\n",
       "      <td>UgxkIWtrFI_Vf1OQC_J4AaABAg</td>\n",
       "      <td>{'value': 'UCt238tWsYad5PLMjumUl0oQ'}</td>\n",
       "      <td>http://www.youtube.com/channel/UCt238tWsYad5PL...</td>\n",
       "      <td>Ben Gathercole</td>\n",
       "      <td>https://yt3.ggpht.com/a/AGF-l7-JdmJ7lFP_J0mhWq...</td>\n",
       "      <td>True</td>\n",
       "      <td>0</td>\n",
       "      <td>NaN</td>\n",
       "      <td>0</td>\n",
       "      <td>2019-12-04T09:02:47.000Z</td>\n",
       "      <td>I would LOVE to see your review of the Canon E...</td>\n",
       "      <td>I would LOVE to see your review of the Canon E...</td>\n",
       "      <td>2019-12-04T09:02:47.000Z</td>\n",
       "      <td>eKfpM4cBfwo</td>\n",
       "      <td>none</td>\n",
       "    </tr>\n",
       "    <tr>\n",
       "      <th>58228</th>\n",
       "      <td>Ugz-NMnVjI-VBtTUYNV4AaABAg</td>\n",
       "      <td>{'value': 'UCNh_vWHfHBwblVPNDYaZcWQ'}</td>\n",
       "      <td>http://www.youtube.com/channel/UCNh_vWHfHBwblV...</td>\n",
       "      <td>Omri Leshem</td>\n",
       "      <td>https://yt3.ggpht.com/a/AGF-l79KwnCchcQ8qg-nAw...</td>\n",
       "      <td>True</td>\n",
       "      <td>1</td>\n",
       "      <td>NaN</td>\n",
       "      <td>0</td>\n",
       "      <td>2019-10-30T18:54:02.000Z</td>\n",
       "      <td>Well now i wanna buy the Mavic Zoom...</td>\n",
       "      <td>Well now i wanna buy the Mavic Zoom...</td>\n",
       "      <td>2019-10-30T18:54:02.000Z</td>\n",
       "      <td>luNn6ovoKVw</td>\n",
       "      <td>none</td>\n",
       "    </tr>\n",
       "    <tr>\n",
       "      <th>304938</th>\n",
       "      <td>Ugz5zPbIdCeEfnvlan14AaABAg</td>\n",
       "      <td>{'value': 'UCuJNw8K9ZeqP3tICWcN4WWA'}</td>\n",
       "      <td>http://www.youtube.com/channel/UCuJNw8K9ZeqP3t...</td>\n",
       "      <td>Kath Flynn</td>\n",
       "      <td>https://yt3.ggpht.com/a/AGF-l79YbeCyNFpJYqMdYo...</td>\n",
       "      <td>True</td>\n",
       "      <td>4450</td>\n",
       "      <td>NaN</td>\n",
       "      <td>0</td>\n",
       "      <td>2019-06-01T01:53:47.000Z</td>\n",
       "      <td>This movie is clearly pro mushroom, anti lapto...</td>\n",
       "      <td>This movie is clearly pro mushroom, anti lapto...</td>\n",
       "      <td>2019-06-01T01:53:47.000Z</td>\n",
       "      <td>q9VkIgFmxuk</td>\n",
       "      <td>none</td>\n",
       "    </tr>\n",
       "    <tr>\n",
       "      <th>259825</th>\n",
       "      <td>UgwQaxL8bbytoRHPvvh4AaABAg</td>\n",
       "      <td>{'value': 'UCS7brNNtNbqasPit5dI0EvQ'}</td>\n",
       "      <td>http://www.youtube.com/channel/UCS7brNNtNbqasP...</td>\n",
       "      <td>Violet Bird</td>\n",
       "      <td>https://yt3.ggpht.com/a/AGF-l78ylVH9sQEMIi20Tv...</td>\n",
       "      <td>True</td>\n",
       "      <td>0</td>\n",
       "      <td>NaN</td>\n",
       "      <td>0</td>\n",
       "      <td>2020-01-23T22:34:31.000Z</td>\n",
       "      <td>Amazing :). The macro lens is super cool</td>\n",
       "      <td>Amazing :). The macro lens is super cool</td>\n",
       "      <td>2020-01-23T22:34:31.000Z</td>\n",
       "      <td>DiSuDhIxk88</td>\n",
       "      <td>none</td>\n",
       "    </tr>\n",
       "    <tr>\n",
       "      <th>725017</th>\n",
       "      <td>Ugz715Bh1kVfEhJkahN4AaABAg.932rvxtw-hy933G6jNL680</td>\n",
       "      <td>{'value': 'UCNMxVgLQZZn4H3X8DZwJrpA'}</td>\n",
       "      <td>http://www.youtube.com/channel/UCNMxVgLQZZn4H3...</td>\n",
       "      <td>Alexa Cabello</td>\n",
       "      <td>https://yt3.ggpht.com/a/AGF-l7_1hckVeH0H-JmwaV...</td>\n",
       "      <td>True</td>\n",
       "      <td>1</td>\n",
       "      <td>NaN</td>\n",
       "      <td>Ugz715Bh1kVfEhJkahN4AaABAg</td>\n",
       "      <td>2019-12-27T20:50:35.000Z</td>\n",
       "      <td>Harry Potter Crafts *Hawaii* idk why yall gett...</td>\n",
       "      <td>Harry Potter Crafts *Hawaii* idk why yall gett...</td>\n",
       "      <td>2019-12-27T20:50:35.000Z</td>\n",
       "      <td>_B5OZzydoJU</td>\n",
       "      <td>none</td>\n",
       "    </tr>\n",
       "    <tr>\n",
       "      <th>137273</th>\n",
       "      <td>UgwXMJQnCnqmi6Xu1Xl4AaABAg</td>\n",
       "      <td>{'value': 'UCedmGfBktNiFYa9w30DFH4g'}</td>\n",
       "      <td>http://www.youtube.com/channel/UCedmGfBktNiFYa...</td>\n",
       "      <td>ajay sharma</td>\n",
       "      <td>https://yt3.ggpht.com/a/AGF-l78D56QuU7uJ_F3s9h...</td>\n",
       "      <td>True</td>\n",
       "      <td>0</td>\n",
       "      <td>NaN</td>\n",
       "      <td>0</td>\n",
       "      <td>2020-01-07T14:32:06.000Z</td>\n",
       "      <td>Love from hp❤️❤️❤️</td>\n",
       "      <td>Love from hp❤️❤️❤️</td>\n",
       "      <td>2020-01-07T14:32:06.000Z</td>\n",
       "      <td>RgLP01RuL_M</td>\n",
       "      <td>none</td>\n",
       "    </tr>\n",
       "    <tr>\n",
       "      <th>538627</th>\n",
       "      <td>Ugwf46AQ_D9qgU4Pz-Z4AaABAg.948_xQocvHH948xVHCC29e</td>\n",
       "      <td>{'value': 'UCpLojdmXIKurqQiVUr8bYSw'}</td>\n",
       "      <td>http://www.youtube.com/channel/UCpLojdmXIKurqQ...</td>\n",
       "      <td>ARE</td>\n",
       "      <td>https://yt3.ggpht.com/a/AGF-l7_FEJEClF26PgGd1h...</td>\n",
       "      <td>True</td>\n",
       "      <td>1</td>\n",
       "      <td>NaN</td>\n",
       "      <td>Ugwf46AQ_D9qgU4Pz-Z4AaABAg</td>\n",
       "      <td>2020-01-23T22:26:00.000Z</td>\n",
       "      <td>@Baby Yoda YT Kaylee no.. Not scanner, scummy.</td>\n",
       "      <td>@Baby Yoda YT Kaylee no.. Not scanner, scummy.</td>\n",
       "      <td>2020-01-23T22:26:00.000Z</td>\n",
       "      <td>hCa_ddzU6w4</td>\n",
       "      <td>none</td>\n",
       "    </tr>\n",
       "  </tbody>\n",
       "</table>\n",
       "</div>"
      ],
      "text/plain": [
       "                                                   CommID  \\\n",
       "56716                          Ugwsgdqe1yH54Fa1T554AaABAg   \n",
       "56741                          UgxkIWtrFI_Vf1OQC_J4AaABAg   \n",
       "58228                          Ugz-NMnVjI-VBtTUYNV4AaABAg   \n",
       "304938                         Ugz5zPbIdCeEfnvlan14AaABAg   \n",
       "259825                         UgwQaxL8bbytoRHPvvh4AaABAg   \n",
       "725017  Ugz715Bh1kVfEhJkahN4AaABAg.932rvxtw-hy933G6jNL680   \n",
       "137273                         UgwXMJQnCnqmi6Xu1Xl4AaABAg   \n",
       "538627  Ugwf46AQ_D9qgU4Pz-Z4AaABAg.948_xQocvHH948xVHCC29e   \n",
       "\n",
       "                              authorChannelId  \\\n",
       "56716   {'value': 'UC26SB-Czj1sEtf8MEQhNDgw'}   \n",
       "56741   {'value': 'UCt238tWsYad5PLMjumUl0oQ'}   \n",
       "58228   {'value': 'UCNh_vWHfHBwblVPNDYaZcWQ'}   \n",
       "304938  {'value': 'UCuJNw8K9ZeqP3tICWcN4WWA'}   \n",
       "259825  {'value': 'UCS7brNNtNbqasPit5dI0EvQ'}   \n",
       "725017  {'value': 'UCNMxVgLQZZn4H3X8DZwJrpA'}   \n",
       "137273  {'value': 'UCedmGfBktNiFYa9w30DFH4g'}   \n",
       "538627  {'value': 'UCpLojdmXIKurqQiVUr8bYSw'}   \n",
       "\n",
       "                                         authorChannelUrl authorDisplayName  \\\n",
       "56716   http://www.youtube.com/channel/UC26SB-Czj1sEtf...    Curtis Distaso   \n",
       "56741   http://www.youtube.com/channel/UCt238tWsYad5PL...    Ben Gathercole   \n",
       "58228   http://www.youtube.com/channel/UCNh_vWHfHBwblV...       Omri Leshem   \n",
       "304938  http://www.youtube.com/channel/UCuJNw8K9ZeqP3t...        Kath Flynn   \n",
       "259825  http://www.youtube.com/channel/UCS7brNNtNbqasP...       Violet Bird   \n",
       "725017  http://www.youtube.com/channel/UCNMxVgLQZZn4H3...     Alexa Cabello   \n",
       "137273  http://www.youtube.com/channel/UCedmGfBktNiFYa...       ajay sharma   \n",
       "538627  http://www.youtube.com/channel/UCpLojdmXIKurqQ...               ARE   \n",
       "\n",
       "                                    authorProfileImageUrl  canRate  likeCount  \\\n",
       "56716   https://yt3.ggpht.com/a/AGF-l7_XtppEwRg-zCKzLl...     True          9   \n",
       "56741   https://yt3.ggpht.com/a/AGF-l7-JdmJ7lFP_J0mhWq...     True          0   \n",
       "58228   https://yt3.ggpht.com/a/AGF-l79KwnCchcQ8qg-nAw...     True          1   \n",
       "304938  https://yt3.ggpht.com/a/AGF-l79YbeCyNFpJYqMdYo...     True       4450   \n",
       "259825  https://yt3.ggpht.com/a/AGF-l78ylVH9sQEMIi20Tv...     True          0   \n",
       "725017  https://yt3.ggpht.com/a/AGF-l7_1hckVeH0H-JmwaV...     True          1   \n",
       "137273  https://yt3.ggpht.com/a/AGF-l78D56QuU7uJ_F3s9h...     True          0   \n",
       "538627  https://yt3.ggpht.com/a/AGF-l7_FEJEClF26PgGd1h...     True          1   \n",
       "\n",
       "       moderationStatus                    parentId               publishedAt  \\\n",
       "56716               NaN                           0  2019-12-02T23:25:20.000Z   \n",
       "56741               NaN                           0  2019-12-04T09:02:47.000Z   \n",
       "58228               NaN                           0  2019-10-30T18:54:02.000Z   \n",
       "304938              NaN                           0  2019-06-01T01:53:47.000Z   \n",
       "259825              NaN                           0  2020-01-23T22:34:31.000Z   \n",
       "725017              NaN  Ugz715Bh1kVfEhJkahN4AaABAg  2019-12-27T20:50:35.000Z   \n",
       "137273              NaN                           0  2020-01-07T14:32:06.000Z   \n",
       "538627              NaN  Ugwf46AQ_D9qgU4Pz-Z4AaABAg  2020-01-23T22:26:00.000Z   \n",
       "\n",
       "                                              textDisplay  \\\n",
       "56716   You say about beautifully Peter, also yes do a...   \n",
       "56741   I would LOVE to see your review of the Canon E...   \n",
       "58228              Well now i wanna buy the Mavic Zoom...   \n",
       "304938  This movie is clearly pro mushroom, anti lapto...   \n",
       "259825           Amazing :). The macro lens is super cool   \n",
       "725017  Harry Potter Crafts *Hawaii* idk why yall gett...   \n",
       "137273                                 Love from hp❤️❤️❤️   \n",
       "538627     @Baby Yoda YT Kaylee no.. Not scanner, scummy.   \n",
       "\n",
       "                                             textOriginal  \\\n",
       "56716   You say about beautifully Peter, also yes do a...   \n",
       "56741   I would LOVE to see your review of the Canon E...   \n",
       "58228              Well now i wanna buy the Mavic Zoom...   \n",
       "304938  This movie is clearly pro mushroom, anti lapto...   \n",
       "259825           Amazing :). The macro lens is super cool   \n",
       "725017  Harry Potter Crafts *Hawaii* idk why yall gett...   \n",
       "137273                                 Love from hp❤️❤️❤️   \n",
       "538627     @Baby Yoda YT Kaylee no.. Not scanner, scummy.   \n",
       "\n",
       "                       updatedAt      videoId viewerRating  \n",
       "56716   2019-12-02T23:25:20.000Z  eKfpM4cBfwo         none  \n",
       "56741   2019-12-04T09:02:47.000Z  eKfpM4cBfwo         none  \n",
       "58228   2019-10-30T18:54:02.000Z  luNn6ovoKVw         none  \n",
       "304938  2019-06-01T01:53:47.000Z  q9VkIgFmxuk         none  \n",
       "259825  2020-01-23T22:34:31.000Z  DiSuDhIxk88         none  \n",
       "725017  2019-12-27T20:50:35.000Z  _B5OZzydoJU         none  \n",
       "137273  2020-01-07T14:32:06.000Z  RgLP01RuL_M         none  \n",
       "538627  2020-01-23T22:26:00.000Z  hCa_ddzU6w4         none  "
      ]
     },
     "execution_count": 214,
     "metadata": {},
     "output_type": "execute_result"
    }
   ],
   "source": [
    "docs_samp_df[tf_ar[0]]"
   ]
  },
  {
   "cell_type": "code",
   "execution_count": 215,
   "metadata": {},
   "outputs": [
    {
     "data": {
      "text/plain": [
       "['DiSuDhIxk88',\n",
       " 'RgLP01RuL_M',\n",
       " '_B5OZzydoJU',\n",
       " 'eKfpM4cBfwo',\n",
       " 'eKfpM4cBfwo',\n",
       " 'hCa_ddzU6w4',\n",
       " 'luNn6ovoKVw',\n",
       " 'q9VkIgFmxuk']"
      ]
     },
     "execution_count": 215,
     "metadata": {},
     "output_type": "execute_result"
    }
   ],
   "source": [
    "sorted(docs_samp_df[tf_ar[0]]['videoId'])"
   ]
  },
  {
   "cell_type": "code",
   "execution_count": null,
   "metadata": {},
   "outputs": [],
   "source": [
    "vids_df"
   ]
  },
  {
   "cell_type": "code",
   "execution_count": 216,
   "metadata": {},
   "outputs": [
    {
     "data": {
      "text/html": [
       "<div>\n",
       "<style scoped>\n",
       "    .dataframe tbody tr th:only-of-type {\n",
       "        vertical-align: middle;\n",
       "    }\n",
       "\n",
       "    .dataframe tbody tr th {\n",
       "        vertical-align: top;\n",
       "    }\n",
       "\n",
       "    .dataframe thead th {\n",
       "        text-align: right;\n",
       "    }\n",
       "</style>\n",
       "<table border=\"1\" class=\"dataframe\">\n",
       "  <thead>\n",
       "    <tr style=\"text-align: right;\">\n",
       "      <th></th>\n",
       "      <th>Unnamed: 0.1</th>\n",
       "      <th>VidID</th>\n",
       "      <th>ChannelID</th>\n",
       "      <th>VidTitle</th>\n",
       "      <th>VidDescription</th>\n",
       "      <th>VidPublished</th>\n",
       "      <th>viewCount</th>\n",
       "      <th>likeCount</th>\n",
       "      <th>dislikeCount</th>\n",
       "      <th>favoriteCount</th>\n",
       "      <th>commentCount</th>\n",
       "    </tr>\n",
       "  </thead>\n",
       "  <tbody>\n",
       "    <tr>\n",
       "      <th>370</th>\n",
       "      <td>370</td>\n",
       "      <td>eKfpM4cBfwo</td>\n",
       "      <td>UC3DkFux8Iv-aYnTRWzwaiBA</td>\n",
       "      <td>WHAT TO BUY A PHOTOGRAPHER 2019 (or yourself)</td>\n",
       "      <td>BUCKET SHOT COFFEE BOX : https://bit.ly/2RaDjv...</td>\n",
       "      <td>2019-12-02T21:43:57.000Z</td>\n",
       "      <td>530562.0</td>\n",
       "      <td>22519.0</td>\n",
       "      <td>623.0</td>\n",
       "      <td>0.0</td>\n",
       "      <td>2679.0</td>\n",
       "    </tr>\n",
       "    <tr>\n",
       "      <th>376</th>\n",
       "      <td>376</td>\n",
       "      <td>luNn6ovoKVw</td>\n",
       "      <td>UC3DkFux8Iv-aYnTRWzwaiBA</td>\n",
       "      <td>Mavic Mini - How small will these ACTUALLY get?</td>\n",
       "      <td>Mavic Mini : https://click.dji.com/AAoEWQel7JG...</td>\n",
       "      <td>2019-10-30T13:01:11.000Z</td>\n",
       "      <td>496868.0</td>\n",
       "      <td>18915.0</td>\n",
       "      <td>281.0</td>\n",
       "      <td>0.0</td>\n",
       "      <td>1592.0</td>\n",
       "    </tr>\n",
       "    <tr>\n",
       "      <th>935</th>\n",
       "      <td>935</td>\n",
       "      <td>RgLP01RuL_M</td>\n",
       "      <td>UC15sF31QE-7rooIlSKnTq_w</td>\n",
       "      <td>I AM NOT PAKISTANI 🇮🇳</td>\n",
       "      <td>This vlog is about 1 Million Celebration and m...</td>\n",
       "      <td>2019-12-29T15:24:01.000Z</td>\n",
       "      <td>388111.0</td>\n",
       "      <td>40586.0</td>\n",
       "      <td>787.0</td>\n",
       "      <td>0.0</td>\n",
       "      <td>3202.0</td>\n",
       "    </tr>\n",
       "    <tr>\n",
       "      <th>3290</th>\n",
       "      <td>3290</td>\n",
       "      <td>DiSuDhIxk88</td>\n",
       "      <td>UCey_c7U86mJGz1VJWH5CYPA</td>\n",
       "      <td>Top iPhone Accessories For Making Videos!</td>\n",
       "      <td>Showing you guys some of my favorite iPhone ac...</td>\n",
       "      <td>2020-01-23T18:14:47.000Z</td>\n",
       "      <td>158586.0</td>\n",
       "      <td>7483.0</td>\n",
       "      <td>142.0</td>\n",
       "      <td>0.0</td>\n",
       "      <td>465.0</td>\n",
       "    </tr>\n",
       "    <tr>\n",
       "      <th>3320</th>\n",
       "      <td>3320</td>\n",
       "      <td>hCa_ddzU6w4</td>\n",
       "      <td>UCTSRIY3GLFYIpkR2QwyeklA</td>\n",
       "      <td>Revisiting Jake Paul's Team 1000 Scam</td>\n",
       "      <td>Go to https://expressvpn.com/drew, to take bac...</td>\n",
       "      <td>2020-01-23T17:47:56.000Z</td>\n",
       "      <td>1633792.0</td>\n",
       "      <td>121294.0</td>\n",
       "      <td>711.0</td>\n",
       "      <td>0.0</td>\n",
       "      <td>5401.0</td>\n",
       "    </tr>\n",
       "    <tr>\n",
       "      <th>3405</th>\n",
       "      <td>3405</td>\n",
       "      <td>q9VkIgFmxuk</td>\n",
       "      <td>UC7zsxKqd5MicTf4VhS9Y74g</td>\n",
       "      <td>Fateful Findings: An Extremely Weird Movie</td>\n",
       "      <td>Go to https://zebit.com/kurtistown for up to $...</td>\n",
       "      <td>2019-05-31T19:00:11.000Z</td>\n",
       "      <td>1845485.0</td>\n",
       "      <td>114820.0</td>\n",
       "      <td>467.0</td>\n",
       "      <td>0.0</td>\n",
       "      <td>9702.0</td>\n",
       "    </tr>\n",
       "    <tr>\n",
       "      <th>3989</th>\n",
       "      <td>3989</td>\n",
       "      <td>_B5OZzydoJU</td>\n",
       "      <td>UCrbSjN1_5U7hqFKRA0nvFXQ</td>\n",
       "      <td>COLLEEN BALLINGER'S CHRISTMAS SPECIAL 2019!</td>\n",
       "      <td>Come see me on tour! - http://mirandasings.com...</td>\n",
       "      <td>2019-12-27T17:00:06.000Z</td>\n",
       "      <td>723713.0</td>\n",
       "      <td>31676.0</td>\n",
       "      <td>512.0</td>\n",
       "      <td>0.0</td>\n",
       "      <td>2393.0</td>\n",
       "    </tr>\n",
       "  </tbody>\n",
       "</table>\n",
       "</div>"
      ],
      "text/plain": [
       "      Unnamed: 0.1        VidID                 ChannelID  \\\n",
       "370            370  eKfpM4cBfwo  UC3DkFux8Iv-aYnTRWzwaiBA   \n",
       "376            376  luNn6ovoKVw  UC3DkFux8Iv-aYnTRWzwaiBA   \n",
       "935            935  RgLP01RuL_M  UC15sF31QE-7rooIlSKnTq_w   \n",
       "3290          3290  DiSuDhIxk88  UCey_c7U86mJGz1VJWH5CYPA   \n",
       "3320          3320  hCa_ddzU6w4  UCTSRIY3GLFYIpkR2QwyeklA   \n",
       "3405          3405  q9VkIgFmxuk  UC7zsxKqd5MicTf4VhS9Y74g   \n",
       "3989          3989  _B5OZzydoJU  UCrbSjN1_5U7hqFKRA0nvFXQ   \n",
       "\n",
       "                                             VidTitle  \\\n",
       "370     WHAT TO BUY A PHOTOGRAPHER 2019 (or yourself)   \n",
       "376   Mavic Mini - How small will these ACTUALLY get?   \n",
       "935                             I AM NOT PAKISTANI 🇮🇳   \n",
       "3290        Top iPhone Accessories For Making Videos!   \n",
       "3320            Revisiting Jake Paul's Team 1000 Scam   \n",
       "3405       Fateful Findings: An Extremely Weird Movie   \n",
       "3989      COLLEEN BALLINGER'S CHRISTMAS SPECIAL 2019!   \n",
       "\n",
       "                                         VidDescription  \\\n",
       "370   BUCKET SHOT COFFEE BOX : https://bit.ly/2RaDjv...   \n",
       "376   Mavic Mini : https://click.dji.com/AAoEWQel7JG...   \n",
       "935   This vlog is about 1 Million Celebration and m...   \n",
       "3290  Showing you guys some of my favorite iPhone ac...   \n",
       "3320  Go to https://expressvpn.com/drew, to take bac...   \n",
       "3405  Go to https://zebit.com/kurtistown for up to $...   \n",
       "3989  Come see me on tour! - http://mirandasings.com...   \n",
       "\n",
       "                  VidPublished  viewCount  likeCount  dislikeCount  \\\n",
       "370   2019-12-02T21:43:57.000Z   530562.0    22519.0         623.0   \n",
       "376   2019-10-30T13:01:11.000Z   496868.0    18915.0         281.0   \n",
       "935   2019-12-29T15:24:01.000Z   388111.0    40586.0         787.0   \n",
       "3290  2020-01-23T18:14:47.000Z   158586.0     7483.0         142.0   \n",
       "3320  2020-01-23T17:47:56.000Z  1633792.0   121294.0         711.0   \n",
       "3405  2019-05-31T19:00:11.000Z  1845485.0   114820.0         467.0   \n",
       "3989  2019-12-27T17:00:06.000Z   723713.0    31676.0         512.0   \n",
       "\n",
       "      favoriteCount  commentCount  \n",
       "370             0.0        2679.0  \n",
       "376             0.0        1592.0  \n",
       "935             0.0        3202.0  \n",
       "3290            0.0         465.0  \n",
       "3320            0.0        5401.0  \n",
       "3405            0.0        9702.0  \n",
       "3989            0.0        2393.0  "
      ]
     },
     "execution_count": 216,
     "metadata": {},
     "output_type": "execute_result"
    }
   ],
   "source": [
    "vids_df.loc[vids_df['VidID'].isin(sorted(docs_samp_df[tf_ar[0]]['videoId']))]"
   ]
  },
  {
   "cell_type": "code",
   "execution_count": 218,
   "metadata": {},
   "outputs": [
    {
     "data": {
      "text/plain": [
       "370     UC3DkFux8Iv-aYnTRWzwaiBA\n",
       "376     UC3DkFux8Iv-aYnTRWzwaiBA\n",
       "935     UC15sF31QE-7rooIlSKnTq_w\n",
       "3290    UCey_c7U86mJGz1VJWH5CYPA\n",
       "3320    UCTSRIY3GLFYIpkR2QwyeklA\n",
       "3405    UC7zsxKqd5MicTf4VhS9Y74g\n",
       "3989    UCrbSjN1_5U7hqFKRA0nvFXQ\n",
       "Name: ChannelID, dtype: object"
      ]
     },
     "execution_count": 218,
     "metadata": {},
     "output_type": "execute_result"
    }
   ],
   "source": [
    "vids_df.loc[vids_df['VidID'].isin(sorted(docs_samp_df[tf_ar[0]]['videoId']))]['ChannelID']"
   ]
  },
  {
   "cell_type": "markdown",
   "metadata": {},
   "source": [
    "Just realised I don't have the channels information, but it would follow the pattern as above"
   ]
  },
  {
   "cell_type": "markdown",
   "metadata": {},
   "source": [
    "Need to start processing the word embeddings for tomorrow"
   ]
  },
  {
   "cell_type": "code",
   "execution_count": 220,
   "metadata": {},
   "outputs": [],
   "source": [
    "all_comm_docs = comms_df['textDisplay']"
   ]
  },
  {
   "cell_type": "code",
   "execution_count": 221,
   "metadata": {},
   "outputs": [
    {
     "data": {
      "text/plain": [
       "935897"
      ]
     },
     "execution_count": 221,
     "metadata": {},
     "output_type": "execute_result"
    }
   ],
   "source": [
    "len(all_comm_docs)"
   ]
  },
  {
   "cell_type": "code",
   "execution_count": 223,
   "metadata": {},
   "outputs": [
    {
     "data": {
      "application/vnd.jupyter.widget-view+json": {
       "model_id": "6df73b1eca944c6b8a3957c8a24cef9e",
       "version_major": 2,
       "version_minor": 0
      },
      "text/plain": [
       "HBox(children=(FloatProgress(value=0.0, max=10000.0), HTML(value='')))"
      ]
     },
     "metadata": {},
     "output_type": "display_data"
    },
    {
     "name": "stdout",
     "output_type": "stream",
     "text": [
      "\n"
     ]
    },
    {
     "data": {
      "application/vnd.jupyter.widget-view+json": {
       "model_id": "03efbf808b5c40c69e18a7fc00df9c24",
       "version_major": 2,
       "version_minor": 0
      },
      "text/plain": [
       "HBox(children=(FloatProgress(value=0.0, max=10000.0), HTML(value='')))"
      ]
     },
     "metadata": {},
     "output_type": "display_data"
    },
    {
     "name": "stdout",
     "output_type": "stream",
     "text": [
      "\n"
     ]
    },
    {
     "data": {
      "application/vnd.jupyter.widget-view+json": {
       "model_id": "4867c1a6b88b47739c29ed8aaadc9c70",
       "version_major": 2,
       "version_minor": 0
      },
      "text/plain": [
       "HBox(children=(FloatProgress(value=0.0, max=10000.0), HTML(value='')))"
      ]
     },
     "metadata": {},
     "output_type": "display_data"
    },
    {
     "name": "stdout",
     "output_type": "stream",
     "text": [
      "\n"
     ]
    },
    {
     "data": {
      "application/vnd.jupyter.widget-view+json": {
       "model_id": "b493c9f36f774eca962d5d75e70f23fc",
       "version_major": 2,
       "version_minor": 0
      },
      "text/plain": [
       "HBox(children=(FloatProgress(value=0.0, max=10000.0), HTML(value='')))"
      ]
     },
     "metadata": {},
     "output_type": "display_data"
    },
    {
     "name": "stdout",
     "output_type": "stream",
     "text": [
      "\n"
     ]
    },
    {
     "data": {
      "application/vnd.jupyter.widget-view+json": {
       "model_id": "e491dad4488d4d8abb952ad90aeade7b",
       "version_major": 2,
       "version_minor": 0
      },
      "text/plain": [
       "HBox(children=(FloatProgress(value=0.0, max=10000.0), HTML(value='')))"
      ]
     },
     "metadata": {},
     "output_type": "display_data"
    },
    {
     "name": "stdout",
     "output_type": "stream",
     "text": [
      "\n"
     ]
    },
    {
     "data": {
      "application/vnd.jupyter.widget-view+json": {
       "model_id": "07516f6e020a4921bee361c452b25d92",
       "version_major": 2,
       "version_minor": 0
      },
      "text/plain": [
       "HBox(children=(FloatProgress(value=0.0, max=10000.0), HTML(value='')))"
      ]
     },
     "metadata": {},
     "output_type": "display_data"
    },
    {
     "name": "stdout",
     "output_type": "stream",
     "text": [
      "\n"
     ]
    },
    {
     "data": {
      "application/vnd.jupyter.widget-view+json": {
       "model_id": "f1afc7cd70404f1a93d29182a867195b",
       "version_major": 2,
       "version_minor": 0
      },
      "text/plain": [
       "HBox(children=(FloatProgress(value=0.0, max=10000.0), HTML(value='')))"
      ]
     },
     "metadata": {},
     "output_type": "display_data"
    },
    {
     "name": "stdout",
     "output_type": "stream",
     "text": [
      "\n"
     ]
    },
    {
     "data": {
      "application/vnd.jupyter.widget-view+json": {
       "model_id": "9c86ecc36e5b4221adf8de5d3b288787",
       "version_major": 2,
       "version_minor": 0
      },
      "text/plain": [
       "HBox(children=(FloatProgress(value=0.0, max=10000.0), HTML(value='')))"
      ]
     },
     "metadata": {},
     "output_type": "display_data"
    },
    {
     "name": "stdout",
     "output_type": "stream",
     "text": [
      "\n"
     ]
    },
    {
     "data": {
      "application/vnd.jupyter.widget-view+json": {
       "model_id": "d67db6fc1c4a4b41b8d6dbdd9430d082",
       "version_major": 2,
       "version_minor": 0
      },
      "text/plain": [
       "HBox(children=(FloatProgress(value=0.0, max=10000.0), HTML(value='')))"
      ]
     },
     "metadata": {},
     "output_type": "display_data"
    },
    {
     "name": "stdout",
     "output_type": "stream",
     "text": [
      "\n"
     ]
    },
    {
     "data": {
      "application/vnd.jupyter.widget-view+json": {
       "model_id": "529e033853dc40ee80c30db2fea533d0",
       "version_major": 2,
       "version_minor": 0
      },
      "text/plain": [
       "HBox(children=(FloatProgress(value=0.0, max=10000.0), HTML(value='')))"
      ]
     },
     "metadata": {},
     "output_type": "display_data"
    },
    {
     "name": "stdout",
     "output_type": "stream",
     "text": [
      "\n"
     ]
    },
    {
     "data": {
      "application/vnd.jupyter.widget-view+json": {
       "model_id": "7f03db3a5104419cab90fe790300bd6f",
       "version_major": 2,
       "version_minor": 0
      },
      "text/plain": [
       "HBox(children=(FloatProgress(value=0.0, max=10000.0), HTML(value='')))"
      ]
     },
     "metadata": {},
     "output_type": "display_data"
    },
    {
     "name": "stdout",
     "output_type": "stream",
     "text": [
      "\n"
     ]
    },
    {
     "data": {
      "application/vnd.jupyter.widget-view+json": {
       "model_id": "e381b1bb2d97499188d91f03831d284c",
       "version_major": 2,
       "version_minor": 0
      },
      "text/plain": [
       "HBox(children=(FloatProgress(value=0.0, max=10000.0), HTML(value='')))"
      ]
     },
     "metadata": {},
     "output_type": "display_data"
    },
    {
     "name": "stdout",
     "output_type": "stream",
     "text": [
      "\n"
     ]
    },
    {
     "data": {
      "application/vnd.jupyter.widget-view+json": {
       "model_id": "ea15449fbac44c358145bbef5819f3e8",
       "version_major": 2,
       "version_minor": 0
      },
      "text/plain": [
       "HBox(children=(FloatProgress(value=0.0, max=10000.0), HTML(value='')))"
      ]
     },
     "metadata": {},
     "output_type": "display_data"
    },
    {
     "name": "stdout",
     "output_type": "stream",
     "text": [
      "\n"
     ]
    },
    {
     "data": {
      "application/vnd.jupyter.widget-view+json": {
       "model_id": "d66b93d6cdd14802a8e950bfe144369f",
       "version_major": 2,
       "version_minor": 0
      },
      "text/plain": [
       "HBox(children=(FloatProgress(value=0.0, max=10000.0), HTML(value='')))"
      ]
     },
     "metadata": {},
     "output_type": "display_data"
    },
    {
     "name": "stdout",
     "output_type": "stream",
     "text": [
      "\n"
     ]
    },
    {
     "data": {
      "application/vnd.jupyter.widget-view+json": {
       "model_id": "4780820b168940dd9034255a557b03ec",
       "version_major": 2,
       "version_minor": 0
      },
      "text/plain": [
       "HBox(children=(FloatProgress(value=0.0, max=10000.0), HTML(value='')))"
      ]
     },
     "metadata": {},
     "output_type": "display_data"
    },
    {
     "name": "stdout",
     "output_type": "stream",
     "text": [
      "\n"
     ]
    },
    {
     "data": {
      "application/vnd.jupyter.widget-view+json": {
       "model_id": "de613b974f5447d2bc122a3a4afde4ba",
       "version_major": 2,
       "version_minor": 0
      },
      "text/plain": [
       "HBox(children=(FloatProgress(value=0.0, max=10000.0), HTML(value='')))"
      ]
     },
     "metadata": {},
     "output_type": "display_data"
    },
    {
     "name": "stdout",
     "output_type": "stream",
     "text": [
      "\n"
     ]
    },
    {
     "data": {
      "application/vnd.jupyter.widget-view+json": {
       "model_id": "f4f4f4b456524ca0b28d90c7e389bdd1",
       "version_major": 2,
       "version_minor": 0
      },
      "text/plain": [
       "HBox(children=(FloatProgress(value=0.0, max=10000.0), HTML(value='')))"
      ]
     },
     "metadata": {},
     "output_type": "display_data"
    },
    {
     "name": "stdout",
     "output_type": "stream",
     "text": [
      "\n"
     ]
    },
    {
     "data": {
      "application/vnd.jupyter.widget-view+json": {
       "model_id": "dffd9db2be284bc5b80b4e72e6977135",
       "version_major": 2,
       "version_minor": 0
      },
      "text/plain": [
       "HBox(children=(FloatProgress(value=0.0, max=10000.0), HTML(value='')))"
      ]
     },
     "metadata": {},
     "output_type": "display_data"
    },
    {
     "name": "stdout",
     "output_type": "stream",
     "text": [
      "\n"
     ]
    },
    {
     "data": {
      "application/vnd.jupyter.widget-view+json": {
       "model_id": "714e4d62159c4f2888ea3b2595f4ebcc",
       "version_major": 2,
       "version_minor": 0
      },
      "text/plain": [
       "HBox(children=(FloatProgress(value=0.0, max=10000.0), HTML(value='')))"
      ]
     },
     "metadata": {},
     "output_type": "display_data"
    },
    {
     "name": "stdout",
     "output_type": "stream",
     "text": [
      "\n"
     ]
    },
    {
     "data": {
      "application/vnd.jupyter.widget-view+json": {
       "model_id": "70b55cc398574d7abb4ee0faae4881ab",
       "version_major": 2,
       "version_minor": 0
      },
      "text/plain": [
       "HBox(children=(FloatProgress(value=0.0, max=10000.0), HTML(value='')))"
      ]
     },
     "metadata": {},
     "output_type": "display_data"
    },
    {
     "name": "stdout",
     "output_type": "stream",
     "text": [
      "\n"
     ]
    },
    {
     "data": {
      "application/vnd.jupyter.widget-view+json": {
       "model_id": "829cf1d321cf4d5e90a7f8a96033452c",
       "version_major": 2,
       "version_minor": 0
      },
      "text/plain": [
       "HBox(children=(FloatProgress(value=0.0, max=10000.0), HTML(value='')))"
      ]
     },
     "metadata": {},
     "output_type": "display_data"
    },
    {
     "name": "stdout",
     "output_type": "stream",
     "text": [
      "\n"
     ]
    },
    {
     "data": {
      "application/vnd.jupyter.widget-view+json": {
       "model_id": "1144a10384ef4a638489a26809f37316",
       "version_major": 2,
       "version_minor": 0
      },
      "text/plain": [
       "HBox(children=(FloatProgress(value=0.0, max=10000.0), HTML(value='')))"
      ]
     },
     "metadata": {},
     "output_type": "display_data"
    },
    {
     "name": "stdout",
     "output_type": "stream",
     "text": [
      "\n"
     ]
    },
    {
     "data": {
      "application/vnd.jupyter.widget-view+json": {
       "model_id": "bcf1300998584bb3abfceac363cf4142",
       "version_major": 2,
       "version_minor": 0
      },
      "text/plain": [
       "HBox(children=(FloatProgress(value=0.0, max=10000.0), HTML(value='')))"
      ]
     },
     "metadata": {},
     "output_type": "display_data"
    },
    {
     "name": "stdout",
     "output_type": "stream",
     "text": [
      "\n"
     ]
    },
    {
     "data": {
      "application/vnd.jupyter.widget-view+json": {
       "model_id": "28954a104c4e46278dda160f2d889cc9",
       "version_major": 2,
       "version_minor": 0
      },
      "text/plain": [
       "HBox(children=(FloatProgress(value=0.0, max=10000.0), HTML(value='')))"
      ]
     },
     "metadata": {},
     "output_type": "display_data"
    },
    {
     "name": "stdout",
     "output_type": "stream",
     "text": [
      "\n"
     ]
    },
    {
     "data": {
      "application/vnd.jupyter.widget-view+json": {
       "model_id": "38f3e7e6aa13404a8c9ca6a9a98b2ae8",
       "version_major": 2,
       "version_minor": 0
      },
      "text/plain": [
       "HBox(children=(FloatProgress(value=0.0, max=10000.0), HTML(value='')))"
      ]
     },
     "metadata": {},
     "output_type": "display_data"
    },
    {
     "name": "stdout",
     "output_type": "stream",
     "text": [
      "\n"
     ]
    },
    {
     "data": {
      "application/vnd.jupyter.widget-view+json": {
       "model_id": "a50aa3135c414186ba9287c5bec3c36e",
       "version_major": 2,
       "version_minor": 0
      },
      "text/plain": [
       "HBox(children=(FloatProgress(value=0.0, max=10000.0), HTML(value='')))"
      ]
     },
     "metadata": {},
     "output_type": "display_data"
    },
    {
     "name": "stdout",
     "output_type": "stream",
     "text": [
      "\n"
     ]
    },
    {
     "data": {
      "application/vnd.jupyter.widget-view+json": {
       "model_id": "54b1c8687b3d47e493cc4cb9be9408df",
       "version_major": 2,
       "version_minor": 0
      },
      "text/plain": [
       "HBox(children=(FloatProgress(value=0.0, max=10000.0), HTML(value='')))"
      ]
     },
     "metadata": {},
     "output_type": "display_data"
    },
    {
     "name": "stdout",
     "output_type": "stream",
     "text": [
      "\n"
     ]
    },
    {
     "data": {
      "application/vnd.jupyter.widget-view+json": {
       "model_id": "8dd28cc1a89b4b71b9462433c99a3ac9",
       "version_major": 2,
       "version_minor": 0
      },
      "text/plain": [
       "HBox(children=(FloatProgress(value=0.0, max=10000.0), HTML(value='')))"
      ]
     },
     "metadata": {},
     "output_type": "display_data"
    },
    {
     "name": "stdout",
     "output_type": "stream",
     "text": [
      "\n"
     ]
    },
    {
     "data": {
      "application/vnd.jupyter.widget-view+json": {
       "model_id": "97dbb074fd254525967bddf3efa1ecda",
       "version_major": 2,
       "version_minor": 0
      },
      "text/plain": [
       "HBox(children=(FloatProgress(value=0.0, max=10000.0), HTML(value='')))"
      ]
     },
     "metadata": {},
     "output_type": "display_data"
    },
    {
     "name": "stdout",
     "output_type": "stream",
     "text": [
      "\n"
     ]
    },
    {
     "data": {
      "application/vnd.jupyter.widget-view+json": {
       "model_id": "19dbff97b65e486a9d67d6862ef6c0e9",
       "version_major": 2,
       "version_minor": 0
      },
      "text/plain": [
       "HBox(children=(FloatProgress(value=0.0, max=10000.0), HTML(value='')))"
      ]
     },
     "metadata": {},
     "output_type": "display_data"
    },
    {
     "name": "stdout",
     "output_type": "stream",
     "text": [
      "\n"
     ]
    },
    {
     "data": {
      "application/vnd.jupyter.widget-view+json": {
       "model_id": "89fac6a106d14d7eb40a0460199a77b9",
       "version_major": 2,
       "version_minor": 0
      },
      "text/plain": [
       "HBox(children=(FloatProgress(value=0.0, max=10000.0), HTML(value='')))"
      ]
     },
     "metadata": {},
     "output_type": "display_data"
    },
    {
     "name": "stdout",
     "output_type": "stream",
     "text": [
      "\n"
     ]
    },
    {
     "data": {
      "application/vnd.jupyter.widget-view+json": {
       "model_id": "c050358f148b4d6186d23eef6299685e",
       "version_major": 2,
       "version_minor": 0
      },
      "text/plain": [
       "HBox(children=(FloatProgress(value=0.0, max=10000.0), HTML(value='')))"
      ]
     },
     "metadata": {},
     "output_type": "display_data"
    },
    {
     "name": "stdout",
     "output_type": "stream",
     "text": [
      "\n"
     ]
    },
    {
     "data": {
      "application/vnd.jupyter.widget-view+json": {
       "model_id": "0b1e832e304b4b1e992bc43b6f06651f",
       "version_major": 2,
       "version_minor": 0
      },
      "text/plain": [
       "HBox(children=(FloatProgress(value=0.0, max=10000.0), HTML(value='')))"
      ]
     },
     "metadata": {},
     "output_type": "display_data"
    },
    {
     "name": "stdout",
     "output_type": "stream",
     "text": [
      "\n"
     ]
    },
    {
     "data": {
      "application/vnd.jupyter.widget-view+json": {
       "model_id": "ff25646089cb4676858bb83b043fcbe1",
       "version_major": 2,
       "version_minor": 0
      },
      "text/plain": [
       "HBox(children=(FloatProgress(value=0.0, max=10000.0), HTML(value='')))"
      ]
     },
     "metadata": {},
     "output_type": "display_data"
    },
    {
     "name": "stdout",
     "output_type": "stream",
     "text": [
      "\n"
     ]
    },
    {
     "data": {
      "application/vnd.jupyter.widget-view+json": {
       "model_id": "2d5256d8edc54445ac4ee33b786663f3",
       "version_major": 2,
       "version_minor": 0
      },
      "text/plain": [
       "HBox(children=(FloatProgress(value=0.0, max=10000.0), HTML(value='')))"
      ]
     },
     "metadata": {},
     "output_type": "display_data"
    },
    {
     "name": "stdout",
     "output_type": "stream",
     "text": [
      "\n"
     ]
    },
    {
     "data": {
      "application/vnd.jupyter.widget-view+json": {
       "model_id": "f6e3d7eb578d41ebbac5dab0660256a8",
       "version_major": 2,
       "version_minor": 0
      },
      "text/plain": [
       "HBox(children=(FloatProgress(value=0.0, max=10000.0), HTML(value='')))"
      ]
     },
     "metadata": {},
     "output_type": "display_data"
    },
    {
     "name": "stdout",
     "output_type": "stream",
     "text": [
      "\n"
     ]
    },
    {
     "data": {
      "application/vnd.jupyter.widget-view+json": {
       "model_id": "3858ad5f0d2f483b99197d3c60ec1a84",
       "version_major": 2,
       "version_minor": 0
      },
      "text/plain": [
       "HBox(children=(FloatProgress(value=0.0, max=10000.0), HTML(value='')))"
      ]
     },
     "metadata": {},
     "output_type": "display_data"
    },
    {
     "name": "stdout",
     "output_type": "stream",
     "text": [
      "\n"
     ]
    },
    {
     "data": {
      "application/vnd.jupyter.widget-view+json": {
       "model_id": "5c0be437ce574bf694811cf5509663ab",
       "version_major": 2,
       "version_minor": 0
      },
      "text/plain": [
       "HBox(children=(FloatProgress(value=0.0, max=10000.0), HTML(value='')))"
      ]
     },
     "metadata": {},
     "output_type": "display_data"
    },
    {
     "name": "stdout",
     "output_type": "stream",
     "text": [
      "\n"
     ]
    },
    {
     "data": {
      "application/vnd.jupyter.widget-view+json": {
       "model_id": "90910fc8ebdf4f968e03f9939eedfd1a",
       "version_major": 2,
       "version_minor": 0
      },
      "text/plain": [
       "HBox(children=(FloatProgress(value=0.0, max=10000.0), HTML(value='')))"
      ]
     },
     "metadata": {},
     "output_type": "display_data"
    },
    {
     "name": "stdout",
     "output_type": "stream",
     "text": [
      "\n"
     ]
    },
    {
     "data": {
      "application/vnd.jupyter.widget-view+json": {
       "model_id": "b54609889f914f8093bb8f6cca1f154a",
       "version_major": 2,
       "version_minor": 0
      },
      "text/plain": [
       "HBox(children=(FloatProgress(value=0.0, max=10000.0), HTML(value='')))"
      ]
     },
     "metadata": {},
     "output_type": "display_data"
    },
    {
     "name": "stdout",
     "output_type": "stream",
     "text": [
      "\n"
     ]
    },
    {
     "data": {
      "application/vnd.jupyter.widget-view+json": {
       "model_id": "5b6efc5990544cd8b2f4061bea64d214",
       "version_major": 2,
       "version_minor": 0
      },
      "text/plain": [
       "HBox(children=(FloatProgress(value=0.0, max=10000.0), HTML(value='')))"
      ]
     },
     "metadata": {},
     "output_type": "display_data"
    },
    {
     "name": "stdout",
     "output_type": "stream",
     "text": [
      "\n"
     ]
    },
    {
     "data": {
      "application/vnd.jupyter.widget-view+json": {
       "model_id": "13bdcca875f843f4bb51eef065d4f1f7",
       "version_major": 2,
       "version_minor": 0
      },
      "text/plain": [
       "HBox(children=(FloatProgress(value=0.0, max=10000.0), HTML(value='')))"
      ]
     },
     "metadata": {},
     "output_type": "display_data"
    },
    {
     "name": "stdout",
     "output_type": "stream",
     "text": [
      "\n"
     ]
    },
    {
     "data": {
      "application/vnd.jupyter.widget-view+json": {
       "model_id": "067bccc83b1e49258a6b97a5918b76ad",
       "version_major": 2,
       "version_minor": 0
      },
      "text/plain": [
       "HBox(children=(FloatProgress(value=0.0, max=10000.0), HTML(value='')))"
      ]
     },
     "metadata": {},
     "output_type": "display_data"
    },
    {
     "name": "stdout",
     "output_type": "stream",
     "text": [
      "\n"
     ]
    },
    {
     "data": {
      "application/vnd.jupyter.widget-view+json": {
       "model_id": "e89561cbb88149ed80044b6aecd669b1",
       "version_major": 2,
       "version_minor": 0
      },
      "text/plain": [
       "HBox(children=(FloatProgress(value=0.0, max=10000.0), HTML(value='')))"
      ]
     },
     "metadata": {},
     "output_type": "display_data"
    },
    {
     "name": "stdout",
     "output_type": "stream",
     "text": [
      "\n"
     ]
    },
    {
     "data": {
      "application/vnd.jupyter.widget-view+json": {
       "model_id": "29870cb9c1ea4781aec10dfe2e42fb60",
       "version_major": 2,
       "version_minor": 0
      },
      "text/plain": [
       "HBox(children=(FloatProgress(value=0.0, max=10000.0), HTML(value='')))"
      ]
     },
     "metadata": {},
     "output_type": "display_data"
    },
    {
     "name": "stdout",
     "output_type": "stream",
     "text": [
      "\n"
     ]
    },
    {
     "data": {
      "application/vnd.jupyter.widget-view+json": {
       "model_id": "6bdd1d418d66438dae47b03470644698",
       "version_major": 2,
       "version_minor": 0
      },
      "text/plain": [
       "HBox(children=(FloatProgress(value=0.0, max=10000.0), HTML(value='')))"
      ]
     },
     "metadata": {},
     "output_type": "display_data"
    },
    {
     "name": "stdout",
     "output_type": "stream",
     "text": [
      "\n"
     ]
    },
    {
     "data": {
      "application/vnd.jupyter.widget-view+json": {
       "model_id": "20f9207b00d74871a7bd9fb3c5fdba32",
       "version_major": 2,
       "version_minor": 0
      },
      "text/plain": [
       "HBox(children=(FloatProgress(value=0.0, max=10000.0), HTML(value='')))"
      ]
     },
     "metadata": {},
     "output_type": "display_data"
    },
    {
     "name": "stdout",
     "output_type": "stream",
     "text": [
      "\n"
     ]
    },
    {
     "data": {
      "application/vnd.jupyter.widget-view+json": {
       "model_id": "c6501a5bb31544f582983f68111d082d",
       "version_major": 2,
       "version_minor": 0
      },
      "text/plain": [
       "HBox(children=(FloatProgress(value=0.0, max=10000.0), HTML(value='')))"
      ]
     },
     "metadata": {},
     "output_type": "display_data"
    },
    {
     "name": "stdout",
     "output_type": "stream",
     "text": [
      "\n"
     ]
    },
    {
     "data": {
      "application/vnd.jupyter.widget-view+json": {
       "model_id": "1ca8906fa8c84f67a5c5ec329db83141",
       "version_major": 2,
       "version_minor": 0
      },
      "text/plain": [
       "HBox(children=(FloatProgress(value=0.0, max=10000.0), HTML(value='')))"
      ]
     },
     "metadata": {},
     "output_type": "display_data"
    },
    {
     "name": "stdout",
     "output_type": "stream",
     "text": [
      "\n"
     ]
    },
    {
     "data": {
      "application/vnd.jupyter.widget-view+json": {
       "model_id": "026342369cf14a5bb5fa9216c3011fb7",
       "version_major": 2,
       "version_minor": 0
      },
      "text/plain": [
       "HBox(children=(FloatProgress(value=0.0, max=10000.0), HTML(value='')))"
      ]
     },
     "metadata": {},
     "output_type": "display_data"
    },
    {
     "name": "stdout",
     "output_type": "stream",
     "text": [
      "\n"
     ]
    },
    {
     "data": {
      "application/vnd.jupyter.widget-view+json": {
       "model_id": "35bcc744178d444a918832125fc649bb",
       "version_major": 2,
       "version_minor": 0
      },
      "text/plain": [
       "HBox(children=(FloatProgress(value=0.0, max=10000.0), HTML(value='')))"
      ]
     },
     "metadata": {},
     "output_type": "display_data"
    },
    {
     "name": "stdout",
     "output_type": "stream",
     "text": [
      "\n"
     ]
    },
    {
     "data": {
      "application/vnd.jupyter.widget-view+json": {
       "model_id": "c87563f1912e48d5ac55c1cd80fb3e9d",
       "version_major": 2,
       "version_minor": 0
      },
      "text/plain": [
       "HBox(children=(FloatProgress(value=0.0, max=10000.0), HTML(value='')))"
      ]
     },
     "metadata": {},
     "output_type": "display_data"
    },
    {
     "name": "stdout",
     "output_type": "stream",
     "text": [
      "\n"
     ]
    },
    {
     "data": {
      "application/vnd.jupyter.widget-view+json": {
       "model_id": "d1f2fc3c88b446d6998c652f516f760a",
       "version_major": 2,
       "version_minor": 0
      },
      "text/plain": [
       "HBox(children=(FloatProgress(value=0.0, max=10000.0), HTML(value='')))"
      ]
     },
     "metadata": {},
     "output_type": "display_data"
    },
    {
     "name": "stdout",
     "output_type": "stream",
     "text": [
      "\n"
     ]
    },
    {
     "data": {
      "application/vnd.jupyter.widget-view+json": {
       "model_id": "db957499e54d4f68b8cf740c7e41f5be",
       "version_major": 2,
       "version_minor": 0
      },
      "text/plain": [
       "HBox(children=(FloatProgress(value=0.0, max=10000.0), HTML(value='')))"
      ]
     },
     "metadata": {},
     "output_type": "display_data"
    },
    {
     "name": "stdout",
     "output_type": "stream",
     "text": [
      "\n"
     ]
    },
    {
     "data": {
      "application/vnd.jupyter.widget-view+json": {
       "model_id": "debd7bcdd6a7403687d15ce239b871f9",
       "version_major": 2,
       "version_minor": 0
      },
      "text/plain": [
       "HBox(children=(FloatProgress(value=0.0, max=10000.0), HTML(value='')))"
      ]
     },
     "metadata": {},
     "output_type": "display_data"
    },
    {
     "name": "stdout",
     "output_type": "stream",
     "text": [
      "\n"
     ]
    },
    {
     "data": {
      "application/vnd.jupyter.widget-view+json": {
       "model_id": "4e40c450a7004d129158485358a487bd",
       "version_major": 2,
       "version_minor": 0
      },
      "text/plain": [
       "HBox(children=(FloatProgress(value=0.0, max=10000.0), HTML(value='')))"
      ]
     },
     "metadata": {},
     "output_type": "display_data"
    },
    {
     "name": "stdout",
     "output_type": "stream",
     "text": [
      "\n"
     ]
    },
    {
     "data": {
      "application/vnd.jupyter.widget-view+json": {
       "model_id": "6030fc13c9c94ff5b4ef88a9f36232f3",
       "version_major": 2,
       "version_minor": 0
      },
      "text/plain": [
       "HBox(children=(FloatProgress(value=0.0, max=10000.0), HTML(value='')))"
      ]
     },
     "metadata": {},
     "output_type": "display_data"
    },
    {
     "name": "stdout",
     "output_type": "stream",
     "text": [
      "\n"
     ]
    },
    {
     "data": {
      "application/vnd.jupyter.widget-view+json": {
       "model_id": "d56f64b2225d4b25843f521437da973f",
       "version_major": 2,
       "version_minor": 0
      },
      "text/plain": [
       "HBox(children=(FloatProgress(value=0.0, max=10000.0), HTML(value='')))"
      ]
     },
     "metadata": {},
     "output_type": "display_data"
    },
    {
     "name": "stdout",
     "output_type": "stream",
     "text": [
      "\n"
     ]
    },
    {
     "data": {
      "application/vnd.jupyter.widget-view+json": {
       "model_id": "11a0488752d1438a9b7b06dca4bc7717",
       "version_major": 2,
       "version_minor": 0
      },
      "text/plain": [
       "HBox(children=(FloatProgress(value=0.0, max=10000.0), HTML(value='')))"
      ]
     },
     "metadata": {},
     "output_type": "display_data"
    },
    {
     "name": "stdout",
     "output_type": "stream",
     "text": [
      "\n"
     ]
    },
    {
     "data": {
      "application/vnd.jupyter.widget-view+json": {
       "model_id": "297af247266e40fc8644591d4d4c6974",
       "version_major": 2,
       "version_minor": 0
      },
      "text/plain": [
       "HBox(children=(FloatProgress(value=0.0, max=10000.0), HTML(value='')))"
      ]
     },
     "metadata": {},
     "output_type": "display_data"
    },
    {
     "name": "stdout",
     "output_type": "stream",
     "text": [
      "\n"
     ]
    },
    {
     "data": {
      "application/vnd.jupyter.widget-view+json": {
       "model_id": "223a8333013b427b86ac418daaf997a8",
       "version_major": 2,
       "version_minor": 0
      },
      "text/plain": [
       "HBox(children=(FloatProgress(value=0.0, max=10000.0), HTML(value='')))"
      ]
     },
     "metadata": {},
     "output_type": "display_data"
    },
    {
     "name": "stdout",
     "output_type": "stream",
     "text": [
      "\n"
     ]
    },
    {
     "data": {
      "application/vnd.jupyter.widget-view+json": {
       "model_id": "dfa1906b5392431e87b9e2090f409f16",
       "version_major": 2,
       "version_minor": 0
      },
      "text/plain": [
       "HBox(children=(FloatProgress(value=0.0, max=10000.0), HTML(value='')))"
      ]
     },
     "metadata": {},
     "output_type": "display_data"
    },
    {
     "name": "stdout",
     "output_type": "stream",
     "text": [
      "\n"
     ]
    },
    {
     "data": {
      "application/vnd.jupyter.widget-view+json": {
       "model_id": "a27be2c6c7ed4485ad7492bb10a407cb",
       "version_major": 2,
       "version_minor": 0
      },
      "text/plain": [
       "HBox(children=(FloatProgress(value=0.0, max=10000.0), HTML(value='')))"
      ]
     },
     "metadata": {},
     "output_type": "display_data"
    },
    {
     "name": "stdout",
     "output_type": "stream",
     "text": [
      "\n"
     ]
    },
    {
     "data": {
      "application/vnd.jupyter.widget-view+json": {
       "model_id": "c3076b1d660149c4beb961782807ac62",
       "version_major": 2,
       "version_minor": 0
      },
      "text/plain": [
       "HBox(children=(FloatProgress(value=0.0, max=10000.0), HTML(value='')))"
      ]
     },
     "metadata": {},
     "output_type": "display_data"
    },
    {
     "name": "stdout",
     "output_type": "stream",
     "text": [
      "\n"
     ]
    },
    {
     "data": {
      "application/vnd.jupyter.widget-view+json": {
       "model_id": "8b0d40e9e345486f8f153f8bd22a2a2f",
       "version_major": 2,
       "version_minor": 0
      },
      "text/plain": [
       "HBox(children=(FloatProgress(value=0.0, max=10000.0), HTML(value='')))"
      ]
     },
     "metadata": {},
     "output_type": "display_data"
    },
    {
     "name": "stdout",
     "output_type": "stream",
     "text": [
      "\n"
     ]
    },
    {
     "data": {
      "application/vnd.jupyter.widget-view+json": {
       "model_id": "f7e0e5d0490946bf879164ebfac39498",
       "version_major": 2,
       "version_minor": 0
      },
      "text/plain": [
       "HBox(children=(FloatProgress(value=0.0, max=10000.0), HTML(value='')))"
      ]
     },
     "metadata": {},
     "output_type": "display_data"
    },
    {
     "name": "stdout",
     "output_type": "stream",
     "text": [
      "\n"
     ]
    },
    {
     "data": {
      "application/vnd.jupyter.widget-view+json": {
       "model_id": "d6c0194bba3a48dcbec9370e8a2add62",
       "version_major": 2,
       "version_minor": 0
      },
      "text/plain": [
       "HBox(children=(FloatProgress(value=0.0, max=10000.0), HTML(value='')))"
      ]
     },
     "metadata": {},
     "output_type": "display_data"
    },
    {
     "name": "stdout",
     "output_type": "stream",
     "text": [
      "\n"
     ]
    },
    {
     "data": {
      "application/vnd.jupyter.widget-view+json": {
       "model_id": "7547bbb5584240a2b784894813a0504f",
       "version_major": 2,
       "version_minor": 0
      },
      "text/plain": [
       "HBox(children=(FloatProgress(value=0.0, max=10000.0), HTML(value='')))"
      ]
     },
     "metadata": {},
     "output_type": "display_data"
    },
    {
     "name": "stdout",
     "output_type": "stream",
     "text": [
      "\n"
     ]
    },
    {
     "data": {
      "application/vnd.jupyter.widget-view+json": {
       "model_id": "c20e1196715b45b8beb6a83f881e22f8",
       "version_major": 2,
       "version_minor": 0
      },
      "text/plain": [
       "HBox(children=(FloatProgress(value=0.0, max=10000.0), HTML(value='')))"
      ]
     },
     "metadata": {},
     "output_type": "display_data"
    },
    {
     "name": "stdout",
     "output_type": "stream",
     "text": [
      "\n"
     ]
    },
    {
     "data": {
      "application/vnd.jupyter.widget-view+json": {
       "model_id": "7400ad9d6737405dad7f2064d3de3fdf",
       "version_major": 2,
       "version_minor": 0
      },
      "text/plain": [
       "HBox(children=(FloatProgress(value=0.0, max=10000.0), HTML(value='')))"
      ]
     },
     "metadata": {},
     "output_type": "display_data"
    },
    {
     "name": "stdout",
     "output_type": "stream",
     "text": [
      "\n"
     ]
    },
    {
     "data": {
      "application/vnd.jupyter.widget-view+json": {
       "model_id": "d88ba1d990824b799e22f507cf64e482",
       "version_major": 2,
       "version_minor": 0
      },
      "text/plain": [
       "HBox(children=(FloatProgress(value=0.0, max=10000.0), HTML(value='')))"
      ]
     },
     "metadata": {},
     "output_type": "display_data"
    },
    {
     "name": "stdout",
     "output_type": "stream",
     "text": [
      "\n"
     ]
    },
    {
     "data": {
      "application/vnd.jupyter.widget-view+json": {
       "model_id": "f555ef886124413597800b5c606d0f6e",
       "version_major": 2,
       "version_minor": 0
      },
      "text/plain": [
       "HBox(children=(FloatProgress(value=0.0, max=10000.0), HTML(value='')))"
      ]
     },
     "metadata": {},
     "output_type": "display_data"
    },
    {
     "name": "stdout",
     "output_type": "stream",
     "text": [
      "\n"
     ]
    },
    {
     "data": {
      "application/vnd.jupyter.widget-view+json": {
       "model_id": "25fe594730b64242ae08b1ad121bdba1",
       "version_major": 2,
       "version_minor": 0
      },
      "text/plain": [
       "HBox(children=(FloatProgress(value=0.0, max=10000.0), HTML(value='')))"
      ]
     },
     "metadata": {},
     "output_type": "display_data"
    },
    {
     "name": "stdout",
     "output_type": "stream",
     "text": [
      "\n"
     ]
    },
    {
     "data": {
      "application/vnd.jupyter.widget-view+json": {
       "model_id": "5383d279ebb149968a5cfa25b113a527",
       "version_major": 2,
       "version_minor": 0
      },
      "text/plain": [
       "HBox(children=(FloatProgress(value=0.0, max=10000.0), HTML(value='')))"
      ]
     },
     "metadata": {},
     "output_type": "display_data"
    },
    {
     "name": "stdout",
     "output_type": "stream",
     "text": [
      "\n"
     ]
    },
    {
     "data": {
      "application/vnd.jupyter.widget-view+json": {
       "model_id": "f2a2d9891d564e0fb760c1d61bdb101a",
       "version_major": 2,
       "version_minor": 0
      },
      "text/plain": [
       "HBox(children=(FloatProgress(value=0.0, max=10000.0), HTML(value='')))"
      ]
     },
     "metadata": {},
     "output_type": "display_data"
    },
    {
     "name": "stdout",
     "output_type": "stream",
     "text": [
      "\n"
     ]
    },
    {
     "data": {
      "application/vnd.jupyter.widget-view+json": {
       "model_id": "2bd39a5937cc4f64a6065c3378c3f983",
       "version_major": 2,
       "version_minor": 0
      },
      "text/plain": [
       "HBox(children=(FloatProgress(value=0.0, max=10000.0), HTML(value='')))"
      ]
     },
     "metadata": {},
     "output_type": "display_data"
    },
    {
     "name": "stdout",
     "output_type": "stream",
     "text": [
      "\n"
     ]
    },
    {
     "data": {
      "application/vnd.jupyter.widget-view+json": {
       "model_id": "9a704222480d4111b5fb091cf5cae170",
       "version_major": 2,
       "version_minor": 0
      },
      "text/plain": [
       "HBox(children=(FloatProgress(value=0.0, max=10000.0), HTML(value='')))"
      ]
     },
     "metadata": {},
     "output_type": "display_data"
    },
    {
     "name": "stdout",
     "output_type": "stream",
     "text": [
      "\n"
     ]
    },
    {
     "data": {
      "application/vnd.jupyter.widget-view+json": {
       "model_id": "45c5bf8fe87c41eea81e22e5317f44e1",
       "version_major": 2,
       "version_minor": 0
      },
      "text/plain": [
       "HBox(children=(FloatProgress(value=0.0, max=10000.0), HTML(value='')))"
      ]
     },
     "metadata": {},
     "output_type": "display_data"
    },
    {
     "name": "stdout",
     "output_type": "stream",
     "text": [
      "\n"
     ]
    },
    {
     "data": {
      "application/vnd.jupyter.widget-view+json": {
       "model_id": "8107dabea74641ffbf3a2eed51ffe11b",
       "version_major": 2,
       "version_minor": 0
      },
      "text/plain": [
       "HBox(children=(FloatProgress(value=0.0, max=10000.0), HTML(value='')))"
      ]
     },
     "metadata": {},
     "output_type": "display_data"
    },
    {
     "name": "stdout",
     "output_type": "stream",
     "text": [
      "\n"
     ]
    },
    {
     "data": {
      "application/vnd.jupyter.widget-view+json": {
       "model_id": "0ed5699f05b441e6ba972ab6a607d8c8",
       "version_major": 2,
       "version_minor": 0
      },
      "text/plain": [
       "HBox(children=(FloatProgress(value=0.0, max=10000.0), HTML(value='')))"
      ]
     },
     "metadata": {},
     "output_type": "display_data"
    },
    {
     "name": "stdout",
     "output_type": "stream",
     "text": [
      "\n"
     ]
    },
    {
     "data": {
      "application/vnd.jupyter.widget-view+json": {
       "model_id": "1c17bf6536454f4ca2f54bd842f913f4",
       "version_major": 2,
       "version_minor": 0
      },
      "text/plain": [
       "HBox(children=(FloatProgress(value=0.0, max=10000.0), HTML(value='')))"
      ]
     },
     "metadata": {},
     "output_type": "display_data"
    },
    {
     "name": "stdout",
     "output_type": "stream",
     "text": [
      "\n"
     ]
    },
    {
     "data": {
      "application/vnd.jupyter.widget-view+json": {
       "model_id": "5a0de2ad7f0049a6a6be5200c387ccee",
       "version_major": 2,
       "version_minor": 0
      },
      "text/plain": [
       "HBox(children=(FloatProgress(value=0.0, max=10000.0), HTML(value='')))"
      ]
     },
     "metadata": {},
     "output_type": "display_data"
    },
    {
     "name": "stdout",
     "output_type": "stream",
     "text": [
      "\n"
     ]
    },
    {
     "data": {
      "application/vnd.jupyter.widget-view+json": {
       "model_id": "c1d2846624844954a8e093bffe12f283",
       "version_major": 2,
       "version_minor": 0
      },
      "text/plain": [
       "HBox(children=(FloatProgress(value=0.0, max=10000.0), HTML(value='')))"
      ]
     },
     "metadata": {},
     "output_type": "display_data"
    },
    {
     "name": "stdout",
     "output_type": "stream",
     "text": [
      "\n"
     ]
    },
    {
     "data": {
      "application/vnd.jupyter.widget-view+json": {
       "model_id": "4f224c7444564f83911db37c28ef2b79",
       "version_major": 2,
       "version_minor": 0
      },
      "text/plain": [
       "HBox(children=(FloatProgress(value=0.0, max=10000.0), HTML(value='')))"
      ]
     },
     "metadata": {},
     "output_type": "display_data"
    },
    {
     "name": "stdout",
     "output_type": "stream",
     "text": [
      "\n"
     ]
    },
    {
     "data": {
      "application/vnd.jupyter.widget-view+json": {
       "model_id": "e0147ad8c1df491a9dd3b68ff7099ed7",
       "version_major": 2,
       "version_minor": 0
      },
      "text/plain": [
       "HBox(children=(FloatProgress(value=0.0, max=10000.0), HTML(value='')))"
      ]
     },
     "metadata": {},
     "output_type": "display_data"
    },
    {
     "name": "stdout",
     "output_type": "stream",
     "text": [
      "\n"
     ]
    },
    {
     "data": {
      "application/vnd.jupyter.widget-view+json": {
       "model_id": "60e2460c7e574439ba66fb088b320d9b",
       "version_major": 2,
       "version_minor": 0
      },
      "text/plain": [
       "HBox(children=(FloatProgress(value=0.0, max=10000.0), HTML(value='')))"
      ]
     },
     "metadata": {},
     "output_type": "display_data"
    },
    {
     "name": "stdout",
     "output_type": "stream",
     "text": [
      "\n"
     ]
    },
    {
     "data": {
      "application/vnd.jupyter.widget-view+json": {
       "model_id": "caabea52ce6d4bb487edbbd438ccff8e",
       "version_major": 2,
       "version_minor": 0
      },
      "text/plain": [
       "HBox(children=(FloatProgress(value=0.0, max=10000.0), HTML(value='')))"
      ]
     },
     "metadata": {},
     "output_type": "display_data"
    },
    {
     "name": "stdout",
     "output_type": "stream",
     "text": [
      "\n"
     ]
    },
    {
     "data": {
      "application/vnd.jupyter.widget-view+json": {
       "model_id": "7e1dd23c12c845a380cde24f058fde0f",
       "version_major": 2,
       "version_minor": 0
      },
      "text/plain": [
       "HBox(children=(FloatProgress(value=0.0, max=10000.0), HTML(value='')))"
      ]
     },
     "metadata": {},
     "output_type": "display_data"
    },
    {
     "name": "stdout",
     "output_type": "stream",
     "text": [
      "\n"
     ]
    },
    {
     "data": {
      "application/vnd.jupyter.widget-view+json": {
       "model_id": "e95d10b1780c4a609e76ef4370ec79c6",
       "version_major": 2,
       "version_minor": 0
      },
      "text/plain": [
       "HBox(children=(FloatProgress(value=0.0, max=10000.0), HTML(value='')))"
      ]
     },
     "metadata": {},
     "output_type": "display_data"
    },
    {
     "name": "stdout",
     "output_type": "stream",
     "text": [
      "\n"
     ]
    },
    {
     "data": {
      "application/vnd.jupyter.widget-view+json": {
       "model_id": "79aea1f421094b479e42aec95f26f0a5",
       "version_major": 2,
       "version_minor": 0
      },
      "text/plain": [
       "HBox(children=(FloatProgress(value=0.0, max=10000.0), HTML(value='')))"
      ]
     },
     "metadata": {},
     "output_type": "display_data"
    },
    {
     "name": "stdout",
     "output_type": "stream",
     "text": [
      "\n"
     ]
    },
    {
     "data": {
      "application/vnd.jupyter.widget-view+json": {
       "model_id": "6aeec570611f4074801f0b73ceb4fa85",
       "version_major": 2,
       "version_minor": 0
      },
      "text/plain": [
       "HBox(children=(FloatProgress(value=0.0, max=10000.0), HTML(value='')))"
      ]
     },
     "metadata": {},
     "output_type": "display_data"
    },
    {
     "name": "stdout",
     "output_type": "stream",
     "text": [
      "\n"
     ]
    },
    {
     "data": {
      "application/vnd.jupyter.widget-view+json": {
       "model_id": "4236d4fd07274f18b6ad7dd52af1103a",
       "version_major": 2,
       "version_minor": 0
      },
      "text/plain": [
       "HBox(children=(FloatProgress(value=0.0, max=10000.0), HTML(value='')))"
      ]
     },
     "metadata": {},
     "output_type": "display_data"
    },
    {
     "name": "stdout",
     "output_type": "stream",
     "text": [
      "\n"
     ]
    },
    {
     "data": {
      "application/vnd.jupyter.widget-view+json": {
       "model_id": "765307337a16486a97ba31280bead68f",
       "version_major": 2,
       "version_minor": 0
      },
      "text/plain": [
       "HBox(children=(FloatProgress(value=0.0, max=10000.0), HTML(value='')))"
      ]
     },
     "metadata": {},
     "output_type": "display_data"
    },
    {
     "name": "stdout",
     "output_type": "stream",
     "text": [
      "\n"
     ]
    }
   ],
   "source": [
    "for i in range(0,95):\n",
    "    spa_docs= []\n",
    "    for doc in tqdm(all_comm_docs[i:i+10000]):\n",
    "        # Passes that article through the pipeline and adds to a new list.\n",
    "        pr = nlp2(doc)\n",
    "        spa_docs.append(pr)\n",
    "    with open('D:\\\\Pickle_files-Embedded-YT-Comments\\\\comms_spa_'+str(i+1)+'.pkl', 'wb') as f:\n",
    "        pickle.dump(spa_docs, f)"
   ]
  },
  {
   "cell_type": "markdown",
   "metadata": {},
   "source": [
    "### Above forgot to multiply the index value by 10,000 so didn't actually create what I thought I did"
   ]
  },
  {
   "cell_type": "code",
   "execution_count": null,
   "metadata": {},
   "outputs": [],
   "source": []
  }
 ],
 "metadata": {
  "kernelspec": {
   "display_name": "Python 3",
   "language": "python",
   "name": "python3"
  },
  "language_info": {
   "codemirror_mode": {
    "name": "ipython",
    "version": 3
   },
   "file_extension": ".py",
   "mimetype": "text/x-python",
   "name": "python",
   "nbconvert_exporter": "python",
   "pygments_lexer": "ipython3",
   "version": "3.7.6"
  }
 },
 "nbformat": 4,
 "nbformat_minor": 2
}
